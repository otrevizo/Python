{
 "cells": [
  {
   "cell_type": "markdown",
   "id": "b87b83dc-dd9f-4396-bed2-5a1dde9725da",
   "metadata": {},
   "source": [
    "# Get Ancestry\n",
    "\n",
    "Author: Oscar A. Trevizo\n",
    "\n",
    "Febryary 11, 2025\n",
    "\n",
    "get_ancestry.ipynb\n",
    "\n",
    "Retrieves parent, grandparents, great-grandparents... etc... past generations using AncestryDatabase.\n",
    "\n",
    "**Project Structure:**\n",
    "- `ancestry_db.py`: Handles database interactions.\n",
    "- `ancestry_get_input_xlsx.py`: Updates the database from `ancestry_input.xlsx`.\n",
    "- `ancestry_inspect.py`: Displays tables for inspection.\n",
    "- `ancestry_tests.py`: Hardcoded tests for the database.\n",
    "- `ancestry_export_xlsx.py`: Exports the database to Excel.\n",
    "- `ancestry_family_tree.py`: Builds family trees (previous generations).\n",
    "\n"
   ]
  },
  {
   "cell_type": "markdown",
   "id": "13154504-de37-4874-98e0-5d5a858a54ce",
   "metadata": {},
   "source": [
    "# Initialize"
   ]
  },
  {
   "cell_type": "code",
   "execution_count": 1,
   "id": "2b524dc6-ba77-4242-a4cc-f42e03128e63",
   "metadata": {},
   "outputs": [],
   "source": [
    "# Step 1: Import necessary modules\n",
    "from ancestry_db import AncestryDatabase  # Import the database class"
   ]
  },
  {
   "cell_type": "code",
   "execution_count": 2,
   "id": "57cd60d2-e42d-48d5-8483-40366fd7b59d",
   "metadata": {},
   "outputs": [],
   "source": [
    "# Step 2: Initialize the class. Note default db is \"ancestry.db\"\n",
    "db = AncestryDatabase()"
   ]
  },
  {
   "cell_type": "markdown",
   "id": "792c4001-6388-4c57-80e9-26de5d69d3ab",
   "metadata": {},
   "source": [
    "# Get ancestry"
   ]
  },
  {
   "cell_type": "code",
   "execution_count": 22,
   "id": "5941cc29-db4e-453b-a995-37548027dc0f",
   "metadata": {},
   "outputs": [
    {
     "name": "stdin",
     "output_type": "stream",
     "text": [
      "Enter the person_id to retrieve their ancestry:  1\n"
     ]
    },
    {
     "name": "stdout",
     "output_type": "stream",
     "text": [
      "\n",
      "Ancestry:\n",
      "ID: 1, Name: Antonio Veneziano, Relation: Yourself\n",
      "ID: 6, Name: Paolo Veneziano, Relation: Parent\n",
      "ID: 7, Name: Rosa Conti, Relation: Parent\n",
      "ID: 10, Name: Giovanni Veneziano, Relation: Grandparent\n",
      "ID: 11, Name: Anna Meloni, Relation: Grandparent\n",
      "ID: 12, Name: Giuseppe Conti, Relation: Grandparent\n",
      "ID: 13, Name: Luisa Ferrara, Relation: Grandparent\n"
     ]
    }
   ],
   "source": [
    "# Step 3: Get ancestry\n",
    "db.connect()\n",
    "try:\n",
    "    person_id = input(\"Enter the person_id to retrieve their ancestry: \").strip()\n",
    "    ancestry = db.get_ancestry(person_id)  # Using the existing method in AncestryDatabase\n",
    "    \n",
    "    if ancestry:\n",
    "        print(\"\\nAncestry:\")\n",
    "        for person in ancestry:\n",
    "            print(f\"ID: {person[0]}, Name: {person[1]}, Relation: {person[2]}\")\n",
    "    else:\n",
    "        print(\"No ancestry found for the given person_id.\")\n",
    "        \n",
    "except Exception as e:\n",
    "    print(f\"An error occurred: {e}\")\n",
    "db.close()"
   ]
  },
  {
   "cell_type": "markdown",
   "id": "31101cc9-c89e-4898-a347-1e2708012090",
   "metadata": {},
   "source": [
    "# Update the database \n",
    "\n",
    "Read ancestry_input.xlsx, compare it with ancestry.db, and update it."
   ]
  },
  {
   "cell_type": "code",
   "execution_count": 9,
   "id": "3db8fe63-5516-43ae-8442-f3e40ad79871",
   "metadata": {},
   "outputs": [],
   "source": [
    "import logging\n",
    "INPUT_FILE = \"ancestry_input.xlsx\"\n",
    "db.connect()\n",
    "db.create_tables()\n"
   ]
  },
  {
   "cell_type": "code",
   "execution_count": 14,
   "id": "58fe86a9-e985-4fdd-9824-78be9a05309e",
   "metadata": {},
   "outputs": [],
   "source": [
    "# Read the file\n",
    "df_people = db.read_input_file(INPUT_FILE)"
   ]
  },
  {
   "cell_type": "code",
   "execution_count": 18,
   "id": "46082196-d52e-4ade-9a70-0a95102e4033",
   "metadata": {},
   "outputs": [
    {
     "data": {
      "text/plain": [
       "pandas.core.frame.DataFrame"
      ]
     },
     "execution_count": 18,
     "metadata": {},
     "output_type": "execute_result"
    }
   ],
   "source": [
    "type(df_people)"
   ]
  },
  {
   "cell_type": "code",
   "execution_count": 19,
   "id": "5dcef083-be5a-4876-9cb0-9f63d509a96f",
   "metadata": {},
   "outputs": [
    {
     "name": "stdout",
     "output_type": "stream",
     "text": [
      "df_people columns: Index(['person_id', 'first_name', 'middle_name', 'last_name', 'maiden_name',\n",
      "       'birth_date', 'birth_city', 'birth_state', 'birth_country_code',\n",
      "       'birth_latitude', 'birth_longitude', 'death_date', 'death_city',\n",
      "       'death_state', 'death_country_code', 'death_latitude',\n",
      "       'death_longitude', 'nationality', 'father_id', 'mother_id',\n",
      "       'occupation', 'residence_street', 'residence_city', 'residence_state',\n",
      "       'residence_country_code', 'residence_latitude', 'residence_longitude',\n",
      "       'cause_of_death', 'notes', 'created_at'],\n",
      "      dtype='object')\n",
      "Changes made:\n",
      "Updated Person: 1\n",
      "Updated Person: 2\n",
      "Updated Person: 3\n",
      "Updated Person: 4\n",
      "Updated Person: 5\n",
      "Updated Person: 6\n",
      "Updated Person: 7\n",
      "Updated Person: 8\n",
      "Updated Person: 9\n",
      "Updated Person: 10\n",
      "Updated Person: 11\n",
      "Updated Person: 12\n",
      "Updated Person: 13\n",
      "Updated Person: 14\n",
      "Updated Person: 15\n",
      "Updated Person: 16\n",
      "Updated Person: 17\n"
     ]
    }
   ],
   "source": [
    "if df_people is not None:\n",
    "    print(\"df_people columns:\", df_people.columns)\n",
    "    df_db_people = db.fetch_existing_data()\n",
    "    changes_log = db.compare_and_update(df_people, df_db_people)\n",
    "    if changes_log:\n",
    "        print(\"Changes made:\")\n",
    "        for log in changes_log:\n",
    "            print(log)\n",
    "    else:\n",
    "        print(\"No changes detected.\")"
   ]
  },
  {
   "cell_type": "code",
   "execution_count": 20,
   "id": "a027347d-6c27-4fb5-b70f-68bb0372fbee",
   "metadata": {},
   "outputs": [
    {
     "name": "stdout",
     "output_type": "stream",
     "text": [
      "Renamed ancestry_input.xlsx to ancestry_digested_2025.02.12_12.56.23.xlsx\n"
     ]
    }
   ],
   "source": [
    "# Rename ancestry_input.xlsx to ancestry_digested_20XX.XX.XX_XX.XX.XX.xlsx\n",
    "db.archive_input_file(INPUT_FILE)"
   ]
  },
  {
   "cell_type": "code",
   "execution_count": 21,
   "id": "1d3be5e1-fca8-425b-88f5-242800170aef",
   "metadata": {},
   "outputs": [],
   "source": [
    "db.close()"
   ]
  },
  {
   "cell_type": "code",
   "execution_count": null,
   "id": "ee3d8799-6649-4a08-a8ef-04dd915f073c",
   "metadata": {},
   "outputs": [],
   "source": []
  }
 ],
 "metadata": {
  "kernelspec": {
   "display_name": "Python 3 (ipykernel)",
   "language": "python",
   "name": "python3"
  },
  "language_info": {
   "codemirror_mode": {
    "name": "ipython",
    "version": 3
   },
   "file_extension": ".py",
   "mimetype": "text/x-python",
   "name": "python",
   "nbconvert_exporter": "python",
   "pygments_lexer": "ipython3",
   "version": "3.12.3"
  }
 },
 "nbformat": 4,
 "nbformat_minor": 5
}
