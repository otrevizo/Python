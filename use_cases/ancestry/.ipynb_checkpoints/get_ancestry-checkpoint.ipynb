{
 "cells": [
  {
   "cell_type": "markdown",
   "id": "b87b83dc-dd9f-4396-bed2-5a1dde9725da",
   "metadata": {},
   "source": [
    "# Get Ancestry\n",
    "\n",
    "Author: Oscar A. Trevizo\n",
    "\n",
    "Febryary 11, 2025\n",
    "\n",
    "get_ancestry.ipynb\n",
    "\n",
    "Retrieves parent, grandparents, great-grandparents... etc... past generations using AncestryDatabase.\n",
    "\n",
    "**Project Structure:**\n",
    "- `ancestry_db.py`: Handles database interactions.\n",
    "- `ancestry_get_input_xlsx.py`: Updates the database from `ancestry_input.xlsx`.\n",
    "- `ancestry_inspect.py`: Displays tables for inspection.\n",
    "- `ancestry_tests.py`: Hardcoded tests for the database.\n",
    "- `ancestry_export_xlsx.py`: Exports the database to Excel.\n",
    "- `ancestry_family_tree.py`: Builds family trees (previous generations).\n",
    "\n"
   ]
  },
  {
   "cell_type": "code",
   "execution_count": 1,
   "id": "2b524dc6-ba77-4242-a4cc-f42e03128e63",
   "metadata": {},
   "outputs": [],
   "source": [
    "# Step 1: Import necessary modules\n",
    "from ancestry_db import AncestryDatabase  # Import the database class"
   ]
  },
  {
   "cell_type": "code",
   "execution_count": 3,
   "id": "57cd60d2-e42d-48d5-8483-40366fd7b59d",
   "metadata": {},
   "outputs": [],
   "source": [
    "# Step 2: Initialize the class\n",
    "db = AncestryDatabase()"
   ]
  },
  {
   "cell_type": "code",
   "execution_count": 4,
   "id": "2acde060-4a15-46d9-9a66-0e1938f21536",
   "metadata": {},
   "outputs": [],
   "source": [
    "# Step 3: Connect to the database\n",
    "db.connect()"
   ]
  },
  {
   "cell_type": "code",
   "execution_count": 9,
   "id": "5941cc29-db4e-453b-a995-37548027dc0f",
   "metadata": {},
   "outputs": [
    {
     "name": "stdin",
     "output_type": "stream",
     "text": [
      "Enter the person_id to retrieve their ancestry:  1\n"
     ]
    },
    {
     "name": "stdout",
     "output_type": "stream",
     "text": [
      "\n",
      "Ancestry:\n",
      "ID: 1, Name: Antonio Veneziano, Relation: Yourself\n",
      "ID: 6, Name: Paolo Veneziano, Relation: Parent\n",
      "ID: 7, Name: Rosa Conti, Relation: Parent\n",
      "ID: 10, Name: Giovanni Veneziano, Relation: Grandparent\n",
      "ID: 11, Name: Anna Meloni, Relation: Grandparent\n",
      "ID: 12, Name: Giuseppe Conti, Relation: Grandparent\n",
      "ID: 13, Name: Luisa Ferrara, Relation: Grandparent\n"
     ]
    }
   ],
   "source": [
    "# Step 4: Get ancestry\n",
    "try:\n",
    "    person_id = input(\"Enter the person_id to retrieve their ancestry: \").strip()\n",
    "    ancestry = db.get_ancestry(person_id)  # Using the existing method in AncestryDatabase\n",
    "    \n",
    "    if ancestry:\n",
    "        print(\"\\nAncestry:\")\n",
    "        for person in ancestry:\n",
    "            print(f\"ID: {person[0]}, Name: {person[1]}, Relation: {person[2]}\")\n",
    "    else:\n",
    "        print(\"No ancestry found for the given person_id.\")\n",
    "        \n",
    "except Exception as e:\n",
    "    print(f\"An error occurred: {e}\")\n"
   ]
  },
  {
   "cell_type": "code",
   "execution_count": null,
   "id": "e3892c70-4bcb-4f15-ad79-58ceb279d45e",
   "metadata": {},
   "outputs": [],
   "source": []
  }
 ],
 "metadata": {
  "kernelspec": {
   "display_name": "Python 3 (ipykernel)",
   "language": "python",
   "name": "python3"
  },
  "language_info": {
   "codemirror_mode": {
    "name": "ipython",
    "version": 3
   },
   "file_extension": ".py",
   "mimetype": "text/x-python",
   "name": "python",
   "nbconvert_exporter": "python",
   "pygments_lexer": "ipython3",
   "version": "3.12.3"
  }
 },
 "nbformat": 4,
 "nbformat_minor": 5
}
