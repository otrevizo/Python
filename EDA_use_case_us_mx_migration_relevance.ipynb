{
 "cells": [
  {
   "cell_type": "markdown",
   "metadata": {},
   "source": [
    "# Exploratory Data Analysis Use Case\n",
    "\n",
    "## Relevance of Mexican Immigration into the United States\n",
    "\n",
    "December 19, 2022.\n",
    "\n",
    "Use Case: Pandas, Seaborn scatterplots and boxplots\n",
    "\n",
    "@author: Oscar A. Trevizo\n",
    "\n",
    "- Pandas: data format transformation, converting to int, transposing.\n",
    "- Seaborn scatterplots with annotations, and boxplot outliers and comparisons.\n",
    "\n"
   ]
  },
  {
   "cell_type": "markdown",
   "metadata": {},
   "source": [
    "# Relevance of Migration Between Mexico and the United States\n",
    "\n",
    "How relevant is migration between Mexico and the United States? One would expect the answer to be \"very relevant.\" We can begin to answer this question by exploring data from the United States Home Land Security Immigration Statistics. The data will allow to rank countries with respect to immigration statistics.\n",
    "\n"
   ]
  },
  {
   "cell_type": "markdown",
   "metadata": {},
   "source": [
    "### _Python Libraries_"
   ]
  },
  {
   "cell_type": "code",
   "execution_count": 1,
   "metadata": {},
   "outputs": [],
   "source": [
    "import pandas as pd\n",
    "from pandas.api.types import is_string_dtype\n",
    "from pandas.api.types import is_numeric_dtype\n",
    "import seaborn as sns\n",
    "from math import log, sqrt, sin\n",
    "import matplotlib.pyplot as plt\n",
    "\n",
    "%matplotlib inline\n"
   ]
  },
  {
   "cell_type": "markdown",
   "metadata": {},
   "source": [
    "#  Data Source: United States Department of Home Land Security Immigration Statistics\n",
    "\n",
    "Home Land Security publishes data that will allow us to explore the relevancy of migration between the US and Mexico. Immigration Statistics will provide data to compare Mexico with other countries relative to immigration into the US.\n",
    "\n",
    "https://www.dhs.gov/immigration-statistics/naturalizations\n",
    "\n",
    "U.S. Naturalizations 2021 Data Tables\n",
    "https://www.dhs.gov/sites/default/files/2022-09/2022_0624_plcy_naturalizations_fy2021_tables.zip\n",
    "\n",
    "Good background from:\n",
    "https://www.dhs.gov/sites/default/files/2022-07/2022_0624_plcy_naturalizations_fy2021.pdf\n",
    "\n",
    "- The dataset provides the number of US naturalization by country of origin from 2012 to 2021. \n",
    "\n"
   ]
  },
  {
   "cell_type": "markdown",
   "metadata": {},
   "source": [
    "## _Load the data_"
   ]
  },
  {
   "cell_type": "code",
   "execution_count": 2,
   "metadata": {},
   "outputs": [],
   "source": [
    "# From xls to csv without extra headers and unnecessary rows at the bottom of the file.\n",
    "# https://www.dhs.gov/sites/default/files/2022-09/2022_0624_plcy_naturalizations_fy2021_tables.zip\n",
    "dhs_nat_ctry_fy2021 = pd.read_csv('data/fy2021_table21d_us_naturalizations_country.csv')"
   ]
  },
  {
   "cell_type": "markdown",
   "metadata": {},
   "source": [
    "## _Clean the data_"
   ]
  },
  {
   "cell_type": "code",
   "execution_count": 3,
   "metadata": {},
   "outputs": [
    {
     "ename": "NameError",
     "evalue": "name 'np' is not defined",
     "output_type": "error",
     "traceback": [
      "\u001b[1;31m---------------------------------------------------------------------------\u001b[0m",
      "\u001b[1;31mNameError\u001b[0m                                 Traceback (most recent call last)",
      "\u001b[1;32m~\\AppData\\Local\\Temp/ipykernel_21784/3915868221.py\u001b[0m in \u001b[0;36m<module>\u001b[1;34m\u001b[0m\n\u001b[0;32m      9\u001b[0m \u001b[0mdhs_nat_ctry_fy2021\u001b[0m\u001b[1;33m.\u001b[0m\u001b[0mloc\u001b[0m\u001b[1;33m[\u001b[0m\u001b[1;33m:\u001b[0m\u001b[1;33m,\u001b[0m\u001b[1;34m'2012'\u001b[0m\u001b[1;33m:\u001b[0m\u001b[1;34m'2021'\u001b[0m\u001b[1;33m]\u001b[0m \u001b[1;33m=\u001b[0m \u001b[0mdhs_nat_ctry_fy2021\u001b[0m\u001b[1;33m.\u001b[0m\u001b[0mloc\u001b[0m\u001b[1;33m[\u001b[0m\u001b[1;33m:\u001b[0m\u001b[1;33m,\u001b[0m\u001b[1;34m'2012'\u001b[0m\u001b[1;33m:\u001b[0m\u001b[1;34m'2021'\u001b[0m\u001b[1;33m]\u001b[0m\u001b[1;33m.\u001b[0m\u001b[0mreplace\u001b[0m\u001b[1;33m(\u001b[0m\u001b[1;34m'[-]'\u001b[0m\u001b[1;33m,\u001b[0m \u001b[1;34m'0'\u001b[0m\u001b[1;33m,\u001b[0m \u001b[0mregex\u001b[0m\u001b[1;33m=\u001b[0m\u001b[1;32mTrue\u001b[0m\u001b[1;33m)\u001b[0m\u001b[1;33m\u001b[0m\u001b[1;33m\u001b[0m\u001b[0m\n\u001b[0;32m     10\u001b[0m \u001b[1;31m# Make sure we only have numbers. If we don't have numbers, convert to NaN and then drop all NaN entries.\u001b[0m\u001b[1;33m\u001b[0m\u001b[1;33m\u001b[0m\u001b[0m\n\u001b[1;32m---> 11\u001b[1;33m \u001b[0mdhs_nat_ctry_fy2021\u001b[0m\u001b[1;33m.\u001b[0m\u001b[0mloc\u001b[0m\u001b[1;33m[\u001b[0m\u001b[1;33m:\u001b[0m\u001b[1;33m,\u001b[0m\u001b[1;34m'2012'\u001b[0m\u001b[1;33m:\u001b[0m\u001b[1;34m'2021'\u001b[0m\u001b[1;33m]\u001b[0m \u001b[1;33m=\u001b[0m \u001b[0mdhs_nat_ctry_fy2021\u001b[0m\u001b[1;33m.\u001b[0m\u001b[0mloc\u001b[0m\u001b[1;33m[\u001b[0m\u001b[1;33m:\u001b[0m\u001b[1;33m,\u001b[0m\u001b[1;34m'2012'\u001b[0m\u001b[1;33m:\u001b[0m\u001b[1;34m'2021'\u001b[0m\u001b[1;33m]\u001b[0m\u001b[1;33m.\u001b[0m\u001b[0mreplace\u001b[0m\u001b[1;33m(\u001b[0m\u001b[1;34m'[^0-9]'\u001b[0m\u001b[1;33m,\u001b[0m \u001b[0mnp\u001b[0m\u001b[1;33m.\u001b[0m\u001b[0mNaN\u001b[0m\u001b[1;33m,\u001b[0m\u001b[0mregex\u001b[0m\u001b[1;33m=\u001b[0m\u001b[1;32mTrue\u001b[0m\u001b[1;33m)\u001b[0m\u001b[1;33m\u001b[0m\u001b[1;33m\u001b[0m\u001b[0m\n\u001b[0m\u001b[0;32m     12\u001b[0m \u001b[0mdhs_nat_ctry_fy2021\u001b[0m\u001b[1;33m.\u001b[0m\u001b[0mdropna\u001b[0m\u001b[1;33m(\u001b[0m\u001b[0minplace\u001b[0m\u001b[1;33m=\u001b[0m\u001b[1;32mTrue\u001b[0m\u001b[1;33m)\u001b[0m\u001b[1;33m\u001b[0m\u001b[1;33m\u001b[0m\u001b[0m\n\u001b[0;32m     13\u001b[0m \u001b[1;33m\u001b[0m\u001b[0m\n",
      "\u001b[1;31mNameError\u001b[0m: name 'np' is not defined"
     ]
    }
   ],
   "source": [
    "##\n",
    "# Clean up the dataset.\n",
    "##\n",
    "\n",
    "# Pandas read_csv() ported numbers as strings. We need to convert numerical strings to integers.\n",
    "# The format of the values have commas (e.g. 1,234). Remove the commas.\n",
    "dhs_nat_ctry_fy2021.loc[:,'2012':'2021'] = dhs_nat_ctry_fy2021.loc[:,'2012':'2021'].replace('[,]', '', regex=True)\n",
    "# Some values had a dash '-'. Convert dashes to zeros.\n",
    "dhs_nat_ctry_fy2021.loc[:,'2012':'2021'] = dhs_nat_ctry_fy2021.loc[:,'2012':'2021'].replace('[-]', '0', regex=True)\n",
    "# Make sure we only have numbers. If we don't have numbers, convert to NaN and then drop all NaN entries.\n",
    "dhs_nat_ctry_fy2021.loc[:,'2012':'2021'] = dhs_nat_ctry_fy2021.loc[:,'2012':'2021'].replace('[^0-9]', np.NaN,regex=True)\n",
    "dhs_nat_ctry_fy2021.dropna(inplace=True)\n",
    "\n",
    "# Now change the numberical strings to integer. Us the dictionary approach.\n",
    "dtypes_dict = {'Country': str,\n",
    "               '2012' : int,\n",
    "               '2013' : int,\n",
    "               '2014' : int,\n",
    "               '2015' : int,\n",
    "               '2016' : int,\n",
    "               '2017' : int,\n",
    "               '2018' : int,\n",
    "               '2019' : int,\n",
    "               '2020' : int,\n",
    "               '2021' : int}\n",
    "dhs_ctry_df = dhs_nat_ctry_fy2021.astype(dtypes_dict)\n",
    "\n",
    "# Sort it by countries with largest number of naturalizations.\n",
    "# First create a Totals column with the sum of years, sort, and then remove the Totals column.\n",
    "dhs_ctry_df['Total'] = dhs_ctry_df.loc[:,'2012':'2021'].sum(axis=1)\n",
    "dhs_ctry_df = dhs_ctry_df.sort_values(by=['Total'], ascending=False)\n",
    "dhs_ctry_df = dhs_ctry_df.drop(['Total'], axis=1)\n",
    "dhs_ctry_df.head()"
   ]
  },
  {
   "cell_type": "markdown",
   "metadata": {},
   "source": [
    "# Exploratory Data Analysis \n",
    "\n",
    "\n",
    "The following sections provide an Exploratory Data Analysis (EDA) to determine the relevance of the migration between the United States and Mexico. "
   ]
  },
  {
   "cell_type": "markdown",
   "metadata": {},
   "source": [
    "## _Scatterplot: US naturalizations vs countries for years 2012 to 2021_\n",
    "\n",
    "The scatterplot shows datapoints for each country over the years 2012 to 2022. \n"
   ]
  },
  {
   "cell_type": "code",
   "execution_count": null,
   "metadata": {},
   "outputs": [],
   "source": [
    "# Now let's create a line chart for US naturalizations.\n",
    "fig, ax = plt.subplots(figsize=(10, 10))\n",
    "for i in range(2012, 2022):\n",
    "    ax = sns.scatterplot(x='Country', y=str(i), data=dhs_ctry_df, color='cornflowerblue', legend=False)\n",
    "ax.set(xticklabels=[])\n",
    "ax.set_ylabel('US naturalizations from 2012 to 2021')\n",
    "ax.set_title('US naturalizations vs countries for years 2012 to 2021 \\n each dot is a country/year combination')\n",
    "\n",
    "# Annotations\n",
    "plt.annotate('Mexico', xy=('Philippines', 133000), xytext=('Peru', 112000),\n",
    "#             arrowprops=dict(arrowstyle=\"->\", connectionstyle=\"angle3,angleA=90,angleB=0\"));\n",
    "            arrowprops=dict(arrowstyle=\"-\", connectionstyle=\"angle3,angleA=90,angleB=0\"));\n",
    "\n",
    "plt.annotate('Mexico', xy=('Philippines', 82000), xytext=('Peru', 112000),\n",
    "            arrowprops=dict(arrowstyle=\"-\", connectionstyle=\"angle3,angleA=90,angleB=0\"));\n",
    "\n",
    "plt.show()"
   ]
  },
  {
   "cell_type": "markdown",
   "metadata": {},
   "source": [
    "### Scatterplot takeaways:\n",
    "\n",
    ">\n",
    "> The plot shows:\n",
    ">\n",
    "> - There is a very big difference in number of US naturalizations from to to bottom.\n",
    ">\n",
    "> - There is a very steep decline indicating that the difference between the top countries descend very quickly.\n",
    ">\n",
    "> - Mexico shows up on the top, consistently each year. \n",
    ">\n",
    "> - I had expected Mexico to be very relevant. I wasn't expecting such large different between Mexico and the next country in line.\n",
    ">\n",
    "> - The data may change if we were to group countries by region (e.g. Americas, Asia, Europe, etc.). For now, I will continue my focus on Mexico in this study and will come back to test the data from a regional basis."
   ]
  },
  {
   "cell_type": "markdown",
   "metadata": {},
   "source": [
    "## _Boxplot 1: Naturalization by year_\n",
    "\n",
    "Here, the boxplot may not seem to be very suitable. However, it will show a very interesting aspect of our data. There is a very significant outlier, Mexico.\n",
    "\n",
    "For that reason, to see the outlier, the boxplot is quite interesting."
   ]
  },
  {
   "cell_type": "code",
   "execution_count": null,
   "metadata": {},
   "outputs": [],
   "source": [
    "# Now let's create a boxplot for US naturalizations.\n",
    "fig, ax = plt.subplots(figsize=(10, 10))\n",
    "ax = sns.boxplot(data=dhs_ctry_df, color='cornflowerblue')\n",
    "ax.set_title('US naturalizations for years 2012 to 2021 \\n the highest outliers represent Mexico')\n",
    "ax.set_ylabel('US naturalizations from 2012 to 2021')\n",
    "\n",
    "plt.show()"
   ]
  },
  {
   "cell_type": "markdown",
   "metadata": {},
   "source": [
    "### Boxplot 1 takeaway\n",
    ">\n",
    "> - The first boxplot indicates that we have an outlier that sets far apart from the rest of the data. \n",
    ">\n",
    "> - That outlier is Mexico. \n",
    ">\n",
    "\n",
    "To have another angle of appreciation on the significance of Mexico on US immigration, a transpose on the dataset will allow us to view boxplots on a country-by-country basis."
   ]
  },
  {
   "cell_type": "markdown",
   "metadata": {},
   "source": [
    "## _Transpose the DataFrame_"
   ]
  },
  {
   "cell_type": "code",
   "execution_count": null,
   "metadata": {},
   "outputs": [],
   "source": [
    "dhs_ctry_T = dhs_ctry_df.transpose()\n",
    "# Promoting the 1st row to header, tip from \n",
    "# https://stackoverflow.com/questions/31328861/python-pandas-replacing-header-with-top-row\n",
    "dhs_ctry_T = dhs_ctry_T.rename(columns=dhs_ctry_T.iloc[0]).drop(dhs_ctry_T.index[0])\n",
    "\n",
    "# Nex, rename some of the long country names to have a better fit in the boxplot.\n",
    "dhs_ctry_T.rename(columns={\"China, People's Republic\": \"China\", \n",
    "                           \"Dominican Republic\": \"DR\",\n",
    "                          \"El Salvador\": \"Salvador\"}, inplace=True)\n",
    "# dhs_ctry_T"
   ]
  },
  {
   "cell_type": "markdown",
   "metadata": {},
   "source": [
    "### _Boxplot 2: Naturalization by top-10 country_\n",
    "\n",
    "This boxplot chart focuses on the top 10 countries. It gives us further appreciation for the magnitude in the difference between US naturalization from Mexico versus the rest of the countries.\n",
    "\n",
    "The whiskers and quartiles are based on years 2012 to 2021."
   ]
  },
  {
   "cell_type": "code",
   "execution_count": null,
   "metadata": {},
   "outputs": [],
   "source": [
    "# Now let's create another boxplot for US naturalizations... Countries on x-axis, top 10 countries\n",
    "fig, ax = plt.subplots(figsize=(10, 10))\n",
    "ax = sns.boxplot(data=dhs_ctry_T.loc[:,'Mexico':'Jamaica'])\n",
    "plt.show()"
   ]
  },
  {
   "cell_type": "markdown",
   "metadata": {},
   "source": [
    "### Boxplot 2 takeaways\n",
    ">\n",
    "> - Mexico produces more US naturalization than any other country,  ranking on top of the list.\n",
    ">\n",
    "> - The boxplot shows Mexico as a faraway outlier on top.\n",
    ">\n",
    "> - And Mexico produce two time more US naturalizations than the next country in line, India.\n",
    ">\n",
    "> - There is a consistent proportion in the US naturalization numbers by country. One possible explanation is these numbers are determined by policies.\n",
    ">\n",
    "> - Bottom line is, Mexico is very relevant to the United States relative to immigration as indicated by these charts.\n"
   ]
  },
  {
   "cell_type": "markdown",
   "metadata": {},
   "source": [
    "# References \n",
    "1. United States Department of Home Land Security - (accessed Oct. 2, 2022) https://www.dhs.gov/immigration-statistics/naturalizations\n",
    "1. United States Department of Home Land Security - U.S. Naturalizations 2021 Data Tables (accessed Oct. 2, 2022) https://www.dhs.gov/sites/default/files/2022-09/2022_0624_plcy_naturalizations_fy2021_tables.zip\n",
    "1. United States Department of Home Land Security - Good background from: (accessed Oct. 2, 2022) https://www.dhs.gov/sites/default/files/2022-07/2022_0624_plcy_naturalizations_fy2021.pdf\n",
    "1. Pandas documentation. (accessed Sep. 20, 2022) https://pandas.pydata.org/docs/user_guide/index.html\n",
    "1. Seaborn documentation (accessed Sep. 12, 2022) https://seaborn.pydata.org/\n",
    "1. matplotlib documentation (accessed Sep. 12, 2022) https://matplotlib.org/"
   ]
  },
  {
   "cell_type": "code",
   "execution_count": null,
   "metadata": {},
   "outputs": [],
   "source": []
  }
 ],
 "metadata": {
  "kernelspec": {
   "display_name": "Python 3 (ipykernel)",
   "language": "python",
   "name": "python3"
  },
  "language_info": {
   "codemirror_mode": {
    "name": "ipython",
    "version": 3
   },
   "file_extension": ".py",
   "mimetype": "text/x-python",
   "name": "python",
   "nbconvert_exporter": "python",
   "pygments_lexer": "ipython3",
   "version": "3.9.7"
  },
  "toc-showtags": false
 },
 "nbformat": 4,
 "nbformat_minor": 4
}
