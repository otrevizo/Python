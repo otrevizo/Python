{
 "cells": [
  {
   "cell_type": "markdown",
   "id": "168c07f6",
   "metadata": {},
   "source": [
    "# Python Lists Vignette\n",
    "\n",
    "March 28, 2022\n",
    "\n",
    "@author: Oscar A. Trevizo\n",
    "\n",
    "* Lists, indexing, slicing, iterable, list comprehension, lists as stacks, lists ans queues \n",
    "\n",
    "References: \n",
    "1. https://docs.python.org/3/tutorial/datastructures.html\n",
    "1. https://docs.python.org/3/library/stdtypes.html?highlight=strip#string-methods\n",
    "1. https://docs.python.org/3/tutorial/datastructures.html#using-lists-as-stacks\n",
    "1. https://www.w3schools.com/python/python_lists_comprehension.asp\n",
    "1. https://www.geeksforgeeks.org/python-list-comprehension/\n",
    "1. Whirlwind Tour of Python, Jake Varderplas\n",
    "\n",
    "Additional references included within the code below."
   ]
  },
  {
   "cell_type": "markdown",
   "id": "ce2c23fd",
   "metadata": {},
   "source": [
    "# Lists"
   ]
  },
  {
   "cell_type": "markdown",
   "id": "770fa60c",
   "metadata": {},
   "source": [
    "## The basics"
   ]
  },
  {
   "cell_type": "code",
   "execution_count": 1,
   "id": "3426e020",
   "metadata": {},
   "outputs": [
    {
     "data": {
      "text/plain": [
       "['apple', 'banana', 'orange', 'pear', 'cherry', 'blackberry']"
      ]
     },
     "execution_count": 1,
     "metadata": {},
     "output_type": "execute_result"
    }
   ],
   "source": [
    "# %% List basics\n",
    "my_list = ['apple','banana','orange', 'pear', 'cherry', 'blackberry']\n",
    "my_list"
   ]
  },
  {
   "cell_type": "code",
   "execution_count": 2,
   "id": "f927671e",
   "metadata": {},
   "outputs": [
    {
     "data": {
      "text/plain": [
       "6"
      ]
     },
     "execution_count": 2,
     "metadata": {},
     "output_type": "execute_result"
    }
   ],
   "source": [
    "# Length of a list \n",
    "len(my_list)"
   ]
  },
  {
   "cell_type": "code",
   "execution_count": 3,
   "id": "35a8d49a",
   "metadata": {},
   "outputs": [
    {
     "data": {
      "text/plain": [
       "['apple', 'banana', 'orange', 'pear', 'cherry', 'blackberry', 'blueberry']"
      ]
     },
     "execution_count": 3,
     "metadata": {},
     "output_type": "execute_result"
    }
   ],
   "source": [
    "# Append - add a value to a list \n",
    "my_list.append('blueberry')\n",
    "my_list"
   ]
  },
  {
   "cell_type": "code",
   "execution_count": 4,
   "id": "a199cdc9",
   "metadata": {},
   "outputs": [
    {
     "data": {
      "text/plain": [
       "['apple',\n",
       " 'banana',\n",
       " 'orange',\n",
       " 'pear',\n",
       " 'cherry',\n",
       " 'blackberry',\n",
       " 'blueberry',\n",
       " 'mango',\n",
       " 'avacado']"
      ]
     },
     "execution_count": 4,
     "metadata": {},
     "output_type": "execute_result"
    }
   ],
   "source": [
    "# Concatenating lists\n",
    "new_list = ['mango','avacado']\n",
    "my_list = my_list + new_list\n",
    "my_list"
   ]
  },
  {
   "cell_type": "markdown",
   "id": "af1aa269",
   "metadata": {},
   "source": [
    "## List indexing"
   ]
  },
  {
   "cell_type": "code",
   "execution_count": 5,
   "id": "235a6226",
   "metadata": {},
   "outputs": [
    {
     "data": {
      "text/plain": [
       "'apple'"
      ]
     },
     "execution_count": 5,
     "metadata": {},
     "output_type": "execute_result"
    }
   ],
   "source": [
    "# List indexing \n",
    "my_list[0]"
   ]
  },
  {
   "cell_type": "code",
   "execution_count": 6,
   "id": "e0ae068c",
   "metadata": {},
   "outputs": [
    {
     "data": {
      "text/plain": [
       "'pear'"
      ]
     },
     "execution_count": 6,
     "metadata": {},
     "output_type": "execute_result"
    }
   ],
   "source": [
    "# List indexing \n",
    "my_list[3]"
   ]
  },
  {
   "cell_type": "code",
   "execution_count": 7,
   "id": "9e2958d8",
   "metadata": {},
   "outputs": [
    {
     "data": {
      "text/plain": [
       "'avacado'"
      ]
     },
     "execution_count": 7,
     "metadata": {},
     "output_type": "execute_result"
    }
   ],
   "source": [
    "my_list[len(my_list)-1]"
   ]
  },
  {
   "cell_type": "code",
   "execution_count": 8,
   "id": "8bb6ebca",
   "metadata": {},
   "outputs": [
    {
     "data": {
      "text/plain": [
       "'avacado'"
      ]
     },
     "execution_count": 8,
     "metadata": {},
     "output_type": "execute_result"
    }
   ],
   "source": [
    "my_list[-1]"
   ]
  },
  {
   "cell_type": "code",
   "execution_count": 9,
   "id": "38aa2637",
   "metadata": {},
   "outputs": [
    {
     "name": "stdout",
     "output_type": "stream",
     "text": [
      "[5, 12, 20]\n",
      "[5, -28, 20]\n"
     ]
    }
   ],
   "source": [
    "# Start a new list of values\n",
    "my_nums = [5, 12, 20]\n",
    "print(my_nums)\n",
    "\n",
    "# Modify a list element\n",
    "my_nums[1] = -28\n",
    "print(my_nums)"
   ]
  },
  {
   "cell_type": "code",
   "execution_count": 10,
   "id": "96fea1a9",
   "metadata": {},
   "outputs": [
    {
     "name": "stdout",
     "output_type": "stream",
     "text": [
      "[3.14, 1.41, 'abc', 7]\n",
      "After append: [3.14, 1.41, 'abc', 7, 'def']\n",
      "After pop: [3.14, 'abc', 7, 'def']\n",
      "After remove: [3.14, 'abc', 7]\n"
     ]
    }
   ],
   "source": [
    "# Adding and removing list elements. They don't need to be of the same data type.\n",
    "my_list = [3.14, 1.41, 'abc', 7]\n",
    "print(my_list)\n",
    "\n",
    "my_list.append('def')\n",
    "print('After append:', my_list)\n",
    "\n",
    "my_list.pop(1)\n",
    "print('After pop:', my_list)\n",
    "\n",
    "my_list.remove('def')\n",
    "print('After remove:', my_list)\n"
   ]
  },
  {
   "cell_type": "markdown",
   "id": "f69fa8fc",
   "metadata": {},
   "source": [
    "## List  slicing"
   ]
  },
  {
   "cell_type": "code",
   "execution_count": 11,
   "id": "9235c835",
   "metadata": {},
   "outputs": [
    {
     "name": "stdout",
     "output_type": "stream",
     "text": [
      "\n",
      "List =  [0, 1, 1, 2, 3, 5, 8, 13, 21]\n",
      "Slicing it: \n",
      "List[3:9:2] =  [2, 5, 13]\n",
      "List[::2] =  [0, 1, 3, 8, 21]\n",
      "List[::] =  [0, 1, 1, 2, 3, 5, 8, 13, 21]\n",
      "\n",
      "List_2 =  [50, 70, 30, 20, 90, 10, 50]\n",
      "Slicing it: \n",
      "List_2[1:5] =  [70, 30, 20, 90]\n"
     ]
    }
   ],
   "source": [
    "# %% Slicing\n",
    "# https://www.geeksforgeeks.org/python-list-slicing/\n",
    "# List slicing examples\n",
    "# Lst[ Initial : End : IndexJump ]\n",
    "# Initialize list\n",
    "List = [0, 1, 1, 2, 3, 5, 8, 13, 21]\n",
    "\n",
    "# Show original list\n",
    "print(\"\\nList = \", List)\n",
    "\n",
    "print(\"Slicing it: \")\n",
    "\n",
    "# Display sliced list\n",
    "print('List[3:9:2] = ', List[3:9:2])\n",
    "\n",
    "# Display sliced list\n",
    "print('List[::2] = ', List[::2])\n",
    "\n",
    "# Display sliced list\n",
    "print('List[::] = ', List[::])\n",
    "\n",
    "# Another list\n",
    "List_2 = [50, 70, 30, 20, 90, 10, 50]\n",
    "print(\"\\nList_2 = \", List_2)\n",
    "print(\"Slicing it: \")\n",
    "print('List_2[1:5] = ', List_2[1:5])\n"
   ]
  },
  {
   "cell_type": "markdown",
   "id": "f820fc62",
   "metadata": {},
   "source": [
    "# Lists as iterables"
   ]
  },
  {
   "cell_type": "code",
   "execution_count": 12,
   "id": "348241b9",
   "metadata": {},
   "outputs": [
    {
     "name": "stdout",
     "output_type": "stream",
     "text": [
      "apple banana orange pear cherry blackberry "
     ]
    }
   ],
   "source": [
    "# %% Lists as iterables\n",
    "# Loop on a list of strings\n",
    "my_list = ['apple','banana','orange', 'pear', 'cherry', 'blackberry']\n",
    "\n",
    "for fruit in my_list:\n",
    "    print(fruit, end =' ')"
   ]
  },
  {
   "cell_type": "code",
   "execution_count": 13,
   "id": "f40132bf",
   "metadata": {},
   "outputs": [
    {
     "data": {
      "text/plain": [
       "33"
      ]
     },
     "execution_count": 13,
     "metadata": {},
     "output_type": "execute_result"
    }
   ],
   "source": [
    "# The following is a list, and a list is and it is iterable.\n",
    "my_list = [0, 1, 1, 2, 3, 5, 8, 13]\n",
    "\n",
    "# Initialize\n",
    "sum_value = 0\n",
    "\n",
    "# The following for loop will run through the items in the list.\n",
    "for new_value in my_list:\n",
    "    sum_value = sum_value + new_value\n",
    "\n",
    "sum_value"
   ]
  },
  {
   "cell_type": "markdown",
   "id": "afc6e68c",
   "metadata": {},
   "source": [
    "## Lists as stacks\n",
    "https://docs.python.org/3/tutorial/datastructures.html#using-lists-as-stacks"
   ]
  },
  {
   "cell_type": "code",
   "execution_count": 27,
   "id": "707ea3cb",
   "metadata": {},
   "outputs": [
    {
     "data": {
      "text/plain": [
       "[3, 4, 5, 6, 7]"
      ]
     },
     "execution_count": 27,
     "metadata": {},
     "output_type": "execute_result"
    }
   ],
   "source": [
    "stack = [3, 4, 5]\n",
    "stack.append(6)\n",
    "stack.append(7)\n",
    "stack"
   ]
  },
  {
   "cell_type": "code",
   "execution_count": 28,
   "id": "4d41040b",
   "metadata": {},
   "outputs": [
    {
     "data": {
      "text/plain": [
       "7"
      ]
     },
     "execution_count": 28,
     "metadata": {},
     "output_type": "execute_result"
    }
   ],
   "source": [
    "stack.pop()"
   ]
  },
  {
   "cell_type": "code",
   "execution_count": 29,
   "id": "0801caed",
   "metadata": {},
   "outputs": [
    {
     "data": {
      "text/plain": [
       "6"
      ]
     },
     "execution_count": 29,
     "metadata": {},
     "output_type": "execute_result"
    }
   ],
   "source": [
    "stack.pop()"
   ]
  },
  {
   "cell_type": "code",
   "execution_count": 30,
   "id": "70e0a870",
   "metadata": {},
   "outputs": [
    {
     "data": {
      "text/plain": [
       "[3, 4, 5]"
      ]
     },
     "execution_count": 30,
     "metadata": {},
     "output_type": "execute_result"
    }
   ],
   "source": [
    "stack"
   ]
  },
  {
   "cell_type": "markdown",
   "id": "72f399a0",
   "metadata": {},
   "source": [
    "## Lists as queues\n",
    "https://docs.python.org/3/tutorial/datastructures.html#using-lists-as-queues"
   ]
  },
  {
   "cell_type": "code",
   "execution_count": 31,
   "id": "95e6f96e",
   "metadata": {},
   "outputs": [
    {
     "data": {
      "text/plain": [
       "'Eric'"
      ]
     },
     "execution_count": 31,
     "metadata": {},
     "output_type": "execute_result"
    }
   ],
   "source": [
    "from collections import deque\n",
    "queue = deque([\"Eric\", \"John\", \"Michael\"])\n",
    "queue.append(\"Terry\")           # Terry arrives\n",
    "queue.append(\"Graham\")          # Graham arrives\n",
    "queue.popleft()                 # The first to arrive now leaves\n"
   ]
  },
  {
   "cell_type": "code",
   "execution_count": 32,
   "id": "634a4eda",
   "metadata": {},
   "outputs": [
    {
     "data": {
      "text/plain": [
       "'John'"
      ]
     },
     "execution_count": 32,
     "metadata": {},
     "output_type": "execute_result"
    }
   ],
   "source": [
    "queue.popleft()                 # The second to arrive now leaves"
   ]
  },
  {
   "cell_type": "code",
   "execution_count": 33,
   "id": "c01883a9",
   "metadata": {},
   "outputs": [
    {
     "data": {
      "text/plain": [
       "deque(['Michael', 'Terry', 'Graham'])"
      ]
     },
     "execution_count": 33,
     "metadata": {},
     "output_type": "execute_result"
    }
   ],
   "source": [
    "queue                           # Remaining queue in order of arrival"
   ]
  },
  {
   "cell_type": "markdown",
   "id": "655341bd",
   "metadata": {},
   "source": [
    "## List comprehensions\n",
    "\n",
    "* The following example come from:\n",
    "https://docs.python.org/3/tutorial/datastructures.html#list-comprehensions\n",
    "\n",
    "* And from w3 as indicated in the comments:\n",
    "https://www.w3schools.com/python/python_lists_comprehension.asp\n",
    "* newlist = [expression for item in iterable if condition == True]\n",
    "* geeksforgeeks https://www.geeksforgeeks.org/python-list-comprehension/"
   ]
  },
  {
   "cell_type": "code",
   "execution_count": 34,
   "id": "087b16ed",
   "metadata": {},
   "outputs": [
    {
     "data": {
      "text/plain": [
       "[2, 4, 6, 8, 10]"
      ]
     },
     "execution_count": 34,
     "metadata": {},
     "output_type": "execute_result"
    }
   ],
   "source": [
    "lst = [1, 2, 3, 4, 5]\n",
    "[i * 2 for i in lst]"
   ]
  },
  {
   "cell_type": "code",
   "execution_count": 35,
   "id": "f43cf76a",
   "metadata": {},
   "outputs": [
    {
     "data": {
      "text/plain": [
       "[0, 1, 2, 3, 4, 5, 6, 7, 8, 9]"
      ]
     },
     "execution_count": 35,
     "metadata": {},
     "output_type": "execute_result"
    }
   ],
   "source": [
    "[i for i in range(10)]"
   ]
  },
  {
   "cell_type": "code",
   "execution_count": 36,
   "id": "dc6e8a19",
   "metadata": {},
   "outputs": [
    {
     "data": {
      "text/plain": [
       "[0, 2, 4, 6, 8, 10, 12, 14, 16, 18]"
      ]
     },
     "execution_count": 36,
     "metadata": {},
     "output_type": "execute_result"
    }
   ],
   "source": [
    "[i*2 for i in range(10)]"
   ]
  },
  {
   "cell_type": "code",
   "execution_count": 37,
   "id": "35e77439",
   "metadata": {},
   "outputs": [
    {
     "data": {
      "text/plain": [
       "[0, 0, 0, 0, 0, 0, 0.6, 0.7, 0.8, 0.9]"
      ]
     },
     "execution_count": 37,
     "metadata": {},
     "output_type": "execute_result"
    }
   ],
   "source": [
    "# With if/else\n",
    "[i/10 if i > 5 else 0 for i in range(10)]"
   ]
  },
  {
   "cell_type": "code",
   "execution_count": 38,
   "id": "6ddfe707",
   "metadata": {},
   "outputs": [
    {
     "data": {
      "text/plain": [
       "[0, 1, 4, 9, 16, 25, 36, 49, 64, 81]"
      ]
     },
     "execution_count": 38,
     "metadata": {},
     "output_type": "execute_result"
    }
   ],
   "source": [
    "# Compare with a lambda function\n",
    "list(map(lambda x: x**2, range(10)))"
   ]
  },
  {
   "cell_type": "code",
   "execution_count": 39,
   "id": "e80b5c79",
   "metadata": {},
   "outputs": [
    {
     "data": {
      "text/plain": [
       "[0, 1, 4, 9, 16, 25, 36, 49, 64, 81]"
      ]
     },
     "execution_count": 39,
     "metadata": {},
     "output_type": "execute_result"
    }
   ],
   "source": [
    "[x**2 for x in range(10)]\n",
    "# Python doc asks: 'which is more concise and readable.' My answer is the second choice."
   ]
  },
  {
   "cell_type": "code",
   "execution_count": 40,
   "id": "8cbc198d",
   "metadata": {},
   "outputs": [
    {
     "data": {
      "text/plain": [
       "[(1, 3), (1, 4), (2, 3), (2, 1), (2, 4), (3, 1), (3, 4)]"
      ]
     },
     "execution_count": 40,
     "metadata": {},
     "output_type": "execute_result"
    }
   ],
   "source": [
    "# Combine the elements of 2 lists\n",
    "# The if acts as a filter\n",
    "[(x, y) for x in [1,2,3] for y in [3,1,4] if x != y]"
   ]
  },
  {
   "cell_type": "code",
   "execution_count": 41,
   "id": "d7510c22",
   "metadata": {},
   "outputs": [
    {
     "data": {
      "text/plain": [
       "[(2, 1), (2, 1), (2, 1), (3, 1), (3, 1), (3, 1)]"
      ]
     },
     "execution_count": 41,
     "metadata": {},
     "output_type": "execute_result"
    }
   ],
   "source": [
    "[(x, y) for x in [1,2,3] for y in [1,1,1] if x != y]"
   ]
  },
  {
   "cell_type": "code",
   "execution_count": 42,
   "id": "a33d7f43",
   "metadata": {},
   "outputs": [],
   "source": [
    "vec = [-4, -2, 0, 2, 4]"
   ]
  },
  {
   "cell_type": "code",
   "execution_count": 43,
   "id": "bf675f5f",
   "metadata": {},
   "outputs": [
    {
     "data": {
      "text/plain": [
       "[-8, -4, 0, 4, 8]"
      ]
     },
     "execution_count": 43,
     "metadata": {},
     "output_type": "execute_result"
    }
   ],
   "source": [
    "[x*2 for x in vec]"
   ]
  },
  {
   "cell_type": "code",
   "execution_count": 44,
   "id": "3d017ec4",
   "metadata": {},
   "outputs": [
    {
     "data": {
      "text/plain": [
       "[0, 2, 4]"
      ]
     },
     "execution_count": 44,
     "metadata": {},
     "output_type": "execute_result"
    }
   ],
   "source": [
    "# filter the list to exclude negative numbers\n",
    "[x for x in vec if x >= 0]"
   ]
  },
  {
   "cell_type": "code",
   "execution_count": 45,
   "id": "ce86a8a3",
   "metadata": {},
   "outputs": [
    {
     "data": {
      "text/plain": [
       "[4, 2, 0, 2, 4]"
      ]
     },
     "execution_count": 45,
     "metadata": {},
     "output_type": "execute_result"
    }
   ],
   "source": [
    "# apply a function to all the elements\n",
    "[abs(x) for x in vec]"
   ]
  },
  {
   "cell_type": "code",
   "execution_count": 46,
   "id": "c820ff04",
   "metadata": {},
   "outputs": [],
   "source": [
    "# call a method on each element\n",
    "freshfruit = ['  banana', '  loganberry ', 'passion fruit  ']"
   ]
  },
  {
   "cell_type": "code",
   "execution_count": 47,
   "id": "4eefa9bd",
   "metadata": {},
   "outputs": [
    {
     "data": {
      "text/plain": [
       "['banana', 'loganberry', 'passion fruit']"
      ]
     },
     "execution_count": 47,
     "metadata": {},
     "output_type": "execute_result"
    }
   ],
   "source": [
    "[s.strip() for s in freshfruit]"
   ]
  },
  {
   "cell_type": "code",
   "execution_count": 48,
   "id": "e371291b",
   "metadata": {},
   "outputs": [
    {
     "data": {
      "text/plain": [
       "[(0, 0), (1, 1), (2, 4), (3, 9), (4, 16), (5, 25)]"
      ]
     },
     "execution_count": 48,
     "metadata": {},
     "output_type": "execute_result"
    }
   ],
   "source": [
    "# create a list of 2-tuples like (number, square)\n",
    "# the tuple must be parenthesized, otherwise an error is raised\n",
    "[(x, x**2) for x in range(6)]"
   ]
  },
  {
   "cell_type": "code",
   "execution_count": 49,
   "id": "22d1386a",
   "metadata": {},
   "outputs": [
    {
     "data": {
      "text/plain": [
       "[1, 2, 3, 4, 5, 6, 7, 8, 9]"
      ]
     },
     "execution_count": 49,
     "metadata": {},
     "output_type": "execute_result"
    }
   ],
   "source": [
    "# flatten a list using a listcomp with two 'for'\n",
    "vec = [[1,2,3], [4,5,6], [7,8,9]]\n",
    "[num for elem in vec for num in elem]"
   ]
  },
  {
   "cell_type": "code",
   "execution_count": 50,
   "id": "c7d23718",
   "metadata": {},
   "outputs": [
    {
     "data": {
      "text/plain": [
       "['3.1', '3.14', '3.142', '3.1416', '3.14159']"
      ]
     },
     "execution_count": 50,
     "metadata": {},
     "output_type": "execute_result"
    }
   ],
   "source": [
    "from math import pi\n",
    "[str(round(pi, i)) for i in range(1, 6)]"
   ]
  },
  {
   "cell_type": "code",
   "execution_count": 51,
   "id": "f0b685cf",
   "metadata": {},
   "outputs": [
    {
     "data": {
      "text/plain": [
       "['apple', 'banana', 'mango']"
      ]
     },
     "execution_count": 51,
     "metadata": {},
     "output_type": "execute_result"
    }
   ],
   "source": [
    "# https://www.w3schools.com/python/python_lists_comprehension.asp\n",
    "fruits = [\"apple\", \"banana\", \"cherry\", \"kiwi\", \"mango\"]\n",
    "[x for x in fruits if \"a\" in x]"
   ]
  },
  {
   "cell_type": "code",
   "execution_count": 52,
   "id": "1929d7f4",
   "metadata": {},
   "outputs": [
    {
     "data": {
      "text/plain": [
       "['banana', 'cherry', 'kiwi', 'mango']"
      ]
     },
     "execution_count": 52,
     "metadata": {},
     "output_type": "execute_result"
    }
   ],
   "source": [
    "# https://www.w3schools.com/python/python_lists_comprehension.asp\n",
    "[x for x in fruits if x != \"apple\"]"
   ]
  },
  {
   "cell_type": "code",
   "execution_count": 53,
   "id": "8084645f",
   "metadata": {},
   "outputs": [
    {
     "data": {
      "text/plain": [
       "['apple', 'banana', 'cherry', 'kiwi', 'mango']"
      ]
     },
     "execution_count": 53,
     "metadata": {},
     "output_type": "execute_result"
    }
   ],
   "source": [
    "# If there is no if\n",
    "[x for x in fruits]"
   ]
  },
  {
   "cell_type": "code",
   "execution_count": 54,
   "id": "2797a369",
   "metadata": {},
   "outputs": [
    {
     "data": {
      "text/plain": [
       "['apple', 'orange', 'cherry', 'kiwi', 'mango']"
      ]
     },
     "execution_count": 54,
     "metadata": {},
     "output_type": "execute_result"
    }
   ],
   "source": [
    "# https://www.w3schools.com/python/python_lists_comprehension.asp\n",
    "[x if x != \"banana\" else \"orange\" for x in fruits]"
   ]
  },
  {
   "cell_type": "code",
   "execution_count": 55,
   "id": "bd32085e",
   "metadata": {},
   "outputs": [
    {
     "data": {
      "text/plain": [
       "['h', 'e', 'l', 'l', 'o', ',', ' ', 'w', 'o', 'r', 'l', 'd']"
      ]
     },
     "execution_count": 55,
     "metadata": {},
     "output_type": "execute_result"
    }
   ],
   "source": [
    "# https://www.geeksforgeeks.org/python-list-comprehension/\n",
    "[char for char in 'hello, world']"
   ]
  },
  {
   "cell_type": "code",
   "execution_count": 83,
   "id": "3293f7b8",
   "metadata": {},
   "outputs": [
    {
     "data": {
      "text/plain": [
       "[20, 21, 22, 23, 24, 25, 26, 27, 28, 29]"
      ]
     },
     "execution_count": 83,
     "metadata": {},
     "output_type": "execute_result"
    }
   ],
   "source": [
    "# https://stackoverflow.com/questions/15248272/python-list-comprehension-with-multiple-ifs\n",
    "[i for i in range(100) if i >= 20 if i < 30]"
   ]
  },
  {
   "cell_type": "markdown",
   "id": "f8f46821",
   "metadata": {},
   "source": [
    "## Nested comprehensions\n",
    "https://docs.python.org/3/tutorial/datastructures.html#nested-list-comprehensions"
   ]
  },
  {
   "cell_type": "code",
   "execution_count": 56,
   "id": "449e3cbf",
   "metadata": {},
   "outputs": [],
   "source": [
    "matrix = [\n",
    "[1, 2, 3, 4],\n",
    "[5, 6, 7, 8],\n",
    "[9, 10, 11, 12],\n",
    "]"
   ]
  },
  {
   "cell_type": "code",
   "execution_count": 57,
   "id": "6a835e20",
   "metadata": {},
   "outputs": [
    {
     "data": {
      "text/plain": [
       "[[1, 5, 9], [2, 6, 10], [3, 7, 11], [4, 8, 12]]"
      ]
     },
     "execution_count": 57,
     "metadata": {},
     "output_type": "execute_result"
    }
   ],
   "source": [
    "[[row[i] for row in matrix] for i in range(4)]"
   ]
  },
  {
   "cell_type": "code",
   "execution_count": 94,
   "id": "8bb2798e",
   "metadata": {},
   "outputs": [
    {
     "data": {
      "text/plain": [
       "[0, 0, 1, 0, 1, 2, 0, 1, 2]"
      ]
     },
     "execution_count": 94,
     "metadata": {},
     "output_type": "execute_result"
    }
   ],
   "source": [
    "# https://stackoverflow.com/questions/15248272/python-list-comprehension-with-multiple-ifs\n",
    "[j for i in range(11) if i < 5 for j in range(i) if j < 3]"
   ]
  },
  {
   "cell_type": "code",
   "execution_count": null,
   "id": "ea5fbea6",
   "metadata": {},
   "outputs": [],
   "source": []
  }
 ],
 "metadata": {
  "kernelspec": {
   "display_name": "Python 3 (ipykernel)",
   "language": "python",
   "name": "python3"
  },
  "language_info": {
   "codemirror_mode": {
    "name": "ipython",
    "version": 3
   },
   "file_extension": ".py",
   "mimetype": "text/x-python",
   "name": "python",
   "nbconvert_exporter": "python",
   "pygments_lexer": "ipython3",
   "version": "3.9.7"
  }
 },
 "nbformat": 4,
 "nbformat_minor": 5
}
