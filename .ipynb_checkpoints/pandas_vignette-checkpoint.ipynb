{
 "cells": [
  {
   "cell_type": "markdown",
   "id": "abe76165",
   "metadata": {},
   "source": [
    "# Pandas Vignette\n",
    "\n",
    "March 30, 2022\n",
    "\n",
    "Vignette: Pandas, reading csv, DataFrames, filtering, and wrangling data\n",
    "\n",
    "@author: Oscar A. Trevizo\n",
    "\n",
    "### References\n",
    "1. \"Pandas General Functions\" (accessed Feb. 20, 2022) \n",
    "    https://pandas.pydata.org/pandas-docs/stable/reference/general_functions.html\n",
    "    https://pandas.pydata.org/docs/reference/io.html\n",
    "    https://pandas.pydata.org/docs/reference/api/pandas.read_csv.html\n",
    "1. \"Kaggle\" (accessed Mar. 20, 2022)\n",
    "    https://www.kaggle.com/\n",
    "    https://www.kaggle.com/datasets/rishidamarla/fifa-players-ratings\n",
    "1. UCI Machine Learning Repository \n",
    "    https://archive.ics.uci.edu/ml/datasets.php\n",
    "1. Additional references:\n",
    "    https://stackoverflow.com/tags/pandas/\n",
    "    https://www.w3schools.com/python/pandas/default.asp\n",
    "    https://www.geeksforgeeks.org/pandas-tutorial/\n",
    "\n"
   ]
  },
  {
   "cell_type": "markdown",
   "id": "7b3ae298",
   "metadata": {},
   "source": [
    "# Pandas\n"
   ]
  },
  {
   "cell_type": "markdown",
   "id": "cc86b1e6",
   "metadata": {},
   "source": [
    "## Import libraries"
   ]
  },
  {
   "cell_type": "code",
   "execution_count": 1,
   "id": "d38c7b1b",
   "metadata": {},
   "outputs": [],
   "source": [
    "import pandas as pd\n",
    "import numpy as np"
   ]
  },
  {
   "cell_type": "markdown",
   "id": "897113d9",
   "metadata": {},
   "source": [
    "## Load data from a csv"
   ]
  },
  {
   "cell_type": "code",
   "execution_count": 2,
   "id": "43cd8585",
   "metadata": {},
   "outputs": [],
   "source": [
    "# https://www.kaggle.com/datasets/rishidamarla/fifa-players-ratings\n",
    "# And specify which columns to load\n",
    "df = pd.read_csv('fifa_cleaned.csv')"
   ]
  },
  {
   "cell_type": "code",
   "execution_count": 3,
   "id": "2c495224",
   "metadata": {},
   "outputs": [
    {
     "name": "stdout",
     "output_type": "stream",
     "text": [
      "<class 'pandas.core.frame.DataFrame'>\n",
      "RangeIndex: 17954 entries, 0 to 17953\n",
      "Data columns (total 92 columns):\n",
      " #   Column                         Non-Null Count  Dtype  \n",
      "---  ------                         --------------  -----  \n",
      " 0   id                             17954 non-null  int64  \n",
      " 1   name                           17954 non-null  object \n",
      " 2   full_name                      17954 non-null  object \n",
      " 3   birth_date                     17954 non-null  object \n",
      " 4   age                            17954 non-null  int64  \n",
      " 5   height_cm                      17954 non-null  float64\n",
      " 6   weight_kgs                     17954 non-null  float64\n",
      " 7   positions                      17954 non-null  object \n",
      " 8   nationality                    17954 non-null  object \n",
      " 9   overall_rating                 17954 non-null  int64  \n",
      " 10  potential                      17954 non-null  int64  \n",
      " 11  value_euro                     17699 non-null  float64\n",
      " 12  wage_euro                      17708 non-null  float64\n",
      " 13  preferred_foot                 17954 non-null  object \n",
      " 14  international_reputation(1-5)  17954 non-null  int64  \n",
      " 15  weak_foot(1-5)                 17954 non-null  int64  \n",
      " 16  skill_moves(1-5)               17954 non-null  int64  \n",
      " 17  work_rate                      17954 non-null  object \n",
      " 18  body_type                      17954 non-null  object \n",
      " 19  release_clause_euro            16117 non-null  float64\n",
      " 20  club_team                      17940 non-null  object \n",
      " 21  club_rating                    17940 non-null  float64\n",
      " 22  club_position                  17940 non-null  object \n",
      " 23  club_jersey_number             17940 non-null  float64\n",
      " 24  club_join_date                 16018 non-null  object \n",
      " 25  contract_end_year              17593 non-null  object \n",
      " 26  national_team                  857 non-null    object \n",
      " 27  national_rating                857 non-null    float64\n",
      " 28  national_team_position         857 non-null    object \n",
      " 29  national_jersey_number         857 non-null    float64\n",
      " 30  crossing                       17954 non-null  int64  \n",
      " 31  finishing                      17954 non-null  int64  \n",
      " 32  heading_accuracy               17954 non-null  int64  \n",
      " 33  short_passing                  17954 non-null  int64  \n",
      " 34  volleys                        17954 non-null  int64  \n",
      " 35  dribbling                      17954 non-null  int64  \n",
      " 36  curve                          17954 non-null  int64  \n",
      " 37  freekick_accuracy              17954 non-null  int64  \n",
      " 38  long_passing                   17954 non-null  int64  \n",
      " 39  ball_control                   17954 non-null  int64  \n",
      " 40  acceleration                   17954 non-null  int64  \n",
      " 41  sprint_speed                   17954 non-null  int64  \n",
      " 42  agility                        17954 non-null  int64  \n",
      " 43  reactions                      17954 non-null  int64  \n",
      " 44  balance                        17954 non-null  int64  \n",
      " 45  shot_power                     17954 non-null  int64  \n",
      " 46  jumping                        17954 non-null  int64  \n",
      " 47  stamina                        17954 non-null  int64  \n",
      " 48  strength                       17954 non-null  int64  \n",
      " 49  long_shots                     17954 non-null  int64  \n",
      " 50  aggression                     17954 non-null  int64  \n",
      " 51  interceptions                  17954 non-null  int64  \n",
      " 52  positioning                    17954 non-null  int64  \n",
      " 53  vision                         17954 non-null  int64  \n",
      " 54  penalties                      17954 non-null  int64  \n",
      " 55  composure                      17954 non-null  int64  \n",
      " 56  marking                        17954 non-null  int64  \n",
      " 57  standing_tackle                17954 non-null  int64  \n",
      " 58  sliding_tackle                 17954 non-null  int64  \n",
      " 59  GK_diving                      17954 non-null  int64  \n",
      " 60  GK_handling                    17954 non-null  int64  \n",
      " 61  GK_kicking                     17954 non-null  int64  \n",
      " 62  GK_positioning                 17954 non-null  int64  \n",
      " 63  GK_reflexes                    17954 non-null  int64  \n",
      " 64  tags                           1417 non-null   object \n",
      " 65  traits                         8137 non-null   object \n",
      " 66  LS                             15889 non-null  object \n",
      " 67  ST                             15889 non-null  object \n",
      " 68  RS                             15889 non-null  object \n",
      " 69  LW                             15889 non-null  object \n",
      " 70  LF                             15889 non-null  object \n",
      " 71  CF                             15889 non-null  object \n",
      " 72  RF                             15889 non-null  object \n",
      " 73  RW                             15889 non-null  object \n",
      " 74  LAM                            15889 non-null  object \n",
      " 75  CAM                            15889 non-null  object \n",
      " 76  RAM                            15889 non-null  object \n",
      " 77  LM                             15889 non-null  object \n",
      " 78  LCM                            15889 non-null  object \n",
      " 79  CM                             15889 non-null  object \n",
      " 80  RCM                            15889 non-null  object \n",
      " 81  RM                             15889 non-null  object \n",
      " 82  LWB                            15889 non-null  object \n",
      " 83  LDM                            15889 non-null  object \n",
      " 84  CDM                            15889 non-null  object \n",
      " 85  RDM                            15889 non-null  object \n",
      " 86  RWB                            15889 non-null  object \n",
      " 87  LB                             15889 non-null  object \n",
      " 88  LCB                            15889 non-null  object \n",
      " 89  CB                             15889 non-null  object \n",
      " 90  RCB                            15889 non-null  object \n",
      " 91  RB                             15889 non-null  object \n",
      "dtypes: float64(9), int64(41), object(42)\n",
      "memory usage: 12.6+ MB\n"
     ]
    }
   ],
   "source": [
    "df.info()"
   ]
  },
  {
   "cell_type": "code",
   "execution_count": 4,
   "id": "b901dff5",
   "metadata": {},
   "outputs": [],
   "source": [
    "# https://www.kaggle.com/datasets/rishidamarla/fifa-players-ratings\n",
    "# And specify which columns to load\n",
    "df = pd.read_csv('fifa_cleaned.csv', usecols = ['id', 'name', 'birth_date', 'age',\n",
    "                                                'height_cm', 'weight_kgs', 'positions',\n",
    "                                                'club_team', 'national_team', 'overall_rating',\n",
    "                                                'wage_euro'])"
   ]
  },
  {
   "cell_type": "code",
   "execution_count": 5,
   "id": "3f7bf654",
   "metadata": {},
   "outputs": [
    {
     "data": {
      "text/html": [
       "<div>\n",
       "<style scoped>\n",
       "    .dataframe tbody tr th:only-of-type {\n",
       "        vertical-align: middle;\n",
       "    }\n",
       "\n",
       "    .dataframe tbody tr th {\n",
       "        vertical-align: top;\n",
       "    }\n",
       "\n",
       "    .dataframe thead th {\n",
       "        text-align: right;\n",
       "    }\n",
       "</style>\n",
       "<table border=\"1\" class=\"dataframe\">\n",
       "  <thead>\n",
       "    <tr style=\"text-align: right;\">\n",
       "      <th></th>\n",
       "      <th>id</th>\n",
       "      <th>name</th>\n",
       "      <th>birth_date</th>\n",
       "      <th>age</th>\n",
       "      <th>height_cm</th>\n",
       "      <th>weight_kgs</th>\n",
       "      <th>positions</th>\n",
       "      <th>overall_rating</th>\n",
       "      <th>wage_euro</th>\n",
       "      <th>club_team</th>\n",
       "      <th>national_team</th>\n",
       "    </tr>\n",
       "  </thead>\n",
       "  <tbody>\n",
       "    <tr>\n",
       "      <th>0</th>\n",
       "      <td>158023</td>\n",
       "      <td>L. Messi</td>\n",
       "      <td>1987-06-24</td>\n",
       "      <td>31</td>\n",
       "      <td>170.18</td>\n",
       "      <td>72.1</td>\n",
       "      <td>CF,RW,ST</td>\n",
       "      <td>94</td>\n",
       "      <td>565000.0</td>\n",
       "      <td>FC Barcelona</td>\n",
       "      <td>Argentina</td>\n",
       "    </tr>\n",
       "    <tr>\n",
       "      <th>1</th>\n",
       "      <td>190460</td>\n",
       "      <td>C. Eriksen</td>\n",
       "      <td>1992-02-14</td>\n",
       "      <td>27</td>\n",
       "      <td>154.94</td>\n",
       "      <td>76.2</td>\n",
       "      <td>CAM,RM,CM</td>\n",
       "      <td>88</td>\n",
       "      <td>205000.0</td>\n",
       "      <td>Tottenham Hotspur</td>\n",
       "      <td>Denmark</td>\n",
       "    </tr>\n",
       "    <tr>\n",
       "      <th>2</th>\n",
       "      <td>195864</td>\n",
       "      <td>P. Pogba</td>\n",
       "      <td>1993-03-15</td>\n",
       "      <td>25</td>\n",
       "      <td>190.50</td>\n",
       "      <td>83.9</td>\n",
       "      <td>CM,CAM</td>\n",
       "      <td>88</td>\n",
       "      <td>255000.0</td>\n",
       "      <td>Manchester United</td>\n",
       "      <td>France</td>\n",
       "    </tr>\n",
       "    <tr>\n",
       "      <th>3</th>\n",
       "      <td>198219</td>\n",
       "      <td>L. Insigne</td>\n",
       "      <td>1991-06-04</td>\n",
       "      <td>27</td>\n",
       "      <td>162.56</td>\n",
       "      <td>59.0</td>\n",
       "      <td>LW,ST</td>\n",
       "      <td>88</td>\n",
       "      <td>165000.0</td>\n",
       "      <td>Napoli</td>\n",
       "      <td>Italy</td>\n",
       "    </tr>\n",
       "    <tr>\n",
       "      <th>4</th>\n",
       "      <td>201024</td>\n",
       "      <td>K. Koulibaly</td>\n",
       "      <td>1991-06-20</td>\n",
       "      <td>27</td>\n",
       "      <td>187.96</td>\n",
       "      <td>88.9</td>\n",
       "      <td>CB</td>\n",
       "      <td>88</td>\n",
       "      <td>135000.0</td>\n",
       "      <td>Napoli</td>\n",
       "      <td>NaN</td>\n",
       "    </tr>\n",
       "  </tbody>\n",
       "</table>\n",
       "</div>"
      ],
      "text/plain": [
       "       id          name  birth_date  age  height_cm  weight_kgs  positions  \\\n",
       "0  158023      L. Messi  1987-06-24   31     170.18        72.1   CF,RW,ST   \n",
       "1  190460    C. Eriksen  1992-02-14   27     154.94        76.2  CAM,RM,CM   \n",
       "2  195864      P. Pogba  1993-03-15   25     190.50        83.9     CM,CAM   \n",
       "3  198219    L. Insigne  1991-06-04   27     162.56        59.0      LW,ST   \n",
       "4  201024  K. Koulibaly  1991-06-20   27     187.96        88.9         CB   \n",
       "\n",
       "   overall_rating  wage_euro          club_team national_team  \n",
       "0              94   565000.0       FC Barcelona     Argentina  \n",
       "1              88   205000.0  Tottenham Hotspur       Denmark  \n",
       "2              88   255000.0  Manchester United        France  \n",
       "3              88   165000.0             Napoli         Italy  \n",
       "4              88   135000.0             Napoli           NaN  "
      ]
     },
     "execution_count": 5,
     "metadata": {},
     "output_type": "execute_result"
    }
   ],
   "source": [
    "df.head()"
   ]
  },
  {
   "cell_type": "code",
   "execution_count": 6,
   "id": "7ce4d3e4",
   "metadata": {},
   "outputs": [
    {
     "data": {
      "text/plain": [
       "(17954, 11)"
      ]
     },
     "execution_count": 6,
     "metadata": {},
     "output_type": "execute_result"
    }
   ],
   "source": [
    "df.shape"
   ]
  },
  {
   "cell_type": "code",
   "execution_count": 7,
   "id": "4f86f5eb",
   "metadata": {},
   "outputs": [
    {
     "name": "stdout",
     "output_type": "stream",
     "text": [
      "<class 'pandas.core.frame.DataFrame'>\n",
      "RangeIndex: 17954 entries, 0 to 17953\n",
      "Data columns (total 11 columns):\n",
      " #   Column          Non-Null Count  Dtype  \n",
      "---  ------          --------------  -----  \n",
      " 0   id              17954 non-null  int64  \n",
      " 1   name            17954 non-null  object \n",
      " 2   birth_date      17954 non-null  object \n",
      " 3   age             17954 non-null  int64  \n",
      " 4   height_cm       17954 non-null  float64\n",
      " 5   weight_kgs      17954 non-null  float64\n",
      " 6   positions       17954 non-null  object \n",
      " 7   overall_rating  17954 non-null  int64  \n",
      " 8   wage_euro       17708 non-null  float64\n",
      " 9   club_team       17940 non-null  object \n",
      " 10  national_team   857 non-null    object \n",
      "dtypes: float64(3), int64(3), object(5)\n",
      "memory usage: 1.5+ MB\n"
     ]
    }
   ],
   "source": [
    "df.info()"
   ]
  },
  {
   "cell_type": "code",
   "execution_count": 8,
   "id": "06c21300",
   "metadata": {},
   "outputs": [
    {
     "data": {
      "text/html": [
       "<div>\n",
       "<style scoped>\n",
       "    .dataframe tbody tr th:only-of-type {\n",
       "        vertical-align: middle;\n",
       "    }\n",
       "\n",
       "    .dataframe tbody tr th {\n",
       "        vertical-align: top;\n",
       "    }\n",
       "\n",
       "    .dataframe thead th {\n",
       "        text-align: right;\n",
       "    }\n",
       "</style>\n",
       "<table border=\"1\" class=\"dataframe\">\n",
       "  <thead>\n",
       "    <tr style=\"text-align: right;\">\n",
       "      <th></th>\n",
       "      <th>id</th>\n",
       "      <th>age</th>\n",
       "      <th>height_cm</th>\n",
       "      <th>weight_kgs</th>\n",
       "      <th>overall_rating</th>\n",
       "      <th>wage_euro</th>\n",
       "    </tr>\n",
       "  </thead>\n",
       "  <tbody>\n",
       "    <tr>\n",
       "      <th>count</th>\n",
       "      <td>17954.000000</td>\n",
       "      <td>17954.000000</td>\n",
       "      <td>17954.000000</td>\n",
       "      <td>17954.000000</td>\n",
       "      <td>17954.000000</td>\n",
       "      <td>17708.000000</td>\n",
       "    </tr>\n",
       "    <tr>\n",
       "      <th>mean</th>\n",
       "      <td>215411.087780</td>\n",
       "      <td>25.565445</td>\n",
       "      <td>174.946921</td>\n",
       "      <td>75.301047</td>\n",
       "      <td>66.240169</td>\n",
       "      <td>9902.134628</td>\n",
       "    </tr>\n",
       "    <tr>\n",
       "      <th>std</th>\n",
       "      <td>29758.387106</td>\n",
       "      <td>4.705708</td>\n",
       "      <td>14.029449</td>\n",
       "      <td>7.083684</td>\n",
       "      <td>6.963730</td>\n",
       "      <td>21995.593750</td>\n",
       "    </tr>\n",
       "    <tr>\n",
       "      <th>min</th>\n",
       "      <td>16.000000</td>\n",
       "      <td>17.000000</td>\n",
       "      <td>152.400000</td>\n",
       "      <td>49.900000</td>\n",
       "      <td>47.000000</td>\n",
       "      <td>1000.000000</td>\n",
       "    </tr>\n",
       "    <tr>\n",
       "      <th>25%</th>\n",
       "      <td>201117.250000</td>\n",
       "      <td>22.000000</td>\n",
       "      <td>154.940000</td>\n",
       "      <td>69.900000</td>\n",
       "      <td>62.000000</td>\n",
       "      <td>1000.000000</td>\n",
       "    </tr>\n",
       "    <tr>\n",
       "      <th>50%</th>\n",
       "      <td>222919.000000</td>\n",
       "      <td>25.000000</td>\n",
       "      <td>175.260000</td>\n",
       "      <td>74.800000</td>\n",
       "      <td>66.000000</td>\n",
       "      <td>3000.000000</td>\n",
       "    </tr>\n",
       "    <tr>\n",
       "      <th>75%</th>\n",
       "      <td>237613.500000</td>\n",
       "      <td>29.000000</td>\n",
       "      <td>185.420000</td>\n",
       "      <td>79.800000</td>\n",
       "      <td>71.000000</td>\n",
       "      <td>9000.000000</td>\n",
       "    </tr>\n",
       "    <tr>\n",
       "      <th>max</th>\n",
       "      <td>247607.000000</td>\n",
       "      <td>46.000000</td>\n",
       "      <td>205.740000</td>\n",
       "      <td>110.200000</td>\n",
       "      <td>94.000000</td>\n",
       "      <td>565000.000000</td>\n",
       "    </tr>\n",
       "  </tbody>\n",
       "</table>\n",
       "</div>"
      ],
      "text/plain": [
       "                  id           age     height_cm    weight_kgs  \\\n",
       "count   17954.000000  17954.000000  17954.000000  17954.000000   \n",
       "mean   215411.087780     25.565445    174.946921     75.301047   \n",
       "std     29758.387106      4.705708     14.029449      7.083684   \n",
       "min        16.000000     17.000000    152.400000     49.900000   \n",
       "25%    201117.250000     22.000000    154.940000     69.900000   \n",
       "50%    222919.000000     25.000000    175.260000     74.800000   \n",
       "75%    237613.500000     29.000000    185.420000     79.800000   \n",
       "max    247607.000000     46.000000    205.740000    110.200000   \n",
       "\n",
       "       overall_rating      wage_euro  \n",
       "count    17954.000000   17708.000000  \n",
       "mean        66.240169    9902.134628  \n",
       "std          6.963730   21995.593750  \n",
       "min         47.000000    1000.000000  \n",
       "25%         62.000000    1000.000000  \n",
       "50%         66.000000    3000.000000  \n",
       "75%         71.000000    9000.000000  \n",
       "max         94.000000  565000.000000  "
      ]
     },
     "execution_count": 8,
     "metadata": {},
     "output_type": "execute_result"
    }
   ],
   "source": [
    "# describe statistics\n",
    "df.describe()"
   ]
  },
  {
   "cell_type": "markdown",
   "id": "9e74dd88",
   "metadata": {},
   "source": [
    "## Filters"
   ]
  },
  {
   "cell_type": "code",
   "execution_count": 9,
   "id": "b36ac24c",
   "metadata": {},
   "outputs": [
    {
     "data": {
      "text/plain": [
       "0         True\n",
       "1         True\n",
       "2         True\n",
       "3         True\n",
       "4         True\n",
       "         ...  \n",
       "17949     True\n",
       "17950    False\n",
       "17951    False\n",
       "17952     True\n",
       "17953    False\n",
       "Name: wage_euro, Length: 17954, dtype: bool"
      ]
     },
     "execution_count": 9,
     "metadata": {},
     "output_type": "execute_result"
    }
   ],
   "source": [
    "# %% Filter basics\n",
    "#\n",
    "# A filter is based on a boolean test that returns True or False\n",
    "#\n",
    "df['wage_euro'] >= 3000"
   ]
  },
  {
   "cell_type": "code",
   "execution_count": 10,
   "id": "e949fe34",
   "metadata": {},
   "outputs": [
    {
     "data": {
      "text/plain": [
       "(10216, 11)"
      ]
     },
     "execution_count": 10,
     "metadata": {},
     "output_type": "execute_result"
    }
   ],
   "source": [
    "# %% 1st Approach - Filter simple approach\n",
    "# The boolean test, True or False can be applied to each row\n",
    "# Get players with wages above the 50 percentile\n",
    "df_wage_gt_3K = df[df['wage_euro'] >= 3000]\n",
    "df_wage_gt_3K.shape"
   ]
  },
  {
   "cell_type": "code",
   "execution_count": 11,
   "id": "f8ff3b1f",
   "metadata": {},
   "outputs": [
    {
     "data": {
      "text/html": [
       "<div>\n",
       "<style scoped>\n",
       "    .dataframe tbody tr th:only-of-type {\n",
       "        vertical-align: middle;\n",
       "    }\n",
       "\n",
       "    .dataframe tbody tr th {\n",
       "        vertical-align: top;\n",
       "    }\n",
       "\n",
       "    .dataframe thead th {\n",
       "        text-align: right;\n",
       "    }\n",
       "</style>\n",
       "<table border=\"1\" class=\"dataframe\">\n",
       "  <thead>\n",
       "    <tr style=\"text-align: right;\">\n",
       "      <th></th>\n",
       "      <th>id</th>\n",
       "      <th>name</th>\n",
       "      <th>birth_date</th>\n",
       "      <th>age</th>\n",
       "      <th>height_cm</th>\n",
       "      <th>weight_kgs</th>\n",
       "      <th>positions</th>\n",
       "      <th>overall_rating</th>\n",
       "      <th>wage_euro</th>\n",
       "      <th>club_team</th>\n",
       "      <th>national_team</th>\n",
       "    </tr>\n",
       "  </thead>\n",
       "  <tbody>\n",
       "    <tr>\n",
       "      <th>0</th>\n",
       "      <td>158023</td>\n",
       "      <td>L. Messi</td>\n",
       "      <td>1987-06-24</td>\n",
       "      <td>31</td>\n",
       "      <td>170.18</td>\n",
       "      <td>72.1</td>\n",
       "      <td>CF,RW,ST</td>\n",
       "      <td>94</td>\n",
       "      <td>565000.0</td>\n",
       "      <td>FC Barcelona</td>\n",
       "      <td>Argentina</td>\n",
       "    </tr>\n",
       "    <tr>\n",
       "      <th>17938</th>\n",
       "      <td>176580</td>\n",
       "      <td>L. Suárez</td>\n",
       "      <td>1987-01-24</td>\n",
       "      <td>32</td>\n",
       "      <td>182.88</td>\n",
       "      <td>86.2</td>\n",
       "      <td>ST</td>\n",
       "      <td>91</td>\n",
       "      <td>455000.0</td>\n",
       "      <td>FC Barcelona</td>\n",
       "      <td>Uruguay</td>\n",
       "    </tr>\n",
       "    <tr>\n",
       "      <th>17939</th>\n",
       "      <td>177003</td>\n",
       "      <td>L. Modrić</td>\n",
       "      <td>1985-09-09</td>\n",
       "      <td>33</td>\n",
       "      <td>172.72</td>\n",
       "      <td>66.2</td>\n",
       "      <td>CM</td>\n",
       "      <td>91</td>\n",
       "      <td>420000.0</td>\n",
       "      <td>Real Madrid</td>\n",
       "      <td>NaN</td>\n",
       "    </tr>\n",
       "    <tr>\n",
       "      <th>17944</th>\n",
       "      <td>20801</td>\n",
       "      <td>Cristiano Ronaldo</td>\n",
       "      <td>1985-02-05</td>\n",
       "      <td>34</td>\n",
       "      <td>187.96</td>\n",
       "      <td>83.0</td>\n",
       "      <td>ST,LW</td>\n",
       "      <td>94</td>\n",
       "      <td>405000.0</td>\n",
       "      <td>Juventus</td>\n",
       "      <td>Portugal</td>\n",
       "    </tr>\n",
       "    <tr>\n",
       "      <th>17924</th>\n",
       "      <td>173731</td>\n",
       "      <td>G. Bale</td>\n",
       "      <td>1989-07-16</td>\n",
       "      <td>29</td>\n",
       "      <td>185.42</td>\n",
       "      <td>82.1</td>\n",
       "      <td>RW,LW,ST</td>\n",
       "      <td>88</td>\n",
       "      <td>355000.0</td>\n",
       "      <td>Real Madrid</td>\n",
       "      <td>Wales</td>\n",
       "    </tr>\n",
       "  </tbody>\n",
       "</table>\n",
       "</div>"
      ],
      "text/plain": [
       "           id               name  birth_date  age  height_cm  weight_kgs  \\\n",
       "0      158023           L. Messi  1987-06-24   31     170.18        72.1   \n",
       "17938  176580          L. Suárez  1987-01-24   32     182.88        86.2   \n",
       "17939  177003          L. Modrić  1985-09-09   33     172.72        66.2   \n",
       "17944   20801  Cristiano Ronaldo  1985-02-05   34     187.96        83.0   \n",
       "17924  173731            G. Bale  1989-07-16   29     185.42        82.1   \n",
       "\n",
       "      positions  overall_rating  wage_euro     club_team national_team  \n",
       "0      CF,RW,ST              94   565000.0  FC Barcelona     Argentina  \n",
       "17938        ST              91   455000.0  FC Barcelona       Uruguay  \n",
       "17939        CM              91   420000.0   Real Madrid           NaN  \n",
       "17944     ST,LW              94   405000.0      Juventus      Portugal  \n",
       "17924  RW,LW,ST              88   355000.0   Real Madrid         Wales  "
      ]
     },
     "execution_count": 11,
     "metadata": {},
     "output_type": "execute_result"
    }
   ],
   "source": [
    "# Show top 5 using sort_values by wage and head\n",
    "df_wage_gt_3K.sort_values(by=['wage_euro'], ascending=False).head()"
   ]
  },
  {
   "cell_type": "code",
   "execution_count": 12,
   "id": "ce362c8f",
   "metadata": {},
   "outputs": [
    {
     "data": {
      "text/html": [
       "<div>\n",
       "<style scoped>\n",
       "    .dataframe tbody tr th:only-of-type {\n",
       "        vertical-align: middle;\n",
       "    }\n",
       "\n",
       "    .dataframe tbody tr th {\n",
       "        vertical-align: top;\n",
       "    }\n",
       "\n",
       "    .dataframe thead th {\n",
       "        text-align: right;\n",
       "    }\n",
       "</style>\n",
       "<table border=\"1\" class=\"dataframe\">\n",
       "  <thead>\n",
       "    <tr style=\"text-align: right;\">\n",
       "      <th></th>\n",
       "      <th>name</th>\n",
       "      <th>wage_euro</th>\n",
       "      <th>club_team</th>\n",
       "      <th>national_team</th>\n",
       "    </tr>\n",
       "  </thead>\n",
       "  <tbody>\n",
       "    <tr>\n",
       "      <th>0</th>\n",
       "      <td>L. Messi</td>\n",
       "      <td>565000.0</td>\n",
       "      <td>FC Barcelona</td>\n",
       "      <td>Argentina</td>\n",
       "    </tr>\n",
       "    <tr>\n",
       "      <th>17938</th>\n",
       "      <td>L. Suárez</td>\n",
       "      <td>455000.0</td>\n",
       "      <td>FC Barcelona</td>\n",
       "      <td>Uruguay</td>\n",
       "    </tr>\n",
       "    <tr>\n",
       "      <th>17939</th>\n",
       "      <td>L. Modrić</td>\n",
       "      <td>420000.0</td>\n",
       "      <td>Real Madrid</td>\n",
       "      <td>NaN</td>\n",
       "    </tr>\n",
       "    <tr>\n",
       "      <th>17944</th>\n",
       "      <td>Cristiano Ronaldo</td>\n",
       "      <td>405000.0</td>\n",
       "      <td>Juventus</td>\n",
       "      <td>Portugal</td>\n",
       "    </tr>\n",
       "    <tr>\n",
       "      <th>17924</th>\n",
       "      <td>G. Bale</td>\n",
       "      <td>355000.0</td>\n",
       "      <td>Real Madrid</td>\n",
       "      <td>Wales</td>\n",
       "    </tr>\n",
       "  </tbody>\n",
       "</table>\n",
       "</div>"
      ],
      "text/plain": [
       "                    name  wage_euro     club_team national_team\n",
       "0               L. Messi   565000.0  FC Barcelona     Argentina\n",
       "17938          L. Suárez   455000.0  FC Barcelona       Uruguay\n",
       "17939          L. Modrić   420000.0   Real Madrid           NaN\n",
       "17944  Cristiano Ronaldo   405000.0      Juventus      Portugal\n",
       "17924            G. Bale   355000.0   Real Madrid         Wales"
      ]
     },
     "execution_count": 12,
     "metadata": {},
     "output_type": "execute_result"
    }
   ],
   "source": [
    "# %% Filter select columns and sort one step\n",
    "#\n",
    "filter_boolean = df['wage_euro'] >= 3000\n",
    "# Make a list of column headers\n",
    "specific_columns = ['name', 'wage_euro', 'club_team', 'national_team']\n",
    "# Then assign that list to the dataframe and use the boolean to select only true\n",
    "df_wage_50_less_columns = df[specific_columns][filter_boolean].sort_values(by=['wage_euro'], ascending=False)\n",
    "df_wage_50_less_columns.head()"
   ]
  },
  {
   "cell_type": "code",
   "execution_count": 13,
   "id": "9a556752",
   "metadata": {},
   "outputs": [
    {
     "data": {
      "text/plain": [
       "(23, 11)"
      ]
     },
     "execution_count": 13,
     "metadata": {},
     "output_type": "execute_result"
    }
   ],
   "source": [
    "# %% Filter multiple conditions\n",
    "#\n",
    "# Apply two conditions. Get players with wages above the 50 percentile, and national team is Brazil\n",
    "#\n",
    "df_wage_50_brazil = df[(df['wage_euro'] >= 3000) & (df['national_team'] == 'Brazil')]\n",
    "df_wage_50_brazil.shape"
   ]
  },
  {
   "cell_type": "code",
   "execution_count": 14,
   "id": "73513fea",
   "metadata": {},
   "outputs": [
    {
     "data": {
      "text/html": [
       "<div>\n",
       "<style scoped>\n",
       "    .dataframe tbody tr th:only-of-type {\n",
       "        vertical-align: middle;\n",
       "    }\n",
       "\n",
       "    .dataframe tbody tr th {\n",
       "        vertical-align: top;\n",
       "    }\n",
       "\n",
       "    .dataframe thead th {\n",
       "        text-align: right;\n",
       "    }\n",
       "</style>\n",
       "<table border=\"1\" class=\"dataframe\">\n",
       "  <thead>\n",
       "    <tr style=\"text-align: right;\">\n",
       "      <th></th>\n",
       "      <th>id</th>\n",
       "      <th>name</th>\n",
       "      <th>birth_date</th>\n",
       "      <th>age</th>\n",
       "      <th>height_cm</th>\n",
       "      <th>weight_kgs</th>\n",
       "      <th>positions</th>\n",
       "      <th>overall_rating</th>\n",
       "      <th>wage_euro</th>\n",
       "      <th>club_team</th>\n",
       "      <th>national_team</th>\n",
       "    </tr>\n",
       "  </thead>\n",
       "  <tbody>\n",
       "    <tr>\n",
       "      <th>17943</th>\n",
       "      <td>190871</td>\n",
       "      <td>Neymar Jr</td>\n",
       "      <td>1992-02-05</td>\n",
       "      <td>27</td>\n",
       "      <td>175.26</td>\n",
       "      <td>68.0</td>\n",
       "      <td>LW,CAM</td>\n",
       "      <td>92</td>\n",
       "      <td>290000.0</td>\n",
       "      <td>Paris Saint-Germain</td>\n",
       "      <td>Brazil</td>\n",
       "    </tr>\n",
       "    <tr>\n",
       "      <th>17833</th>\n",
       "      <td>230294</td>\n",
       "      <td>Louri Beretta</td>\n",
       "      <td>1992-02-29</td>\n",
       "      <td>27</td>\n",
       "      <td>187.96</td>\n",
       "      <td>83.0</td>\n",
       "      <td>ST,CF</td>\n",
       "      <td>83</td>\n",
       "      <td>60000.0</td>\n",
       "      <td>Atlético Mineiro</td>\n",
       "      <td>Brazil</td>\n",
       "    </tr>\n",
       "    <tr>\n",
       "      <th>17835</th>\n",
       "      <td>230481</td>\n",
       "      <td>Ronaldo Cabrais</td>\n",
       "      <td>1992-02-29</td>\n",
       "      <td>27</td>\n",
       "      <td>152.40</td>\n",
       "      <td>74.8</td>\n",
       "      <td>RW,CAM</td>\n",
       "      <td>83</td>\n",
       "      <td>51000.0</td>\n",
       "      <td>Grêmio</td>\n",
       "      <td>Brazil</td>\n",
       "    </tr>\n",
       "    <tr>\n",
       "      <th>76</th>\n",
       "      <td>230258</td>\n",
       "      <td>Rosberto Dourado</td>\n",
       "      <td>1988-02-29</td>\n",
       "      <td>31</td>\n",
       "      <td>175.26</td>\n",
       "      <td>69.9</td>\n",
       "      <td>CDM,CM</td>\n",
       "      <td>82</td>\n",
       "      <td>46000.0</td>\n",
       "      <td>Atlético Mineiro</td>\n",
       "      <td>Brazil</td>\n",
       "    </tr>\n",
       "    <tr>\n",
       "      <th>17834</th>\n",
       "      <td>230375</td>\n",
       "      <td>Josué Chiamulera</td>\n",
       "      <td>1992-02-29</td>\n",
       "      <td>27</td>\n",
       "      <td>185.42</td>\n",
       "      <td>79.8</td>\n",
       "      <td>CB</td>\n",
       "      <td>83</td>\n",
       "      <td>43000.0</td>\n",
       "      <td>Grêmio</td>\n",
       "      <td>Brazil</td>\n",
       "    </tr>\n",
       "  </tbody>\n",
       "</table>\n",
       "</div>"
      ],
      "text/plain": [
       "           id              name  birth_date  age  height_cm  weight_kgs  \\\n",
       "17943  190871         Neymar Jr  1992-02-05   27     175.26        68.0   \n",
       "17833  230294     Louri Beretta  1992-02-29   27     187.96        83.0   \n",
       "17835  230481   Ronaldo Cabrais  1992-02-29   27     152.40        74.8   \n",
       "76     230258  Rosberto Dourado  1988-02-29   31     175.26        69.9   \n",
       "17834  230375  Josué Chiamulera  1992-02-29   27     185.42        79.8   \n",
       "\n",
       "      positions  overall_rating  wage_euro            club_team national_team  \n",
       "17943    LW,CAM              92   290000.0  Paris Saint-Germain        Brazil  \n",
       "17833     ST,CF              83    60000.0     Atlético Mineiro        Brazil  \n",
       "17835    RW,CAM              83    51000.0               Grêmio        Brazil  \n",
       "76       CDM,CM              82    46000.0     Atlético Mineiro        Brazil  \n",
       "17834        CB              83    43000.0               Grêmio        Brazil  "
      ]
     },
     "execution_count": 14,
     "metadata": {},
     "output_type": "execute_result"
    }
   ],
   "source": [
    "# Show top 5 using sort_values by wage and head\n",
    "df_wage_50_brazil.sort_values(by=['wage_euro'], ascending=False).head()"
   ]
  },
  {
   "cell_type": "code",
   "execution_count": 15,
   "id": "82459676",
   "metadata": {},
   "outputs": [
    {
     "data": {
      "text/plain": [
       "numpy.ndarray"
      ]
     },
     "execution_count": 15,
     "metadata": {},
     "output_type": "execute_result"
    }
   ],
   "source": [
    "# %% Filter unique select one columns (a list)\n",
    "#\n",
    "# Need \n",
    "filter_boolean = df['wage_euro'] >= 3000\n",
    "# Then assign that list to the dataframe and use the boolean to select only true\n",
    "# And dropna()\n",
    "df_top_natl_tm = df['national_team'][filter_boolean].dropna()\n",
    "\n",
    "df_top_natl_tm = df_top_natl_tm.unique()    # returns a numpy array series\n",
    "type(df_top_natl_tm)"
   ]
  },
  {
   "cell_type": "code",
   "execution_count": 16,
   "id": "c662040e",
   "metadata": {},
   "outputs": [
    {
     "data": {
      "text/plain": [
       "array(['Argentina', 'Denmark', 'France', 'Italy', 'Netherlands',\n",
       "       'Germany', 'Uruguay', 'Spain', 'Belgium', 'Egypt', 'Colombia',\n",
       "       'Sporting CP', 'Portugal', 'Dalian YiFang FC', 'Mexico', 'Brazil',\n",
       "       'England', 'Austria', 'Al Hilal', 'Iceland', 'Hungary', 'Wales',\n",
       "       'Cameroon', \"Côte d'Ivoire\", 'Australia', 'FC Porto', 'Romania',\n",
       "       'Chile', 'Norway', 'Venezuela', 'Sweden', 'Scotland', 'Canada',\n",
       "       'SL Benfica', 'Poland', 'Turkey', 'Northern Ireland',\n",
       "       'Santos Laguna', 'New Zealand', 'United States',\n",
       "       'Republic of Ireland', 'Ecuador', 'Pachuca', 'Peru', 'Slovenia',\n",
       "       'Racing Club', 'FC Red Bull Salzburg', 'Puebla FC',\n",
       "       'Universidad de Chile', 'Club Tijuana', 'Paraguay', 'Querétaro',\n",
       "       'South Africa', 'Cruz Azul', 'Switzerland', 'BSC Young Boys',\n",
       "       'Atlético Nacional', 'Finland', 'Melbourne Victory',\n",
       "       'Independiente Santa Fe', 'Melbourne City FC',\n",
       "       'Club Atlético Talleres', 'Urawa Red Diamonds', 'Al Ahli',\n",
       "       'FK Austria Wien', 'Al Wehda', 'Bulgaria', 'Monarcas Morelia',\n",
       "       'Sydney FC', 'Club Atlas', 'Al Ittihad', 'Boca Juniors',\n",
       "       'Vélez Sarsfield', 'CD Tondela', 'Colo-Colo', 'Czech Republic',\n",
       "       'Club Necaxa', 'Perth Glory', 'Western Sydney Wanderers',\n",
       "       'Nagoya Grampus', 'FC Basel 1893', 'Greece', 'Club León',\n",
       "       'Club Atlético Banfield', 'Russia', 'Club América',\n",
       "       'Tigres U.A.N.L.', 'Independiente', 'Monterrey', 'Henan Jianye FC',\n",
       "       'Grasshopper Club Zürich', 'Neuchâtel Xamax', 'SK Rapid Wien',\n",
       "       'Vitória Guimarães', 'Junior FC', 'River Plate'], dtype=object)"
      ]
     },
     "execution_count": 16,
     "metadata": {},
     "output_type": "execute_result"
    }
   ],
   "source": [
    "# Displaying the numpy array series\n",
    "df_top_natl_tm"
   ]
  },
  {
   "cell_type": "code",
   "execution_count": 17,
   "id": "64aac0b9",
   "metadata": {},
   "outputs": [
    {
     "data": {
      "text/plain": [
       "pandas.core.series.Series"
      ]
     },
     "execution_count": 17,
     "metadata": {},
     "output_type": "execute_result"
    }
   ],
   "source": [
    "# Convert numpy array to Pandas series\n",
    "df_top_natl_tm = pd.Series(df_top_natl_tm)\n",
    "type(df_top_natl_tm)"
   ]
  },
  {
   "cell_type": "code",
   "execution_count": 18,
   "id": "a7c2eeab",
   "metadata": {},
   "outputs": [
    {
     "data": {
      "text/plain": [
       "0      Argentina\n",
       "1        Denmark\n",
       "2         France\n",
       "3          Italy\n",
       "4    Netherlands\n",
       "dtype: object"
      ]
     },
     "execution_count": 18,
     "metadata": {},
     "output_type": "execute_result"
    }
   ],
   "source": [
    "df_top_natl_tm.head()"
   ]
  },
  {
   "cell_type": "markdown",
   "id": "5b4c8594",
   "metadata": {},
   "source": [
    "## Create a DataFrame"
   ]
  },
  {
   "cell_type": "code",
   "execution_count": 19,
   "id": "558d69f9",
   "metadata": {},
   "outputs": [
    {
     "data": {
      "text/html": [
       "<div>\n",
       "<style scoped>\n",
       "    .dataframe tbody tr th:only-of-type {\n",
       "        vertical-align: middle;\n",
       "    }\n",
       "\n",
       "    .dataframe tbody tr th {\n",
       "        vertical-align: top;\n",
       "    }\n",
       "\n",
       "    .dataframe thead th {\n",
       "        text-align: right;\n",
       "    }\n",
       "</style>\n",
       "<table border=\"1\" class=\"dataframe\">\n",
       "  <thead>\n",
       "    <tr style=\"text-align: right;\">\n",
       "      <th></th>\n",
       "      <th>first_name</th>\n",
       "      <th>last_name</th>\n",
       "      <th>score_1</th>\n",
       "      <th>score_2</th>\n",
       "    </tr>\n",
       "  </thead>\n",
       "  <tbody>\n",
       "    <tr>\n",
       "      <th>0</th>\n",
       "      <td>Joan</td>\n",
       "      <td>T</td>\n",
       "      <td>91</td>\n",
       "      <td>91</td>\n",
       "    </tr>\n",
       "    <tr>\n",
       "      <th>1</th>\n",
       "      <td>Mary</td>\n",
       "      <td>K</td>\n",
       "      <td>83</td>\n",
       "      <td>85</td>\n",
       "    </tr>\n",
       "    <tr>\n",
       "      <th>2</th>\n",
       "      <td>Vijay</td>\n",
       "      <td>N</td>\n",
       "      <td>95</td>\n",
       "      <td>90</td>\n",
       "    </tr>\n",
       "    <tr>\n",
       "      <th>3</th>\n",
       "      <td>Rob</td>\n",
       "      <td>R</td>\n",
       "      <td>72</td>\n",
       "      <td>81</td>\n",
       "    </tr>\n",
       "    <tr>\n",
       "      <th>4</th>\n",
       "      <td>Martha</td>\n",
       "      <td>L</td>\n",
       "      <td>91</td>\n",
       "      <td>95</td>\n",
       "    </tr>\n",
       "    <tr>\n",
       "      <th>5</th>\n",
       "      <td>Josh</td>\n",
       "      <td>F</td>\n",
       "      <td>85</td>\n",
       "      <td>92</td>\n",
       "    </tr>\n",
       "    <tr>\n",
       "      <th>6</th>\n",
       "      <td>Vicky</td>\n",
       "      <td>R</td>\n",
       "      <td>89</td>\n",
       "      <td>88</td>\n",
       "    </tr>\n",
       "    <tr>\n",
       "      <th>7</th>\n",
       "      <td>Mario</td>\n",
       "      <td>L</td>\n",
       "      <td>82</td>\n",
       "      <td>94</td>\n",
       "    </tr>\n",
       "    <tr>\n",
       "      <th>8</th>\n",
       "      <td>Jenny</td>\n",
       "      <td>%^</td>\n",
       "      <td>abc</td>\n",
       "      <td>xyz</td>\n",
       "    </tr>\n",
       "    <tr>\n",
       "      <th>9</th>\n",
       "      <td>Joe</td>\n",
       "      <td>P</td>\n",
       "      <td>79</td>\n",
       "      <td>75</td>\n",
       "    </tr>\n",
       "  </tbody>\n",
       "</table>\n",
       "</div>"
      ],
      "text/plain": [
       "  first_name last_name score_1 score_2\n",
       "0       Joan         T      91      91\n",
       "1      Mary         K       83      85\n",
       "2     Vijay         N       95      90\n",
       "3       Rob         R       72      81\n",
       "4     Martha         L      91      95\n",
       "5       Josh        F       85      92\n",
       "6      Vicky         R      89      88\n",
       "7      Mario         L      82      94\n",
       "8      Jenny        %^     abc     xyz\n",
       "9        Joe         P      79      75"
      ]
     },
     "execution_count": 19,
     "metadata": {},
     "output_type": "execute_result"
    }
   ],
   "source": [
    "# Get the data\n",
    "first_name = [\" Joan\", \"Mary \", \" Vijay \", \"Rob \", \"Martha\", \"Josh\", \" Vicky\", \" Mario\", \"Jenny\", \"Joe\"]\n",
    "last_name = [\" T\",\" K \", \" N \", \"R \", \"L\", \"F \", \" R\", \" L\", \"%^\", \"P\"]\n",
    "score_1 = [91, 83, 95, 72, 91, 85, 89, 82, 'abc', 79]\n",
    "score_2 = [91, 85, 90, 81, 95, 92, 88, 94, 'xyz', 75]\n",
    "\n",
    "# Build the dataframe\n",
    "df = pd.DataFrame({'first_name':first_name, 'last_name':last_name,'score_1':score_1,'score_2':score_2}  )\n",
    "df.head(10)"
   ]
  },
  {
   "cell_type": "code",
   "execution_count": 20,
   "id": "32eacc86",
   "metadata": {},
   "outputs": [
    {
     "name": "stdout",
     "output_type": "stream",
     "text": [
      "<class 'pandas.core.frame.DataFrame'>\n",
      "RangeIndex: 10 entries, 0 to 9\n",
      "Data columns (total 4 columns):\n",
      " #   Column      Non-Null Count  Dtype \n",
      "---  ------      --------------  ----- \n",
      " 0   first_name  10 non-null     object\n",
      " 1   last_name   10 non-null     object\n",
      " 2   score_1     10 non-null     object\n",
      " 3   score_2     10 non-null     object\n",
      "dtypes: object(4)\n",
      "memory usage: 448.0+ bytes\n"
     ]
    }
   ],
   "source": [
    "df.info()"
   ]
  },
  {
   "cell_type": "markdown",
   "id": "35162b70",
   "metadata": {},
   "source": [
    "## To numeric"
   ]
  },
  {
   "cell_type": "code",
   "execution_count": 21,
   "id": "68da7602",
   "metadata": {},
   "outputs": [],
   "source": [
    "df['score_1'] = pd.to_numeric(df['score_1'], errors='coerce')"
   ]
  },
  {
   "cell_type": "code",
   "execution_count": 22,
   "id": "95c496ee",
   "metadata": {},
   "outputs": [],
   "source": [
    "df['score_2'] = pd.to_numeric(df['score_2'], errors='coerce')"
   ]
  },
  {
   "cell_type": "code",
   "execution_count": 23,
   "id": "1d0a2415",
   "metadata": {},
   "outputs": [
    {
     "name": "stdout",
     "output_type": "stream",
     "text": [
      "<class 'pandas.core.frame.DataFrame'>\n",
      "RangeIndex: 10 entries, 0 to 9\n",
      "Data columns (total 4 columns):\n",
      " #   Column      Non-Null Count  Dtype  \n",
      "---  ------      --------------  -----  \n",
      " 0   first_name  10 non-null     object \n",
      " 1   last_name   10 non-null     object \n",
      " 2   score_1     9 non-null      float64\n",
      " 3   score_2     9 non-null      float64\n",
      "dtypes: float64(2), object(2)\n",
      "memory usage: 448.0+ bytes\n"
     ]
    }
   ],
   "source": [
    "df.info()"
   ]
  },
  {
   "cell_type": "code",
   "execution_count": 24,
   "id": "9e064688",
   "metadata": {},
   "outputs": [
    {
     "data": {
      "text/html": [
       "<div>\n",
       "<style scoped>\n",
       "    .dataframe tbody tr th:only-of-type {\n",
       "        vertical-align: middle;\n",
       "    }\n",
       "\n",
       "    .dataframe tbody tr th {\n",
       "        vertical-align: top;\n",
       "    }\n",
       "\n",
       "    .dataframe thead th {\n",
       "        text-align: right;\n",
       "    }\n",
       "</style>\n",
       "<table border=\"1\" class=\"dataframe\">\n",
       "  <thead>\n",
       "    <tr style=\"text-align: right;\">\n",
       "      <th></th>\n",
       "      <th>score_1</th>\n",
       "      <th>score_2</th>\n",
       "    </tr>\n",
       "  </thead>\n",
       "  <tbody>\n",
       "    <tr>\n",
       "      <th>count</th>\n",
       "      <td>9.000000</td>\n",
       "      <td>9.000000</td>\n",
       "    </tr>\n",
       "    <tr>\n",
       "      <th>mean</th>\n",
       "      <td>85.222222</td>\n",
       "      <td>87.888889</td>\n",
       "    </tr>\n",
       "    <tr>\n",
       "      <th>std</th>\n",
       "      <td>7.120003</td>\n",
       "      <td>6.527719</td>\n",
       "    </tr>\n",
       "    <tr>\n",
       "      <th>min</th>\n",
       "      <td>72.000000</td>\n",
       "      <td>75.000000</td>\n",
       "    </tr>\n",
       "    <tr>\n",
       "      <th>25%</th>\n",
       "      <td>82.000000</td>\n",
       "      <td>85.000000</td>\n",
       "    </tr>\n",
       "    <tr>\n",
       "      <th>50%</th>\n",
       "      <td>85.000000</td>\n",
       "      <td>90.000000</td>\n",
       "    </tr>\n",
       "    <tr>\n",
       "      <th>75%</th>\n",
       "      <td>91.000000</td>\n",
       "      <td>92.000000</td>\n",
       "    </tr>\n",
       "    <tr>\n",
       "      <th>max</th>\n",
       "      <td>95.000000</td>\n",
       "      <td>95.000000</td>\n",
       "    </tr>\n",
       "  </tbody>\n",
       "</table>\n",
       "</div>"
      ],
      "text/plain": [
       "         score_1    score_2\n",
       "count   9.000000   9.000000\n",
       "mean   85.222222  87.888889\n",
       "std     7.120003   6.527719\n",
       "min    72.000000  75.000000\n",
       "25%    82.000000  85.000000\n",
       "50%    85.000000  90.000000\n",
       "75%    91.000000  92.000000\n",
       "max    95.000000  95.000000"
      ]
     },
     "execution_count": 24,
     "metadata": {},
     "output_type": "execute_result"
    }
   ],
   "source": [
    "df.describe()"
   ]
  },
  {
   "cell_type": "markdown",
   "id": "8c8c1f98",
   "metadata": {},
   "source": [
    "## Clean up blank spaces"
   ]
  },
  {
   "cell_type": "code",
   "execution_count": 25,
   "id": "effbd010",
   "metadata": {},
   "outputs": [
    {
     "data": {
      "text/html": [
       "<div>\n",
       "<style scoped>\n",
       "    .dataframe tbody tr th:only-of-type {\n",
       "        vertical-align: middle;\n",
       "    }\n",
       "\n",
       "    .dataframe tbody tr th {\n",
       "        vertical-align: top;\n",
       "    }\n",
       "\n",
       "    .dataframe thead th {\n",
       "        text-align: right;\n",
       "    }\n",
       "</style>\n",
       "<table border=\"1\" class=\"dataframe\">\n",
       "  <thead>\n",
       "    <tr style=\"text-align: right;\">\n",
       "      <th></th>\n",
       "      <th>first_name</th>\n",
       "      <th>last_name</th>\n",
       "      <th>score_1</th>\n",
       "      <th>score_2</th>\n",
       "    </tr>\n",
       "  </thead>\n",
       "  <tbody>\n",
       "    <tr>\n",
       "      <th>0</th>\n",
       "      <td>Joan</td>\n",
       "      <td>T</td>\n",
       "      <td>91.0</td>\n",
       "      <td>91.0</td>\n",
       "    </tr>\n",
       "    <tr>\n",
       "      <th>1</th>\n",
       "      <td>Mary</td>\n",
       "      <td>K</td>\n",
       "      <td>83.0</td>\n",
       "      <td>85.0</td>\n",
       "    </tr>\n",
       "    <tr>\n",
       "      <th>2</th>\n",
       "      <td>Vijay</td>\n",
       "      <td>N</td>\n",
       "      <td>95.0</td>\n",
       "      <td>90.0</td>\n",
       "    </tr>\n",
       "    <tr>\n",
       "      <th>3</th>\n",
       "      <td>Rob</td>\n",
       "      <td>R</td>\n",
       "      <td>72.0</td>\n",
       "      <td>81.0</td>\n",
       "    </tr>\n",
       "    <tr>\n",
       "      <th>4</th>\n",
       "      <td>Martha</td>\n",
       "      <td>L</td>\n",
       "      <td>91.0</td>\n",
       "      <td>95.0</td>\n",
       "    </tr>\n",
       "    <tr>\n",
       "      <th>5</th>\n",
       "      <td>Josh</td>\n",
       "      <td>F</td>\n",
       "      <td>85.0</td>\n",
       "      <td>92.0</td>\n",
       "    </tr>\n",
       "    <tr>\n",
       "      <th>6</th>\n",
       "      <td>Vicky</td>\n",
       "      <td>R</td>\n",
       "      <td>89.0</td>\n",
       "      <td>88.0</td>\n",
       "    </tr>\n",
       "    <tr>\n",
       "      <th>7</th>\n",
       "      <td>Mario</td>\n",
       "      <td>L</td>\n",
       "      <td>82.0</td>\n",
       "      <td>94.0</td>\n",
       "    </tr>\n",
       "    <tr>\n",
       "      <th>8</th>\n",
       "      <td>Jenny</td>\n",
       "      <td>%^</td>\n",
       "      <td>NaN</td>\n",
       "      <td>NaN</td>\n",
       "    </tr>\n",
       "    <tr>\n",
       "      <th>9</th>\n",
       "      <td>Joe</td>\n",
       "      <td>P</td>\n",
       "      <td>79.0</td>\n",
       "      <td>75.0</td>\n",
       "    </tr>\n",
       "  </tbody>\n",
       "</table>\n",
       "</div>"
      ],
      "text/plain": [
       "  first_name last_name  score_1  score_2\n",
       "0       Joan         T     91.0     91.0\n",
       "1       Mary         K     83.0     85.0\n",
       "2      Vijay         N     95.0     90.0\n",
       "3        Rob         R     72.0     81.0\n",
       "4     Martha         L     91.0     95.0\n",
       "5       Josh         F     85.0     92.0\n",
       "6      Vicky         R     89.0     88.0\n",
       "7      Mario         L     82.0     94.0\n",
       "8      Jenny        %^      NaN      NaN\n",
       "9        Joe         P     79.0     75.0"
      ]
     },
     "execution_count": 25,
     "metadata": {},
     "output_type": "execute_result"
    }
   ],
   "source": [
    "# Strip right and left spaces\n",
    "df[\"first_name\"] = df[\"first_name\"].str.strip()\n",
    "df[\"last_name\"] = df[\"last_name\"].str.strip()\n",
    "df.head(10)"
   ]
  },
  {
   "cell_type": "markdown",
   "id": "122c1120",
   "metadata": {},
   "source": [
    "## Regex clean up characters\n",
    "http://localhost:8888/notebooks/Python/Jupyter_Vignettes/regex_vignette.ipynb"
   ]
  },
  {
   "cell_type": "code",
   "execution_count": 26,
   "id": "a9861e07",
   "metadata": {},
   "outputs": [
    {
     "data": {
      "text/html": [
       "<div>\n",
       "<style scoped>\n",
       "    .dataframe tbody tr th:only-of-type {\n",
       "        vertical-align: middle;\n",
       "    }\n",
       "\n",
       "    .dataframe tbody tr th {\n",
       "        vertical-align: top;\n",
       "    }\n",
       "\n",
       "    .dataframe thead th {\n",
       "        text-align: right;\n",
       "    }\n",
       "</style>\n",
       "<table border=\"1\" class=\"dataframe\">\n",
       "  <thead>\n",
       "    <tr style=\"text-align: right;\">\n",
       "      <th></th>\n",
       "      <th>first_name</th>\n",
       "      <th>last_name</th>\n",
       "      <th>score_1</th>\n",
       "      <th>score_2</th>\n",
       "    </tr>\n",
       "  </thead>\n",
       "  <tbody>\n",
       "    <tr>\n",
       "      <th>0</th>\n",
       "      <td>Joan</td>\n",
       "      <td>T</td>\n",
       "      <td>91.0</td>\n",
       "      <td>91.0</td>\n",
       "    </tr>\n",
       "    <tr>\n",
       "      <th>1</th>\n",
       "      <td>Mary</td>\n",
       "      <td>K</td>\n",
       "      <td>83.0</td>\n",
       "      <td>85.0</td>\n",
       "    </tr>\n",
       "    <tr>\n",
       "      <th>2</th>\n",
       "      <td>Vijay</td>\n",
       "      <td>N</td>\n",
       "      <td>95.0</td>\n",
       "      <td>90.0</td>\n",
       "    </tr>\n",
       "    <tr>\n",
       "      <th>3</th>\n",
       "      <td>Rob</td>\n",
       "      <td>R</td>\n",
       "      <td>72.0</td>\n",
       "      <td>81.0</td>\n",
       "    </tr>\n",
       "    <tr>\n",
       "      <th>4</th>\n",
       "      <td>Martha</td>\n",
       "      <td>L</td>\n",
       "      <td>91.0</td>\n",
       "      <td>95.0</td>\n",
       "    </tr>\n",
       "    <tr>\n",
       "      <th>5</th>\n",
       "      <td>Josh</td>\n",
       "      <td>F</td>\n",
       "      <td>85.0</td>\n",
       "      <td>92.0</td>\n",
       "    </tr>\n",
       "    <tr>\n",
       "      <th>6</th>\n",
       "      <td>Vicky</td>\n",
       "      <td>R</td>\n",
       "      <td>89.0</td>\n",
       "      <td>88.0</td>\n",
       "    </tr>\n",
       "    <tr>\n",
       "      <th>7</th>\n",
       "      <td>Mario</td>\n",
       "      <td>L</td>\n",
       "      <td>82.0</td>\n",
       "      <td>94.0</td>\n",
       "    </tr>\n",
       "    <tr>\n",
       "      <th>8</th>\n",
       "      <td>Jenny</td>\n",
       "      <td>NaN</td>\n",
       "      <td>NaN</td>\n",
       "      <td>NaN</td>\n",
       "    </tr>\n",
       "    <tr>\n",
       "      <th>9</th>\n",
       "      <td>Joe</td>\n",
       "      <td>P</td>\n",
       "      <td>79.0</td>\n",
       "      <td>75.0</td>\n",
       "    </tr>\n",
       "  </tbody>\n",
       "</table>\n",
       "</div>"
      ],
      "text/plain": [
       "  first_name last_name  score_1  score_2\n",
       "0       Joan         T     91.0     91.0\n",
       "1       Mary         K     83.0     85.0\n",
       "2      Vijay         N     95.0     90.0\n",
       "3        Rob         R     72.0     81.0\n",
       "4     Martha         L     91.0     95.0\n",
       "5       Josh         F     85.0     92.0\n",
       "6      Vicky         R     89.0     88.0\n",
       "7      Mario         L     82.0     94.0\n",
       "8      Jenny       NaN      NaN      NaN\n",
       "9        Joe         P     79.0     75.0"
      ]
     },
     "execution_count": 26,
     "metadata": {},
     "output_type": "execute_result"
    }
   ],
   "source": [
    "df[\"last_name\"] = df[\"last_name\"].replace('[^A-Za-z]', np.NaN, regex=True)\n",
    "df[\"score_1\"] = df[\"score_1\"].replace('[^0-9]', np.NaN, regex=True)\n",
    "df[\"score_2\"] = df[\"score_2\"].replace('[^0-9]', np.NaN, regex=True)\n",
    "\n",
    "df.head(10)"
   ]
  },
  {
   "cell_type": "markdown",
   "id": "726dbf40",
   "metadata": {},
   "source": [
    "## Drop NaN"
   ]
  },
  {
   "cell_type": "code",
   "execution_count": 27,
   "id": "ef1b1577",
   "metadata": {},
   "outputs": [
    {
     "data": {
      "text/html": [
       "<div>\n",
       "<style scoped>\n",
       "    .dataframe tbody tr th:only-of-type {\n",
       "        vertical-align: middle;\n",
       "    }\n",
       "\n",
       "    .dataframe tbody tr th {\n",
       "        vertical-align: top;\n",
       "    }\n",
       "\n",
       "    .dataframe thead th {\n",
       "        text-align: right;\n",
       "    }\n",
       "</style>\n",
       "<table border=\"1\" class=\"dataframe\">\n",
       "  <thead>\n",
       "    <tr style=\"text-align: right;\">\n",
       "      <th></th>\n",
       "      <th>first_name</th>\n",
       "      <th>last_name</th>\n",
       "      <th>score_1</th>\n",
       "      <th>score_2</th>\n",
       "    </tr>\n",
       "  </thead>\n",
       "  <tbody>\n",
       "    <tr>\n",
       "      <th>0</th>\n",
       "      <td>Joan</td>\n",
       "      <td>T</td>\n",
       "      <td>91.0</td>\n",
       "      <td>91.0</td>\n",
       "    </tr>\n",
       "    <tr>\n",
       "      <th>1</th>\n",
       "      <td>Mary</td>\n",
       "      <td>K</td>\n",
       "      <td>83.0</td>\n",
       "      <td>85.0</td>\n",
       "    </tr>\n",
       "    <tr>\n",
       "      <th>2</th>\n",
       "      <td>Vijay</td>\n",
       "      <td>N</td>\n",
       "      <td>95.0</td>\n",
       "      <td>90.0</td>\n",
       "    </tr>\n",
       "    <tr>\n",
       "      <th>3</th>\n",
       "      <td>Rob</td>\n",
       "      <td>R</td>\n",
       "      <td>72.0</td>\n",
       "      <td>81.0</td>\n",
       "    </tr>\n",
       "    <tr>\n",
       "      <th>4</th>\n",
       "      <td>Martha</td>\n",
       "      <td>L</td>\n",
       "      <td>91.0</td>\n",
       "      <td>95.0</td>\n",
       "    </tr>\n",
       "    <tr>\n",
       "      <th>5</th>\n",
       "      <td>Josh</td>\n",
       "      <td>F</td>\n",
       "      <td>85.0</td>\n",
       "      <td>92.0</td>\n",
       "    </tr>\n",
       "    <tr>\n",
       "      <th>6</th>\n",
       "      <td>Vicky</td>\n",
       "      <td>R</td>\n",
       "      <td>89.0</td>\n",
       "      <td>88.0</td>\n",
       "    </tr>\n",
       "    <tr>\n",
       "      <th>7</th>\n",
       "      <td>Mario</td>\n",
       "      <td>L</td>\n",
       "      <td>82.0</td>\n",
       "      <td>94.0</td>\n",
       "    </tr>\n",
       "    <tr>\n",
       "      <th>9</th>\n",
       "      <td>Joe</td>\n",
       "      <td>P</td>\n",
       "      <td>79.0</td>\n",
       "      <td>75.0</td>\n",
       "    </tr>\n",
       "  </tbody>\n",
       "</table>\n",
       "</div>"
      ],
      "text/plain": [
       "  first_name last_name  score_1  score_2\n",
       "0       Joan         T     91.0     91.0\n",
       "1       Mary         K     83.0     85.0\n",
       "2      Vijay         N     95.0     90.0\n",
       "3        Rob         R     72.0     81.0\n",
       "4     Martha         L     91.0     95.0\n",
       "5       Josh         F     85.0     92.0\n",
       "6      Vicky         R     89.0     88.0\n",
       "7      Mario         L     82.0     94.0\n",
       "9        Joe         P     79.0     75.0"
      ]
     },
     "execution_count": 27,
     "metadata": {},
     "output_type": "execute_result"
    }
   ],
   "source": [
    "df.dropna(inplace=True)\n",
    "df.head(10)"
   ]
  },
  {
   "cell_type": "markdown",
   "id": "e56c48fe",
   "metadata": {},
   "source": [
    "## Assign data types"
   ]
  },
  {
   "cell_type": "code",
   "execution_count": 28,
   "id": "f37a44df",
   "metadata": {},
   "outputs": [
    {
     "name": "stdout",
     "output_type": "stream",
     "text": [
      "<class 'pandas.core.frame.DataFrame'>\n",
      "Int64Index: 9 entries, 0 to 9\n",
      "Data columns (total 4 columns):\n",
      " #   Column      Non-Null Count  Dtype  \n",
      "---  ------      --------------  -----  \n",
      " 0   first_name  9 non-null      object \n",
      " 1   last_name   9 non-null      object \n",
      " 2   score_1     9 non-null      float64\n",
      " 3   score_2     9 non-null      float64\n",
      "dtypes: float64(2), object(2)\n",
      "memory usage: 360.0+ bytes\n"
     ]
    }
   ],
   "source": [
    "df.info()"
   ]
  },
  {
   "cell_type": "code",
   "execution_count": 29,
   "id": "0c97df05",
   "metadata": {},
   "outputs": [],
   "source": [
    "# Based on example from https://www.geeksforgeeks.org/change-data-type-for-one-or-more-columns-in-pandas-dataframe\n",
    "# Similar reference in https://stackoverflow.com/questions/49684951/pandas-read-csv-dtype-read-all-columns-but-few-as-string\n",
    "dtypes_dict = {'first_name' : str,\n",
    "               'last_name' : str,\n",
    "               'score_1' : int,\n",
    "               'score_2' : int}\n",
    "df = df.astype(dtypes_dict)"
   ]
  },
  {
   "cell_type": "code",
   "execution_count": 30,
   "id": "68467313",
   "metadata": {},
   "outputs": [
    {
     "name": "stdout",
     "output_type": "stream",
     "text": [
      "<class 'pandas.core.frame.DataFrame'>\n",
      "Int64Index: 9 entries, 0 to 9\n",
      "Data columns (total 4 columns):\n",
      " #   Column      Non-Null Count  Dtype \n",
      "---  ------      --------------  ----- \n",
      " 0   first_name  9 non-null      object\n",
      " 1   last_name   9 non-null      object\n",
      " 2   score_1     9 non-null      int32 \n",
      " 3   score_2     9 non-null      int32 \n",
      "dtypes: int32(2), object(2)\n",
      "memory usage: 288.0+ bytes\n"
     ]
    }
   ],
   "source": [
    "df.info()"
   ]
  },
  {
   "cell_type": "markdown",
   "id": "0ee3f5b6",
   "metadata": {},
   "source": [
    "## Add column / List comprehension"
   ]
  },
  {
   "cell_type": "code",
   "execution_count": null,
   "id": "f8c9f6bf",
   "metadata": {},
   "outputs": [],
   "source": [
    "df['s1_a'] = ['a' if col >= 90 else ' ' for col in df['score_1']]"
   ]
  },
  {
   "cell_type": "code",
   "execution_count": null,
   "id": "3321eca6",
   "metadata": {},
   "outputs": [],
   "source": [
    "df.head(10)"
   ]
  },
  {
   "cell_type": "code",
   "execution_count": null,
   "id": "b8f3ab36",
   "metadata": {},
   "outputs": [],
   "source": [
    "df['s2_a'] = ['a' if col >= 90 else ' ' for col in df['score_2']]"
   ]
  },
  {
   "cell_type": "code",
   "execution_count": null,
   "id": "74fbe1be",
   "metadata": {},
   "outputs": [],
   "source": [
    "df.head(10)"
   ]
  },
  {
   "cell_type": "code",
   "execution_count": null,
   "id": "066af005",
   "metadata": {},
   "outputs": [],
   "source": [
    "df['improved'] = ['yes' if col2 > col1 else 'no' for col1, col2 in zip(df['score_1'], df['score_2'])]"
   ]
  },
  {
   "cell_type": "code",
   "execution_count": null,
   "id": "ecff14be",
   "metadata": {},
   "outputs": [],
   "source": [
    "df.head(10)"
   ]
  },
  {
   "cell_type": "markdown",
   "id": "4523bf22",
   "metadata": {},
   "source": [
    "##  Filter addl examples"
   ]
  },
  {
   "cell_type": "code",
   "execution_count": null,
   "id": "6dd2c724",
   "metadata": {},
   "outputs": [],
   "source": [
    "# The filter itself\n",
    "df[\"score_1\"] == df.score_1.max()"
   ]
  },
  {
   "cell_type": "code",
   "execution_count": null,
   "id": "8c1a8a2a",
   "metadata": {},
   "outputs": [],
   "source": [
    "# The filter applied, and to certain columns only\n",
    "df[['first_name', 'last_name','score_1']][df[\"score_1\"] == df.score_1.max()]"
   ]
  },
  {
   "cell_type": "code",
   "execution_count": null,
   "id": "c10d8d4f",
   "metadata": {},
   "outputs": [],
   "source": [
    "# Another filter, applied, for practice\n",
    "df[['first_name', 'last_name','score_1', 'score_2']][(df[\"score_1\"] > 90) & (df['score_2'] > 90) ]"
   ]
  }
 ],
 "metadata": {
  "kernelspec": {
   "display_name": "Python 3 (ipykernel)",
   "language": "python",
   "name": "python3"
  },
  "language_info": {
   "codemirror_mode": {
    "name": "ipython",
    "version": 3
   },
   "file_extension": ".py",
   "mimetype": "text/x-python",
   "name": "python",
   "nbconvert_exporter": "python",
   "pygments_lexer": "ipython3",
   "version": "3.9.7"
  }
 },
 "nbformat": 4,
 "nbformat_minor": 5
}
