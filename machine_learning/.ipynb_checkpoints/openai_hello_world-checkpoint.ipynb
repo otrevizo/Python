{
 "cells": [
  {
   "cell_type": "markdown",
   "id": "301ceade",
   "metadata": {},
   "source": [
    "# OpenAI Hello, World Vignette\n",
    "\n",
    "Start with a \"hello, world\" example\n",
    "\n",
    "July 18, 2024.\n",
    "\n",
    "@author: Oscar A. Trevizo\n",
    "\n",
    "OpenAI examples starting with a simpe \"hello, world.\"\n",
    "\n",
    "OpenAI (openai library)\n",
    "\n",
    "General-purpose API for various AI tasks\n",
    "- Includes text completion, search, and generation\n",
    "- Supports models like GPT-3, GPT-2, and more\n",
    "- Use cases:\n",
    " \n",
    "Text generation (chatbots, writing assistants)\n",
    "- Text classification and search\n",
    "- Language translation\n",
    "\n",
    "How:\n",
    "\n",
    "- Get an API Key: You need an API key from OpenAI. If you don't already have one, you can sign up on the OpenAI website and obtain an API key from the API section of the dashboard. \n",
    "- https://platform.openai.com/docs/overview\n",
    "- https://platform.openai.com/api-keys\n",
    "- Set your OpenAI API key from the environment variable in your computer"
   ]
  },
  {
   "cell_type": "code",
   "execution_count": null,
   "id": "8a449c3e",
   "metadata": {},
   "outputs": [],
   "source": [
    "# pip install openai \n",
    "# or\n",
    "# conda install -c conda-forge openai"
   ]
  },
  {
   "cell_type": "code",
   "execution_count": null,
   "id": "eb140ec1",
   "metadata": {},
   "outputs": [],
   "source": [
    "import openai                     # To run OpenAI API\n",
    "import os                         # To get my environment variable with the API key"
   ]
  },
  {
   "cell_type": "code",
   "execution_count": null,
   "id": "f9d1243d",
   "metadata": {},
   "outputs": [],
   "source": [
    "# Verify OpenAI installation\n",
    "print(openai.__version__)"
   ]
  },
  {
   "cell_type": "code",
   "execution_count": null,
   "id": "f5d4cd25",
   "metadata": {},
   "outputs": [],
   "source": [
    "# print(os.environ)      # Just to make sure your environment variable is set"
   ]
  },
  {
   "cell_type": "code",
   "execution_count": null,
   "id": "61a032f0",
   "metadata": {},
   "outputs": [],
   "source": [
    "# Set your OpenAI API key from the environment variable\n",
    "openai.api_key = os.environ['OPENAI_API_KEY']"
   ]
  },
  {
   "cell_type": "code",
   "execution_count": null,
   "id": "60f9db4d",
   "metadata": {},
   "outputs": [],
   "source": [
    "completion = openai.chat.completions.create(\n",
    "    model=\"gpt-3.5-turbo\",  # or any other valid model\n",
    "    messages=[\n",
    "        {\n",
    "            \"role\": \"user\",\n",
    "            \"content\": \"Hello, world! Write a short story about \",\n",
    "        },\n",
    "    ],\n",
    ")"
   ]
  }
 ],
 "metadata": {
  "kernelspec": {
   "display_name": "Python 3 (ipykernel)",
   "language": "python",
   "name": "python3"
  },
  "language_info": {
   "codemirror_mode": {
    "name": "ipython",
    "version": 3
   },
   "file_extension": ".py",
   "mimetype": "text/x-python",
   "name": "python",
   "nbconvert_exporter": "python",
   "pygments_lexer": "ipython3",
   "version": "3.9.19"
  },
  "varInspector": {
   "cols": {
    "lenName": 16,
    "lenType": 16,
    "lenVar": 40
   },
   "kernels_config": {
    "python": {
     "delete_cmd_postfix": "",
     "delete_cmd_prefix": "del ",
     "library": "var_list.py",
     "varRefreshCmd": "print(var_dic_list())"
    },
    "r": {
     "delete_cmd_postfix": ") ",
     "delete_cmd_prefix": "rm(",
     "library": "var_list.r",
     "varRefreshCmd": "cat(var_dic_list()) "
    }
   },
   "types_to_exclude": [
    "module",
    "function",
    "builtin_function_or_method",
    "instance",
    "_Feature"
   ],
   "window_display": false
  }
 },
 "nbformat": 4,
 "nbformat_minor": 5
}
