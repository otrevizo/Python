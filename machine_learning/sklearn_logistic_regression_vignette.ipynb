{
 "cells": [
  {
   "cell_type": "markdown",
   "metadata": {},
   "source": [
    "# SciKit-Learn Logistic Regression Vignette\n",
    "\n",
    "December 28, 2022\n",
    "\n",
    "Vignette: SciKit-Learn Logistic Regression\n",
    "\n",
    "@author: Oscar A. Trevizo\n",
    "\n",
    "### References\n",
    "1. SciKit-Learn Logistic Regression documentation (accessed Dec. 28, 2022) \n",
    "   https://scikit-learn.org/stable/modules/generated/sklearn.linear_model.LogisticRegression.html\n",
    "\n",
    "### Methods (see reference)\n",
    "- fit(X, y[, sample_weight]) Fit linear model.\n",
    "- get_params([deep]) Get parameters for this estimator.\n",
    "- predict(X) Predict using the linear model.\n",
    "- score(X, y[, sample_weight]) Return the coefficient of determination of the prediction.\n",
    "- set_params(**params) Set the parameters of this estimator."
   ]
  },
  {
   "cell_type": "markdown",
   "metadata": {},
   "source": [
    "# Libraries"
   ]
  },
  {
   "cell_type": "code",
   "execution_count": 1,
   "metadata": {},
   "outputs": [],
   "source": [
    "import pandas as pd\n",
    "from sklearn.model_selection import train_test_split\n",
    "from sklearn.linear_model import LogisticRegression\n",
    "from sklearn.metrics import classification_report as report"
   ]
  },
  {
   "cell_type": "markdown",
   "metadata": {},
   "source": [
    "# Load the data"
   ]
  },
  {
   "cell_type": "code",
   "execution_count": 2,
   "metadata": {},
   "outputs": [
    {
     "data": {
      "text/plain": [
       "(5978, 21)"
      ]
     },
     "execution_count": 2,
     "metadata": {},
     "output_type": "execute_result"
    }
   ],
   "source": [
    "# See my use case 'world_migration_create_time_series.ipynb' under my GitHub 'otrevizo'\n",
    "df = pd.read_csv(\"../data/normalized_wpp_wb.csv\")\n",
    "df.shape"
   ]
  },
  {
   "cell_type": "code",
   "execution_count": 3,
   "metadata": {},
   "outputs": [
    {
     "name": "stdout",
     "output_type": "stream",
     "text": [
      "<class 'pandas.core.frame.DataFrame'>\n",
      "RangeIndex: 5978 entries, 0 to 5977\n",
      "Data columns (total 21 columns):\n",
      " #   Column                            Non-Null Count  Dtype  \n",
      "---  ------                            --------------  -----  \n",
      " 0   Unnamed: 0                        5978 non-null   int64  \n",
      " 1   Index                             5978 non-null   int64  \n",
      " 2   Location                          5978 non-null   object \n",
      " 3   ISO3                              5978 non-null   object \n",
      " 4   ISO2                              5978 non-null   object \n",
      " 5   LocType                           5978 non-null   object \n",
      " 6   Year                              5978 non-null   int64  \n",
      " 7   N_Population_Ks                   5978 non-null   float64\n",
      " 8   N_MedAge                          5978 non-null   float64\n",
      " 9   N_PopulationGrowthRate            5978 non-null   float64\n",
      " 10  N_FertilityRate_births_per_woman  5978 non-null   float64\n",
      " 11  N_LifeExpectancy                  5978 non-null   float64\n",
      " 12  ImmigrantsEmigrants               5978 non-null   object \n",
      " 13  ReceivesMigrants                  5978 non-null   int64  \n",
      " 14  N_GDP_USD                         5978 non-null   float64\n",
      " 15  N_logGDP                          5978 non-null   float64\n",
      " 16  N_GDP_growth_pct                  5978 non-null   float64\n",
      " 17  N_GDP_PCAP_USD                    5978 non-null   float64\n",
      " 18  N_Inflation_pct                   5978 non-null   float64\n",
      " 19  N_NetMigrants_Ks                  5978 non-null   float64\n",
      " 20  N_NetMigrationRate_per_Kpop       5978 non-null   float64\n",
      "dtypes: float64(12), int64(4), object(5)\n",
      "memory usage: 980.9+ KB\n"
     ]
    }
   ],
   "source": [
    "df.info()"
   ]
  },
  {
   "cell_type": "markdown",
   "metadata": {},
   "source": [
    "# Prepara x and y"
   ]
  },
  {
   "cell_type": "code",
   "execution_count": 4,
   "metadata": {},
   "outputs": [
    {
     "data": {
      "text/html": [
       "<div>\n",
       "<style scoped>\n",
       "    .dataframe tbody tr th:only-of-type {\n",
       "        vertical-align: middle;\n",
       "    }\n",
       "\n",
       "    .dataframe tbody tr th {\n",
       "        vertical-align: top;\n",
       "    }\n",
       "\n",
       "    .dataframe thead th {\n",
       "        text-align: right;\n",
       "    }\n",
       "</style>\n",
       "<table border=\"1\" class=\"dataframe\">\n",
       "  <thead>\n",
       "    <tr style=\"text-align: right;\">\n",
       "      <th></th>\n",
       "      <th>N_Population_Ks</th>\n",
       "      <th>N_MedAge</th>\n",
       "      <th>N_PopulationGrowthRate</th>\n",
       "      <th>N_FertilityRate_births_per_woman</th>\n",
       "      <th>N_LifeExpectancy</th>\n",
       "      <th>N_GDP_USD</th>\n",
       "      <th>N_logGDP</th>\n",
       "      <th>N_GDP_growth_pct</th>\n",
       "      <th>N_GDP_PCAP_USD</th>\n",
       "      <th>N_Inflation_pct</th>\n",
       "      <th>N_NetMigrants_Ks</th>\n",
       "      <th>N_NetMigrationRate_per_Kpop</th>\n",
       "    </tr>\n",
       "  </thead>\n",
       "  <tbody>\n",
       "    <tr>\n",
       "      <th>0</th>\n",
       "      <td>0.001792</td>\n",
       "      <td>0.008369</td>\n",
       "      <td>0.016489</td>\n",
       "      <td>0.021848</td>\n",
       "      <td>0.007798</td>\n",
       "      <td>0.000729</td>\n",
       "      <td>0.013166</td>\n",
       "      <td>0.000000</td>\n",
       "      <td>0.003157</td>\n",
       "      <td>0.000000</td>\n",
       "      <td>0.000124</td>\n",
       "      <td>0.000206</td>\n",
       "    </tr>\n",
       "    <tr>\n",
       "      <th>1</th>\n",
       "      <td>0.001837</td>\n",
       "      <td>0.008376</td>\n",
       "      <td>0.017061</td>\n",
       "      <td>0.021839</td>\n",
       "      <td>0.007927</td>\n",
       "      <td>0.000737</td>\n",
       "      <td>0.013172</td>\n",
       "      <td>0.007302</td>\n",
       "      <td>0.003161</td>\n",
       "      <td>0.000139</td>\n",
       "      <td>0.000508</td>\n",
       "      <td>0.000821</td>\n",
       "    </tr>\n",
       "    <tr>\n",
       "      <th>2</th>\n",
       "      <td>0.001884</td>\n",
       "      <td>0.008385</td>\n",
       "      <td>0.017381</td>\n",
       "      <td>0.021832</td>\n",
       "      <td>0.008006</td>\n",
       "      <td>0.000774</td>\n",
       "      <td>0.013198</td>\n",
       "      <td>0.011254</td>\n",
       "      <td>0.003254</td>\n",
       "      <td>0.000178</td>\n",
       "      <td>0.000656</td>\n",
       "      <td>0.001034</td>\n",
       "    </tr>\n",
       "    <tr>\n",
       "      <th>3</th>\n",
       "      <td>0.001933</td>\n",
       "      <td>0.008393</td>\n",
       "      <td>0.017742</td>\n",
       "      <td>0.021823</td>\n",
       "      <td>0.008113</td>\n",
       "      <td>0.000835</td>\n",
       "      <td>0.013237</td>\n",
       "      <td>0.010959</td>\n",
       "      <td>0.003349</td>\n",
       "      <td>0.000258</td>\n",
       "      <td>0.000689</td>\n",
       "      <td>0.001061</td>\n",
       "    </tr>\n",
       "    <tr>\n",
       "      <th>4</th>\n",
       "      <td>0.001984</td>\n",
       "      <td>0.008401</td>\n",
       "      <td>0.018083</td>\n",
       "      <td>0.021807</td>\n",
       "      <td>0.008174</td>\n",
       "      <td>0.000917</td>\n",
       "      <td>0.013287</td>\n",
       "      <td>0.014040</td>\n",
       "      <td>0.003521</td>\n",
       "      <td>0.000260</td>\n",
       "      <td>0.000786</td>\n",
       "      <td>0.001177</td>\n",
       "    </tr>\n",
       "  </tbody>\n",
       "</table>\n",
       "</div>"
      ],
      "text/plain": [
       "   N_Population_Ks  N_MedAge  N_PopulationGrowthRate  \\\n",
       "0         0.001792  0.008369                0.016489   \n",
       "1         0.001837  0.008376                0.017061   \n",
       "2         0.001884  0.008385                0.017381   \n",
       "3         0.001933  0.008393                0.017742   \n",
       "4         0.001984  0.008401                0.018083   \n",
       "\n",
       "   N_FertilityRate_births_per_woman  N_LifeExpectancy  N_GDP_USD  N_logGDP  \\\n",
       "0                          0.021848          0.007798   0.000729  0.013166   \n",
       "1                          0.021839          0.007927   0.000737  0.013172   \n",
       "2                          0.021832          0.008006   0.000774  0.013198   \n",
       "3                          0.021823          0.008113   0.000835  0.013237   \n",
       "4                          0.021807          0.008174   0.000917  0.013287   \n",
       "\n",
       "   N_GDP_growth_pct  N_GDP_PCAP_USD  N_Inflation_pct  N_NetMigrants_Ks  \\\n",
       "0          0.000000        0.003157         0.000000          0.000124   \n",
       "1          0.007302        0.003161         0.000139          0.000508   \n",
       "2          0.011254        0.003254         0.000178          0.000656   \n",
       "3          0.010959        0.003349         0.000258          0.000689   \n",
       "4          0.014040        0.003521         0.000260          0.000786   \n",
       "\n",
       "   N_NetMigrationRate_per_Kpop  \n",
       "0                     0.000206  \n",
       "1                     0.000821  \n",
       "2                     0.001034  \n",
       "3                     0.001061  \n",
       "4                     0.001177  "
      ]
     },
     "execution_count": 4,
     "metadata": {},
     "output_type": "execute_result"
    }
   ],
   "source": [
    "# For x, may choose to create a dataframe with the predicting variables in it\n",
    "df_x = df.drop(['Unnamed: 0', 'Index', 'Location', 'ISO3', 'ISO2', 'LocType', 'Year', 'ImmigrantsEmigrants', 'ReceivesMigrants'], axis=1)\n",
    "df_x.head()"
   ]
  },
  {
   "cell_type": "code",
   "execution_count": 5,
   "metadata": {},
   "outputs": [],
   "source": [
    "# Prepare x and y\n",
    "\n",
    "# The use_case has various PairPlots that suggest a logistic relationship between migration (positive vs negative) and other vars\n",
    "\n",
    "# NOTE: May choose to use one variable x, or the entire df_x\n",
    "x = df[['N_MedAge']]\n",
    "y = df.ImmigrantsEmigrants"
   ]
  },
  {
   "cell_type": "markdown",
   "metadata": {},
   "source": [
    "# Build train test datasets"
   ]
  },
  {
   "cell_type": "code",
   "execution_count": 6,
   "metadata": {},
   "outputs": [],
   "source": [
    "# Using one variable x\n",
    "# x_train, x_test, y_train, y_test = train_test_split(x, y, test_size=0.2, random_state=40)\n",
    "\n",
    "# Using the entire df\n",
    "x_train, x_test, y_train, y_test = train_test_split(df_x, y, test_size=0.2, random_state=40)"
   ]
  },
  {
   "cell_type": "code",
   "execution_count": 7,
   "metadata": {},
   "outputs": [
    {
     "data": {
      "text/plain": [
       "(4782, 12)"
      ]
     },
     "execution_count": 7,
     "metadata": {},
     "output_type": "execute_result"
    }
   ],
   "source": [
    "x_train.shape"
   ]
  },
  {
   "cell_type": "code",
   "execution_count": 8,
   "metadata": {},
   "outputs": [
    {
     "data": {
      "text/plain": [
       "(4782,)"
      ]
     },
     "execution_count": 8,
     "metadata": {},
     "output_type": "execute_result"
    }
   ],
   "source": [
    "y_train.shape"
   ]
  },
  {
   "cell_type": "code",
   "execution_count": 9,
   "metadata": {},
   "outputs": [
    {
     "data": {
      "text/plain": [
       "(1196, 12)"
      ]
     },
     "execution_count": 9,
     "metadata": {},
     "output_type": "execute_result"
    }
   ],
   "source": [
    "x_test.shape"
   ]
  },
  {
   "cell_type": "code",
   "execution_count": 10,
   "metadata": {},
   "outputs": [
    {
     "data": {
      "text/plain": [
       "(1196,)"
      ]
     },
     "execution_count": 10,
     "metadata": {},
     "output_type": "execute_result"
    }
   ],
   "source": [
    "y_test.shape"
   ]
  },
  {
   "cell_type": "markdown",
   "metadata": {},
   "source": [
    "# Fit the model"
   ]
  },
  {
   "cell_type": "code",
   "execution_count": 11,
   "metadata": {},
   "outputs": [
    {
     "data": {
      "text/plain": [
       "LogisticRegression()"
      ]
     },
     "execution_count": 11,
     "metadata": {},
     "output_type": "execute_result"
    }
   ],
   "source": [
    "# from sklearn.linear_model import LogisticRegression\n",
    "logmodel = LogisticRegression()\n",
    "logmodel.fit(x_train,y_train)"
   ]
  },
  {
   "cell_type": "markdown",
   "metadata": {},
   "source": [
    "# Predict"
   ]
  },
  {
   "cell_type": "code",
   "execution_count": 12,
   "metadata": {},
   "outputs": [],
   "source": [
    "y_predict = logmodel.predict(x_test)"
   ]
  },
  {
   "cell_type": "code",
   "execution_count": 13,
   "metadata": {},
   "outputs": [
    {
     "name": "stdout",
     "output_type": "stream",
     "text": [
      "1389     Emigrants\n",
      "2195     Emigrants\n",
      "2099    Immigrants\n",
      "3042    Immigrants\n",
      "5       Immigrants\n",
      "           ...    \n",
      "734      Emigrants\n",
      "413      Emigrants\n",
      "3995    Immigrants\n",
      "3006    Immigrants\n",
      "1592    Immigrants\n",
      "Name: ImmigrantsEmigrants, Length: 1196, dtype: object\n"
     ]
    }
   ],
   "source": [
    "print(y_test)"
   ]
  },
  {
   "cell_type": "code",
   "execution_count": 14,
   "metadata": {},
   "outputs": [
    {
     "data": {
      "text/plain": [
       "0.6998327759197325"
      ]
     },
     "execution_count": 14,
     "metadata": {},
     "output_type": "execute_result"
    }
   ],
   "source": [
    "logmodel.score(x_test, y_test)"
   ]
  },
  {
   "cell_type": "code",
   "execution_count": 15,
   "metadata": {},
   "outputs": [
    {
     "name": "stdout",
     "output_type": "stream",
     "text": [
      "              precision    recall  f1-score   support\n",
      "\n",
      "   Emigrants       0.66      1.00      0.79       685\n",
      "  Immigrants       1.00      0.30      0.46       511\n",
      "\n",
      "    accuracy                           0.70      1196\n",
      "   macro avg       0.83      0.65      0.63      1196\n",
      "weighted avg       0.80      0.70      0.65      1196\n",
      "\n"
     ]
    }
   ],
   "source": [
    "# from sklearn.metrics import classification_report as report\n",
    "\n",
    "print(report(y_test, y_predict))"
   ]
  },
  {
   "cell_type": "markdown",
   "metadata": {},
   "source": [
    "Precision – Accuracy of positive predictions\n",
    "\n",
    "Recall: Fraction of positives that were correctly identified\n",
    "\n",
    "A system with high recall but low precision returns many results, but most of its predicted labels are incorrect when compared to the training labels.\n",
    "\n",
    "A system with high precision but low recall is just the opposite, returning very few results, but most of its predicted labels are correct when compared to the training labels.\n",
    "\n",
    "An ideal system with high precision and high recall will return many results, with all results labeled correctly.\n",
    "\n",
    "F1 score – What percent of positive predictions were correct?\n",
    "\n",
    "Support is the number of actual occurrences of the class in the specified dataset"
   ]
  }
 ],
 "metadata": {
  "kernelspec": {
   "display_name": "Python 3 (ipykernel)",
   "language": "python",
   "name": "python3"
  },
  "language_info": {
   "codemirror_mode": {
    "name": "ipython",
    "version": 3
   },
   "file_extension": ".py",
   "mimetype": "text/x-python",
   "name": "python",
   "nbconvert_exporter": "python",
   "pygments_lexer": "ipython3",
   "version": "3.9.7"
  }
 },
 "nbformat": 4,
 "nbformat_minor": 4
}
