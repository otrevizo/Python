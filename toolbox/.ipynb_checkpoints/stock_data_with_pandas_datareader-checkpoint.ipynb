{
 "cells": [
  {
   "cell_type": "code",
   "execution_count": 1,
   "metadata": {},
   "outputs": [
    {
     "data": {
      "text/plain": [
       "'\\nCreated on Tue May  9 15:50:35 2023\\n\\n@author: trevizo\\n\\nGet stocks data from stook using pandas_datareader\\n\\n'"
      ]
     },
     "execution_count": 1,
     "metadata": {},
     "output_type": "execute_result"
    }
   ],
   "source": [
    "# -*- coding: utf-8 -*-\n",
    "\"\"\"\n",
    "Created on Tue May  9 15:50:35 2023\n",
    "\n",
    "@author: trevizo\n",
    "\n",
    "Get stocks data from stook using pandas_datareader\n",
    "\n",
    "\"\"\""
   ]
  },
  {
   "cell_type": "code",
   "execution_count": 2,
   "metadata": {},
   "outputs": [],
   "source": [
    "import pandas as pd \n",
    "import matplotlib.pyplot as plt\n",
    "import seaborn as sns\n",
    "import datetime as dt\n",
    "\n",
    "\n",
    "# https://anaconda.org/anaconda/pandas-datareader\n",
    "# conda install -c anaconda pandas-datareader\n",
    "# or pip install pandas-datareader\n",
    "import pandas_datareader.data as rdr"
   ]
  },
  {
   "cell_type": "code",
   "execution_count": 3,
   "metadata": {},
   "outputs": [],
   "source": [
    "# Assign start and end dates to collect stock data\n",
    "start = dt.datetime(2000,1,1)\n",
    "# end = dt.datetime(2023,5,9)\n",
    "end = dt.datetime.today().date()"
   ]
  },
  {
   "cell_type": "code",
   "execution_count": 4,
   "metadata": {},
   "outputs": [
    {
     "data": {
      "text/html": [
       "<div>\n",
       "<style scoped>\n",
       "    .dataframe tbody tr th:only-of-type {\n",
       "        vertical-align: middle;\n",
       "    }\n",
       "\n",
       "    .dataframe tbody tr th {\n",
       "        vertical-align: top;\n",
       "    }\n",
       "\n",
       "    .dataframe thead th {\n",
       "        text-align: right;\n",
       "    }\n",
       "</style>\n",
       "<table border=\"1\" class=\"dataframe\">\n",
       "  <thead>\n",
       "    <tr style=\"text-align: right;\">\n",
       "      <th></th>\n",
       "      <th>Open</th>\n",
       "      <th>High</th>\n",
       "      <th>Low</th>\n",
       "      <th>Close</th>\n",
       "      <th>Volume</th>\n",
       "    </tr>\n",
       "  </thead>\n",
       "  <tbody>\n",
       "    <tr>\n",
       "      <th>count</th>\n",
       "      <td>4812.000000</td>\n",
       "      <td>4812.000000</td>\n",
       "      <td>4812.000000</td>\n",
       "      <td>4812.000000</td>\n",
       "      <td>4.812000e+03</td>\n",
       "    </tr>\n",
       "    <tr>\n",
       "      <th>mean</th>\n",
       "      <td>204.383363</td>\n",
       "      <td>205.546503</td>\n",
       "      <td>203.124233</td>\n",
       "      <td>204.414625</td>\n",
       "      <td>1.514805e+08</td>\n",
       "    </tr>\n",
       "    <tr>\n",
       "      <th>std</th>\n",
       "      <td>120.302191</td>\n",
       "      <td>120.951953</td>\n",
       "      <td>119.620577</td>\n",
       "      <td>120.341878</td>\n",
       "      <td>1.168615e+08</td>\n",
       "    </tr>\n",
       "    <tr>\n",
       "      <th>min</th>\n",
       "      <td>54.314300</td>\n",
       "      <td>55.954400</td>\n",
       "      <td>53.637000</td>\n",
       "      <td>54.444200</td>\n",
       "      <td>1.910290e+07</td>\n",
       "    </tr>\n",
       "    <tr>\n",
       "      <th>25%</th>\n",
       "      <td>105.060000</td>\n",
       "      <td>105.839000</td>\n",
       "      <td>104.483500</td>\n",
       "      <td>105.080000</td>\n",
       "      <td>7.551209e+07</td>\n",
       "    </tr>\n",
       "    <tr>\n",
       "      <th>50%</th>\n",
       "      <td>168.885500</td>\n",
       "      <td>169.793000</td>\n",
       "      <td>167.800000</td>\n",
       "      <td>169.019000</td>\n",
       "      <td>1.098448e+08</td>\n",
       "    </tr>\n",
       "    <tr>\n",
       "      <th>75%</th>\n",
       "      <td>272.181000</td>\n",
       "      <td>273.485000</td>\n",
       "      <td>270.870250</td>\n",
       "      <td>272.394000</td>\n",
       "      <td>1.884731e+08</td>\n",
       "    </tr>\n",
       "    <tr>\n",
       "      <th>max</th>\n",
       "      <td>523.830000</td>\n",
       "      <td>524.610000</td>\n",
       "      <td>522.780000</td>\n",
       "      <td>523.170000</td>\n",
       "      <td>1.090313e+09</td>\n",
       "    </tr>\n",
       "  </tbody>\n",
       "</table>\n",
       "</div>"
      ],
      "text/plain": [
       "              Open         High          Low        Close        Volume\n",
       "count  4812.000000  4812.000000  4812.000000  4812.000000  4.812000e+03\n",
       "mean    204.383363   205.546503   203.124233   204.414625  1.514805e+08\n",
       "std     120.302191   120.951953   119.620577   120.341878  1.168615e+08\n",
       "min      54.314300    55.954400    53.637000    54.444200  1.910290e+07\n",
       "25%     105.060000   105.839000   104.483500   105.080000  7.551209e+07\n",
       "50%     168.885500   169.793000   167.800000   169.019000  1.098448e+08\n",
       "75%     272.181000   273.485000   270.870250   272.394000  1.884731e+08\n",
       "max     523.830000   524.610000   522.780000   523.170000  1.090313e+09"
      ]
     },
     "execution_count": 4,
     "metadata": {},
     "output_type": "execute_result"
    }
   ],
   "source": [
    "ts = rdr.DataReader(\"spy\", \"stooq\", start, end)\n",
    "ts.describe()"
   ]
  },
  {
   "cell_type": "code",
   "execution_count": 5,
   "metadata": {},
   "outputs": [
    {
     "data": {
      "text/html": [
       "<div>\n",
       "<style scoped>\n",
       "    .dataframe tbody tr th:only-of-type {\n",
       "        vertical-align: middle;\n",
       "    }\n",
       "\n",
       "    .dataframe tbody tr th {\n",
       "        vertical-align: top;\n",
       "    }\n",
       "\n",
       "    .dataframe thead th {\n",
       "        text-align: right;\n",
       "    }\n",
       "</style>\n",
       "<table border=\"1\" class=\"dataframe\">\n",
       "  <thead>\n",
       "    <tr style=\"text-align: right;\">\n",
       "      <th></th>\n",
       "      <th>Open</th>\n",
       "      <th>High</th>\n",
       "      <th>Low</th>\n",
       "      <th>Close</th>\n",
       "      <th>Volume</th>\n",
       "    </tr>\n",
       "    <tr>\n",
       "      <th>Date</th>\n",
       "      <th></th>\n",
       "      <th></th>\n",
       "      <th></th>\n",
       "      <th></th>\n",
       "      <th></th>\n",
       "    </tr>\n",
       "  </thead>\n",
       "  <tbody>\n",
       "    <tr>\n",
       "      <th>2024-04-10</th>\n",
       "      <td>513.48</td>\n",
       "      <td>516.1600</td>\n",
       "      <td>512.090</td>\n",
       "      <td>514.12</td>\n",
       "      <td>82652806.0</td>\n",
       "    </tr>\n",
       "    <tr>\n",
       "      <th>2024-04-09</th>\n",
       "      <td>520.50</td>\n",
       "      <td>520.7500</td>\n",
       "      <td>514.350</td>\n",
       "      <td>519.32</td>\n",
       "      <td>68124385.0</td>\n",
       "    </tr>\n",
       "    <tr>\n",
       "      <th>2024-04-08</th>\n",
       "      <td>519.15</td>\n",
       "      <td>520.1800</td>\n",
       "      <td>517.890</td>\n",
       "      <td>518.72</td>\n",
       "      <td>48401752.0</td>\n",
       "    </tr>\n",
       "    <tr>\n",
       "      <th>2024-04-05</th>\n",
       "      <td>514.46</td>\n",
       "      <td>520.4400</td>\n",
       "      <td>514.010</td>\n",
       "      <td>518.43</td>\n",
       "      <td>74546483.0</td>\n",
       "    </tr>\n",
       "    <tr>\n",
       "      <th>2024-04-04</th>\n",
       "      <td>523.52</td>\n",
       "      <td>523.8674</td>\n",
       "      <td>512.755</td>\n",
       "      <td>513.07</td>\n",
       "      <td>96858074.0</td>\n",
       "    </tr>\n",
       "  </tbody>\n",
       "</table>\n",
       "</div>"
      ],
      "text/plain": [
       "              Open      High      Low   Close      Volume\n",
       "Date                                                     \n",
       "2024-04-10  513.48  516.1600  512.090  514.12  82652806.0\n",
       "2024-04-09  520.50  520.7500  514.350  519.32  68124385.0\n",
       "2024-04-08  519.15  520.1800  517.890  518.72  48401752.0\n",
       "2024-04-05  514.46  520.4400  514.010  518.43  74546483.0\n",
       "2024-04-04  523.52  523.8674  512.755  513.07  96858074.0"
      ]
     },
     "execution_count": 5,
     "metadata": {},
     "output_type": "execute_result"
    }
   ],
   "source": [
    "ts.head()"
   ]
  },
  {
   "cell_type": "code",
   "execution_count": 6,
   "metadata": {},
   "outputs": [
    {
     "data": {
      "text/html": [
       "<div>\n",
       "<style scoped>\n",
       "    .dataframe tbody tr th:only-of-type {\n",
       "        vertical-align: middle;\n",
       "    }\n",
       "\n",
       "    .dataframe tbody tr th {\n",
       "        vertical-align: top;\n",
       "    }\n",
       "\n",
       "    .dataframe thead th {\n",
       "        text-align: right;\n",
       "    }\n",
       "</style>\n",
       "<table border=\"1\" class=\"dataframe\">\n",
       "  <thead>\n",
       "    <tr style=\"text-align: right;\">\n",
       "      <th></th>\n",
       "      <th>Open</th>\n",
       "      <th>High</th>\n",
       "      <th>Low</th>\n",
       "      <th>Close</th>\n",
       "      <th>Volume</th>\n",
       "    </tr>\n",
       "    <tr>\n",
       "      <th>Date</th>\n",
       "      <th></th>\n",
       "      <th></th>\n",
       "      <th></th>\n",
       "      <th></th>\n",
       "      <th></th>\n",
       "    </tr>\n",
       "  </thead>\n",
       "  <tbody>\n",
       "    <tr>\n",
       "      <th>2005-03-03</th>\n",
       "      <td>97.2558</td>\n",
       "      <td>97.4482</td>\n",
       "      <td>96.4774</td>\n",
       "      <td>96.9018</td>\n",
       "      <td>7.769077e+07</td>\n",
       "    </tr>\n",
       "    <tr>\n",
       "      <th>2005-03-02</th>\n",
       "      <td>96.5340</td>\n",
       "      <td>97.4680</td>\n",
       "      <td>96.4288</td>\n",
       "      <td>96.8632</td>\n",
       "      <td>8.035679e+07</td>\n",
       "    </tr>\n",
       "    <tr>\n",
       "      <th>2005-03-01</th>\n",
       "      <td>96.5438</td>\n",
       "      <td>97.1487</td>\n",
       "      <td>96.5438</td>\n",
       "      <td>96.9107</td>\n",
       "      <td>5.951299e+07</td>\n",
       "    </tr>\n",
       "    <tr>\n",
       "      <th>2005-02-28</th>\n",
       "      <td>96.8433</td>\n",
       "      <td>96.9693</td>\n",
       "      <td>95.9469</td>\n",
       "      <td>96.4090</td>\n",
       "      <td>8.685466e+07</td>\n",
       "    </tr>\n",
       "    <tr>\n",
       "      <th>2005-02-25</th>\n",
       "      <td>96.1403</td>\n",
       "      <td>97.2558</td>\n",
       "      <td>96.0520</td>\n",
       "      <td>97.0723</td>\n",
       "      <td>7.653008e+07</td>\n",
       "    </tr>\n",
       "  </tbody>\n",
       "</table>\n",
       "</div>"
      ],
      "text/plain": [
       "               Open     High      Low    Close        Volume\n",
       "Date                                                        \n",
       "2005-03-03  97.2558  97.4482  96.4774  96.9018  7.769077e+07\n",
       "2005-03-02  96.5340  97.4680  96.4288  96.8632  8.035679e+07\n",
       "2005-03-01  96.5438  97.1487  96.5438  96.9107  5.951299e+07\n",
       "2005-02-28  96.8433  96.9693  95.9469  96.4090  8.685466e+07\n",
       "2005-02-25  96.1403  97.2558  96.0520  97.0723  7.653008e+07"
      ]
     },
     "execution_count": 6,
     "metadata": {},
     "output_type": "execute_result"
    }
   ],
   "source": [
    "ts.tail()"
   ]
  },
  {
   "cell_type": "code",
   "execution_count": 7,
   "metadata": {},
   "outputs": [
    {
     "name": "stderr",
     "output_type": "stream",
     "text": [
      "C:\\Users\\trevizo\\Anaconda3\\lib\\site-packages\\seaborn\\_oldcore.py:1119: FutureWarning: use_inf_as_na option is deprecated and will be removed in a future version. Convert inf values to NaN before operating instead.\n",
      "  with pd.option_context('mode.use_inf_as_na', True):\n",
      "C:\\Users\\trevizo\\Anaconda3\\lib\\site-packages\\seaborn\\_oldcore.py:1119: FutureWarning: use_inf_as_na option is deprecated and will be removed in a future version. Convert inf values to NaN before operating instead.\n",
      "  with pd.option_context('mode.use_inf_as_na', True):\n"
     ]
    },
    {
     "data": {
      "image/png": "[encoded data removed]",
      "text/plain": [
       "<Figure size 1000x700 with 1 Axes>"
      ]
     },
     "metadata": {},
     "output_type": "display_data"
    }
   ],
   "source": [
    "fig, ax = plt.subplots(figsize=(10, 7))\n",
    "fig.subplots_adjust(bottom=0.4,top=0.7)\n",
    "ax = sns.lineplot(x='Date', y='Close', data=ts, errorbar=None, ax=ax)\n",
    "_=ax.set_title('Stock symbol SPY', fontsize=14)\n",
    "_=ax.set_xlabel('Date', fontsize=8)\n",
    "_=ax.set_ylabel('Close', fontsize=8)\n",
    "_=ax.tick_params(labelsize=8)\n",
    "plt.show()"
   ]
  },
  {
   "cell_type": "code",
   "execution_count": null,
   "metadata": {},
   "outputs": [],
   "source": []
  }
 ],
 "metadata": {
  "kernelspec": {
   "display_name": "Python 3 (ipykernel)",
   "language": "python",
   "name": "python3"
  },
  "language_info": {
   "codemirror_mode": {
    "name": "ipython",
    "version": 3
   },
   "file_extension": ".py",
   "mimetype": "text/x-python",
   "name": "python",
   "nbconvert_exporter": "python",
   "pygments_lexer": "ipython3",
   "version": "3.9.19"
  },
  "varInspector": {
   "cols": {
    "lenName": 16,
    "lenType": 16,
    "lenVar": 40
   },
   "kernels_config": {
    "python": {
     "delete_cmd_postfix": "",
     "delete_cmd_prefix": "del ",
     "library": "var_list.py",
     "varRefreshCmd": "print(var_dic_list())"
    },
    "r": {
     "delete_cmd_postfix": ") ",
     "delete_cmd_prefix": "rm(",
     "library": "var_list.r",
     "varRefreshCmd": "cat(var_dic_list()) "
    }
   },
   "types_to_exclude": [
    "module",
    "function",
    "builtin_function_or_method",
    "instance",
    "_Feature"
   ],
   "window_display": false
  }
 },
 "nbformat": 4,
 "nbformat_minor": 4
}
