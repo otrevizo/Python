{
 "cells": [
  {
   "cell_type": "markdown",
   "id": "03abdf0c",
   "metadata": {},
   "source": [
    "# NOAA  API vignette\n",
    "\n",
    "December 27, 2022\n",
    "\n",
    "Vignette: NOAA API. Demonstrates how to pull weather data from NOAA using a REST API.\n",
    "\n",
    "@author: Oscar Trevizo\n",
    "\n",
    "## References\n",
    "* NOAA API (Accessed Jan 2, 2023) \n",
    "* https://pypi.org/project/noaa-sdk/\n",
    "* https://www.weather.gov/documentation/services-web-api\n",
    "* https://github.com/paulokuong/noaa"
   ]
  },
  {
   "cell_type": "markdown",
   "id": "a03de711",
   "metadata": {},
   "source": [
    "# Import libraries"
   ]
  },
  {
   "cell_type": "code",
   "execution_count": 8,
   "id": "c3c3a211",
   "metadata": {},
   "outputs": [],
   "source": [
    "from noaa_sdk import noaa\n",
    "import datetime\n",
    "import pandas as pd"
   ]
  },
  {
   "cell_type": "markdown",
   "id": "df8fc9f7",
   "metadata": {},
   "source": [
    "# Init parameters"
   ]
  },
  {
   "cell_type": "code",
   "execution_count": 14,
   "id": "64e3eba9",
   "metadata": {},
   "outputs": [],
   "source": [
    "# parameters for retrieving NOAA weather data\n",
    "zip_code = '60610'\n",
    "country = 'US'\n",
    "today = datetime.datetime.now()\n",
    "past = today - datetime.timedelta(days=14)\n",
    "start_date = past.strftime(\"%Y-%m-%dT00:00:00Z\")\n",
    "end_date = today.strftime(\"%Y-%m-%dT23:59:59Z\")"
   ]
  },
  {
   "cell_type": "markdown",
   "id": "d3c79220",
   "metadata": {},
   "source": [
    "# Instantiate object to connect to REST API"
   ]
  },
  {
   "cell_type": "code",
   "execution_count": 15,
   "id": "b7cac436",
   "metadata": {},
   "outputs": [],
   "source": [
    "weather = noaa.NOAA()"
   ]
  },
  {
   "cell_type": "markdown",
   "id": "c2599f25-4d8f-4e36-aef1-d63b17d2aee7",
   "metadata": {},
   "source": [
    "# Pull the data"
   ]
  },
  {
   "cell_type": "code",
   "execution_count": 16,
   "id": "3d2bf32d-a7f1-4e6b-b399-6c6c336a3506",
   "metadata": {},
   "outputs": [],
   "source": [
    "observations = weather.get_observations(zip_code, country, start_date, end_date)"
   ]
  },
  {
   "cell_type": "markdown",
   "id": "8e1a9922-0245-4ac6-bf29-610a2b6753f6",
   "metadata": {},
   "source": [
    "# Build a DataFrame\n",
    "\n",
    "The data comes in a complex JSON. The following command pulls certain values only, for simplicity."
   ]
  },
  {
   "cell_type": "code",
   "execution_count": 17,
   "id": "696569fe-f3a1-42c5-873e-39b8ad0472e4",
   "metadata": {},
   "outputs": [],
   "source": [
    "# Lists to become columns in a DataFrame\n",
    "time = []\n",
    "zc = []   # Optionally =, one could loop through several zip codes\n",
    "wind_speed = []\n",
    "temperature = []\n",
    "humidity = []\n",
    "wind_direction = []\n",
    "pressure = []\n",
    "visibility = []\n",
    "description = []\n",
    "\n",
    "observations = weather.get_observations(zip_code, country, start_date, end_date)\n",
    "\n",
    "for obs in observations:\n",
    "    # print(obs[\"timestamp\"],\n",
    "    #       obs[\"windSpeed\"][\"value\"],\n",
    "    #       obs[\"temperature\"][\"value\"],\n",
    "    #       obs[\"relativeHumidity\"][\"value\"],\n",
    "    #       obs[\"windDirection\"][\"value\"],\n",
    "    #       obs[\"barometricPressure\"][\"value\"],\n",
    "    #       obs[\"visibility\"][\"value\"],\n",
    "    #       obs[\"textDescription\"])\n",
    "    \n",
    "    time.append(obs[\"timestamp\"])\n",
    "    zc.append(zip_code)\n",
    "    wind_speed.append(obs[\"windSpeed\"][\"value\"])\n",
    "    temperature.append(obs[\"temperature\"][\"value\"])\n",
    "    humidity.append(obs[\"relativeHumidity\"][\"value\"])\n",
    "    wind_direction.append(obs[\"windDirection\"][\"value\"])\n",
    "    pressure.append(obs[\"barometricPressure\"][\"value\"])\n",
    "    visibility.append(obs[\"visibility\"][\"value\"])\n",
    "    description.append(obs[\"textDescription\"])\n",
    "    "
   ]
  },
  {
   "cell_type": "markdown",
   "id": "4cf2ebf1-50f0-4048-b9cf-5d22747417ce",
   "metadata": {},
   "source": [
    "# Build time series DataFrame"
   ]
  },
  {
   "cell_type": "code",
   "execution_count": 19,
   "id": "65045d64-6515-44cb-8f38-cd0d722b91e2",
   "metadata": {},
   "outputs": [
    {
     "data": {
      "text/html": [
       "<div>\n",
       "<style scoped>\n",
       "    .dataframe tbody tr th:only-of-type {\n",
       "        vertical-align: middle;\n",
       "    }\n",
       "\n",
       "    .dataframe tbody tr th {\n",
       "        vertical-align: top;\n",
       "    }\n",
       "\n",
       "    .dataframe thead th {\n",
       "        text-align: right;\n",
       "    }\n",
       "</style>\n",
       "<table border=\"1\" class=\"dataframe\">\n",
       "  <thead>\n",
       "    <tr style=\"text-align: right;\">\n",
       "      <th></th>\n",
       "      <th>zip_code</th>\n",
       "      <th>wind_speed</th>\n",
       "      <th>temperature</th>\n",
       "      <th>humidity</th>\n",
       "      <th>wind_direction</th>\n",
       "      <th>pressure</th>\n",
       "      <th>visibility</th>\n",
       "      <th>description</th>\n",
       "    </tr>\n",
       "    <tr>\n",
       "      <th>time</th>\n",
       "      <th></th>\n",
       "      <th></th>\n",
       "      <th></th>\n",
       "      <th></th>\n",
       "      <th></th>\n",
       "      <th></th>\n",
       "      <th></th>\n",
       "      <th></th>\n",
       "    </tr>\n",
       "  </thead>\n",
       "  <tbody>\n",
       "    <tr>\n",
       "      <th>2023-01-02 20:53:00+00:00</th>\n",
       "      <td>60610</td>\n",
       "      <td>14.76</td>\n",
       "      <td>5.6</td>\n",
       "      <td>82.183212</td>\n",
       "      <td>70.0</td>\n",
       "      <td>101660.0</td>\n",
       "      <td>14480</td>\n",
       "      <td>Cloudy</td>\n",
       "    </tr>\n",
       "    <tr>\n",
       "      <th>2023-01-02 19:53:00+00:00</th>\n",
       "      <td>60610</td>\n",
       "      <td>12.96</td>\n",
       "      <td>6.1</td>\n",
       "      <td>79.390287</td>\n",
       "      <td>40.0</td>\n",
       "      <td>101690.0</td>\n",
       "      <td>16090</td>\n",
       "      <td>Cloudy</td>\n",
       "    </tr>\n",
       "    <tr>\n",
       "      <th>2023-01-02 18:53:00+00:00</th>\n",
       "      <td>60610</td>\n",
       "      <td>11.16</td>\n",
       "      <td>6.1</td>\n",
       "      <td>76.077011</td>\n",
       "      <td>100.0</td>\n",
       "      <td>101760.0</td>\n",
       "      <td>16090</td>\n",
       "      <td>Cloudy</td>\n",
       "    </tr>\n",
       "    <tr>\n",
       "      <th>2023-01-02 17:53:00+00:00</th>\n",
       "      <td>60610</td>\n",
       "      <td>9.36</td>\n",
       "      <td>6.7</td>\n",
       "      <td>76.177699</td>\n",
       "      <td>70.0</td>\n",
       "      <td>101800.0</td>\n",
       "      <td>16090</td>\n",
       "      <td>Cloudy</td>\n",
       "    </tr>\n",
       "    <tr>\n",
       "      <th>2023-01-02 16:53:00+00:00</th>\n",
       "      <td>60610</td>\n",
       "      <td>9.36</td>\n",
       "      <td>5.6</td>\n",
       "      <td>82.183212</td>\n",
       "      <td>90.0</td>\n",
       "      <td>101860.0</td>\n",
       "      <td>12870</td>\n",
       "      <td>Cloudy</td>\n",
       "    </tr>\n",
       "  </tbody>\n",
       "</table>\n",
       "</div>"
      ],
      "text/plain": [
       "                          zip_code  wind_speed  temperature   humidity  \\\n",
       "time                                                                     \n",
       "2023-01-02 20:53:00+00:00    60610       14.76          5.6  82.183212   \n",
       "2023-01-02 19:53:00+00:00    60610       12.96          6.1  79.390287   \n",
       "2023-01-02 18:53:00+00:00    60610       11.16          6.1  76.077011   \n",
       "2023-01-02 17:53:00+00:00    60610        9.36          6.7  76.177699   \n",
       "2023-01-02 16:53:00+00:00    60610        9.36          5.6  82.183212   \n",
       "\n",
       "                           wind_direction  pressure  visibility description  \n",
       "time                                                                         \n",
       "2023-01-02 20:53:00+00:00            70.0  101660.0       14480      Cloudy  \n",
       "2023-01-02 19:53:00+00:00            40.0  101690.0       16090      Cloudy  \n",
       "2023-01-02 18:53:00+00:00           100.0  101760.0       16090      Cloudy  \n",
       "2023-01-02 17:53:00+00:00            70.0  101800.0       16090      Cloudy  \n",
       "2023-01-02 16:53:00+00:00            90.0  101860.0       12870      Cloudy  "
      ]
     },
     "execution_count": 19,
     "metadata": {},
     "output_type": "execute_result"
    }
   ],
   "source": [
    "# Build the DataFrame using dictionary\n",
    "df = pd.DataFrame({'time':time, 'zip_code':zc, 'wind_speed':wind_speed, 'temperature':temperature, 'humidity':humidity,\n",
    "                   'wind_direction':wind_direction, 'pressure':pressure, 'pressure':pressure, \n",
    "                   'visibility':visibility, 'description':description})\n",
    "\n",
    "df.time = pd.to_datetime(df['time'])\n",
    "df.set_index('time', inplace=True)\n",
    "\n",
    "\n",
    "df.head()"
   ]
  },
  {
   "cell_type": "code",
   "execution_count": null,
   "id": "6a6cf982-62f0-4d2a-93d9-1772e9a8d7fe",
   "metadata": {},
   "outputs": [],
   "source": []
  }
 ],
 "metadata": {
  "kernelspec": {
   "display_name": "Python 3 (ipykernel)",
   "language": "python",
   "name": "python3"
  },
  "language_info": {
   "codemirror_mode": {
    "name": "ipython",
    "version": 3
   },
   "file_extension": ".py",
   "mimetype": "text/x-python",
   "name": "python",
   "nbconvert_exporter": "python",
   "pygments_lexer": "ipython3",
   "version": "3.9.7"
  }
 },
 "nbformat": 4,
 "nbformat_minor": 5
}
