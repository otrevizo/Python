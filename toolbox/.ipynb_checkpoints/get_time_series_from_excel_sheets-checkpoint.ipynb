{
 "cells": [
  {
   "cell_type": "code",
   "execution_count": 1,
   "id": "7a82fa2b-65cc-453d-b834-9177304e732f",
   "metadata": {},
   "outputs": [
    {
     "data": {
      "text/plain": [
       "'\\nCreated on Tue Jan  09 14:28:35 2024\\n\\n@author: trevizo\\n\\nRead Excel file, multiple data sheets.\\nThe first column in each data sheet has the date time\\nThe second column has a value\\nThe sheet names provide the name of each time series.\\n'"
      ]
     },
     "execution_count": 1,
     "metadata": {},
     "output_type": "execute_result"
    }
   ],
   "source": [
    "# -*- coding: utf-8 -*-\n",
    "\"\"\"\n",
    "Created on Tue Jan  09 14:28:35 2024\n",
    "\n",
    "@author: trevizo\n",
    "\n",
    "Read Excel file, multiple data sheets.\n",
    "The first column in each data sheet has the date time\n",
    "The second column has a value\n",
    "The sheet names provide the name of each time series.\n",
    "\"\"\""
   ]
  },
  {
   "cell_type": "markdown",
   "id": "a3679752-28db-4354-b38a-4f1758576402",
   "metadata": {},
   "source": [
    "# Load the libraries"
   ]
  },
  {
   "cell_type": "code",
   "execution_count": 2,
   "id": "daadfbb9-b7ca-4442-9b90-f348dca79700",
   "metadata": {},
   "outputs": [],
   "source": [
    "import pandas as pd"
   ]
  },
  {
   "cell_type": "markdown",
   "id": "026b1178-ccaa-4cc9-baa6-9f3906e1de89",
   "metadata": {},
   "source": [
    "# Load the data - Excel file containing multiple sheets with time series\n",
    "\n",
    "Each sheet has a time series, two columns per sheet: The first column of the sheet is date time. The second column has numeric values.\n",
    "\n",
    "In this case, we will use pd.read_excel() with sheet_name=None to return a dictionry. Each sheet name becomes the key of a dictionary. The values of the dictionary are the columns of each sheet."
   ]
  },
  {
   "cell_type": "code",
   "execution_count": 3,
   "id": "eb0992c4-cf09-4698-a26d-77e132b61c01",
   "metadata": {},
   "outputs": [
    {
     "data": {
      "text/plain": [
       "dict"
      ]
     },
     "execution_count": 3,
     "metadata": {},
     "output_type": "execute_result"
    }
   ],
   "source": [
    "# Read the Excel sheets into a dictionary. that is when sheet_name=None\n",
    "df_dict = pd.read_excel('../data/time_series_sheets.xlsx', sheet_name=None)\n",
    "type(df_dict)"
   ]
  },
  {
   "cell_type": "markdown",
   "id": "45aeec4b-3720-4715-8ebd-398653038dc2",
   "metadata": {},
   "source": [
    "# Build a dataframe\n",
    "\n",
    "The sheet names will be the column names of our dataframe."
   ]
  },
  {
   "cell_type": "markdown",
   "id": "dd201d40-a1d4-42ed-b887-c54e35979f54",
   "metadata": {},
   "source": [
    "## Option 1: Init a dataframe and concat"
   ]
  },
  {
   "cell_type": "code",
   "execution_count": 4,
   "id": "05198ed0-938d-4132-9331-dae0b3630009",
   "metadata": {},
   "outputs": [
    {
     "data": {
      "text/plain": [
       "['alpha', 'beta', 'gamma', 'delta', 'epsilon', 'zeta']"
      ]
     },
     "execution_count": 4,
     "metadata": {},
     "output_type": "execute_result"
    }
   ],
   "source": [
    "# Put the keys of the dict into a list. We will use them as dataframe column names downstream.\n",
    "sheet_names = list(df_dict.keys())\n",
    "sheet_names"
   ]
  },
  {
   "cell_type": "code",
   "execution_count": 5,
   "id": "04fc3bd1-0cec-4369-b7ee-594b1dd82048",
   "metadata": {},
   "outputs": [],
   "source": [
    "# Initialize a dataframe\n",
    "df = pd.DataFrame()"
   ]
  },
  {
   "cell_type": "code",
   "execution_count": 6,
   "id": "35117dbb-48cc-4857-b90e-842e3cc997b2",
   "metadata": {},
   "outputs": [],
   "source": [
    "# Iterate over each sheet in the dictionary\n",
    "for sheet_name, df_sheet in df_dict.items():\n",
    "    # df_sheets is a dataframe with two columns; date and values\n",
    "    date_column = df_sheet.columns[0]\n",
    "    values_column = df_sheet.columns[1]\n",
    "    \n",
    "    # Since dates are repeated in each sheet, as first column,\n",
    "    # use the dates column only once, and from the first sheet.\n",
    "    # Therefore, drop the dates column if the df_sheets does not come from the first sheet.\n",
    "    if sheet_name != sheet_names[0]:\n",
    "        df_sheet = df_sheet.drop(df_sheet.columns[0], axis=1)\n",
    "        \n",
    "    # Append the df_sheet dataframe to df\n",
    "    df = pd.concat([df, df_sheet], axis=1)"
   ]
  },
  {
   "cell_type": "code",
   "execution_count": 7,
   "id": "08967d3d-a730-4db5-842f-fbd7901b549e",
   "metadata": {},
   "outputs": [
    {
     "data": {
      "text/html": [
       "<div>\n",
       "<style scoped>\n",
       "    .dataframe tbody tr th:only-of-type {\n",
       "        vertical-align: middle;\n",
       "    }\n",
       "\n",
       "    .dataframe tbody tr th {\n",
       "        vertical-align: top;\n",
       "    }\n",
       "\n",
       "    .dataframe thead th {\n",
       "        text-align: right;\n",
       "    }\n",
       "</style>\n",
       "<table border=\"1\" class=\"dataframe\">\n",
       "  <thead>\n",
       "    <tr style=\"text-align: right;\">\n",
       "      <th></th>\n",
       "      <th>day</th>\n",
       "      <th>counts</th>\n",
       "      <th>counts</th>\n",
       "      <th>counts</th>\n",
       "      <th>counts</th>\n",
       "      <th>counts</th>\n",
       "      <th>counts</th>\n",
       "    </tr>\n",
       "  </thead>\n",
       "  <tbody>\n",
       "    <tr>\n",
       "      <th>0</th>\n",
       "      <td>2024-01-01</td>\n",
       "      <td>19692553</td>\n",
       "      <td>59502552</td>\n",
       "      <td>63580138</td>\n",
       "      <td>15151849</td>\n",
       "      <td>76677698</td>\n",
       "      <td>23673410</td>\n",
       "    </tr>\n",
       "    <tr>\n",
       "      <th>1</th>\n",
       "      <td>2024-01-02</td>\n",
       "      <td>22848115</td>\n",
       "      <td>71530775</td>\n",
       "      <td>75645548</td>\n",
       "      <td>17485422</td>\n",
       "      <td>89529332</td>\n",
       "      <td>25208023</td>\n",
       "    </tr>\n",
       "    <tr>\n",
       "      <th>2</th>\n",
       "      <td>2024-01-03</td>\n",
       "      <td>23298057</td>\n",
       "      <td>73475400</td>\n",
       "      <td>77714874</td>\n",
       "      <td>17328522</td>\n",
       "      <td>91287931</td>\n",
       "      <td>25731390</td>\n",
       "    </tr>\n",
       "    <tr>\n",
       "      <th>3</th>\n",
       "      <td>2024-01-04</td>\n",
       "      <td>23589747</td>\n",
       "      <td>74150311</td>\n",
       "      <td>78371008</td>\n",
       "      <td>17587027</td>\n",
       "      <td>92548950</td>\n",
       "      <td>26463460</td>\n",
       "    </tr>\n",
       "    <tr>\n",
       "      <th>4</th>\n",
       "      <td>2024-01-05</td>\n",
       "      <td>24015623</td>\n",
       "      <td>75702008</td>\n",
       "      <td>79805329</td>\n",
       "      <td>17576636</td>\n",
       "      <td>94881956</td>\n",
       "      <td>27281075</td>\n",
       "    </tr>\n",
       "  </tbody>\n",
       "</table>\n",
       "</div>"
      ],
      "text/plain": [
       "         day    counts    counts    counts    counts    counts    counts\n",
       "0 2024-01-01  19692553  59502552  63580138  15151849  76677698  23673410\n",
       "1 2024-01-02  22848115  71530775  75645548  17485422  89529332  25208023\n",
       "2 2024-01-03  23298057  73475400  77714874  17328522  91287931  25731390\n",
       "3 2024-01-04  23589747  74150311  78371008  17587027  92548950  26463460\n",
       "4 2024-01-05  24015623  75702008  79805329  17576636  94881956  27281075"
      ]
     },
     "execution_count": 7,
     "metadata": {},
     "output_type": "execute_result"
    }
   ],
   "source": [
    "df.head()"
   ]
  },
  {
   "cell_type": "code",
   "execution_count": 8,
   "id": "cb1619fe-f8da-4657-a922-daca1dd3ba48",
   "metadata": {},
   "outputs": [],
   "source": [
    "# Convert the dataframe into a time series.\n",
    "df.set_index(df.columns[0], inplace=True)"
   ]
  },
  {
   "cell_type": "code",
   "execution_count": 9,
   "id": "f7a80014-0d8b-4286-a979-453c0d1a4535",
   "metadata": {},
   "outputs": [
    {
     "data": {
      "text/html": [
       "<div>\n",
       "<style scoped>\n",
       "    .dataframe tbody tr th:only-of-type {\n",
       "        vertical-align: middle;\n",
       "    }\n",
       "\n",
       "    .dataframe tbody tr th {\n",
       "        vertical-align: top;\n",
       "    }\n",
       "\n",
       "    .dataframe thead th {\n",
       "        text-align: right;\n",
       "    }\n",
       "</style>\n",
       "<table border=\"1\" class=\"dataframe\">\n",
       "  <thead>\n",
       "    <tr style=\"text-align: right;\">\n",
       "      <th></th>\n",
       "      <th>counts</th>\n",
       "      <th>counts</th>\n",
       "      <th>counts</th>\n",
       "      <th>counts</th>\n",
       "      <th>counts</th>\n",
       "      <th>counts</th>\n",
       "    </tr>\n",
       "    <tr>\n",
       "      <th>day</th>\n",
       "      <th></th>\n",
       "      <th></th>\n",
       "      <th></th>\n",
       "      <th></th>\n",
       "      <th></th>\n",
       "      <th></th>\n",
       "    </tr>\n",
       "  </thead>\n",
       "  <tbody>\n",
       "    <tr>\n",
       "      <th>2024-01-01</th>\n",
       "      <td>19692553</td>\n",
       "      <td>59502552</td>\n",
       "      <td>63580138</td>\n",
       "      <td>15151849</td>\n",
       "      <td>76677698</td>\n",
       "      <td>23673410</td>\n",
       "    </tr>\n",
       "    <tr>\n",
       "      <th>2024-01-02</th>\n",
       "      <td>22848115</td>\n",
       "      <td>71530775</td>\n",
       "      <td>75645548</td>\n",
       "      <td>17485422</td>\n",
       "      <td>89529332</td>\n",
       "      <td>25208023</td>\n",
       "    </tr>\n",
       "    <tr>\n",
       "      <th>2024-01-03</th>\n",
       "      <td>23298057</td>\n",
       "      <td>73475400</td>\n",
       "      <td>77714874</td>\n",
       "      <td>17328522</td>\n",
       "      <td>91287931</td>\n",
       "      <td>25731390</td>\n",
       "    </tr>\n",
       "    <tr>\n",
       "      <th>2024-01-04</th>\n",
       "      <td>23589747</td>\n",
       "      <td>74150311</td>\n",
       "      <td>78371008</td>\n",
       "      <td>17587027</td>\n",
       "      <td>92548950</td>\n",
       "      <td>26463460</td>\n",
       "    </tr>\n",
       "    <tr>\n",
       "      <th>2024-01-05</th>\n",
       "      <td>24015623</td>\n",
       "      <td>75702008</td>\n",
       "      <td>79805329</td>\n",
       "      <td>17576636</td>\n",
       "      <td>94881956</td>\n",
       "      <td>27281075</td>\n",
       "    </tr>\n",
       "  </tbody>\n",
       "</table>\n",
       "</div>"
      ],
      "text/plain": [
       "              counts    counts    counts    counts    counts    counts\n",
       "day                                                                   \n",
       "2024-01-01  19692553  59502552  63580138  15151849  76677698  23673410\n",
       "2024-01-02  22848115  71530775  75645548  17485422  89529332  25208023\n",
       "2024-01-03  23298057  73475400  77714874  17328522  91287931  25731390\n",
       "2024-01-04  23589747  74150311  78371008  17587027  92548950  26463460\n",
       "2024-01-05  24015623  75702008  79805329  17576636  94881956  27281075"
      ]
     },
     "execution_count": 9,
     "metadata": {},
     "output_type": "execute_result"
    }
   ],
   "source": [
    "df.head()"
   ]
  },
  {
   "cell_type": "code",
   "execution_count": 10,
   "id": "6c5f5105-a163-4391-bbe9-de1bb7e67896",
   "metadata": {},
   "outputs": [
    {
     "data": {
      "text/plain": [
       "['alpha', 'beta', 'gamma', 'delta', 'epsilon', 'zeta']"
      ]
     },
     "execution_count": 10,
     "metadata": {},
     "output_type": "execute_result"
    }
   ],
   "source": [
    "sheet_names"
   ]
  },
  {
   "cell_type": "code",
   "execution_count": 11,
   "id": "28dfa743-04ae-4a81-8ec5-e29b8f28b0f9",
   "metadata": {},
   "outputs": [],
   "source": [
    "# Assign sheet_names to the dataframe columns\n",
    "df.columns = sheet_names\n"
   ]
  },
  {
   "cell_type": "code",
   "execution_count": 12,
   "id": "30a8068b-e423-458f-b985-5814497eeafa",
   "metadata": {},
   "outputs": [
    {
     "data": {
      "text/html": [
       "<div>\n",
       "<style scoped>\n",
       "    .dataframe tbody tr th:only-of-type {\n",
       "        vertical-align: middle;\n",
       "    }\n",
       "\n",
       "    .dataframe tbody tr th {\n",
       "        vertical-align: top;\n",
       "    }\n",
       "\n",
       "    .dataframe thead th {\n",
       "        text-align: right;\n",
       "    }\n",
       "</style>\n",
       "<table border=\"1\" class=\"dataframe\">\n",
       "  <thead>\n",
       "    <tr style=\"text-align: right;\">\n",
       "      <th></th>\n",
       "      <th>alpha</th>\n",
       "      <th>beta</th>\n",
       "      <th>gamma</th>\n",
       "      <th>delta</th>\n",
       "      <th>epsilon</th>\n",
       "      <th>zeta</th>\n",
       "    </tr>\n",
       "    <tr>\n",
       "      <th>day</th>\n",
       "      <th></th>\n",
       "      <th></th>\n",
       "      <th></th>\n",
       "      <th></th>\n",
       "      <th></th>\n",
       "      <th></th>\n",
       "    </tr>\n",
       "  </thead>\n",
       "  <tbody>\n",
       "    <tr>\n",
       "      <th>2024-01-01</th>\n",
       "      <td>19692553</td>\n",
       "      <td>59502552</td>\n",
       "      <td>63580138</td>\n",
       "      <td>15151849</td>\n",
       "      <td>76677698</td>\n",
       "      <td>23673410</td>\n",
       "    </tr>\n",
       "    <tr>\n",
       "      <th>2024-01-02</th>\n",
       "      <td>22848115</td>\n",
       "      <td>71530775</td>\n",
       "      <td>75645548</td>\n",
       "      <td>17485422</td>\n",
       "      <td>89529332</td>\n",
       "      <td>25208023</td>\n",
       "    </tr>\n",
       "    <tr>\n",
       "      <th>2024-01-03</th>\n",
       "      <td>23298057</td>\n",
       "      <td>73475400</td>\n",
       "      <td>77714874</td>\n",
       "      <td>17328522</td>\n",
       "      <td>91287931</td>\n",
       "      <td>25731390</td>\n",
       "    </tr>\n",
       "    <tr>\n",
       "      <th>2024-01-04</th>\n",
       "      <td>23589747</td>\n",
       "      <td>74150311</td>\n",
       "      <td>78371008</td>\n",
       "      <td>17587027</td>\n",
       "      <td>92548950</td>\n",
       "      <td>26463460</td>\n",
       "    </tr>\n",
       "    <tr>\n",
       "      <th>2024-01-05</th>\n",
       "      <td>24015623</td>\n",
       "      <td>75702008</td>\n",
       "      <td>79805329</td>\n",
       "      <td>17576636</td>\n",
       "      <td>94881956</td>\n",
       "      <td>27281075</td>\n",
       "    </tr>\n",
       "  </tbody>\n",
       "</table>\n",
       "</div>"
      ],
      "text/plain": [
       "               alpha      beta     gamma     delta   epsilon      zeta\n",
       "day                                                                   \n",
       "2024-01-01  19692553  59502552  63580138  15151849  76677698  23673410\n",
       "2024-01-02  22848115  71530775  75645548  17485422  89529332  25208023\n",
       "2024-01-03  23298057  73475400  77714874  17328522  91287931  25731390\n",
       "2024-01-04  23589747  74150311  78371008  17587027  92548950  26463460\n",
       "2024-01-05  24015623  75702008  79805329  17576636  94881956  27281075"
      ]
     },
     "execution_count": 12,
     "metadata": {},
     "output_type": "execute_result"
    }
   ],
   "source": [
    "df.head()"
   ]
  },
  {
   "cell_type": "code",
   "execution_count": 13,
   "id": "4c332095-6c0b-43a9-b3fe-0ac286b7bf74",
   "metadata": {},
   "outputs": [
    {
     "name": "stdout",
     "output_type": "stream",
     "text": [
      "<class 'pandas.core.frame.DataFrame'>\n",
      "DatetimeIndex: 31 entries, 2024-01-01 to 2024-01-31\n",
      "Data columns (total 6 columns):\n",
      " #   Column   Non-Null Count  Dtype\n",
      "---  ------   --------------  -----\n",
      " 0   alpha    31 non-null     int64\n",
      " 1   beta     31 non-null     int64\n",
      " 2   gamma    31 non-null     int64\n",
      " 3   delta    31 non-null     int64\n",
      " 4   epsilon  31 non-null     int64\n",
      " 5   zeta     31 non-null     int64\n",
      "dtypes: int64(6)\n",
      "memory usage: 1.7 KB\n"
     ]
    }
   ],
   "source": [
    "df.info()"
   ]
  },
  {
   "cell_type": "markdown",
   "id": "9cf72b66-e003-4d3b-9453-f45909d041c5",
   "metadata": {},
   "source": [
    "## Option 2: Init a dictionary and store dataframes in it"
   ]
  },
  {
   "cell_type": "code",
   "execution_count": 14,
   "id": "aa60e4cf-47e1-405a-b4ec-b224039f48f1",
   "metadata": {},
   "outputs": [],
   "source": [
    "# Initialize an empty dictionary to store dataframes that are bult from each sheet\n",
    "# It will have a key and the value will be the columns of the sheets\n",
    "sheet_dict = {}"
   ]
  },
  {
   "cell_type": "code",
   "execution_count": 15,
   "id": "104decf9-d5a9-4163-9f32-e8a88d102dee",
   "metadata": {},
   "outputs": [],
   "source": [
    "# Iterate over each sheet in the dictionary that came from the Excel file\n",
    "for sheet_name, df_sheet in df_dict.items():\n",
    "    # df_sheets is a dataframe with two columns; date and values\n",
    "    date_column = df_sheet.columns[0]\n",
    "    values_column = df_sheet.columns[1]\n",
    "    \n",
    "    # Since dates are repeated in each sheet, as first column,\n",
    "    # use the dates column only once, and from the first sheet.\n",
    "    # Therefore, drop the dates column if the df_sheets does not come from the first sheet.\n",
    "    if sheet_name != sheet_names[0]:\n",
    "        df_sheet = df_sheet.drop(df_sheet.columns[0], axis=1)\n",
    "\n",
    "    # Store the dataframe with sheet name as key\n",
    "    sheet_dict[sheet_name] = df_sheet"
   ]
  },
  {
   "cell_type": "code",
   "execution_count": 16,
   "id": "19bcc261-adb8-4239-a82b-9ae3b5a5267c",
   "metadata": {},
   "outputs": [
    {
     "data": {
      "text/plain": [
       "dict_keys(['alpha', 'beta', 'gamma', 'delta', 'epsilon', 'zeta'])"
      ]
     },
     "execution_count": 16,
     "metadata": {},
     "output_type": "execute_result"
    }
   ],
   "source": [
    "sheet_dict.keys()"
   ]
  },
  {
   "cell_type": "code",
   "execution_count": 17,
   "id": "2a9b0533-2171-46c9-9246-3cb449b88b47",
   "metadata": {},
   "outputs": [],
   "source": [
    "# Concatenate dictionary values into a dataframe\n",
    "df = pd.concat(sheet_dict.values(), axis=1)"
   ]
  },
  {
   "cell_type": "code",
   "execution_count": 18,
   "id": "bc69b7d7-df7e-4f14-a106-df90c03b810a",
   "metadata": {},
   "outputs": [
    {
     "data": {
      "text/html": [
       "<div>\n",
       "<style scoped>\n",
       "    .dataframe tbody tr th:only-of-type {\n",
       "        vertical-align: middle;\n",
       "    }\n",
       "\n",
       "    .dataframe tbody tr th {\n",
       "        vertical-align: top;\n",
       "    }\n",
       "\n",
       "    .dataframe thead th {\n",
       "        text-align: right;\n",
       "    }\n",
       "</style>\n",
       "<table border=\"1\" class=\"dataframe\">\n",
       "  <thead>\n",
       "    <tr style=\"text-align: right;\">\n",
       "      <th></th>\n",
       "      <th>day</th>\n",
       "      <th>counts</th>\n",
       "      <th>counts</th>\n",
       "      <th>counts</th>\n",
       "      <th>counts</th>\n",
       "      <th>counts</th>\n",
       "      <th>counts</th>\n",
       "    </tr>\n",
       "  </thead>\n",
       "  <tbody>\n",
       "    <tr>\n",
       "      <th>0</th>\n",
       "      <td>2024-01-01</td>\n",
       "      <td>19692553</td>\n",
       "      <td>59502552</td>\n",
       "      <td>63580138</td>\n",
       "      <td>15151849</td>\n",
       "      <td>76677698</td>\n",
       "      <td>23673410</td>\n",
       "    </tr>\n",
       "    <tr>\n",
       "      <th>1</th>\n",
       "      <td>2024-01-02</td>\n",
       "      <td>22848115</td>\n",
       "      <td>71530775</td>\n",
       "      <td>75645548</td>\n",
       "      <td>17485422</td>\n",
       "      <td>89529332</td>\n",
       "      <td>25208023</td>\n",
       "    </tr>\n",
       "    <tr>\n",
       "      <th>2</th>\n",
       "      <td>2024-01-03</td>\n",
       "      <td>23298057</td>\n",
       "      <td>73475400</td>\n",
       "      <td>77714874</td>\n",
       "      <td>17328522</td>\n",
       "      <td>91287931</td>\n",
       "      <td>25731390</td>\n",
       "    </tr>\n",
       "    <tr>\n",
       "      <th>3</th>\n",
       "      <td>2024-01-04</td>\n",
       "      <td>23589747</td>\n",
       "      <td>74150311</td>\n",
       "      <td>78371008</td>\n",
       "      <td>17587027</td>\n",
       "      <td>92548950</td>\n",
       "      <td>26463460</td>\n",
       "    </tr>\n",
       "    <tr>\n",
       "      <th>4</th>\n",
       "      <td>2024-01-05</td>\n",
       "      <td>24015623</td>\n",
       "      <td>75702008</td>\n",
       "      <td>79805329</td>\n",
       "      <td>17576636</td>\n",
       "      <td>94881956</td>\n",
       "      <td>27281075</td>\n",
       "    </tr>\n",
       "  </tbody>\n",
       "</table>\n",
       "</div>"
      ],
      "text/plain": [
       "         day    counts    counts    counts    counts    counts    counts\n",
       "0 2024-01-01  19692553  59502552  63580138  15151849  76677698  23673410\n",
       "1 2024-01-02  22848115  71530775  75645548  17485422  89529332  25208023\n",
       "2 2024-01-03  23298057  73475400  77714874  17328522  91287931  25731390\n",
       "3 2024-01-04  23589747  74150311  78371008  17587027  92548950  26463460\n",
       "4 2024-01-05  24015623  75702008  79805329  17576636  94881956  27281075"
      ]
     },
     "execution_count": 18,
     "metadata": {},
     "output_type": "execute_result"
    }
   ],
   "source": [
    "df.head()"
   ]
  },
  {
   "cell_type": "code",
   "execution_count": 19,
   "id": "65e2d3c1-2030-4e45-b875-c3d1a087a930",
   "metadata": {},
   "outputs": [],
   "source": [
    "# Convert the dataframe into a time series.\n",
    "df.set_index(df.columns[0], inplace=True)"
   ]
  },
  {
   "cell_type": "code",
   "execution_count": 20,
   "id": "a45338d0-bbea-44e8-8b2e-45c67e405a70",
   "metadata": {},
   "outputs": [
    {
     "data": {
      "text/html": [
       "<div>\n",
       "<style scoped>\n",
       "    .dataframe tbody tr th:only-of-type {\n",
       "        vertical-align: middle;\n",
       "    }\n",
       "\n",
       "    .dataframe tbody tr th {\n",
       "        vertical-align: top;\n",
       "    }\n",
       "\n",
       "    .dataframe thead th {\n",
       "        text-align: right;\n",
       "    }\n",
       "</style>\n",
       "<table border=\"1\" class=\"dataframe\">\n",
       "  <thead>\n",
       "    <tr style=\"text-align: right;\">\n",
       "      <th></th>\n",
       "      <th>counts</th>\n",
       "      <th>counts</th>\n",
       "      <th>counts</th>\n",
       "      <th>counts</th>\n",
       "      <th>counts</th>\n",
       "      <th>counts</th>\n",
       "    </tr>\n",
       "    <tr>\n",
       "      <th>day</th>\n",
       "      <th></th>\n",
       "      <th></th>\n",
       "      <th></th>\n",
       "      <th></th>\n",
       "      <th></th>\n",
       "      <th></th>\n",
       "    </tr>\n",
       "  </thead>\n",
       "  <tbody>\n",
       "    <tr>\n",
       "      <th>2024-01-01</th>\n",
       "      <td>19692553</td>\n",
       "      <td>59502552</td>\n",
       "      <td>63580138</td>\n",
       "      <td>15151849</td>\n",
       "      <td>76677698</td>\n",
       "      <td>23673410</td>\n",
       "    </tr>\n",
       "    <tr>\n",
       "      <th>2024-01-02</th>\n",
       "      <td>22848115</td>\n",
       "      <td>71530775</td>\n",
       "      <td>75645548</td>\n",
       "      <td>17485422</td>\n",
       "      <td>89529332</td>\n",
       "      <td>25208023</td>\n",
       "    </tr>\n",
       "    <tr>\n",
       "      <th>2024-01-03</th>\n",
       "      <td>23298057</td>\n",
       "      <td>73475400</td>\n",
       "      <td>77714874</td>\n",
       "      <td>17328522</td>\n",
       "      <td>91287931</td>\n",
       "      <td>25731390</td>\n",
       "    </tr>\n",
       "    <tr>\n",
       "      <th>2024-01-04</th>\n",
       "      <td>23589747</td>\n",
       "      <td>74150311</td>\n",
       "      <td>78371008</td>\n",
       "      <td>17587027</td>\n",
       "      <td>92548950</td>\n",
       "      <td>26463460</td>\n",
       "    </tr>\n",
       "    <tr>\n",
       "      <th>2024-01-05</th>\n",
       "      <td>24015623</td>\n",
       "      <td>75702008</td>\n",
       "      <td>79805329</td>\n",
       "      <td>17576636</td>\n",
       "      <td>94881956</td>\n",
       "      <td>27281075</td>\n",
       "    </tr>\n",
       "  </tbody>\n",
       "</table>\n",
       "</div>"
      ],
      "text/plain": [
       "              counts    counts    counts    counts    counts    counts\n",
       "day                                                                   \n",
       "2024-01-01  19692553  59502552  63580138  15151849  76677698  23673410\n",
       "2024-01-02  22848115  71530775  75645548  17485422  89529332  25208023\n",
       "2024-01-03  23298057  73475400  77714874  17328522  91287931  25731390\n",
       "2024-01-04  23589747  74150311  78371008  17587027  92548950  26463460\n",
       "2024-01-05  24015623  75702008  79805329  17576636  94881956  27281075"
      ]
     },
     "execution_count": 20,
     "metadata": {},
     "output_type": "execute_result"
    }
   ],
   "source": [
    "df.head()"
   ]
  },
  {
   "cell_type": "code",
   "execution_count": 21,
   "id": "0b6e908e-871f-4e17-ba7f-62f51c74964b",
   "metadata": {},
   "outputs": [
    {
     "data": {
      "text/plain": [
       "['alpha', 'beta', 'gamma', 'delta', 'epsilon', 'zeta']"
      ]
     },
     "execution_count": 21,
     "metadata": {},
     "output_type": "execute_result"
    }
   ],
   "source": [
    "# Recall the sheet_names from above\n",
    "sheet_names"
   ]
  },
  {
   "cell_type": "code",
   "execution_count": 22,
   "id": "416f7bb4-2385-4988-890d-22dc1b6dc1ff",
   "metadata": {},
   "outputs": [],
   "source": [
    "# Assign sheet_names to the dataframe columns\n",
    "df.columns = sheet_names"
   ]
  },
  {
   "cell_type": "code",
   "execution_count": 23,
   "id": "afda705e-ae34-4de5-b6e1-927673779890",
   "metadata": {},
   "outputs": [
    {
     "data": {
      "text/html": [
       "<div>\n",
       "<style scoped>\n",
       "    .dataframe tbody tr th:only-of-type {\n",
       "        vertical-align: middle;\n",
       "    }\n",
       "\n",
       "    .dataframe tbody tr th {\n",
       "        vertical-align: top;\n",
       "    }\n",
       "\n",
       "    .dataframe thead th {\n",
       "        text-align: right;\n",
       "    }\n",
       "</style>\n",
       "<table border=\"1\" class=\"dataframe\">\n",
       "  <thead>\n",
       "    <tr style=\"text-align: right;\">\n",
       "      <th></th>\n",
       "      <th>alpha</th>\n",
       "      <th>beta</th>\n",
       "      <th>gamma</th>\n",
       "      <th>delta</th>\n",
       "      <th>epsilon</th>\n",
       "      <th>zeta</th>\n",
       "    </tr>\n",
       "    <tr>\n",
       "      <th>day</th>\n",
       "      <th></th>\n",
       "      <th></th>\n",
       "      <th></th>\n",
       "      <th></th>\n",
       "      <th></th>\n",
       "      <th></th>\n",
       "    </tr>\n",
       "  </thead>\n",
       "  <tbody>\n",
       "    <tr>\n",
       "      <th>2024-01-01</th>\n",
       "      <td>19692553</td>\n",
       "      <td>59502552</td>\n",
       "      <td>63580138</td>\n",
       "      <td>15151849</td>\n",
       "      <td>76677698</td>\n",
       "      <td>23673410</td>\n",
       "    </tr>\n",
       "    <tr>\n",
       "      <th>2024-01-02</th>\n",
       "      <td>22848115</td>\n",
       "      <td>71530775</td>\n",
       "      <td>75645548</td>\n",
       "      <td>17485422</td>\n",
       "      <td>89529332</td>\n",
       "      <td>25208023</td>\n",
       "    </tr>\n",
       "    <tr>\n",
       "      <th>2024-01-03</th>\n",
       "      <td>23298057</td>\n",
       "      <td>73475400</td>\n",
       "      <td>77714874</td>\n",
       "      <td>17328522</td>\n",
       "      <td>91287931</td>\n",
       "      <td>25731390</td>\n",
       "    </tr>\n",
       "    <tr>\n",
       "      <th>2024-01-04</th>\n",
       "      <td>23589747</td>\n",
       "      <td>74150311</td>\n",
       "      <td>78371008</td>\n",
       "      <td>17587027</td>\n",
       "      <td>92548950</td>\n",
       "      <td>26463460</td>\n",
       "    </tr>\n",
       "    <tr>\n",
       "      <th>2024-01-05</th>\n",
       "      <td>24015623</td>\n",
       "      <td>75702008</td>\n",
       "      <td>79805329</td>\n",
       "      <td>17576636</td>\n",
       "      <td>94881956</td>\n",
       "      <td>27281075</td>\n",
       "    </tr>\n",
       "  </tbody>\n",
       "</table>\n",
       "</div>"
      ],
      "text/plain": [
       "               alpha      beta     gamma     delta   epsilon      zeta\n",
       "day                                                                   \n",
       "2024-01-01  19692553  59502552  63580138  15151849  76677698  23673410\n",
       "2024-01-02  22848115  71530775  75645548  17485422  89529332  25208023\n",
       "2024-01-03  23298057  73475400  77714874  17328522  91287931  25731390\n",
       "2024-01-04  23589747  74150311  78371008  17587027  92548950  26463460\n",
       "2024-01-05  24015623  75702008  79805329  17576636  94881956  27281075"
      ]
     },
     "execution_count": 23,
     "metadata": {},
     "output_type": "execute_result"
    }
   ],
   "source": [
    "# Instpect results\n",
    "df.head()"
   ]
  },
  {
   "cell_type": "code",
   "execution_count": 24,
   "id": "7850304f-30e3-4262-82ad-18bd2a9b0636",
   "metadata": {},
   "outputs": [
    {
     "name": "stdout",
     "output_type": "stream",
     "text": [
      "<class 'pandas.core.frame.DataFrame'>\n",
      "DatetimeIndex: 31 entries, 2024-01-01 to 2024-01-31\n",
      "Data columns (total 6 columns):\n",
      " #   Column   Non-Null Count  Dtype\n",
      "---  ------   --------------  -----\n",
      " 0   alpha    31 non-null     int64\n",
      " 1   beta     31 non-null     int64\n",
      " 2   gamma    31 non-null     int64\n",
      " 3   delta    31 non-null     int64\n",
      " 4   epsilon  31 non-null     int64\n",
      " 5   zeta     31 non-null     int64\n",
      "dtypes: int64(6)\n",
      "memory usage: 1.7 KB\n"
     ]
    }
   ],
   "source": [
    "df.info()"
   ]
  },
  {
   "cell_type": "code",
   "execution_count": null,
   "id": "25f6624a-ddc7-4850-a85e-2ae5e8c9c40c",
   "metadata": {},
   "outputs": [],
   "source": []
  }
 ],
 "metadata": {
  "kernelspec": {
   "display_name": "Python 3 (ipykernel)",
   "language": "python",
   "name": "python3"
  },
  "language_info": {
   "codemirror_mode": {
    "name": "ipython",
    "version": 3
   },
   "file_extension": ".py",
   "mimetype": "text/x-python",
   "name": "python",
   "nbconvert_exporter": "python",
   "pygments_lexer": "ipython3",
   "version": "3.9.13"
  }
 },
 "nbformat": 4,
 "nbformat_minor": 5
}
