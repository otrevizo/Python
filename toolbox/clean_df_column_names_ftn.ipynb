{
 "cells": [
  {
   "cell_type": "markdown",
   "id": "3d53dce6",
   "metadata": {},
   "source": [
    "# clean_df_column_names(df) function\n",
    "\n",
    "December 26, 2022\n",
    "\n",
    "Function: Clean Pandas DataFrame column names\n",
    "\n",
    "@author: Oscar A. Trevizo\n",
    "\n",
    "* Convert column heading to lower case.\n",
    "* Change all spaces in columns to underscore '_'.\n",
    "\n",
    "### References \n",
    "1. Harvard Data Science Foundations CSCI E101 by Prof. B. Huang\n",
    "1. \"Pandas General Functions\" (accessed Feb. 20, 2022) https://pandas.pydata.org/pandas-docs/stable/reference/general_functions.html \n"
   ]
  },
  {
   "cell_type": "markdown",
   "id": "9f3d4931-e1ff-4573-a65b-daa218f0b824",
   "metadata": {},
   "source": [
    "# Libraries"
   ]
  },
  {
   "cell_type": "code",
   "execution_count": 1,
   "id": "eb6afb18",
   "metadata": {},
   "outputs": [],
   "source": [
    "import pandas as pd"
   ]
  },
  {
   "cell_type": "markdown",
   "id": "f35c1783-f1ac-42c0-bf8f-1db3a562e9a3",
   "metadata": {},
   "source": [
    "# Function"
   ]
  },
  {
   "cell_type": "code",
   "execution_count": 2,
   "id": "57092a81",
   "metadata": {},
   "outputs": [],
   "source": [
    "def clean_column_names(df):\n",
    "    \"\"\"    \n",
    "    Cleans the column names of a Pandas DataFrame.\n",
    "    Converts all column headings to lower case, and changes all spaces in columns to underscore '_'.\n",
    "    \n",
    "    Parameters\n",
    "    ----------\n",
    "    df: Pandas DataFrame.\n",
    "\n",
    "    Returns\n",
    "    -------\n",
    "    df: Cleaned Pandas DataFrame.\n",
    "\n",
    "    \"\"\"\n",
    "    # https://pandas.pydata.org/docs/reference/api/pandas.DataFrame.rename.html\n",
    "\n",
    "    # Convert all column heading to lower case.\n",
    "    df = df.rename(columns = str.lower)\n",
    "    \n",
    "    # Change spaces in columns to underscore '_'.\n",
    "    df = df.rename(columns = {col : col.replace(' ', '_') for col in df.columns})\n",
    "    \n",
    "    return df"
   ]
  },
  {
   "cell_type": "markdown",
   "id": "71cbe7b8-980f-4641-a2ce-b2c0450c4048",
   "metadata": {},
   "source": [
    "# Test it"
   ]
  },
  {
   "cell_type": "markdown",
   "id": "fb691739-ff48-41ba-bf30-48f3f8caa9df",
   "metadata": {},
   "source": [
    "## Create DataFrame: Uncleaned column names"
   ]
  },
  {
   "cell_type": "code",
   "execution_count": 3,
   "id": "2e095f02",
   "metadata": {},
   "outputs": [
    {
     "data": {
      "text/html": [
       "<div>\n",
       "<style scoped>\n",
       "    .dataframe tbody tr th:only-of-type {\n",
       "        vertical-align: middle;\n",
       "    }\n",
       "\n",
       "    .dataframe tbody tr th {\n",
       "        vertical-align: top;\n",
       "    }\n",
       "\n",
       "    .dataframe thead th {\n",
       "        text-align: right;\n",
       "    }\n",
       "</style>\n",
       "<table border=\"1\" class=\"dataframe\">\n",
       "  <thead>\n",
       "    <tr style=\"text-align: right;\">\n",
       "      <th></th>\n",
       "      <th>First Name</th>\n",
       "      <th>Last Name</th>\n",
       "      <th>Score 1</th>\n",
       "      <th>Score 2</th>\n",
       "    </tr>\n",
       "  </thead>\n",
       "  <tbody>\n",
       "    <tr>\n",
       "      <th>0</th>\n",
       "      <td>Joan</td>\n",
       "      <td>T</td>\n",
       "      <td>91</td>\n",
       "      <td>91</td>\n",
       "    </tr>\n",
       "    <tr>\n",
       "      <th>1</th>\n",
       "      <td>Mary</td>\n",
       "      <td>K</td>\n",
       "      <td>83</td>\n",
       "      <td>85</td>\n",
       "    </tr>\n",
       "    <tr>\n",
       "      <th>2</th>\n",
       "      <td>Vijay</td>\n",
       "      <td>N</td>\n",
       "      <td>95</td>\n",
       "      <td>90</td>\n",
       "    </tr>\n",
       "    <tr>\n",
       "      <th>3</th>\n",
       "      <td>Rob</td>\n",
       "      <td>R</td>\n",
       "      <td>72</td>\n",
       "      <td>81</td>\n",
       "    </tr>\n",
       "    <tr>\n",
       "      <th>4</th>\n",
       "      <td>Martha</td>\n",
       "      <td>L</td>\n",
       "      <td>91</td>\n",
       "      <td>95</td>\n",
       "    </tr>\n",
       "    <tr>\n",
       "      <th>5</th>\n",
       "      <td>Josh</td>\n",
       "      <td>F</td>\n",
       "      <td>85</td>\n",
       "      <td>92</td>\n",
       "    </tr>\n",
       "    <tr>\n",
       "      <th>6</th>\n",
       "      <td>Vicky</td>\n",
       "      <td>R</td>\n",
       "      <td>89</td>\n",
       "      <td>88</td>\n",
       "    </tr>\n",
       "    <tr>\n",
       "      <th>7</th>\n",
       "      <td>Mario</td>\n",
       "      <td>L</td>\n",
       "      <td>82</td>\n",
       "      <td>94</td>\n",
       "    </tr>\n",
       "    <tr>\n",
       "      <th>8</th>\n",
       "      <td>Jenny</td>\n",
       "      <td>H</td>\n",
       "      <td>72</td>\n",
       "      <td>75</td>\n",
       "    </tr>\n",
       "    <tr>\n",
       "      <th>9</th>\n",
       "      <td>Joe</td>\n",
       "      <td>P</td>\n",
       "      <td>79</td>\n",
       "      <td>75</td>\n",
       "    </tr>\n",
       "  </tbody>\n",
       "</table>\n",
       "</div>"
      ],
      "text/plain": [
       "  First Name Last Name  Score 1  Score 2\n",
       "0       Joan         T       91       91\n",
       "1      Mary         K        83       85\n",
       "2     Vijay         N        95       90\n",
       "3       Rob         R        72       81\n",
       "4     Martha         L       91       95\n",
       "5       Josh        F        85       92\n",
       "6      Vicky         R       89       88\n",
       "7      Mario         L       82       94\n",
       "8      Jenny         H       72       75\n",
       "9        Joe         P       79       75"
      ]
     },
     "execution_count": 3,
     "metadata": {},
     "output_type": "execute_result"
    }
   ],
   "source": [
    "# Get the data\n",
    "first_name = [\" Joan\", \"Mary \", \" Vijay \", \"Rob \", \"Martha\", \"Josh\", \" Vicky\", \" Mario\", \"Jenny\", \"Joe\"]\n",
    "last_name = [\" T\",\" K \", \" N \", \"R \", \"L\", \"F \", \" R\", \" L\", \"H\", \"P\"]\n",
    "score_1 = [91, 83, 95, 72, 91, 85, 89, 82, 72, 79]\n",
    "score_2 = [91, 85, 90, 81, 95, 92, 88, 94, 75, 75]\n",
    "\n",
    "# Build the dataframe that has column names with spaces and upper case.\n",
    "df = pd.DataFrame({'First Name':first_name, 'Last Name':last_name, 'Score 1':score_1, 'Score 2':score_2}  )\n",
    "df.head(10)"
   ]
  },
  {
   "cell_type": "markdown",
   "id": "c0ba64e6-fe16-4d2e-9cf4-95e3a6a0eae3",
   "metadata": {},
   "source": [
    "## Run the function to clean the column names"
   ]
  },
  {
   "cell_type": "code",
   "execution_count": 4,
   "id": "cc72e829",
   "metadata": {},
   "outputs": [
    {
     "name": "stdout",
     "output_type": "stream",
     "text": [
      "<class 'pandas.core.frame.DataFrame'>\n",
      "RangeIndex: 10 entries, 0 to 9\n",
      "Data columns (total 4 columns):\n",
      " #   Column      Non-Null Count  Dtype \n",
      "---  ------      --------------  ----- \n",
      " 0   first_name  10 non-null     object\n",
      " 1   last_name   10 non-null     object\n",
      " 2   score_1     10 non-null     int64 \n",
      " 3   score_2     10 non-null     int64 \n",
      "dtypes: int64(2), object(2)\n",
      "memory usage: 448.0+ bytes\n"
     ]
    }
   ],
   "source": [
    "cleaned_df = clean_column_names(df)\n",
    "cleaned_df.info()"
   ]
  },
  {
   "cell_type": "code",
   "execution_count": null,
   "id": "800748d4",
   "metadata": {},
   "outputs": [],
   "source": []
  }
 ],
 "metadata": {
  "kernelspec": {
   "display_name": "Python 3 (ipykernel)",
   "language": "python",
   "name": "python3"
  },
  "language_info": {
   "codemirror_mode": {
    "name": "ipython",
    "version": 3
   },
   "file_extension": ".py",
   "mimetype": "text/x-python",
   "name": "python",
   "nbconvert_exporter": "python",
   "pygments_lexer": "ipython3",
   "version": "3.9.7"
  }
 },
 "nbformat": 4,
 "nbformat_minor": 5
}
