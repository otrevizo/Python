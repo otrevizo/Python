{
 "cells": [
  {
   "cell_type": "markdown",
   "id": "03abdf0c",
   "metadata": {},
   "source": [
    "# SQLite vignette\n",
    "\n",
    "December 27, 2022\n",
    "\n",
    "Vignette: SQLite\n",
    "\n",
    "@author: Oscar Trevizo\n",
    "\n",
    "## References\n",
    "* Harvard Data Science Foundations CSCI E101 by Prof. Huang.\n",
    "* MySQL Documentation (Accessed Mar. 9, 2022) https://dev.mysql.com/doc/\n",
    "* Pandas PyData: https://pandas.pydata.org/\n",
    "* NumPy: https://numpy.org/\n",
    "* SciPy: https://scipy.org/\n",
    "* Python docs: https://docs.python.org/3/tutorial/index.html\n",
    "* Pndas docs: https://pandas.pydata.org/docs/index.html\n",
    "* w3school web site (Accessed March 30, 2022) https://www.w3schools.com/sql/sql_syntax.asp\n",
    "* geekforgeeks web site (Accessed March 30, 2022) https://www.geeksforgeeks.org/sql-ddl-dql-dml-dcl-tcl-commands/\n"
   ]
  },
  {
   "cell_type": "markdown",
   "id": "cfa277e7",
   "metadata": {},
   "source": [
    "## SQL: Structured Query Language\n",
    "* Originally developed by IBM, SEQUEL\n",
    "* Standard database programming language for interfacing with relational databases to create, maintain, and retrieve databases / schemas, tables, and records\n",
    "\n",
    "### Top SQL commands\n",
    "* CREATE DATABASE - creates a new database\n",
    "* CREATE SCHEMA - same as CREATE DATABASE\n",
    "* CREATE TABLE - creates a new table\n",
    "* INSERT INTO - inserts new data into a database\n",
    "* USE - selects a database to use\n",
    "* SHOW DATABASES - pulls database names available\n",
    "* LOAD DATA INFILE 'filename' INTO TABLE ... - reads data from a file\n",
    "* UPDATE - updates data in a database\n",
    "* SET - various uses, e.g. change datatype to date\n",
    "* UNION - combine results from two SELECT statements\n",
    "* RAND(seed) - return random number, optional seed\n",
    "* SELECT - extracts data from a database\n",
    "* SELECT ... INTO OUTFILE 'file_name' - Write data to file (e.g. csv)\n",
    "* SELECT ... FROM 'database.table' WHERE condition -- Select fields that meet condition\n",
    "* SELECT col1, col2, MAX(col3) FROM 'database.table' WHERE condition GROUP BY col1, col2 -- Needs GROUP BY\n",
    "* DROP DATABASE - deletes a database\n",
    "* DROP TABLE - deletes a table\n",
    "* DROP INDEX - deletes an index\n",
    "* DELETE - deletes data from a database\n",
    "* ALTER DATABASE - modifies a database\n",
    "* ALTER TABLE - modifies a table\n",
    "* CREATE INDEX - creates an index (search key)\n",
    "\n",
    "### SELECT examples\n",
    "-- selects random records and writes to filename\n",
    "\n",
    "SELECT list of columns UNION (SELECT * FROM db.tbl ORDER BY RAND(seed) LIMIT number) INTO OUTFILE 'filename' FIELDS TERMINATED BY ',' OPTIONALLY ENCLOSED BY '\"' LINES TERMINATED BY '\\n';\n",
    "\n",
    "--  calculates average of column_name\n",
    "\n",
    "SELECT AVG(column_name) FROM db.tbl;\n",
    "\n",
    "-- calculate the number of column col1 that has column col2 is larger than a quantity\n",
    "\n",
    "SELECT COUNT(col1) FROM db.tbl WHERE col2 > a_number;\n",
    "\n",
    "-- Get the last name of the ones who make > 150K and < 5 yrs tot experience\n",
    "\n",
    "SELECT last_name FROM teacher_sample.teachers WHERE salary > 150000 AND experience_total < 5;\n",
    "\n",
    "-- Get highest salary for 'Preschool'\n",
    "\n",
    "SELECT MAX(salary) FROM teacher_sample.teachers WHERE primary_job = 'Preschool';\n",
    "\n",
    "-- Get highest salary for 'School Counselor'\n",
    "\n",
    "SELECT MAX(salary) FROM teacher_sample.teachers WHERE primary_job = 'School Counselor';\n",
    "\n",
    "-- Get highest salary for job that has the word 'Principal'\n",
    "\n",
    "SELECT MAX(salary) FROM teacher_sample.teachers WHERE primary_job LIKE '%Principal%';\n",
    "\n",
    "-- Get highest salary for 'School Psychologist'\n",
    "\n",
    "SELECT MAX(salary) FROM teacher_sample.teachers WHERE primary_job = 'School Psychologist';\n",
    "\n",
    "-- Get highest salary for 'Kindergarten'\n",
    "\n",
    "SELECT MAX(salary) FROM teacher_sample.teachers WHERE primary_job = 'Kindergarten';\n",
    "\n",
    "-- Get the last_name, first_name, and salary of the lowest earnest in Atlantic City\n",
    "\n",
    "-- Tip on ASC LIMIT from https://stackoverflow.com/questions/13357144/how-to-select-data-where-a-field-has-a-min-value-in-mysql\n",
    "\n",
    "SELECT last_name, first_name, salary FROM teacher_sample.teachers WHERE district = 'Atlantic City' ORDER BY salary ASC LIMIT 1;\n",
    "\n",
    "-- Get tot no of empl in Passaic City with > 10 yrs tot_expe\n",
    "\n",
    "SELECT COUNT(last_name) FROM teacher_sample.teachers WHERE district = 'Passaic City' AND experience_total > 10;\n",
    "\n",
    "-- Go to https://dev.mysql.com/doc/refman/8.0/en/group-by-handling.html\n",
    "\n",
    "-- Use GROUP BY followed by the columns to avoid randomness\n",
    "\n",
    "SELECT last_name, first_name, primary_job, MAX(salary) FROM nj_state_teachers_salaries.nj_state_teachers_salaries WHERE primary_job = 'Preschool' GROUP BY last_name, first_name, primary_job;\n",
    "\n",
    "The following list comes from geekforgeeks.org web site.\n",
    "\n",
    "### SQL commands categories\n",
    "* DDL – Data Definition Language\n",
    "* DQl – Data Query Language\n",
    "* DML – Data Manipulation Language\n",
    "* DCL – Data Control Language\n",
    "\n",
    "#### DDL (Data Definition Language): \n",
    "* CREATE: This command is used to create the database or its objects (like table, index, function, views, store procedure, and triggers).\n",
    "* DROP: This command is used to delete objects from the database.\n",
    "* ALTER: This is used to alter the structure of the database.\n",
    "* TRUNCATE: This is used to remove all records from a table, including all spaces allocated for the records are removed.\n",
    "* COMMENT: This is used to add comments to the data dictionary.\n",
    "* RENAME: This is used to rename an object existing in the database.\n",
    "\n",
    "#### DQL (Data Query Language):\n",
    "* SELECT: It is used to retrieve data from the database.\n",
    "\n",
    "#### DML(Data Manipulation Language): \n",
    "* INSERT : It is used to insert data into a table.\n",
    "* UPDATE: It is used to update existing data within a table.\n",
    "* DELETE : It is used to delete records from a database table.\n",
    "* LOCK: Table control concurrency.\n",
    "* CALL: Call a PL/SQL or JAVA subprogram.\n",
    "* EXPLAIN PLAN: It describes the access path to data.\n",
    "\n",
    "#### DCL (Data Control Language): \n",
    "* GRANT: This command gives users access privileges to the database.\n",
    "* REVOKE: This command withdraws the user’s access privileges given by using the GRANT command.\n",
    "\n",
    "####  TCL (Transaction Control Language):\n",
    "* COMMIT: Commits a Transaction.\n",
    "* ROLLBACK: Rollbacks a transaction in case of any error occurs.\n",
    "* SAVEPOINT:Sets a savepoint within a transaction.\n",
    "* SET TRANSACTION: Specify characteristics for the transaction."
   ]
  },
  {
   "cell_type": "markdown",
   "id": "a03de711",
   "metadata": {},
   "source": [
    "# Import libraries"
   ]
  },
  {
   "cell_type": "code",
   "execution_count": 1,
   "id": "c3c3a211",
   "metadata": {},
   "outputs": [],
   "source": [
    "import sqlite3\n",
    "import pandas as pd"
   ]
  },
  {
   "cell_type": "markdown",
   "id": "df8fc9f7",
   "metadata": {},
   "source": [
    "# Connect SQLite"
   ]
  },
  {
   "cell_type": "code",
   "execution_count": 2,
   "id": "64e3eba9",
   "metadata": {},
   "outputs": [],
   "source": [
    "# First assign a filename for your database\n",
    "dbFile = \"../data/mysqlite_db.db\"\n",
    "mydb = sqlite3.connect(dbFile)"
   ]
  },
  {
   "cell_type": "markdown",
   "id": "d3c79220",
   "metadata": {},
   "source": [
    "# My cursor method\n",
    "\n",
    "## Instantiate mycursor"
   ]
  },
  {
   "cell_type": "code",
   "execution_count": 3,
   "id": "b7cac436",
   "metadata": {},
   "outputs": [],
   "source": [
    "mycursor = mydb.cursor()"
   ]
  },
  {
   "cell_type": "markdown",
   "id": "c2599f25-4d8f-4e36-aef1-d63b17d2aee7",
   "metadata": {},
   "source": [
    "# Build a command: strings"
   ]
  },
  {
   "cell_type": "code",
   "execution_count": 4,
   "id": "3d2bf32d-a7f1-4e6b-b399-6c6c336a3506",
   "metadata": {},
   "outputs": [],
   "source": [
    "# cmd here is here to capture a command in the form of a string...\n",
    "# ... as if you were typing it in SQL.\n",
    "\n",
    "cmd = 'DROP TABLE IF EXISTS people;'"
   ]
  },
  {
   "cell_type": "markdown",
   "id": "8e1a9922-0245-4ac6-bf29-610a2b6753f6",
   "metadata": {},
   "source": [
    "## Execute the command\n",
    "\n",
    "You can also type the command within the *execute()* method."
   ]
  },
  {
   "cell_type": "code",
   "execution_count": 5,
   "id": "503080a8-7d5f-41c2-b807-ea00c29a0714",
   "metadata": {},
   "outputs": [
    {
     "data": {
      "text/plain": [
       "<sqlite3.Cursor at 0x1be426b8b20>"
      ]
     },
     "execution_count": 5,
     "metadata": {},
     "output_type": "execute_result"
    }
   ],
   "source": [
    "mycursor.execute(cmd)"
   ]
  },
  {
   "cell_type": "markdown",
   "id": "d21eb1a1-fef1-4805-a6c2-417be5e3942d",
   "metadata": {},
   "source": [
    "# Prepare the database"
   ]
  },
  {
   "cell_type": "code",
   "execution_count": 6,
   "id": "fec305f6-c04b-4d2b-bf74-d6f18bc674a6",
   "metadata": {},
   "outputs": [
    {
     "data": {
      "text/plain": [
       "<sqlite3.Cursor at 0x1be426b8b20>"
      ]
     },
     "execution_count": 6,
     "metadata": {},
     "output_type": "execute_result"
    }
   ],
   "source": [
    "cmd = \"\"\" CREATE TABLE IF NOT EXISTS people (\n",
    "                        name TEXT NOT NULL PRIMARY KEY,\n",
    "                        city TEXT,\n",
    "                        zip TEXT\n",
    "                     ) ; \"\"\"\n",
    "mycursor.execute(cmd)\n"
   ]
  },
  {
   "cell_type": "markdown",
   "id": "2f9f9294-4b80-4611-8866-69da5538349a",
   "metadata": {},
   "source": [
    "# Insert data\n",
    "Here you simply type the SQL command within quotation marks in the "
   ]
  },
  {
   "cell_type": "code",
   "execution_count": 7,
   "id": "1bd3a222-b1f4-4666-a4bb-3ac32b1962e1",
   "metadata": {},
   "outputs": [],
   "source": [
    "cmd = \"INSERT INTO people (name, city, zip) VALUES (?, ?, ?)\"\n",
    "value = ('Elaine', 'New York', '10124')"
   ]
  },
  {
   "cell_type": "code",
   "execution_count": 8,
   "id": "235241f9-8731-4b10-a871-e2d8da5bb7b3",
   "metadata": {},
   "outputs": [
    {
     "data": {
      "text/plain": [
       "<sqlite3.Cursor at 0x1be426b8b20>"
      ]
     },
     "execution_count": 8,
     "metadata": {},
     "output_type": "execute_result"
    }
   ],
   "source": [
    "mycursor.execute(cmd, value)"
   ]
  },
  {
   "cell_type": "code",
   "execution_count": 9,
   "id": "b0edde67-2037-48f5-9e50-9f76f6aeb908",
   "metadata": {},
   "outputs": [
    {
     "data": {
      "text/plain": [
       "<sqlite3.Cursor at 0x1be426b8b20>"
      ]
     },
     "execution_count": 9,
     "metadata": {},
     "output_type": "execute_result"
    }
   ],
   "source": [
    "mycursor.execute('COMMIT;')\n",
    "# mydb.commit()"
   ]
  },
  {
   "cell_type": "markdown",
   "id": "35b578fb-c040-4dfc-b812-1e48b5b9e967",
   "metadata": {},
   "source": [
    "# Execute many"
   ]
  },
  {
   "cell_type": "code",
   "execution_count": 10,
   "id": "5f0d7244-e44e-4e3b-8caa-dc0b75b3665a",
   "metadata": {},
   "outputs": [],
   "source": [
    "## Build the command"
   ]
  },
  {
   "cell_type": "code",
   "execution_count": 11,
   "id": "36f20f4e-b011-4633-914a-e250e4a3dec5",
   "metadata": {},
   "outputs": [],
   "source": [
    "# The command string\n",
    "cmd = \"INSERT INTO people (name, city, zip) VALUES (?, ?, ?)\"\n",
    "\n",
    "# A list of tuples with many values separated by commas.\n",
    "values = [\n",
    "  ('Jane', 'Boston', '02116'),\n",
    "  ('Rob', 'Chicago', '60610'),\n",
    "  ('Mary', 'LA', '90090')]"
   ]
  },
  {
   "cell_type": "markdown",
   "id": "e6fb0635-91ca-4a8a-a785-dd3032a58c03",
   "metadata": {},
   "source": [
    "## Execute it"
   ]
  },
  {
   "cell_type": "code",
   "execution_count": 12,
   "id": "463e571d-e5d3-45a4-bc95-c12754817d53",
   "metadata": {},
   "outputs": [
    {
     "data": {
      "text/plain": [
       "<sqlite3.Cursor at 0x1be426b8b20>"
      ]
     },
     "execution_count": 12,
     "metadata": {},
     "output_type": "execute_result"
    }
   ],
   "source": [
    "mycursor.executemany(cmd, values)\n",
    "# mydb.commit()"
   ]
  },
  {
   "cell_type": "markdown",
   "id": "a7c6477b",
   "metadata": {},
   "source": [
    "# Pandas method"
   ]
  },
  {
   "cell_type": "code",
   "execution_count": 13,
   "id": "4e9fc591",
   "metadata": {},
   "outputs": [],
   "source": [
    "# Now we can simply assign the SQL command to a string, similarly as above\n",
    "cmd = \" SELECT * FROM people ORDER BY zip; \""
   ]
  },
  {
   "cell_type": "code",
   "execution_count": 14,
   "id": "5b9d735e-8881-4e71-8635-b0054014d53f",
   "metadata": {},
   "outputs": [
    {
     "data": {
      "text/html": [
       "<div>\n",
       "<style scoped>\n",
       "    .dataframe tbody tr th:only-of-type {\n",
       "        vertical-align: middle;\n",
       "    }\n",
       "\n",
       "    .dataframe tbody tr th {\n",
       "        vertical-align: top;\n",
       "    }\n",
       "\n",
       "    .dataframe thead th {\n",
       "        text-align: right;\n",
       "    }\n",
       "</style>\n",
       "<table border=\"1\" class=\"dataframe\">\n",
       "  <thead>\n",
       "    <tr style=\"text-align: right;\">\n",
       "      <th></th>\n",
       "      <th>name</th>\n",
       "      <th>city</th>\n",
       "      <th>zip</th>\n",
       "    </tr>\n",
       "  </thead>\n",
       "  <tbody>\n",
       "    <tr>\n",
       "      <th>0</th>\n",
       "      <td>Jane</td>\n",
       "      <td>Boston</td>\n",
       "      <td>02116</td>\n",
       "    </tr>\n",
       "    <tr>\n",
       "      <th>1</th>\n",
       "      <td>Elaine</td>\n",
       "      <td>New York</td>\n",
       "      <td>10124</td>\n",
       "    </tr>\n",
       "    <tr>\n",
       "      <th>2</th>\n",
       "      <td>Rob</td>\n",
       "      <td>Chicago</td>\n",
       "      <td>60610</td>\n",
       "    </tr>\n",
       "    <tr>\n",
       "      <th>3</th>\n",
       "      <td>Mary</td>\n",
       "      <td>LA</td>\n",
       "      <td>90090</td>\n",
       "    </tr>\n",
       "  </tbody>\n",
       "</table>\n",
       "</div>"
      ],
      "text/plain": [
       "     name      city    zip\n",
       "0    Jane    Boston  02116\n",
       "1  Elaine  New York  10124\n",
       "2     Rob   Chicago  60610\n",
       "3    Mary        LA  90090"
      ]
     },
     "execution_count": 14,
     "metadata": {},
     "output_type": "execute_result"
    }
   ],
   "source": [
    "df = pd.read_sql_query(cmd, mydb)\n",
    "df.head()"
   ]
  },
  {
   "cell_type": "code",
   "execution_count": null,
   "id": "b59b97a3",
   "metadata": {},
   "outputs": [],
   "source": []
  }
 ],
 "metadata": {
  "kernelspec": {
   "display_name": "Python 3 (ipykernel)",
   "language": "python",
   "name": "python3"
  },
  "language_info": {
   "codemirror_mode": {
    "name": "ipython",
    "version": 3
   },
   "file_extension": ".py",
   "mimetype": "text/x-python",
   "name": "python",
   "nbconvert_exporter": "python",
   "pygments_lexer": "ipython3",
   "version": "3.9.7"
  }
 },
 "nbformat": 4,
 "nbformat_minor": 5
}
