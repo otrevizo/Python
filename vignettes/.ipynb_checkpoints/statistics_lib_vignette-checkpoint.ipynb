{
 "cells": [
  {
   "cell_type": "markdown",
   "metadata": {},
   "source": [
    "# Statistics Library Vignette\n",
    "\n",
    "December 20, 2022\n",
    "\n",
    "Vignette: statistics lib\n",
    "\n",
    "@author: Oscar A. Trevizo\n",
    "\n",
    "### References\n",
    "1. \"Python: Math statistics functions\" (accessed Dec. 20, 2022) \n",
    "    https://docs.python.org/3/library/statistics.html\n",
    "\n"
   ]
  },
  {
   "cell_type": "code",
   "execution_count": 1,
   "metadata": {},
   "outputs": [],
   "source": [
    "import statistics as st"
   ]
  },
  {
   "cell_type": "code",
   "execution_count": 2,
   "metadata": {},
   "outputs": [
    {
     "data": {
      "text/plain": [
       "{'__name__': 'statistics',\n",
       " '__doc__': '\\nBasic statistics module.\\n\\nThis module provides functions for calculating statistics of data, including\\naverages, variance, and standard deviation.\\n\\nCalculating averages\\n--------------------\\n\\n==================  ==================================================\\nFunction            Description\\n==================  ==================================================\\nmean                Arithmetic mean (average) of data.\\nfmean               Fast, floating point arithmetic mean.\\ngeometric_mean      Geometric mean of data.\\nharmonic_mean       Harmonic mean of data.\\nmedian              Median (middle value) of data.\\nmedian_low          Low median of data.\\nmedian_high         High median of data.\\nmedian_grouped      Median, or 50th percentile, of grouped data.\\nmode                Mode (most common value) of data.\\nmultimode           List of modes (most common values of data).\\nquantiles           Divide data into intervals with equal probability.\\n==================  ==================================================\\n\\nCalculate the arithmetic mean (\"the average\") of data:\\n\\n>>> mean([-1.0, 2.5, 3.25, 5.75])\\n2.625\\n\\n\\nCalculate the standard median of discrete data:\\n\\n>>> median([2, 3, 4, 5])\\n3.5\\n\\n\\nCalculate the median, or 50th percentile, of data grouped into class intervals\\ncentred on the data values provided. E.g. if your data points are rounded to\\nthe nearest whole number:\\n\\n>>> median_grouped([2, 2, 3, 3, 3, 4])  #doctest: +ELLIPSIS\\n2.8333333333...\\n\\nThis should be interpreted in this way: you have two data points in the class\\ninterval 1.5-2.5, three data points in the class interval 2.5-3.5, and one in\\nthe class interval 3.5-4.5. The median of these data points is 2.8333...\\n\\n\\nCalculating variability or spread\\n---------------------------------\\n\\n==================  =============================================\\nFunction            Description\\n==================  =============================================\\npvariance           Population variance of data.\\nvariance            Sample variance of data.\\npstdev              Population standard deviation of data.\\nstdev               Sample standard deviation of data.\\n==================  =============================================\\n\\nCalculate the standard deviation of sample data:\\n\\n>>> stdev([2.5, 3.25, 5.5, 11.25, 11.75])  #doctest: +ELLIPSIS\\n4.38961843444...\\n\\nIf you have previously calculated the mean, you can pass it as the optional\\nsecond argument to the four \"spread\" functions to avoid recalculating it:\\n\\n>>> data = [1, 2, 2, 4, 4, 4, 5, 6]\\n>>> mu = mean(data)\\n>>> pvariance(data, mu)\\n2.5\\n\\n\\nExceptions\\n----------\\n\\nA single exception is defined: StatisticsError is a subclass of ValueError.\\n\\n',\n",
       " '__package__': '',\n",
       " '__loader__': <_frozen_importlib_external.SourceFileLoader at 0x222b59b0c10>,\n",
       " '__spec__': ModuleSpec(name='statistics', loader=<_frozen_importlib_external.SourceFileLoader object at 0x00000222B59B0C10>, origin='C:\\\\Users\\\\trevizo\\\\Anaconda3\\\\lib\\\\statistics.py'),\n",
       " '__file__': 'C:\\\\Users\\\\trevizo\\\\Anaconda3\\\\lib\\\\statistics.py',\n",
       " '__cached__': 'C:\\\\Users\\\\trevizo\\\\Anaconda3\\\\lib\\\\__pycache__\\\\statistics.cpython-39.pyc',\n",
       " '__builtins__': {'__name__': 'builtins',\n",
       "  '__doc__': \"Built-in functions, exceptions, and other objects.\\n\\nNoteworthy: None is the `nil' object; Ellipsis represents `...' in slices.\",\n",
       "  '__package__': '',\n",
       "  '__loader__': _frozen_importlib.BuiltinImporter,\n",
       "  '__spec__': ModuleSpec(name='builtins', loader=<class '_frozen_importlib.BuiltinImporter'>, origin='built-in'),\n",
       "  '__build_class__': <function __build_class__>,\n",
       "  '__import__': <function __import__>,\n",
       "  'abs': <function abs(x, /)>,\n",
       "  'all': <function all(iterable, /)>,\n",
       "  'any': <function any(iterable, /)>,\n",
       "  'ascii': <function ascii(obj, /)>,\n",
       "  'bin': <function bin(number, /)>,\n",
       "  'breakpoint': <function breakpoint>,\n",
       "  'callable': <function callable(obj, /)>,\n",
       "  'chr': <function chr(i, /)>,\n",
       "  'compile': <function compile(source, filename, mode, flags=0, dont_inherit=False, optimize=-1, *, _feature_version=-1)>,\n",
       "  'delattr': <function delattr(obj, name, /)>,\n",
       "  'dir': <function dir>,\n",
       "  'divmod': <function divmod(x, y, /)>,\n",
       "  'eval': <function eval(source, globals=None, locals=None, /)>,\n",
       "  'exec': <function exec(source, globals=None, locals=None, /)>,\n",
       "  'format': <function format(value, format_spec='', /)>,\n",
       "  'getattr': <function getattr>,\n",
       "  'globals': <function globals()>,\n",
       "  'hasattr': <function hasattr(obj, name, /)>,\n",
       "  'hash': <function hash(obj, /)>,\n",
       "  'hex': <function hex(number, /)>,\n",
       "  'id': <function id(obj, /)>,\n",
       "  'input': <bound method Kernel.raw_input of <ipykernel.ipkernel.IPythonKernel object at 0x00000222B59B0FA0>>,\n",
       "  'isinstance': <function isinstance(obj, class_or_tuple, /)>,\n",
       "  'issubclass': <function issubclass(cls, class_or_tuple, /)>,\n",
       "  'iter': <function iter>,\n",
       "  'len': <function len(obj, /)>,\n",
       "  'locals': <function locals()>,\n",
       "  'max': <function max>,\n",
       "  'min': <function min>,\n",
       "  'next': <function next>,\n",
       "  'oct': <function oct(number, /)>,\n",
       "  'ord': <function ord(c, /)>,\n",
       "  'pow': <function pow(base, exp, mod=None)>,\n",
       "  'print': <function print>,\n",
       "  'repr': <function repr(obj, /)>,\n",
       "  'round': <function round(number, ndigits=None)>,\n",
       "  'setattr': <function setattr(obj, name, value, /)>,\n",
       "  'sorted': <function sorted(iterable, /, *, key=None, reverse=False)>,\n",
       "  'sum': <function sum(iterable, /, start=0)>,\n",
       "  'vars': <function vars>,\n",
       "  'None': None,\n",
       "  'Ellipsis': Ellipsis,\n",
       "  'NotImplemented': NotImplemented,\n",
       "  'False': False,\n",
       "  'True': True,\n",
       "  'bool': bool,\n",
       "  'memoryview': memoryview,\n",
       "  'bytearray': bytearray,\n",
       "  'bytes': bytes,\n",
       "  'classmethod': classmethod,\n",
       "  'complex': complex,\n",
       "  'dict': dict,\n",
       "  'enumerate': enumerate,\n",
       "  'filter': filter,\n",
       "  'float': float,\n",
       "  'frozenset': frozenset,\n",
       "  'property': property,\n",
       "  'int': int,\n",
       "  'list': list,\n",
       "  'map': map,\n",
       "  'object': object,\n",
       "  'range': range,\n",
       "  'reversed': reversed,\n",
       "  'set': set,\n",
       "  'slice': slice,\n",
       "  'staticmethod': staticmethod,\n",
       "  'str': str,\n",
       "  'super': super,\n",
       "  'tuple': tuple,\n",
       "  'type': type,\n",
       "  'zip': zip,\n",
       "  '__debug__': True,\n",
       "  'BaseException': BaseException,\n",
       "  'Exception': Exception,\n",
       "  'TypeError': TypeError,\n",
       "  'StopAsyncIteration': StopAsyncIteration,\n",
       "  'StopIteration': StopIteration,\n",
       "  'GeneratorExit': GeneratorExit,\n",
       "  'SystemExit': SystemExit,\n",
       "  'KeyboardInterrupt': KeyboardInterrupt,\n",
       "  'ImportError': ImportError,\n",
       "  'ModuleNotFoundError': ModuleNotFoundError,\n",
       "  'OSError': OSError,\n",
       "  'EnvironmentError': OSError,\n",
       "  'IOError': OSError,\n",
       "  'WindowsError': OSError,\n",
       "  'EOFError': EOFError,\n",
       "  'RuntimeError': RuntimeError,\n",
       "  'RecursionError': RecursionError,\n",
       "  'NotImplementedError': NotImplementedError,\n",
       "  'NameError': NameError,\n",
       "  'UnboundLocalError': UnboundLocalError,\n",
       "  'AttributeError': AttributeError,\n",
       "  'SyntaxError': SyntaxError,\n",
       "  'IndentationError': IndentationError,\n",
       "  'TabError': TabError,\n",
       "  'LookupError': LookupError,\n",
       "  'IndexError': IndexError,\n",
       "  'KeyError': KeyError,\n",
       "  'ValueError': ValueError,\n",
       "  'UnicodeError': UnicodeError,\n",
       "  'UnicodeEncodeError': UnicodeEncodeError,\n",
       "  'UnicodeDecodeError': UnicodeDecodeError,\n",
       "  'UnicodeTranslateError': UnicodeTranslateError,\n",
       "  'AssertionError': AssertionError,\n",
       "  'ArithmeticError': ArithmeticError,\n",
       "  'FloatingPointError': FloatingPointError,\n",
       "  'OverflowError': OverflowError,\n",
       "  'ZeroDivisionError': ZeroDivisionError,\n",
       "  'SystemError': SystemError,\n",
       "  'ReferenceError': ReferenceError,\n",
       "  'MemoryError': MemoryError,\n",
       "  'BufferError': BufferError,\n",
       "  'Warning': Warning,\n",
       "  'UserWarning': UserWarning,\n",
       "  'DeprecationWarning': DeprecationWarning,\n",
       "  'PendingDeprecationWarning': PendingDeprecationWarning,\n",
       "  'SyntaxWarning': SyntaxWarning,\n",
       "  'RuntimeWarning': RuntimeWarning,\n",
       "  'FutureWarning': FutureWarning,\n",
       "  'ImportWarning': ImportWarning,\n",
       "  'UnicodeWarning': UnicodeWarning,\n",
       "  'BytesWarning': BytesWarning,\n",
       "  'ResourceWarning': ResourceWarning,\n",
       "  'ConnectionError': ConnectionError,\n",
       "  'BlockingIOError': BlockingIOError,\n",
       "  'BrokenPipeError': BrokenPipeError,\n",
       "  'ChildProcessError': ChildProcessError,\n",
       "  'ConnectionAbortedError': ConnectionAbortedError,\n",
       "  'ConnectionRefusedError': ConnectionRefusedError,\n",
       "  'ConnectionResetError': ConnectionResetError,\n",
       "  'FileExistsError': FileExistsError,\n",
       "  'FileNotFoundError': FileNotFoundError,\n",
       "  'IsADirectoryError': IsADirectoryError,\n",
       "  'NotADirectoryError': NotADirectoryError,\n",
       "  'InterruptedError': InterruptedError,\n",
       "  'PermissionError': PermissionError,\n",
       "  'ProcessLookupError': ProcessLookupError,\n",
       "  'TimeoutError': TimeoutError,\n",
       "  'open': <function io.open(file, mode='r', buffering=-1, encoding=None, errors=None, newline=None, closefd=True, opener=None)>,\n",
       "  'copyright': Copyright (c) 2001-2021 Python Software Foundation.\n",
       "  All Rights Reserved.\n",
       "  \n",
       "  Copyright (c) 2000 BeOpen.com.\n",
       "  All Rights Reserved.\n",
       "  \n",
       "  Copyright (c) 1995-2001 Corporation for National Research Initiatives.\n",
       "  All Rights Reserved.\n",
       "  \n",
       "  Copyright (c) 1991-1995 Stichting Mathematisch Centrum, Amsterdam.\n",
       "  All Rights Reserved.,\n",
       "  'credits':     Thanks to CWI, CNRI, BeOpen.com, Zope Corporation and a cast of thousands\n",
       "      for supporting Python development.  See www.python.org for more information.,\n",
       "  'license': See https://www.python.org/psf/license/,\n",
       "  'help': Type help() for interactive help, or help(object) for help about object.,\n",
       "  'execfile': <function _pydev_imps._pydev_execfile.execfile(file, glob=None, loc=None)>,\n",
       "  'runfile': <function _pydev_bundle.pydev_umd.runfile(filename, args=None, wdir=None, namespace=None)>,\n",
       "  '__IPYTHON__': True,\n",
       "  'display': <function IPython.core.display.display(*objs, include=None, exclude=None, metadata=None, transient=None, display_id=None, **kwargs)>,\n",
       "  'get_ipython': <bound method InteractiveShell.get_ipython of <ipykernel.zmqshell.ZMQInteractiveShell object at 0x00000222B59F4100>>},\n",
       " '__all__': ['NormalDist',\n",
       "  'StatisticsError',\n",
       "  'fmean',\n",
       "  'geometric_mean',\n",
       "  'harmonic_mean',\n",
       "  'mean',\n",
       "  'median',\n",
       "  'median_grouped',\n",
       "  'median_high',\n",
       "  'median_low',\n",
       "  'mode',\n",
       "  'multimode',\n",
       "  'pstdev',\n",
       "  'pvariance',\n",
       "  'quantiles',\n",
       "  'stdev',\n",
       "  'variance'],\n",
       " 'math': <module 'math' (built-in)>,\n",
       " 'numbers': <module 'numbers' from 'C:\\\\Users\\\\trevizo\\\\Anaconda3\\\\lib\\\\numbers.py'>,\n",
       " 'random': <module 'random' from 'C:\\\\Users\\\\trevizo\\\\Anaconda3\\\\lib\\\\random.py'>,\n",
       " 'Fraction': fractions.Fraction,\n",
       " 'Decimal': decimal.Decimal,\n",
       " 'groupby': itertools.groupby,\n",
       " 'bisect_left': <function _bisect.bisect_left(a, x, lo=0, hi=None)>,\n",
       " 'bisect_right': <function _bisect.bisect_right(a, x, lo=0, hi=None)>,\n",
       " 'hypot': <function math.hypot>,\n",
       " 'sqrt': <function math.sqrt(x, /)>,\n",
       " 'fabs': <function math.fabs(x, /)>,\n",
       " 'exp': <function math.exp(x, /)>,\n",
       " 'erf': <function math.erf(x, /)>,\n",
       " 'tau': 6.283185307179586,\n",
       " 'log': <function math.log>,\n",
       " 'fsum': <function math.fsum(seq, /)>,\n",
       " 'itemgetter': operator.itemgetter,\n",
       " 'Counter': collections.Counter,\n",
       " 'StatisticsError': statistics.StatisticsError,\n",
       " '_sum': <function statistics._sum(data, start=0)>,\n",
       " '_isfinite': <function statistics._isfinite(x)>,\n",
       " '_coerce': <function statistics._coerce(T, S)>,\n",
       " '_exact_ratio': <function statistics._exact_ratio(x)>,\n",
       " '_convert': <function statistics._convert(value, T)>,\n",
       " '_find_lteq': <function statistics._find_lteq(a, x)>,\n",
       " '_find_rteq': <function statistics._find_rteq(a, l, x)>,\n",
       " '_fail_neg': <function statistics._fail_neg(values, errmsg='negative value')>,\n",
       " 'mean': <function statistics.mean(data)>,\n",
       " 'fmean': <function statistics.fmean(data)>,\n",
       " 'geometric_mean': <function statistics.geometric_mean(data)>,\n",
       " 'harmonic_mean': <function statistics.harmonic_mean(data)>,\n",
       " 'median': <function statistics.median(data)>,\n",
       " 'median_low': <function statistics.median_low(data)>,\n",
       " 'median_high': <function statistics.median_high(data)>,\n",
       " 'median_grouped': <function statistics.median_grouped(data, interval=1)>,\n",
       " 'mode': <function statistics.mode(data)>,\n",
       " 'multimode': <function statistics.multimode(data)>,\n",
       " 'quantiles': <function statistics.quantiles(data, *, n=4, method='exclusive')>,\n",
       " '_ss': <function statistics._ss(data, c=None)>,\n",
       " 'variance': <function statistics.variance(data, xbar=None)>,\n",
       " 'pvariance': <function statistics.pvariance(data, mu=None)>,\n",
       " 'stdev': <function statistics.stdev(data, xbar=None)>,\n",
       " 'pstdev': <function statistics.pstdev(data, mu=None)>,\n",
       " '_normal_dist_inv_cdf': <function _statistics._normal_dist_inv_cdf(p, mu, sigma, /)>,\n",
       " 'NormalDist': statistics.NormalDist}"
      ]
     },
     "execution_count": 2,
     "metadata": {},
     "output_type": "execute_result"
    }
   ],
   "source": [
    "# Explorethe library\n",
    "st.__dict__"
   ]
  },
  {
   "cell_type": "markdown",
   "metadata": {},
   "source": [
    "# Load data"
   ]
  },
  {
   "cell_type": "code",
   "execution_count": 3,
   "metadata": {},
   "outputs": [],
   "source": [
    "# A numberic list\n",
    "n = [1.5, 2.5, 3.5, 4.5, 5.5, 6.5, 7.5, 8.5, 9.5, 10.5]"
   ]
  },
  {
   "cell_type": "code",
   "execution_count": 4,
   "metadata": {},
   "outputs": [],
   "source": [
    "# Two more numeric lists we can compare\n",
    "score_1 = [91, 83, 95, 72, 91, 85, 89, 82, 90, 79]\n",
    "score_2 = [91, 85, 90, 81, 95, 92, 88, 94, 91, 75]\n"
   ]
  },
  {
   "cell_type": "markdown",
   "metadata": {},
   "source": [
    "# Apply methods"
   ]
  },
  {
   "cell_type": "code",
   "execution_count": 5,
   "metadata": {},
   "outputs": [
    {
     "data": {
      "text/plain": [
       "85.7"
      ]
     },
     "execution_count": 5,
     "metadata": {},
     "output_type": "execute_result"
    }
   ],
   "source": [
    "st.mean(score_1)"
   ]
  },
  {
   "cell_type": "code",
   "execution_count": 6,
   "metadata": {},
   "outputs": [
    {
     "data": {
      "text/plain": [
       "6.0"
      ]
     },
     "execution_count": 6,
     "metadata": {},
     "output_type": "execute_result"
    }
   ],
   "source": [
    "st.mean(n)"
   ]
  },
  {
   "cell_type": "code",
   "execution_count": 7,
   "metadata": {},
   "outputs": [
    {
     "data": {
      "text/plain": [
       "3.0276503540974917"
      ]
     },
     "execution_count": 7,
     "metadata": {},
     "output_type": "execute_result"
    }
   ],
   "source": [
    "st.stdev(n)"
   ]
  },
  {
   "cell_type": "code",
   "execution_count": null,
   "metadata": {},
   "outputs": [],
   "source": []
  }
 ],
 "metadata": {
  "kernelspec": {
   "display_name": "Python 3 (ipykernel)",
   "language": "python",
   "name": "python3"
  },
  "language_info": {
   "codemirror_mode": {
    "name": "ipython",
    "version": 3
   },
   "file_extension": ".py",
   "mimetype": "text/x-python",
   "name": "python",
   "nbconvert_exporter": "python",
   "pygments_lexer": "ipython3",
   "version": "3.9.7"
  }
 },
 "nbformat": 4,
 "nbformat_minor": 4
}
