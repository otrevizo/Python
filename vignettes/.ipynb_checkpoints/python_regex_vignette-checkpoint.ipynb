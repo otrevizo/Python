{
 "cells": [
  {
   "cell_type": "markdown",
   "id": "c29010b2",
   "metadata": {},
   "source": [
    "# Python Regex Vignette\n",
    "\n",
    "December 26, 2022\n",
    "\n",
    "Vignette for Regex techniques.\n",
    "\n",
    "@author: Oscar A. Trevizo\n",
    "\n",
    "### References\n",
    "1. https://docs.python.org/3/library/re.html\n",
    "1. https://docs.python.org/3/howto/regex.html\n"
   ]
  },
  {
   "cell_type": "markdown",
   "id": "ea168803-70a1-418f-a208-d1c2e7de2984",
   "metadata": {},
   "source": [
    "# Library"
   ]
  },
  {
   "cell_type": "code",
   "execution_count": 1,
   "id": "8e0b9649",
   "metadata": {},
   "outputs": [],
   "source": [
    "import re"
   ]
  },
  {
   "cell_type": "markdown",
   "id": "addfcfc7-ffd7-424f-a213-7369d3aab57d",
   "metadata": {},
   "source": [
    "# Get data"
   ]
  },
  {
   "cell_type": "code",
   "execution_count": 3,
   "id": "5ecf970c-ea5b-4de8-a646-ad5cd6f8cdce",
   "metadata": {},
   "outputs": [],
   "source": [
    "s = \"hello, world\""
   ]
  },
  {
   "cell_type": "markdown",
   "id": "8b224c7b-6709-42e4-9a05-3ac235b7b4a7",
   "metadata": {},
   "source": [
    "# Instantiate Regex rule"
   ]
  },
  {
   "cell_type": "code",
   "execution_count": 4,
   "id": "e3949120-7229-4b1a-a228-1d8fcad91037",
   "metadata": {},
   "outputs": [
    {
     "data": {
      "text/plain": [
       "['h', 'e', 'l', 'l', 'o', 'w', 'o', 'r', 'l', 'd']"
      ]
     },
     "execution_count": 4,
     "metadata": {},
     "output_type": "execute_result"
    }
   ],
   "source": [
    "reg_text = re.compile(r'[A-Za-z]')\n",
    "reg_text.findall(s)"
   ]
  },
  {
   "cell_type": "code",
   "execution_count": 9,
   "id": "41096363",
   "metadata": {},
   "outputs": [
    {
     "data": {
      "text/plain": [
       "['H', 'e', 'l', 'l', 'o', 'W', 'o', 'r', 'l', 'd']"
      ]
     },
     "execution_count": 9,
     "metadata": {},
     "output_type": "execute_result"
    }
   ],
   "source": [
    "text = \"H$$$ello ### $$$ Worl$$$d 123$$$456\"\n",
    "reg = re.compile(r'[A-Za-z]')\n",
    "reg.findall(text)"
   ]
  },
  {
   "cell_type": "code",
   "execution_count": 10,
   "id": "fa025a10",
   "metadata": {},
   "outputs": [
    {
     "data": {
      "text/plain": [
       "['Hello', '', 'World', '', '', '', '', '', '', '', '']"
      ]
     },
     "execution_count": 10,
     "metadata": {},
     "output_type": "execute_result"
    }
   ],
   "source": [
    "text = \"Hello World 123456\"\n",
    "reg = re.compile(r'[A-Za-z]*')\n",
    "reg.findall(text)"
   ]
  },
  {
   "cell_type": "code",
   "execution_count": 11,
   "id": "1385fb19",
   "metadata": {},
   "outputs": [
    {
     "data": {
      "text/plain": [
       "['', '', '', '', '', '', '', '', '', '75555688', '']"
      ]
     },
     "execution_count": 11,
     "metadata": {},
     "output_type": "execute_result"
    }
   ],
   "source": [
    "text ='My id is 75555688'\n",
    "reg = re.compile(r'[0-9]*')\n",
    "reg.findall(text)"
   ]
  },
  {
   "cell_type": "markdown",
   "id": "8a5a4913",
   "metadata": {},
   "source": [
    "<ul>\n",
    "  <li>\\d Any numeric digit from 0 to 9.</li>\n",
    "  <li>\\w Any letter, numeric digit, or the underscore character</li>\n",
    "  <li>\\s Any space, tab, or newline character.</li>\n",
    "</ul>\n"
   ]
  },
  {
   "cell_type": "code",
   "execution_count": 12,
   "id": "4c594005",
   "metadata": {},
   "outputs": [
    {
     "data": {
      "text/plain": [
       "['', '', '', '', '', '', '', '', '', '75555688', '']"
      ]
     },
     "execution_count": 12,
     "metadata": {},
     "output_type": "execute_result"
    }
   ],
   "source": [
    "text ='My id is 75555688'\n",
    "reg = re.compile(r'\\d*')\n",
    "reg.findall(text)"
   ]
  },
  {
   "cell_type": "code",
   "execution_count": 13,
   "id": "9330ac82",
   "metadata": {},
   "outputs": [
    {
     "data": {
      "text/plain": [
       "['My', '', 'id', '', 'is', '', '75555688', '']"
      ]
     },
     "execution_count": 13,
     "metadata": {},
     "output_type": "execute_result"
    }
   ],
   "source": [
    "text ='My id is 75555688'\n",
    "reg = re.compile(r'\\w*')\n",
    "reg.findall(text)"
   ]
  },
  {
   "cell_type": "code",
   "execution_count": 14,
   "id": "593d3a73",
   "metadata": {},
   "outputs": [
    {
     "data": {
      "text/plain": [
       "[' ', ' ', ' ']"
      ]
     },
     "execution_count": 14,
     "metadata": {},
     "output_type": "execute_result"
    }
   ],
   "source": [
    "text ='My id is 75555688'\n",
    "reg = re.compile(r'\\s')\n",
    "reg.findall(text)"
   ]
  },
  {
   "cell_type": "code",
   "execution_count": 15,
   "id": "ce486d46",
   "metadata": {},
   "outputs": [
    {
     "data": {
      "text/plain": [
       "['', '', '', '', '', '', '', '', '', '', '', '', '', '12', '', '99', '']"
      ]
     },
     "execution_count": 15,
     "metadata": {},
     "output_type": "execute_result"
    }
   ],
   "source": [
    "text ='The price is 12.99'\n",
    "reg = re.compile(r'\\d*')\n",
    "reg.findall(text)"
   ]
  },
  {
   "cell_type": "markdown",
   "id": "f6884bfa",
   "metadata": {},
   "source": [
    "## My own"
   ]
  },
  {
   "cell_type": "code",
   "execution_count": 13,
   "id": "e0280e1a",
   "metadata": {},
   "outputs": [],
   "source": [
    "import pandas as pd\n",
    "import numpy as np"
   ]
  },
  {
   "cell_type": "code",
   "execution_count": 23,
   "id": "e2a68744",
   "metadata": {},
   "outputs": [],
   "source": [
    "df = pd.DataFrame({'n':[1, '#', 3], 's':['a', 'b', '#']})"
   ]
  },
  {
   "cell_type": "code",
   "execution_count": 24,
   "id": "22143d04",
   "metadata": {},
   "outputs": [
    {
     "data": {
      "text/html": [
       "<div>\n",
       "<style scoped>\n",
       "    .dataframe tbody tr th:only-of-type {\n",
       "        vertical-align: middle;\n",
       "    }\n",
       "\n",
       "    .dataframe tbody tr th {\n",
       "        vertical-align: top;\n",
       "    }\n",
       "\n",
       "    .dataframe thead th {\n",
       "        text-align: right;\n",
       "    }\n",
       "</style>\n",
       "<table border=\"1\" class=\"dataframe\">\n",
       "  <thead>\n",
       "    <tr style=\"text-align: right;\">\n",
       "      <th></th>\n",
       "      <th>n</th>\n",
       "      <th>s</th>\n",
       "    </tr>\n",
       "  </thead>\n",
       "  <tbody>\n",
       "    <tr>\n",
       "      <th>0</th>\n",
       "      <td>1</td>\n",
       "      <td>a</td>\n",
       "    </tr>\n",
       "    <tr>\n",
       "      <th>1</th>\n",
       "      <td>#</td>\n",
       "      <td>b</td>\n",
       "    </tr>\n",
       "    <tr>\n",
       "      <th>2</th>\n",
       "      <td>3</td>\n",
       "      <td>#</td>\n",
       "    </tr>\n",
       "  </tbody>\n",
       "</table>\n",
       "</div>"
      ],
      "text/plain": [
       "   n  s\n",
       "0  1  a\n",
       "1  #  b\n",
       "2  3  #"
      ]
     },
     "execution_count": 24,
     "metadata": {},
     "output_type": "execute_result"
    }
   ],
   "source": [
    "df.head()"
   ]
  },
  {
   "cell_type": "code",
   "execution_count": 27,
   "id": "b496fabc",
   "metadata": {},
   "outputs": [
    {
     "data": {
      "text/html": [
       "<div>\n",
       "<style scoped>\n",
       "    .dataframe tbody tr th:only-of-type {\n",
       "        vertical-align: middle;\n",
       "    }\n",
       "\n",
       "    .dataframe tbody tr th {\n",
       "        vertical-align: top;\n",
       "    }\n",
       "\n",
       "    .dataframe thead th {\n",
       "        text-align: right;\n",
       "    }\n",
       "</style>\n",
       "<table border=\"1\" class=\"dataframe\">\n",
       "  <thead>\n",
       "    <tr style=\"text-align: right;\">\n",
       "      <th></th>\n",
       "      <th>n</th>\n",
       "      <th>s</th>\n",
       "    </tr>\n",
       "  </thead>\n",
       "  <tbody>\n",
       "    <tr>\n",
       "      <th>0</th>\n",
       "      <td>1</td>\n",
       "      <td>a</td>\n",
       "    </tr>\n",
       "    <tr>\n",
       "      <th>1</th>\n",
       "      <td>NaN</td>\n",
       "      <td>b</td>\n",
       "    </tr>\n",
       "    <tr>\n",
       "      <th>2</th>\n",
       "      <td>3</td>\n",
       "      <td>#</td>\n",
       "    </tr>\n",
       "  </tbody>\n",
       "</table>\n",
       "</div>"
      ],
      "text/plain": [
       "     n  s\n",
       "0    1  a\n",
       "1  NaN  b\n",
       "2    3  #"
      ]
     },
     "execution_count": 27,
     "metadata": {},
     "output_type": "execute_result"
    }
   ],
   "source": [
    "df['n'] = df['n'].replace('[^A-Za-z0-9]', np.NaN, regex = True)\n",
    "df.head()"
   ]
  },
  {
   "cell_type": "code",
   "execution_count": 28,
   "id": "f815882c",
   "metadata": {},
   "outputs": [
    {
     "data": {
      "text/html": [
       "<div>\n",
       "<style scoped>\n",
       "    .dataframe tbody tr th:only-of-type {\n",
       "        vertical-align: middle;\n",
       "    }\n",
       "\n",
       "    .dataframe tbody tr th {\n",
       "        vertical-align: top;\n",
       "    }\n",
       "\n",
       "    .dataframe thead th {\n",
       "        text-align: right;\n",
       "    }\n",
       "</style>\n",
       "<table border=\"1\" class=\"dataframe\">\n",
       "  <thead>\n",
       "    <tr style=\"text-align: right;\">\n",
       "      <th></th>\n",
       "      <th>n</th>\n",
       "      <th>s</th>\n",
       "    </tr>\n",
       "  </thead>\n",
       "  <tbody>\n",
       "    <tr>\n",
       "      <th>0</th>\n",
       "      <td>1</td>\n",
       "      <td>a</td>\n",
       "    </tr>\n",
       "    <tr>\n",
       "      <th>1</th>\n",
       "      <td>NaN</td>\n",
       "      <td>b</td>\n",
       "    </tr>\n",
       "    <tr>\n",
       "      <th>2</th>\n",
       "      <td>3</td>\n",
       "      <td>NaN</td>\n",
       "    </tr>\n",
       "  </tbody>\n",
       "</table>\n",
       "</div>"
      ],
      "text/plain": [
       "     n    s\n",
       "0    1    a\n",
       "1  NaN    b\n",
       "2    3  NaN"
      ]
     },
     "execution_count": 28,
     "metadata": {},
     "output_type": "execute_result"
    }
   ],
   "source": [
    "df['s'] = df['s'].replace('[^A-Za-z0-9]', np.NaN, regex = True)\n",
    "df.head()"
   ]
  },
  {
   "cell_type": "code",
   "execution_count": null,
   "id": "548f0cfe",
   "metadata": {},
   "outputs": [],
   "source": []
  }
 ],
 "metadata": {
  "kernelspec": {
   "display_name": "Python 3 (ipykernel)",
   "language": "python",
   "name": "python3"
  },
  "language_info": {
   "codemirror_mode": {
    "name": "ipython",
    "version": 3
   },
   "file_extension": ".py",
   "mimetype": "text/x-python",
   "name": "python",
   "nbconvert_exporter": "python",
   "pygments_lexer": "ipython3",
   "version": "3.9.7"
  }
 },
 "nbformat": 4,
 "nbformat_minor": 5
}
