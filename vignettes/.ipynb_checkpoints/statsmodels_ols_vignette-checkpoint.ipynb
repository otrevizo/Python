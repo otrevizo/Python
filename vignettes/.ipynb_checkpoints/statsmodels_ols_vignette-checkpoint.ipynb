{
 "cells": [
  {
   "cell_type": "markdown",
   "id": "b2ff2d4f-8b59-4ab0-97ff-f79015b029e4",
   "metadata": {},
   "source": [
    "# Statsmodels Ordinary Lease Squares Vignette\n",
    "\n",
    "December 22, 2022\n",
    "\n",
    "Vignette: Statsmodels API Ordinary Least Squares\n",
    "\n",
    "@author: Oscar A. Trevizo\n",
    "\n",
    "### References\n",
    "1. Statsmodel Formula API ols (lower case) documentation (accessed Feb. 20, 2022) \n",
    "   https://www.statsmodels.org/dev/generated/statsmodels.formula.api.ols.html\n"
   ]
  },
  {
   "cell_type": "markdown",
   "id": "prostate-honolulu",
   "metadata": {},
   "source": [
    "# Linear Regresion"
   ]
  },
  {
   "cell_type": "code",
   "execution_count": 7,
   "id": "88beee73-7e58-46f8-b783-9decd43f3959",
   "metadata": {},
   "outputs": [],
   "source": [
    "import pandas as pd\n",
    "import numpy as np\n",
    "import seaborn as sns\n",
    "import statsmodels.api as sm\n",
    "from statsmodels.formula.api import ols\n",
    "\n",
    "sns.set_style(\"darkgrid\")"
   ]
  },
  {
   "cell_type": "markdown",
   "id": "c5a92bd4-69a4-4370-b98f-80775fe3b623",
   "metadata": {},
   "source": [
    "# Create data"
   ]
  },
  {
   "cell_type": "code",
   "execution_count": 13,
   "id": "81494bae-56e3-49df-8ff5-4c88a9daead2",
   "metadata": {},
   "outputs": [],
   "source": [
    "# Make x and y have the same space 0 to 100 and generate 50 points\n",
    "x = np.linspace(0, 100, 50)\n",
    "\n",
    "# Add randomness, notice scale refers to std dev.\n",
    "y = np.linspace(0, 100, 50) + np.random.normal(scale=4, size=50)"
   ]
  },
  {
   "cell_type": "markdown",
   "id": "7ff49e6e-0cc5-4961-927e-f4618a836146",
   "metadata": {},
   "source": [
    "# Build the DataFrame"
   ]
  },
  {
   "cell_type": "code",
   "execution_count": 14,
   "id": "9419d72e-d022-4eeb-bb32-121aae656301",
   "metadata": {},
   "outputs": [],
   "source": [
    "df = pd.DataFrame({'x':x, 'y':y})"
   ]
  },
  {
   "cell_type": "markdown",
   "id": "8b80e46e-e813-4d59-99e9-a38f95065640",
   "metadata": {},
   "source": [
    "# Plot linear model"
   ]
  },
  {
   "cell_type": "code",
   "execution_count": 15,
   "id": "8e79ec15-d826-46ab-8aeb-5a096cecbcd0",
   "metadata": {},
   "outputs": [
    {
     "data": {
      "text/plain": [
       "<seaborn.axisgrid.FacetGrid at 0x19a33029c10>"
      ]
     },
     "execution_count": 15,
     "metadata": {},
     "output_type": "execute_result"
    },
    {
     "data": {
      "image/png": "[encoded data removed]",
      "text/plain": [
       "<Figure size 360x360 with 1 Axes>"
      ]
     },
     "metadata": {},
     "output_type": "display_data"
    }
   ],
   "source": [
    "sns.lmplot(x='x', y='y', data=df)"
   ]
  },
  {
   "cell_type": "markdown",
   "id": "6bbf4180-e3eb-4817-87cc-97317f1fae3e",
   "metadata": {},
   "source": [
    "# Ordinary Least Squares (OLS) model"
   ]
  },
  {
   "cell_type": "code",
   "execution_count": 16,
   "id": "e18afae3-d583-4e81-9280-cd5fa88f02e5",
   "metadata": {},
   "outputs": [
    {
     "data": {
      "text/html": [
       "<table class=\"simpletable\">\n",
       "<caption>OLS Regression Results</caption>\n",
       "<tr>\n",
       "  <th>Dep. Variable:</th>            <td>y</td>        <th>  R-squared:         </th> <td>   0.985</td>\n",
       "</tr>\n",
       "<tr>\n",
       "  <th>Model:</th>                   <td>OLS</td>       <th>  Adj. R-squared:    </th> <td>   0.985</td>\n",
       "</tr>\n",
       "<tr>\n",
       "  <th>Method:</th>             <td>Least Squares</td>  <th>  F-statistic:       </th> <td>   3193.</td>\n",
       "</tr>\n",
       "<tr>\n",
       "  <th>Date:</th>             <td>Sat, 24 Dec 2022</td> <th>  Prob (F-statistic):</th> <td>1.43e-45</td>\n",
       "</tr>\n",
       "<tr>\n",
       "  <th>Time:</th>                 <td>22:41:50</td>     <th>  Log-Likelihood:    </th> <td> -135.83</td>\n",
       "</tr>\n",
       "<tr>\n",
       "  <th>No. Observations:</th>      <td>    50</td>      <th>  AIC:               </th> <td>   275.7</td>\n",
       "</tr>\n",
       "<tr>\n",
       "  <th>Df Residuals:</th>          <td>    48</td>      <th>  BIC:               </th> <td>   279.5</td>\n",
       "</tr>\n",
       "<tr>\n",
       "  <th>Df Model:</th>              <td>     1</td>      <th>                     </th>     <td> </td>   \n",
       "</tr>\n",
       "<tr>\n",
       "  <th>Covariance Type:</th>      <td>nonrobust</td>    <th>                     </th>     <td> </td>   \n",
       "</tr>\n",
       "</table>\n",
       "<table class=\"simpletable\">\n",
       "<tr>\n",
       "      <td></td>         <th>coef</th>     <th>std err</th>      <th>t</th>      <th>P>|t|</th>  <th>[0.025</th>    <th>0.975]</th>  \n",
       "</tr>\n",
       "<tr>\n",
       "  <th>Intercept</th> <td>   -0.9677</td> <td>    1.041</td> <td>   -0.930</td> <td> 0.357</td> <td>   -3.061</td> <td>    1.125</td>\n",
       "</tr>\n",
       "<tr>\n",
       "  <th>x</th>         <td>    1.0138</td> <td>    0.018</td> <td>   56.507</td> <td> 0.000</td> <td>    0.978</td> <td>    1.050</td>\n",
       "</tr>\n",
       "</table>\n",
       "<table class=\"simpletable\">\n",
       "<tr>\n",
       "  <th>Omnibus:</th>       <td> 0.041</td> <th>  Durbin-Watson:     </th> <td>   1.456</td>\n",
       "</tr>\n",
       "<tr>\n",
       "  <th>Prob(Omnibus):</th> <td> 0.980</td> <th>  Jarque-Bera (JB):  </th> <td>   0.227</td>\n",
       "</tr>\n",
       "<tr>\n",
       "  <th>Skew:</th>          <td> 0.018</td> <th>  Prob(JB):          </th> <td>   0.893</td>\n",
       "</tr>\n",
       "<tr>\n",
       "  <th>Kurtosis:</th>      <td> 2.672</td> <th>  Cond. No.          </th> <td>    114.</td>\n",
       "</tr>\n",
       "</table><br/><br/>Notes:<br/>[1] Standard Errors assume that the covariance matrix of the errors is correctly specified."
      ],
      "text/plain": [
       "<class 'statsmodels.iolib.summary.Summary'>\n",
       "\"\"\"\n",
       "                            OLS Regression Results                            \n",
       "==============================================================================\n",
       "Dep. Variable:                      y   R-squared:                       0.985\n",
       "Model:                            OLS   Adj. R-squared:                  0.985\n",
       "Method:                 Least Squares   F-statistic:                     3193.\n",
       "Date:                Sat, 24 Dec 2022   Prob (F-statistic):           1.43e-45\n",
       "Time:                        22:41:50   Log-Likelihood:                -135.83\n",
       "No. Observations:                  50   AIC:                             275.7\n",
       "Df Residuals:                      48   BIC:                             279.5\n",
       "Df Model:                           1                                         \n",
       "Covariance Type:            nonrobust                                         \n",
       "==============================================================================\n",
       "                 coef    std err          t      P>|t|      [0.025      0.975]\n",
       "------------------------------------------------------------------------------\n",
       "Intercept     -0.9677      1.041     -0.930      0.357      -3.061       1.125\n",
       "x              1.0138      0.018     56.507      0.000       0.978       1.050\n",
       "==============================================================================\n",
       "Omnibus:                        0.041   Durbin-Watson:                   1.456\n",
       "Prob(Omnibus):                  0.980   Jarque-Bera (JB):                0.227\n",
       "Skew:                           0.018   Prob(JB):                        0.893\n",
       "Kurtosis:                       2.672   Cond. No.                         114.\n",
       "==============================================================================\n",
       "\n",
       "Notes:\n",
       "[1] Standard Errors assume that the covariance matrix of the errors is correctly specified.\n",
       "\"\"\""
      ]
     },
     "execution_count": 16,
     "metadata": {},
     "output_type": "execute_result"
    }
   ],
   "source": [
    "model = ols(\"y ~ x\", data=df).fit()\n",
    "model.summary()"
   ]
  }
 ],
 "metadata": {
  "kernelspec": {
   "display_name": "Python 3 (ipykernel)",
   "language": "python",
   "name": "python3"
  },
  "language_info": {
   "codemirror_mode": {
    "name": "ipython",
    "version": 3
   },
   "file_extension": ".py",
   "mimetype": "text/x-python",
   "name": "python",
   "nbconvert_exporter": "python",
   "pygments_lexer": "ipython3",
   "version": "3.9.7"
  }
 },
 "nbformat": 4,
 "nbformat_minor": 5
}
