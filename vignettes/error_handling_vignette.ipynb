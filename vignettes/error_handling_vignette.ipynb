{
 "cells": [
  {
   "cell_type": "markdown",
   "id": "0842f82f",
   "metadata": {},
   "source": [
    "# Error Handling Vignette\n",
    "\n",
    "December 26, 2022\n",
    "\n",
    "Vignette of examples to demonstrate Python error handling techniques\n",
    "\n",
    "@author: Oscar A. Trevizo\n",
    "\n",
    "\n",
    "### References\n",
    "1. Harvard CSCI E101 course by Prof. Huang"
   ]
  },
  {
   "cell_type": "code",
   "execution_count": 1,
   "id": "26043c1a",
   "metadata": {},
   "outputs": [],
   "source": [
    "def test_digit(x):\n",
    "    try:\n",
    "        # If s is a valid digit then no error from casting\n",
    "        digit = float(x)\n",
    "        print(\"This is a digit\")\n",
    "        return True\n",
    "    except ValueError:\n",
    "        print(\"This is not a digit\")\n",
    "        return False\n",
    "    except TypeError:\n",
    "        print(\"Wrong data type\")\n",
    "        return False\n",
    "    else:\n",
    "        print(\"There is some other exception or error\")\n",
    "        return False\n"
   ]
  },
  {
   "cell_type": "code",
   "execution_count": 2,
   "id": "f94366cb",
   "metadata": {},
   "outputs": [
    {
     "name": "stdout",
     "output_type": "stream",
     "text": [
      "This is a digit\n"
     ]
    },
    {
     "data": {
      "text/plain": [
       "True"
      ]
     },
     "execution_count": 2,
     "metadata": {},
     "output_type": "execute_result"
    }
   ],
   "source": [
    "x = '3.14'\n",
    "test_digit(x)"
   ]
  },
  {
   "cell_type": "code",
   "execution_count": 3,
   "id": "da072e34",
   "metadata": {},
   "outputs": [
    {
     "name": "stdout",
     "output_type": "stream",
     "text": [
      "This is a digit\n"
     ]
    },
    {
     "data": {
      "text/plain": [
       "True"
      ]
     },
     "execution_count": 3,
     "metadata": {},
     "output_type": "execute_result"
    }
   ],
   "source": [
    "x = 3.14\n",
    "test_digit(x)"
   ]
  },
  {
   "cell_type": "code",
   "execution_count": 4,
   "id": "34b1f484-fa4e-4266-bc07-f89562adde2d",
   "metadata": {},
   "outputs": [
    {
     "name": "stdout",
     "output_type": "stream",
     "text": [
      "This is a digit\n"
     ]
    },
    {
     "data": {
      "text/plain": [
       "True"
      ]
     },
     "execution_count": 4,
     "metadata": {},
     "output_type": "execute_result"
    }
   ],
   "source": [
    "x = 3\n",
    "test_digit(x)"
   ]
  },
  {
   "cell_type": "code",
   "execution_count": 5,
   "id": "7e5eb8f0",
   "metadata": {},
   "outputs": [
    {
     "name": "stdout",
     "output_type": "stream",
     "text": [
      "This is not a digit\n"
     ]
    },
    {
     "data": {
      "text/plain": [
       "False"
      ]
     },
     "execution_count": 5,
     "metadata": {},
     "output_type": "execute_result"
    }
   ],
   "source": [
    "x = 'abc'\n",
    "test_digit(x)"
   ]
  },
  {
   "cell_type": "code",
   "execution_count": 6,
   "id": "5ba27e40",
   "metadata": {},
   "outputs": [
    {
     "name": "stdout",
     "output_type": "stream",
     "text": [
      "This is a digit\n"
     ]
    },
    {
     "data": {
      "text/plain": [
       "True"
      ]
     },
     "execution_count": 6,
     "metadata": {},
     "output_type": "execute_result"
    }
   ],
   "source": [
    "x = True\n",
    "test_digit(x)"
   ]
  },
  {
   "cell_type": "code",
   "execution_count": 7,
   "id": "a46f7065",
   "metadata": {},
   "outputs": [
    {
     "name": "stdout",
     "output_type": "stream",
     "text": [
      "This is not a digit\n"
     ]
    },
    {
     "data": {
      "text/plain": [
       "False"
      ]
     },
     "execution_count": 7,
     "metadata": {},
     "output_type": "execute_result"
    }
   ],
   "source": [
    "x = '1.2.3'\n",
    "test_digit(x)"
   ]
  },
  {
   "cell_type": "code",
   "execution_count": 8,
   "id": "a3e8eb3a",
   "metadata": {},
   "outputs": [
    {
     "name": "stdout",
     "output_type": "stream",
     "text": [
      "Wrong data type\n"
     ]
    },
    {
     "data": {
      "text/plain": [
       "False"
      ]
     },
     "execution_count": 8,
     "metadata": {},
     "output_type": "execute_result"
    }
   ],
   "source": [
    "x = None\n",
    "test_digit(x)"
   ]
  },
  {
   "cell_type": "code",
   "execution_count": null,
   "id": "9eadd126-17db-40a9-9961-a7e983b57c69",
   "metadata": {},
   "outputs": [],
   "source": []
  }
 ],
 "metadata": {
  "kernelspec": {
   "display_name": "Python 3 (ipykernel)",
   "language": "python",
   "name": "python3"
  },
  "language_info": {
   "codemirror_mode": {
    "name": "ipython",
    "version": 3
   },
   "file_extension": ".py",
   "mimetype": "text/x-python",
   "name": "python",
   "nbconvert_exporter": "python",
   "pygments_lexer": "ipython3",
   "version": "3.9.7"
  }
 },
 "nbformat": 4,
 "nbformat_minor": 5
}
