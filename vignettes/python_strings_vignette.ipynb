{
 "cells": [
  {
   "cell_type": "markdown",
   "id": "168c07f6",
   "metadata": {},
   "source": [
    "# Python Strings Vignette\n",
    "\n",
    "March 28, 2022\n",
    "\n",
    "@author: Oscar A. Trevizo\n",
    "\n",
    "* Various methods on strings \n",
    "\n",
    "References: \n",
    "1. https://docs.python.org/3/tutorial/datastructures.html\n",
    "1. https://docs.python.org/3/library/stdtypes.html?highlight=strip#string-methods\n",
    "1. https://docs.python.org/3/tutorial/datastructures.html#using-lists-as-stacks\n",
    "1. https://www.w3schools.com/python/python_lists_comprehension.asp\n",
    "1. https://www.geeksforgeeks.org/python-list-comprehension/\n",
    "1. Whirlwind Tour of Python, Jake Varderplas\n",
    "\n",
    "Additional references included within the code below."
   ]
  },
  {
   "cell_type": "markdown",
   "id": "446b19f8",
   "metadata": {},
   "source": [
    "# Strings are iterators"
   ]
  },
  {
   "cell_type": "code",
   "execution_count": 96,
   "id": "59f670b9",
   "metadata": {},
   "outputs": [
    {
     "name": "stdout",
     "output_type": "stream",
     "text": [
      "o-r-a-n-g-e-"
     ]
    }
   ],
   "source": [
    "# String are iterators. https://www.w3schools.com/python/python_iterators.asp\n",
    "for x in 'orange':\n",
    "    print(x, end = '-')"
   ]
  },
  {
   "cell_type": "markdown",
   "id": "69b48199",
   "metadata": {},
   "source": [
    "## String strip spaces, left, right, both"
   ]
  },
  {
   "cell_type": "code",
   "execution_count": 16,
   "id": "f9c3316a",
   "metadata": {},
   "outputs": [
    {
     "data": {
      "text/plain": [
       "'hello, world'"
      ]
     },
     "execution_count": 16,
     "metadata": {},
     "output_type": "execute_result"
    }
   ],
   "source": [
    "'   hello, world   '.strip()"
   ]
  },
  {
   "cell_type": "code",
   "execution_count": 17,
   "id": "fbd7018c",
   "metadata": {},
   "outputs": [
    {
     "data": {
      "text/plain": [
       "'hello, world   '"
      ]
     },
     "execution_count": 17,
     "metadata": {},
     "output_type": "execute_result"
    }
   ],
   "source": [
    "'   hello, world   '.lstrip()"
   ]
  },
  {
   "cell_type": "code",
   "execution_count": 18,
   "id": "c8a220c7",
   "metadata": {},
   "outputs": [
    {
     "data": {
      "text/plain": [
       "'   hello, world'"
      ]
     },
     "execution_count": 18,
     "metadata": {},
     "output_type": "execute_result"
    }
   ],
   "source": [
    "'   hello, world   '.rstrip()"
   ]
  },
  {
   "cell_type": "markdown",
   "id": "f4039c4d",
   "metadata": {},
   "source": [
    "## String find()\n",
    "Find location of substring, if it exists."
   ]
  },
  {
   "cell_type": "code",
   "execution_count": 19,
   "id": "e6075d9e",
   "metadata": {},
   "outputs": [
    {
     "data": {
      "text/plain": [
       "6"
      ]
     },
     "execution_count": 19,
     "metadata": {},
     "output_type": "execute_result"
    }
   ],
   "source": [
    "'hello, world'.find(' ')"
   ]
  },
  {
   "cell_type": "code",
   "execution_count": 20,
   "id": "8ac3d37a",
   "metadata": {},
   "outputs": [
    {
     "data": {
      "text/plain": [
       "7"
      ]
     },
     "execution_count": 20,
     "metadata": {},
     "output_type": "execute_result"
    }
   ],
   "source": [
    "'hello, world'.find('w')"
   ]
  },
  {
   "cell_type": "code",
   "execution_count": 25,
   "id": "59f92758",
   "metadata": {},
   "outputs": [
    {
     "name": "stdout",
     "output_type": "stream",
     "text": [
      "loc of w is 7\n"
     ]
    }
   ],
   "source": [
    "# Alternative to find()\n",
    "s = 'w'\n",
    "if s in 'hello, world':\n",
    "    print('loc of', s, 'is','hello, world'.find(s))\n",
    "else:\n",
    "    print(s, ' is not part of hello, world')"
   ]
  },
  {
   "cell_type": "code",
   "execution_count": 21,
   "id": "7bdb15a2",
   "metadata": {},
   "outputs": [
    {
     "data": {
      "text/plain": [
       "-1"
      ]
     },
     "execution_count": 21,
     "metadata": {},
     "output_type": "execute_result"
    }
   ],
   "source": [
    "'hello, world'.find('x')"
   ]
  },
  {
   "cell_type": "code",
   "execution_count": 24,
   "id": "381738b1",
   "metadata": {},
   "outputs": [
    {
     "name": "stdout",
     "output_type": "stream",
     "text": [
      "x  is not part of hello, world\n"
     ]
    }
   ],
   "source": [
    "# Alternative to find()\n",
    "s = 'x'\n",
    "if s in 'hello, world':\n",
    "    print('loc of', s, 'is','hello, world'.find(s))\n",
    "else:\n",
    "    print(s, ' is not part of hello, world')"
   ]
  },
  {
   "cell_type": "code",
   "execution_count": 22,
   "id": "4867c001",
   "metadata": {},
   "outputs": [
    {
     "data": {
      "text/plain": [
       "True"
      ]
     },
     "execution_count": 22,
     "metadata": {},
     "output_type": "execute_result"
    }
   ],
   "source": [
    "'hello' in 'hello, world'"
   ]
  },
  {
   "cell_type": "code",
   "execution_count": 23,
   "id": "4805fbf8",
   "metadata": {},
   "outputs": [
    {
     "data": {
      "text/plain": [
       "False"
      ]
     },
     "execution_count": 23,
     "metadata": {},
     "output_type": "execute_result"
    }
   ],
   "source": [
    "'x' in 'hello, world'"
   ]
  },
  {
   "cell_type": "code",
   "execution_count": 95,
   "id": "15750cfa",
   "metadata": {},
   "outputs": [
    {
     "data": {
      "text/plain": [
       "8"
      ]
     },
     "execution_count": 95,
     "metadata": {},
     "output_type": "execute_result"
    }
   ],
   "source": [
    "'hello, world'.find('orl')"
   ]
  },
  {
   "cell_type": "code",
   "execution_count": 26,
   "id": "88d5a3c5",
   "metadata": {},
   "outputs": [
    {
     "name": "stdout",
     "output_type": "stream",
     "text": [
      "loc of orl is 8\n"
     ]
    }
   ],
   "source": [
    "# Alternative to find()\n",
    "s = 'orl'\n",
    "if s in 'hello, world':\n",
    "    print('loc of', s, 'is','hello, world'.find(s))\n",
    "else:\n",
    "    print(s, ' is not part of hello, world')"
   ]
  },
  {
   "cell_type": "markdown",
   "id": "6dfcda84",
   "metadata": {},
   "source": [
    "# List with string in it. Call methods on its strings"
   ]
  },
  {
   "cell_type": "code",
   "execution_count": 51,
   "id": "f0b685cf",
   "metadata": {},
   "outputs": [
    {
     "data": {
      "text/plain": [
       "['apple', 'banana', 'mango']"
      ]
     },
     "execution_count": 51,
     "metadata": {},
     "output_type": "execute_result"
    }
   ],
   "source": [
    "# List comprehension example using also strings\n",
    "# https://www.w3schools.com/python/python_lists_comprehension.asp\n",
    "fruits = [\"apple\", \"banana\", \"cherry\", \"kiwi\", \"mango\"]\n",
    "[x for x in fruits if \"a\" in x]"
   ]
  },
  {
   "cell_type": "code",
   "execution_count": 52,
   "id": "1929d7f4",
   "metadata": {},
   "outputs": [
    {
     "data": {
      "text/plain": [
       "['banana', 'cherry', 'kiwi', 'mango']"
      ]
     },
     "execution_count": 52,
     "metadata": {},
     "output_type": "execute_result"
    }
   ],
   "source": [
    "# https://www.w3schools.com/python/python_lists_comprehension.asp\n",
    "[x for x in fruits if x != \"apple\"]"
   ]
  },
  {
   "cell_type": "code",
   "execution_count": 46,
   "id": "c820ff04",
   "metadata": {},
   "outputs": [],
   "source": [
    "# call a string method on each element\n",
    "freshfruit = ['  banana', '  loganberry ', 'passion fruit  ']"
   ]
  },
  {
   "cell_type": "code",
   "execution_count": 47,
   "id": "4eefa9bd",
   "metadata": {},
   "outputs": [
    {
     "data": {
      "text/plain": [
       "['banana', 'loganberry', 'passion fruit']"
      ]
     },
     "execution_count": 47,
     "metadata": {},
     "output_type": "execute_result"
    }
   ],
   "source": [
    "[s.strip() for s in freshfruit]"
   ]
  },
  {
   "cell_type": "markdown",
   "id": "9216e161",
   "metadata": {},
   "source": [
    "# Make a list out of a string"
   ]
  },
  {
   "cell_type": "code",
   "execution_count": 55,
   "id": "bd32085e",
   "metadata": {},
   "outputs": [
    {
     "data": {
      "text/plain": [
       "['h', 'e', 'l', 'l', 'o', ',', ' ', 'w', 'o', 'r', 'l', 'd']"
      ]
     },
     "execution_count": 55,
     "metadata": {},
     "output_type": "execute_result"
    }
   ],
   "source": [
    "# Make a list from a string\n",
    "# https://www.geeksforgeeks.org/python-list-comprehension/\n",
    "[char for char in 'hello, world']"
   ]
  },
  {
   "cell_type": "markdown",
   "id": "67d7f59d",
   "metadata": {},
   "source": [
    "## String split()"
   ]
  },
  {
   "cell_type": "code",
   "execution_count": 64,
   "id": "304761e3",
   "metadata": {},
   "outputs": [
    {
     "data": {
      "text/plain": [
       "['harvard', 'university']"
      ]
     },
     "execution_count": 64,
     "metadata": {},
     "output_type": "execute_result"
    }
   ],
   "source": [
    "s = \"harvard university\"\n",
    "s.split(' ')"
   ]
  },
  {
   "cell_type": "code",
   "execution_count": 65,
   "id": "28090bc2",
   "metadata": {},
   "outputs": [
    {
     "data": {
      "text/plain": [
       "['harvard', 'university']"
      ]
     },
     "execution_count": 65,
     "metadata": {},
     "output_type": "execute_result"
    }
   ],
   "source": [
    "s2 = s.split(' ')\n",
    "s2"
   ]
  },
  {
   "cell_type": "code",
   "execution_count": 66,
   "id": "a8f8bf5c",
   "metadata": {},
   "outputs": [
    {
     "data": {
      "text/plain": [
       "'university'"
      ]
     },
     "execution_count": 66,
     "metadata": {},
     "output_type": "execute_result"
    }
   ],
   "source": [
    "s2[1][0:]"
   ]
  },
  {
   "cell_type": "markdown",
   "id": "2bea44b2",
   "metadata": {},
   "source": [
    "### String methods\n",
    "isalnum()\n",
    "\n",
    "isalpha()\n",
    "\n",
    "isdigit()\n",
    "\n",
    "islower()\n",
    "\n",
    "isspace()\n",
    "\n",
    "isupper()"
   ]
  },
  {
   "cell_type": "code",
   "execution_count": 68,
   "id": "2b3b8946",
   "metadata": {},
   "outputs": [
    {
     "data": {
      "text/plain": [
       "False"
      ]
     },
     "execution_count": 68,
     "metadata": {},
     "output_type": "execute_result"
    }
   ],
   "source": [
    "'hello, world'.isalnum()"
   ]
  },
  {
   "cell_type": "code",
   "execution_count": 69,
   "id": "3faef3fe",
   "metadata": {},
   "outputs": [
    {
     "data": {
      "text/plain": [
       "True"
      ]
     },
     "execution_count": 69,
     "metadata": {},
     "output_type": "execute_result"
    }
   ],
   "source": [
    "'helloworld'.isalnum()"
   ]
  },
  {
   "cell_type": "code",
   "execution_count": 74,
   "id": "77b4ca0a",
   "metadata": {},
   "outputs": [
    {
     "data": {
      "text/plain": [
       "True"
      ]
     },
     "execution_count": 74,
     "metadata": {},
     "output_type": "execute_result"
    }
   ],
   "source": [
    "'123'.isdigit()"
   ]
  },
  {
   "cell_type": "code",
   "execution_count": 75,
   "id": "647a2c65",
   "metadata": {},
   "outputs": [
    {
     "data": {
      "text/plain": [
       "False"
      ]
     },
     "execution_count": 75,
     "metadata": {},
     "output_type": "execute_result"
    }
   ],
   "source": [
    "'abc'.isdigit()"
   ]
  },
  {
   "cell_type": "code",
   "execution_count": 76,
   "id": "27ab444c",
   "metadata": {},
   "outputs": [
    {
     "data": {
      "text/plain": [
       "True"
      ]
     },
     "execution_count": 76,
     "metadata": {},
     "output_type": "execute_result"
    }
   ],
   "source": [
    "'abc'.islower()"
   ]
  },
  {
   "cell_type": "code",
   "execution_count": 77,
   "id": "b8e1e5fb",
   "metadata": {},
   "outputs": [
    {
     "data": {
      "text/plain": [
       "False"
      ]
     },
     "execution_count": 77,
     "metadata": {},
     "output_type": "execute_result"
    }
   ],
   "source": [
    "'abc'.isupper()"
   ]
  },
  {
   "cell_type": "code",
   "execution_count": 78,
   "id": "187e743e",
   "metadata": {},
   "outputs": [
    {
     "data": {
      "text/plain": [
       "True"
      ]
     },
     "execution_count": 78,
     "metadata": {},
     "output_type": "execute_result"
    }
   ],
   "source": [
    "'ABC'.isupper()"
   ]
  },
  {
   "cell_type": "code",
   "execution_count": 79,
   "id": "6ee6e4b8",
   "metadata": {},
   "outputs": [
    {
     "data": {
      "text/plain": [
       "True"
      ]
     },
     "execution_count": 79,
     "metadata": {},
     "output_type": "execute_result"
    }
   ],
   "source": [
    "'ABC'.isalpha()"
   ]
  },
  {
   "cell_type": "code",
   "execution_count": 80,
   "id": "b10a2d28",
   "metadata": {},
   "outputs": [
    {
     "data": {
      "text/plain": [
       "False"
      ]
     },
     "execution_count": 80,
     "metadata": {},
     "output_type": "execute_result"
    }
   ],
   "source": [
    "'abc123'.isalpha()"
   ]
  },
  {
   "cell_type": "markdown",
   "id": "82ab23ad",
   "metadata": {},
   "source": [
    "## Searching strings\n",
    "endswith(substring)\n",
    "\n",
    "find(substring)\n",
    "\n",
    "startswith(substring)\n",
    "\n",
    "replace(old_string, new_string)"
   ]
  },
  {
   "cell_type": "code",
   "execution_count": 71,
   "id": "b352399a",
   "metadata": {},
   "outputs": [
    {
     "data": {
      "text/plain": [
       "True"
      ]
     },
     "execution_count": 71,
     "metadata": {},
     "output_type": "execute_result"
    }
   ],
   "source": [
    "\"www.harvard.edu\".endswith(\".edu\")"
   ]
  },
  {
   "cell_type": "code",
   "execution_count": 72,
   "id": "cfa54a9f",
   "metadata": {},
   "outputs": [
    {
     "data": {
      "text/plain": [
       "False"
      ]
     },
     "execution_count": 72,
     "metadata": {},
     "output_type": "execute_result"
    }
   ],
   "source": [
    "\"www.harvard.edu\".endswith(\".net\")"
   ]
  },
  {
   "cell_type": "code",
   "execution_count": 73,
   "id": "9ea22ddb",
   "metadata": {},
   "outputs": [
    {
     "data": {
      "text/plain": [
       "True"
      ]
     },
     "execution_count": 73,
     "metadata": {},
     "output_type": "execute_result"
    }
   ],
   "source": [
    "\"www.harvard.edu\".startswith(\"www\")"
   ]
  },
  {
   "cell_type": "code",
   "execution_count": 97,
   "id": "ea5fbea6",
   "metadata": {},
   "outputs": [
    {
     "data": {
      "text/plain": [
       "'www.harvard.edu'"
      ]
     },
     "execution_count": 97,
     "metadata": {},
     "output_type": "execute_result"
    }
   ],
   "source": [
    "'www.yale.edu'.replace('yale', 'harvard')"
   ]
  },
  {
   "cell_type": "code",
   "execution_count": null,
   "id": "210ed9fd",
   "metadata": {},
   "outputs": [],
   "source": []
  }
 ],
 "metadata": {
  "kernelspec": {
   "display_name": "Python 3 (ipykernel)",
   "language": "python",
   "name": "python3"
  },
  "language_info": {
   "codemirror_mode": {
    "name": "ipython",
    "version": 3
   },
   "file_extension": ".py",
   "mimetype": "text/x-python",
   "name": "python",
   "nbconvert_exporter": "python",
   "pygments_lexer": "ipython3",
   "version": "3.9.7"
  }
 },
 "nbformat": 4,
 "nbformat_minor": 5
}
