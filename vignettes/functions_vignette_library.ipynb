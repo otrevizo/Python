{
 "cells": [
  {
   "cell_type": "markdown",
   "id": "ff2a768c",
   "metadata": {},
   "source": [
    "# Functions vignette library"
   ]
  },
  {
   "cell_type": "markdown",
   "id": "328d50a7",
   "metadata": {},
   "source": [
    "October 29, 2021\n",
    "\n",
    "Vignette: Introduction to Python Functions as a Library\n",
    "\n",
    "Needs to be saved as 'functions_vignette_library.py'\n",
    "\n",
    "Then it can be imported into a Python script.\n",
    "\n",
    "@author: Oscar A. Trevizo\n",
    "\n",
    "Some properties of Python functions:\n",
    "* You need to define the function before you can use it.\n",
    "* Then you will call a function and the function will run its code.\n",
    "* The function can return a value back if you want it.\n",
    "* You can send information to the function when you call it.\n",
    "* That is, you can send \"arguments\" to the function (variables with values)\n",
    "* You can define exactly what arguments you must send.\n",
    "* Your function can be flexible and take a varied number of arguments.\n",
    "* Your function can set default values to the arguments."
   ]
  },
  {
   "cell_type": "markdown",
   "id": "78483dbd",
   "metadata": {},
   "source": [
    "# Functions with no arguments and no return"
   ]
  },
  {
   "cell_type": "code",
   "execution_count": 1,
   "id": "2339daeb",
   "metadata": {},
   "outputs": [],
   "source": [
    "# Functions with noarguments and no return\n",
    "\n",
    "def hello_world():\n",
    "    \"\"\" \n",
    "    This function has no arguments.\n",
    "    'hello, world' originally from Kernighan & Ritchie, The C Prog Language\n",
    "    \"\"\"\n",
    "    print(\"hello, world\")\n",
    "\n",
    "\n",
    "def goodbye_cruel_world():\n",
    "    \"\"\" \n",
    "    Pink Floyd, The Wall: \"Goodbye Cruel World\" (Roger Waters)\n",
    "    \"\"\"\n",
    "    print(\"good bye, cruel world\")\n",
    "\n",
    "\n",
    "def hello_goodbye():\n",
    "    \"\"\"\n",
    "    The Beatles, Magical Mystery Tour: \"Hello, Goodbye\" (Lennon-McCartney)\n",
    "    \"\"\"\n",
    "    print(\"Your say goodbye, and I say hello\")"
   ]
  },
  {
   "cell_type": "markdown",
   "id": "752a6405",
   "metadata": {},
   "source": [
    "# Functions with arguments and no return"
   ]
  },
  {
   "cell_type": "code",
   "execution_count": 2,
   "id": "320ef33f",
   "metadata": {},
   "outputs": [],
   "source": [
    "# Functions with arguments and no return\n",
    "\n",
    "def args2_noreturn(a, b):\n",
    "    \"\"\"\n",
    "    Takes 2 arguments, no return \n",
    "    \"\"\"\n",
    "    print(\"Two arguments: \", a, \" and \", b)\n",
    "\n",
    "\n",
    "def add_2_nums_noreturn(x, y):\n",
    "    \"\"\"\n",
    "    Adds two numbers, no return \n",
    "    \"\"\"\n",
    "    z = x + y\n",
    "    print(z)"
   ]
  },
  {
   "cell_type": "markdown",
   "id": "5f10f4d9",
   "metadata": {},
   "source": [
    "# Functions with arguments and return one value"
   ]
  },
  {
   "cell_type": "code",
   "execution_count": 3,
   "id": "01502d16",
   "metadata": {},
   "outputs": [],
   "source": [
    "# Functions with arguments and return one value\n",
    "\n",
    "def add_2_nums_withreturn(x, y):\n",
    "    \"\"\"\n",
    "    Adds two numbers, and returns result \n",
    "    \"\"\"\n",
    "    z = x + y\n",
    "    return z\n",
    "\n",
    "\n",
    "def get_cube(x):\n",
    "    \"\"\" \n",
    "    Calculates the cube of an argument, and returns the result \n",
    "    \"\"\"\n",
    "    y = x * x * x\n",
    "    return y"
   ]
  },
  {
   "cell_type": "markdown",
   "id": "7d613907",
   "metadata": {},
   "source": [
    "# Functions with arguments and return two values"
   ]
  },
  {
   "cell_type": "code",
   "execution_count": 4,
   "id": "a2100eaf",
   "metadata": {},
   "outputs": [],
   "source": [
    "# Functions with arguments and return two values\n",
    "\n",
    "def get_square_and_cube(x):\n",
    "    \"\"\"\n",
    "    Calculates square and return and returns both results \n",
    "    \"\"\"\n",
    "    y = x * x\n",
    "    z = x * x * x\n",
    "    return y, z\n",
    "\n"
   ]
  },
  {
   "cell_type": "markdown",
   "id": "d79abcd8",
   "metadata": {},
   "source": [
    "# Functions with arguments that have default values"
   ]
  },
  {
   "cell_type": "code",
   "execution_count": 5,
   "id": "957ec9d1",
   "metadata": {},
   "outputs": [],
   "source": [
    "# Functions with arguments that have default values\n",
    "\n",
    "def power_x_to_the_y(x, y=2):\n",
    "    \"\"\" \n",
    "    Only one argument is required: x\n",
    "    The 2nd arg is a keyword optional variable, y default = 2\n",
    "    \"\"\"\n",
    "    z = x ** y\n",
    "    return z\n",
    "\n",
    "\n",
    "def power_x_to_the_y_plus_z(x, y=2, z=100):\n",
    "    \"\"\" \n",
    "    Only one argument is required: x.\n",
    "    The 2nd keyword arg defaults to 2.\n",
    "    The 3rd keyword arg defaults to 100.\n",
    "    \"\"\"\n",
    "    m = x ** y + z\n",
    "    return m"
   ]
  },
  {
   "cell_type": "markdown",
   "id": "b78a1e26",
   "metadata": {},
   "source": [
    "# Functions with a variable number of arguments"
   ]
  },
  {
   "cell_type": "code",
   "execution_count": 6,
   "id": "4c49b57e",
   "metadata": {},
   "outputs": [],
   "source": [
    "# Functions with a variable number of arguments\n",
    "\n",
    "def sum_various_numbers(*args):\n",
    "    \"\"\"\n",
    "    The * is the key here:\n",
    "    It is a special list; a tuple (immutable list) containing values\n",
    "    \"\"\"\n",
    "    print(\"The tuple *args received: \", args)\n",
    "    print(\"The tuple length received: \", len(args))\n",
    "    # Args is a tuple (items), similar to a list, but with special properties\n",
    "    # The items in a tuple are ordered and indexed (starting with 0)\n",
    "    y = 0\n",
    "    for x in args:\n",
    "        y = y + x\n",
    "    return y\n",
    "\n",
    "\n",
    "def multiply_the_sum_of_various_numbers(x, *args):\n",
    "    \"\"\"\n",
    "    Takes a regular argument and variable number of arguments\n",
    "    \"\"\"\n",
    "    print(\"The x received: \", x)\n",
    "    print(\"The tuple *args received: \", args)\n",
    "    print(\"The tuple length received: \", len(args))\n",
    "    # Args is a tuple (items), similar to a list, but with special properties\n",
    "    # The items in a tuple are ordered and indexed (starting with 0)\n",
    "    y = 0\n",
    "    for t in args:\n",
    "        y = y + t\n",
    "    y = x + y\n",
    "    return y"
   ]
  },
  {
   "cell_type": "markdown",
   "id": "97d9b0cd",
   "metadata": {},
   "source": [
    "# Functions with a variable number of arguments defined under a dictionary"
   ]
  },
  {
   "cell_type": "code",
   "execution_count": 7,
   "id": "4043b07e",
   "metadata": {},
   "outputs": [],
   "source": [
    "# Functions with a variable number of arguments defined under a dictionary\n",
    "\n",
    "def take_various_kewordvars(**kwargs):\n",
    "    \"\"\"\n",
    "    The ** is the key here: Any length dictionary of keyworded variables.\n",
    "    A dictionary is special data structure that list pairs {name:value...}\n",
    "    \"\"\"\n",
    "    print(\"The kword args received: \", kwargs)\n",
    "    return kwargs"
   ]
  },
  {
   "cell_type": "markdown",
   "id": "984c0cbe",
   "metadata": {},
   "source": [
    "# References"
   ]
  },
  {
   "cell_type": "markdown",
   "id": "611416e4",
   "metadata": {},
   "source": [
    "* The Python Tutorial, https://docs.python.org/3/tutorial/\n",
    "    https://docs.python.org/3/tutorial/controlflow.html#defining-functions\n",
    "    https://docs.python.org/3/tutorial/datastructures.html\n",
    "* https://numpy.org/doc/stable/reference/generated/numpy.array.html\n",
    "* VanderPlas, J. \"Python Data Science Handbook\", O'Reilly Media 2016\n",
    "* VanderPlas, J. \"A Whirlwind Tour of Python\" O'Reilly Media 2016"
   ]
  },
  {
   "cell_type": "code",
   "execution_count": null,
   "id": "8379e3ef",
   "metadata": {},
   "outputs": [],
   "source": []
  }
 ],
 "metadata": {
  "kernelspec": {
   "display_name": "Python 3 (ipykernel)",
   "language": "python",
   "name": "python3"
  },
  "language_info": {
   "codemirror_mode": {
    "name": "ipython",
    "version": 3
   },
   "file_extension": ".py",
   "mimetype": "text/x-python",
   "name": "python",
   "nbconvert_exporter": "python",
   "pygments_lexer": "ipython3",
   "version": "3.9.7"
  }
 },
 "nbformat": 4,
 "nbformat_minor": 5
}
