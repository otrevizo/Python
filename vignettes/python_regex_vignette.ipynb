{
 "cells": [
  {
   "cell_type": "markdown",
   "id": "c29010b2",
   "metadata": {},
   "source": [
    "# Python Regex Vignette\n",
    "\n",
    "December 26, 2022\n",
    "\n",
    "Vignette for Regex techniques.\n",
    "\n",
    "@author: Oscar A. Trevizo\n",
    "\n",
    "### References\n",
    "1. https://docs.python.org/3/library/re.html\n",
    "1. https://docs.python.org/3/howto/regex.html\n"
   ]
  },
  {
   "cell_type": "markdown",
   "id": "ea168803-70a1-418f-a208-d1c2e7de2984",
   "metadata": {},
   "source": [
    "# Library"
   ]
  },
  {
   "cell_type": "code",
   "execution_count": 1,
   "id": "8e0b9649",
   "metadata": {},
   "outputs": [],
   "source": [
    "import re"
   ]
  },
  {
   "cell_type": "markdown",
   "id": "addfcfc7-ffd7-424f-a213-7369d3aab57d",
   "metadata": {},
   "source": [
    "# Get data"
   ]
  },
  {
   "cell_type": "code",
   "execution_count": 3,
   "id": "5ecf970c-ea5b-4de8-a646-ad5cd6f8cdce",
   "metadata": {},
   "outputs": [],
   "source": [
    "s = \"hello, world\""
   ]
  },
  {
   "cell_type": "markdown",
   "id": "8b224c7b-6709-42e4-9a05-3ac235b7b4a7",
   "metadata": {},
   "source": [
    "# Instantiate Regex rule"
   ]
  },
  {
   "cell_type": "code",
   "execution_count": 6,
   "id": "26d8595a-431d-4edb-86c9-97ae06b17a54",
   "metadata": {},
   "outputs": [],
   "source": [
    "reg_alpha = re.compile(r'[A-Za-z]')"
   ]
  },
  {
   "cell_type": "markdown",
   "id": "68b15a60-cc34-4eae-b7c6-cd0ea3778475",
   "metadata": {},
   "source": [
    "# Test instantiated Regex rule"
   ]
  },
  {
   "cell_type": "code",
   "execution_count": 7,
   "id": "67658310-e246-46eb-bd64-1e6eb310fd70",
   "metadata": {},
   "outputs": [
    {
     "data": {
      "text/plain": [
       "['h', 'e', 'l', 'l', 'o', 'w', 'o', 'r', 'l', 'd']"
      ]
     },
     "execution_count": 7,
     "metadata": {},
     "output_type": "execute_result"
    }
   ],
   "source": [
    "reg_alpha.findall(s)"
   ]
  },
  {
   "cell_type": "markdown",
   "id": "2da29c81-f742-4831-883d-d1f8a7b1e5a1",
   "metadata": {},
   "source": [
    "# Change the data and test it"
   ]
  },
  {
   "cell_type": "code",
   "execution_count": 8,
   "id": "41096363",
   "metadata": {},
   "outputs": [
    {
     "data": {
      "text/plain": [
       "['h', 'e', 'l', 'l', 'o', 'w', 'o', 'r', 'l', 'd']"
      ]
     },
     "execution_count": 8,
     "metadata": {},
     "output_type": "execute_result"
    }
   ],
   "source": [
    "s = \"h###ello,,,,worl3.1416d$$$$\"\n",
    "reg_alpha.findall(s)"
   ]
  },
  {
   "cell_type": "markdown",
   "id": "5af6115d-d8eb-46da-b920-49629da576d4",
   "metadata": {},
   "source": [
    "# New rule, add * and test it"
   ]
  },
  {
   "cell_type": "code",
   "execution_count": 11,
   "id": "07d2cc3b-e95c-4c3f-b33b-3adb04d89ca9",
   "metadata": {},
   "outputs": [
    {
     "data": {
      "text/plain": [
       "['h',\n",
       " '',\n",
       " '',\n",
       " '',\n",
       " 'ello',\n",
       " '',\n",
       " '',\n",
       " '',\n",
       " '',\n",
       " 'worl',\n",
       " '',\n",
       " '',\n",
       " '',\n",
       " '',\n",
       " '',\n",
       " '',\n",
       " 'd',\n",
       " '',\n",
       " '',\n",
       " '',\n",
       " '',\n",
       " '']"
      ]
     },
     "execution_count": 11,
     "metadata": {},
     "output_type": "execute_result"
    }
   ],
   "source": [
    "reg_alpha_plus = re.compile(r'[A-Za-z]*')\n",
    "reg_alpha_plus.findall(s)"
   ]
  },
  {
   "cell_type": "markdown",
   "id": "4c7c45ce-4888-474d-b80b-b1c294e81acb",
   "metadata": {},
   "source": [
    "# Instatiate new rule, numeric digits"
   ]
  },
  {
   "cell_type": "code",
   "execution_count": 14,
   "id": "8a7f8404-e9fe-4b7c-a8e4-c269bfc46fa1",
   "metadata": {},
   "outputs": [],
   "source": [
    "reg_digits = re.compile(r'[0-9]')"
   ]
  },
  {
   "cell_type": "markdown",
   "id": "6a064129-c762-4dbd-8c41-04e8ed9e72be",
   "metadata": {},
   "source": [
    "# Test it"
   ]
  },
  {
   "cell_type": "code",
   "execution_count": 16,
   "id": "d2a4385d-f319-42ac-8a79-c0b7d07edad8",
   "metadata": {},
   "outputs": [
    {
     "data": {
      "text/plain": [
       "['3', '1', '4', '1', '6']"
      ]
     },
     "execution_count": 16,
     "metadata": {},
     "output_type": "execute_result"
    }
   ],
   "source": [
    "n ='pi is 3.1416'\n",
    "\n",
    "reg_digits.findall(n)"
   ]
  },
  {
   "cell_type": "markdown",
   "id": "71a7cfc4-ad7f-4b07-a845-12251f9ede44",
   "metadata": {},
   "source": [
    "# Codes to automate rules"
   ]
  },
  {
   "cell_type": "markdown",
   "id": "8a5a4913",
   "metadata": {},
   "source": [
    "<ul>\n",
    "  <li>\\d Any numeric digit from 0 to 9.</li>\n",
    "  <li>\\w Any letter, numeric digit, or the underscore character</li>\n",
    "  <li>\\s Any space, tab, or newline character.</li>\n",
    "</ul>\n"
   ]
  },
  {
   "cell_type": "code",
   "execution_count": 12,
   "id": "4c594005",
   "metadata": {},
   "outputs": [
    {
     "data": {
      "text/plain": [
       "['', '', '', '', '', '', '', '', '', '75555688', '']"
      ]
     },
     "execution_count": 12,
     "metadata": {},
     "output_type": "execute_result"
    }
   ],
   "source": [
    "text ='My id is 75555688'\n",
    "reg = re.compile(r'\\d*')\n",
    "reg.findall(text)"
   ]
  },
  {
   "cell_type": "code",
   "execution_count": 13,
   "id": "9330ac82",
   "metadata": {},
   "outputs": [
    {
     "data": {
      "text/plain": [
       "['My', '', 'id', '', 'is', '', '75555688', '']"
      ]
     },
     "execution_count": 13,
     "metadata": {},
     "output_type": "execute_result"
    }
   ],
   "source": [
    "text ='My id is 75555688'\n",
    "reg = re.compile(r'\\w*')\n",
    "reg.findall(text)"
   ]
  },
  {
   "cell_type": "code",
   "execution_count": 14,
   "id": "593d3a73",
   "metadata": {},
   "outputs": [
    {
     "data": {
      "text/plain": [
       "[' ', ' ', ' ']"
      ]
     },
     "execution_count": 14,
     "metadata": {},
     "output_type": "execute_result"
    }
   ],
   "source": [
    "text ='My id is 75555688'\n",
    "reg = re.compile(r'\\s')\n",
    "reg.findall(text)"
   ]
  },
  {
   "cell_type": "code",
   "execution_count": 15,
   "id": "ce486d46",
   "metadata": {},
   "outputs": [
    {
     "data": {
      "text/plain": [
       "['', '', '', '', '', '', '', '', '', '', '', '', '', '12', '', '99', '']"
      ]
     },
     "execution_count": 15,
     "metadata": {},
     "output_type": "execute_result"
    }
   ],
   "source": [
    "text ='The price is 12.99'\n",
    "reg = re.compile(r'\\d*')\n",
    "reg.findall(text)"
   ]
  },
  {
   "cell_type": "markdown",
   "id": "f6884bfa",
   "metadata": {},
   "source": [
    "## My own"
   ]
  },
  {
   "cell_type": "code",
   "execution_count": 13,
   "id": "e0280e1a",
   "metadata": {},
   "outputs": [],
   "source": [
    "import pandas as pd\n",
    "import numpy as np"
   ]
  },
  {
   "cell_type": "code",
   "execution_count": 23,
   "id": "e2a68744",
   "metadata": {},
   "outputs": [],
   "source": [
    "df = pd.DataFrame({'n':[1, '#', 3], 's':['a', 'b', '#']})"
   ]
  },
  {
   "cell_type": "code",
   "execution_count": 24,
   "id": "22143d04",
   "metadata": {},
   "outputs": [
    {
     "data": {
      "text/html": [
       "<div>\n",
       "<style scoped>\n",
       "    .dataframe tbody tr th:only-of-type {\n",
       "        vertical-align: middle;\n",
       "    }\n",
       "\n",
       "    .dataframe tbody tr th {\n",
       "        vertical-align: top;\n",
       "    }\n",
       "\n",
       "    .dataframe thead th {\n",
       "        text-align: right;\n",
       "    }\n",
       "</style>\n",
       "<table border=\"1\" class=\"dataframe\">\n",
       "  <thead>\n",
       "    <tr style=\"text-align: right;\">\n",
       "      <th></th>\n",
       "      <th>n</th>\n",
       "      <th>s</th>\n",
       "    </tr>\n",
       "  </thead>\n",
       "  <tbody>\n",
       "    <tr>\n",
       "      <th>0</th>\n",
       "      <td>1</td>\n",
       "      <td>a</td>\n",
       "    </tr>\n",
       "    <tr>\n",
       "      <th>1</th>\n",
       "      <td>#</td>\n",
       "      <td>b</td>\n",
       "    </tr>\n",
       "    <tr>\n",
       "      <th>2</th>\n",
       "      <td>3</td>\n",
       "      <td>#</td>\n",
       "    </tr>\n",
       "  </tbody>\n",
       "</table>\n",
       "</div>"
      ],
      "text/plain": [
       "   n  s\n",
       "0  1  a\n",
       "1  #  b\n",
       "2  3  #"
      ]
     },
     "execution_count": 24,
     "metadata": {},
     "output_type": "execute_result"
    }
   ],
   "source": [
    "df.head()"
   ]
  },
  {
   "cell_type": "code",
   "execution_count": 27,
   "id": "b496fabc",
   "metadata": {},
   "outputs": [
    {
     "data": {
      "text/html": [
       "<div>\n",
       "<style scoped>\n",
       "    .dataframe tbody tr th:only-of-type {\n",
       "        vertical-align: middle;\n",
       "    }\n",
       "\n",
       "    .dataframe tbody tr th {\n",
       "        vertical-align: top;\n",
       "    }\n",
       "\n",
       "    .dataframe thead th {\n",
       "        text-align: right;\n",
       "    }\n",
       "</style>\n",
       "<table border=\"1\" class=\"dataframe\">\n",
       "  <thead>\n",
       "    <tr style=\"text-align: right;\">\n",
       "      <th></th>\n",
       "      <th>n</th>\n",
       "      <th>s</th>\n",
       "    </tr>\n",
       "  </thead>\n",
       "  <tbody>\n",
       "    <tr>\n",
       "      <th>0</th>\n",
       "      <td>1</td>\n",
       "      <td>a</td>\n",
       "    </tr>\n",
       "    <tr>\n",
       "      <th>1</th>\n",
       "      <td>NaN</td>\n",
       "      <td>b</td>\n",
       "    </tr>\n",
       "    <tr>\n",
       "      <th>2</th>\n",
       "      <td>3</td>\n",
       "      <td>#</td>\n",
       "    </tr>\n",
       "  </tbody>\n",
       "</table>\n",
       "</div>"
      ],
      "text/plain": [
       "     n  s\n",
       "0    1  a\n",
       "1  NaN  b\n",
       "2    3  #"
      ]
     },
     "execution_count": 27,
     "metadata": {},
     "output_type": "execute_result"
    }
   ],
   "source": [
    "df['n'] = df['n'].replace('[^A-Za-z0-9]', np.NaN, regex = True)\n",
    "df.head()"
   ]
  },
  {
   "cell_type": "code",
   "execution_count": 28,
   "id": "f815882c",
   "metadata": {},
   "outputs": [
    {
     "data": {
      "text/html": [
       "<div>\n",
       "<style scoped>\n",
       "    .dataframe tbody tr th:only-of-type {\n",
       "        vertical-align: middle;\n",
       "    }\n",
       "\n",
       "    .dataframe tbody tr th {\n",
       "        vertical-align: top;\n",
       "    }\n",
       "\n",
       "    .dataframe thead th {\n",
       "        text-align: right;\n",
       "    }\n",
       "</style>\n",
       "<table border=\"1\" class=\"dataframe\">\n",
       "  <thead>\n",
       "    <tr style=\"text-align: right;\">\n",
       "      <th></th>\n",
       "      <th>n</th>\n",
       "      <th>s</th>\n",
       "    </tr>\n",
       "  </thead>\n",
       "  <tbody>\n",
       "    <tr>\n",
       "      <th>0</th>\n",
       "      <td>1</td>\n",
       "      <td>a</td>\n",
       "    </tr>\n",
       "    <tr>\n",
       "      <th>1</th>\n",
       "      <td>NaN</td>\n",
       "      <td>b</td>\n",
       "    </tr>\n",
       "    <tr>\n",
       "      <th>2</th>\n",
       "      <td>3</td>\n",
       "      <td>NaN</td>\n",
       "    </tr>\n",
       "  </tbody>\n",
       "</table>\n",
       "</div>"
      ],
      "text/plain": [
       "     n    s\n",
       "0    1    a\n",
       "1  NaN    b\n",
       "2    3  NaN"
      ]
     },
     "execution_count": 28,
     "metadata": {},
     "output_type": "execute_result"
    }
   ],
   "source": [
    "df['s'] = df['s'].replace('[^A-Za-z0-9]', np.NaN, regex = True)\n",
    "df.head()"
   ]
  },
  {
   "cell_type": "code",
   "execution_count": null,
   "id": "548f0cfe",
   "metadata": {},
   "outputs": [],
   "source": []
  }
 ],
 "metadata": {
  "kernelspec": {
   "display_name": "Python 3 (ipykernel)",
   "language": "python",
   "name": "python3"
  },
  "language_info": {
   "codemirror_mode": {
    "name": "ipython",
    "version": 3
   },
   "file_extension": ".py",
   "mimetype": "text/x-python",
   "name": "python",
   "nbconvert_exporter": "python",
   "pygments_lexer": "ipython3",
   "version": "3.9.7"
  }
 },
 "nbformat": 4,
 "nbformat_minor": 5
}
