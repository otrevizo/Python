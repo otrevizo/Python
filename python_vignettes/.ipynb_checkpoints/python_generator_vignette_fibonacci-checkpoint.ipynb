{
 "cells": [
  {
   "cell_type": "markdown",
   "id": "c7d0a10e",
   "metadata": {},
   "source": [
    "# Python generator example: Fibonacci sequence\n",
    "\n",
    "April 19, 2024\n",
    "\n",
    "This is a generator based on a function that returns a Fibonacci sequence.\n",
    "This is a very efficient function.\n",
    "\n",
    "@author: Oscar A. Trevizo\n",
    "\n",
    "### References\n",
    "- \"Python documentation: Wiki: Generators\" (accessed Apr. 18, 2024) \n",
    "    https://wiki.python.org/moin/Generators\n",
    "- GitHub: https://github.com/otrevizo/Python/tree/main/python_vignettes\n",
    "- Under that repository, see `python_generator_vignette_inclusive_range.ipynb`\n"
   ]
  },
  {
   "cell_type": "code",
   "execution_count": 1,
   "id": "9dee7fdb",
   "metadata": {},
   "outputs": [],
   "source": [
    "def fibonacci_generator(max_value):\n",
    "    \"\"\"\n",
    "    Generates a Fibonacci sequence no larger than a maximum value.\n",
    "    It applies a generator (with yield keyword).\n",
    "    The sequence is based on the standard definition of a fibonacci number.\n",
    "\n",
    "    f(n) = f(n-1) + f(n-2), where:\n",
    "\n",
    "    f(n) = The nth Fibonacci number\n",
    "    f(0) = 0 (first number)\n",
    "    f(1) = 1 (second number)\n",
    "    \n",
    "    Input:\n",
    "    max_value:  numberic eualt to or grater than zero.\n",
    "                The maximum Fibonacci number generated \n",
    "                will be smaller than or equal to max_value.\n",
    "    Yields:\n",
    "    value: Integer, the Fibonacci number in the sequence.\n",
    "    \"\"\"\n",
    "    \n",
    "    # Error handling\n",
    "    if not isinstance(max_value, (int, float)) or (max_value < 0):\n",
    "        raise TypeError(\"The 'max_value' must be a postive number\")\n",
    "\n",
    "    # Initialize the Fibonacci sequence starting with zero and one\n",
    "    current_fib = 0\n",
    "    next_fib = 1\n",
    "    \n",
    "    while current_fib <= max_value:\n",
    "        \n",
    "        # yield pauses execution and returns the current Fibonacci number\n",
    "        yield current_fib\n",
    "        \n",
    "        # Update the current and next Fibonacci numbers in one line of code\n",
    "        current_fib, next_fib = next_fib, current_fib + next_fib\n"
   ]
  },
  {
   "cell_type": "code",
   "execution_count": 2,
   "id": "04e86344",
   "metadata": {},
   "outputs": [
    {
     "name": "stdout",
     "output_type": "stream",
     "text": [
      "0\n",
      "1\n",
      "1\n",
      "2\n",
      "3\n",
      "5\n",
      "8\n"
     ]
    }
   ],
   "source": [
    "# Place the generator function within the 'for' statement\n",
    "for num in fibonacci_generator(10):\n",
    "    print(num)\n"
   ]
  },
  {
   "cell_type": "code",
   "execution_count": 3,
   "id": "a2eaac6a",
   "metadata": {},
   "outputs": [
    {
     "name": "stdout",
     "output_type": "stream",
     "text": [
      "0\n",
      "1\n",
      "1\n",
      "2\n",
      "3\n",
      "5\n",
      "8\n",
      "13\n",
      "21\n",
      "34\n",
      "55\n",
      "89\n",
      "144\n",
      "233\n",
      "377\n",
      "610\n",
      "987\n",
      "1597\n",
      "2584\n",
      "4181\n",
      "6765\n",
      "10946\n",
      "17711\n",
      "28657\n",
      "46368\n",
      "75025\n",
      "121393\n",
      "196418\n",
      "317811\n",
      "514229\n",
      "832040\n",
      "1346269\n",
      "2178309\n",
      "3524578\n",
      "5702887\n",
      "9227465\n"
     ]
    }
   ],
   "source": [
    "# Notice the speed of this generator. It is so efficient.\n",
    "# Place the generator function within the 'for' statement\n",
    "for num in fibonacci_generator(10000000):\n",
    "    print(num)\n"
   ]
  }
 ],
 "metadata": {
  "kernelspec": {
   "display_name": "Python 3 (ipykernel)",
   "language": "python",
   "name": "python3"
  },
  "language_info": {
   "codemirror_mode": {
    "name": "ipython",
    "version": 3
   },
   "file_extension": ".py",
   "mimetype": "text/x-python",
   "name": "python",
   "nbconvert_exporter": "python",
   "pygments_lexer": "ipython3",
   "version": "3.9.19"
  },
  "varInspector": {
   "cols": {
    "lenName": 16,
    "lenType": 16,
    "lenVar": 40
   },
   "kernels_config": {
    "python": {
     "delete_cmd_postfix": "",
     "delete_cmd_prefix": "del ",
     "library": "var_list.py",
     "varRefreshCmd": "print(var_dic_list())"
    },
    "r": {
     "delete_cmd_postfix": ") ",
     "delete_cmd_prefix": "rm(",
     "library": "var_list.r",
     "varRefreshCmd": "cat(var_dic_list()) "
    }
   },
   "types_to_exclude": [
    "module",
    "function",
    "builtin_function_or_method",
    "instance",
    "_Feature"
   ],
   "window_display": false
  }
 },
 "nbformat": 4,
 "nbformat_minor": 5
}
