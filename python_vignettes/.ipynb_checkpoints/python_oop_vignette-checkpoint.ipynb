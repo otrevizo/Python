{
 "cells": [
  {
   "cell_type": "markdown",
   "id": "8c00c2c9",
   "metadata": {},
   "source": [
    "# Python OOP vignette\n",
    "\n",
    "April 15, 2024\n",
    "\n",
    "@author Oscar A. Trevizo\n",
    "\n",
    "This vignette goes over key concepts of Object Oriented Programming (OOP) in Python. \n",
    "\n",
    "\n",
    "### References\n",
    "- GitHub: https://github.com/otrevizo/Python/tree/main/python_vignettes\n",
    "- YouTube playlist: https://www.youtube.com/playlist?list=PLJgpRhj3_bvG0VVM3RLw3NSjCFP3rKbmu \n"
   ]
  },
  {
   "cell_type": "markdown",
   "id": "dc88cac3",
   "metadata": {},
   "source": [
    "# Key concepts of OOP\n",
    "\n",
    "1. <b>Class:</b> A \"blueprint\" for creating objects that encapsulate data (attributes) and functions (methods). The user can define new data types. \n",
    "1. <b>Object:</b> A specific realization of the class, with its own unique data and behavior; an instatiation of a class. The user instantiates the object.\n",
    "1. <b>Attributes:</b> Variables that store data associated with a class or object.\n",
    "1. <b>Methods:</b> Perform actions on the object's data or interact with other objects.\n",
    "1. <b>Inheritance:</b> The ability of a class to inherit properties and methods from another class to reuse code reuse and  created hierarchies of classes.\n",
    "1. <b>Encapsulation:</b> The bundling of data and methods that operate on that data into a single unit, called a class. It hides the internal state of an object from the outside, and only exposes the necessary methods for interacting with it.\n",
    "1. <b>Polymorphism:</b> Allows to modify methods in each subclass (from inheritence) while using the same method name.\n",
    "\n",
    "### Types of methods:\n",
    "1. <b>Setters (mutators):</b> Modify the value of an attribute within a class instance, allowing for controlled updates to the internal state of the object.\n",
    "1. <b>Getters (accessors):</b> Retrieve the value of an attribute from a class instance, providing controlled access to the internal state of the object without directly exposing its attributes.\n",
    "1. <b>Constructor Methods:</b> Constructor methods, often named `__init__`, are used to initialize new instances of a class with initial values for its attributes.\n",
    "1. <b>Instance Methods:</b> Instance methods are regular methods defined within a class that operate on the instance itself, typically using the self parameter to access instance attributes and methods.\n",
    "1. <b>Class Methods:</b> Operate on the class itself rather than on instances.\n",
    "1. <b>Static Methods:</b> Methods that do not operate on either the class or its instances. Typically used for utility functions."
   ]
  },
  {
   "cell_type": "markdown",
   "id": "c1ecee98",
   "metadata": {},
   "source": [
    "# Create a class named Person\n",
    "\n",
    "The class has a name, attributes, and methods. There is a method named `__init__`. The `__` double underscores imply that this is a special method with a special behavior. they are called dunder methods. The `__init__` method is called automatically when an instance of the class is created.\n",
    "\n",
    "The user will pass three attributes to instantiate this class named Person; `name`, `age`, `city`, and `state`.\n",
    "\n"
   ]
  },
  {
   "cell_type": "code",
   "execution_count": 1,
   "id": "07abf593",
   "metadata": {},
   "outputs": [],
   "source": [
    "class Person:\n",
    "    \"\"\"\n",
    "    Stores information about a person. It allows access to the information\n",
    "    and it allows changes to one of its attributes.\n",
    "    \n",
    "    Inputs:\n",
    "    name: string. The name of the person\n",
    "    age: int. The age of the person\n",
    "    city: string. The city where the person lives\n",
    "    state: string. The state where the person lives\n",
    "    \n",
    "    For educational purposes to cover OOP. It does not include error handling techniques.\n",
    "    \"\"\"\n",
    "    # __init__ is called automatically when an instance is created\n",
    "    def __init__(self, name, age, city, state):\n",
    "        # self is a convention used to refer to the current instance of the class\n",
    "        # self.argument_name contains the argument_name value for that instance (self)\n",
    "        self.name = name\n",
    "        self.__age = age     # Notice I added '__' to age to encapsulate it.. see get_age()\n",
    "        self.city = city\n",
    "        self.state = state\n",
    "\n",
    "    def introduce(self):\n",
    "        # This is an instance type of method. It operates on the instance\n",
    "        return f\"Hello, my name is {self.name}. I live in {self.city}, {self.state}.\"\n",
    "\n",
    "    def add_age(self):\n",
    "        # This is an instance type of method. It operates on the instance\n",
    "        self.__age += 1\n",
    "        \n",
    "    def get_data(self):\n",
    "        # This is a getter (accessor). It accesses attributes\n",
    "        person_data = {\n",
    "            'name': self.name,\n",
    "            'age': self.__age,\n",
    "            'city': self.city,\n",
    "            'state': self.state\n",
    "        }\n",
    "        return person_data\n",
    "    \n",
    "    def get_age(self):\n",
    "        # This is a getter (accessor). It accesses an encapsulated attribure self.__age\n",
    "        return self.__age\n",
    "    \n",
    "    def set_city(self, new_city):\n",
    "        # This is a setter (mutator). It changes attribute values\n",
    "        self.city = new_city\n",
    "\n",
    "    def set_state(self, new_state):\n",
    "        # This is a setter (mutator). It changes attribute values\n",
    "        self.state = new_state\n",
    "\n",
    "    def set_age(self, new_age):\n",
    "        # This is a setter (mutator). It changes attribute values\n",
    "        self.__age = new_age\n",
    "    \n",
    "   "
   ]
  },
  {
   "cell_type": "markdown",
   "id": "a2549819",
   "metadata": {},
   "source": [
    "# Instantiate objects of class Person"
   ]
  },
  {
   "cell_type": "code",
   "execution_count": 2,
   "id": "7dcc13a6",
   "metadata": {},
   "outputs": [],
   "source": [
    "# Create objects of class Person\n",
    "person1 = Person('John', 25, 'New York', 'NY')\n",
    "person2 = Person('Alice', 30, 'Los Angeles', 'CA')"
   ]
  },
  {
   "cell_type": "markdown",
   "id": "2327bce5",
   "metadata": {},
   "source": [
    "# Execute methods on those object"
   ]
  },
  {
   "cell_type": "code",
   "execution_count": 3,
   "id": "f921f370",
   "metadata": {},
   "outputs": [
    {
     "data": {
      "text/plain": [
       "'Hello, my name is John. I live in New York, NY.'"
      ]
     },
     "execution_count": 3,
     "metadata": {},
     "output_type": "execute_result"
    }
   ],
   "source": [
    "person1.introduce()"
   ]
  },
  {
   "cell_type": "code",
   "execution_count": 4,
   "id": "46df4bfd",
   "metadata": {},
   "outputs": [
    {
     "data": {
      "text/plain": [
       "'Hello, my name is Alice. I live in Los Angeles, CA.'"
      ]
     },
     "execution_count": 4,
     "metadata": {},
     "output_type": "execute_result"
    }
   ],
   "source": [
    "person2.introduce()"
   ]
  },
  {
   "cell_type": "markdown",
   "id": "085f347c",
   "metadata": {},
   "source": [
    "# Access attributes"
   ]
  },
  {
   "cell_type": "code",
   "execution_count": 5,
   "id": "57c1c360",
   "metadata": {},
   "outputs": [
    {
     "data": {
      "text/plain": [
       "'John'"
      ]
     },
     "execution_count": 5,
     "metadata": {},
     "output_type": "execute_result"
    }
   ],
   "source": [
    "person1.name"
   ]
  },
  {
   "cell_type": "code",
   "execution_count": 6,
   "id": "f4dccd1e",
   "metadata": {},
   "outputs": [
    {
     "data": {
      "text/plain": [
       "'New York'"
      ]
     },
     "execution_count": 6,
     "metadata": {},
     "output_type": "execute_result"
    }
   ],
   "source": [
    "person1.city"
   ]
  },
  {
   "cell_type": "code",
   "execution_count": 7,
   "id": "e4cc44df",
   "metadata": {},
   "outputs": [
    {
     "data": {
      "text/plain": [
       "25"
      ]
     },
     "execution_count": 7,
     "metadata": {},
     "output_type": "execute_result"
    }
   ],
   "source": [
    "# Attribute age is encapsulated and defined as '__age'\n",
    "# We need to call a getter attribute to get that data \n",
    "person1.get_age()"
   ]
  },
  {
   "cell_type": "code",
   "execution_count": 8,
   "id": "8034fd18",
   "metadata": {},
   "outputs": [
    {
     "data": {
      "text/plain": [
       "{'name': 'John', 'age': 25, 'city': 'New York', 'state': 'NY'}"
      ]
     },
     "execution_count": 8,
     "metadata": {},
     "output_type": "execute_result"
    }
   ],
   "source": [
    "# Access all the data given in the dictionary\n",
    "person1.get_data()"
   ]
  },
  {
   "cell_type": "markdown",
   "id": "f6c63e18",
   "metadata": {},
   "source": [
    "# Modify value of attributes"
   ]
  },
  {
   "cell_type": "code",
   "execution_count": 9,
   "id": "0a2bfda8",
   "metadata": {},
   "outputs": [],
   "source": [
    "# Run a method that adds a year to person1\n",
    "person1.add_age()"
   ]
  },
  {
   "cell_type": "code",
   "execution_count": 10,
   "id": "5e70380a",
   "metadata": {},
   "outputs": [
    {
     "data": {
      "text/plain": [
       "26"
      ]
     },
     "execution_count": 10,
     "metadata": {},
     "output_type": "execute_result"
    }
   ],
   "source": [
    "person1.get_age()"
   ]
  },
  {
   "cell_type": "code",
   "execution_count": 11,
   "id": "a47b9d1c",
   "metadata": {},
   "outputs": [],
   "source": [
    "# replace the age value with a new value\n",
    "person1.set_age(28)"
   ]
  },
  {
   "cell_type": "code",
   "execution_count": 12,
   "id": "47c9520f",
   "metadata": {},
   "outputs": [
    {
     "data": {
      "text/plain": [
       "28"
      ]
     },
     "execution_count": 12,
     "metadata": {},
     "output_type": "execute_result"
    }
   ],
   "source": [
    "person1.get_age()"
   ]
  },
  {
   "cell_type": "code",
   "execution_count": 14,
   "id": "056a34de",
   "metadata": {},
   "outputs": [
    {
     "data": {
      "text/plain": [
       "{'name': 'John', 'age': 28, 'city': 'Albany', 'state': 'NY'}"
      ]
     },
     "execution_count": 14,
     "metadata": {},
     "output_type": "execute_result"
    }
   ],
   "source": [
    "# Access all the data given in the dictionary\n",
    "person1.get_data()"
   ]
  },
  {
   "cell_type": "code",
   "execution_count": 13,
   "id": "c3673fb4",
   "metadata": {},
   "outputs": [],
   "source": [
    "person1.set_city('Albany')"
   ]
  },
  {
   "cell_type": "code",
   "execution_count": 14,
   "id": "124af270",
   "metadata": {},
   "outputs": [
    {
     "data": {
      "text/plain": [
       "{'name': 'John', 'age': 28, 'city': 'Albany', 'state': 'NY'}"
      ]
     },
     "execution_count": 14,
     "metadata": {},
     "output_type": "execute_result"
    }
   ],
   "source": [
    "# Access all the data given in the dictionary\n",
    "person1.get_data()"
   ]
  }
 ],
 "metadata": {
  "kernelspec": {
   "display_name": "Python 3 (ipykernel)",
   "language": "python",
   "name": "python3"
  },
  "language_info": {
   "codemirror_mode": {
    "name": "ipython",
    "version": 3
   },
   "file_extension": ".py",
   "mimetype": "text/x-python",
   "name": "python",
   "nbconvert_exporter": "python",
   "pygments_lexer": "ipython3",
   "version": "3.9.19"
  },
  "varInspector": {
   "cols": {
    "lenName": 16,
    "lenType": 16,
    "lenVar": 40
   },
   "kernels_config": {
    "python": {
     "delete_cmd_postfix": "",
     "delete_cmd_prefix": "del ",
     "library": "var_list.py",
     "varRefreshCmd": "print(var_dic_list())"
    },
    "r": {
     "delete_cmd_postfix": ") ",
     "delete_cmd_prefix": "rm(",
     "library": "var_list.r",
     "varRefreshCmd": "cat(var_dic_list()) "
    }
   },
   "types_to_exclude": [
    "module",
    "function",
    "builtin_function_or_method",
    "instance",
    "_Feature"
   ],
   "window_display": false
  }
 },
 "nbformat": 4,
 "nbformat_minor": 5
}
