{
 "cells": [
  {
   "cell_type": "markdown",
   "id": "a8614bc6",
   "metadata": {},
   "source": [
    "# Python iterator vignette: inclusive range example\n",
    "\n",
    "April 13, 2024\n",
    "\n",
    "@author Oscar A. Trevizo\n",
    "\n",
    "The \n",
    "\n",
    "### References\n",
    "- \"Python documentation: Glossary: iterators\" (accessed Apr. 13, 2023) \n",
    "    https://docs.python.org/3/glossary.html#term-iterator\n"
   ]
  },
  {
   "cell_type": "markdown",
   "id": "b24356ca",
   "metadata": {},
   "source": [
    "# Key concepts:\n",
    "\n",
    "<b>Iterables:</b> Collections like lists, strings, tuples, and dictionaries are considered iterables in Python. Each essentially represents a sequence of items that can be iterated over. \n",
    "\n",
    "<b>Iterators:</b> Iterators are objects that implement the `__next__` method and (optionally) the `__iter__` method allowing you to access elements of an iterable one at a time.\n",
    "\n",
    "Iterators are a fundamental concept in Python for efficient and controlled iteration over collections.\n",
    "They provide memory efficiency and flexibility for handling large datasets and custom iteration needs.\n",
    "The `__next__` method is the heart of an iterator, responsible for returning the next element in the sequence.\n",
    "\n",
    "<b>`For`</b> Loop Compatibility: The core characteristic of an iterable is its ability to be used in a `for` loop. When you use an iterable in a `for` loop, Python creates an iterator object behind the scenes that allows you to access elements sequentially."
   ]
  },
  {
   "cell_type": "code",
   "execution_count": 1,
   "id": "e7408816",
   "metadata": {},
   "outputs": [],
   "source": [
    "class InclusiveRangeIterator:\n",
    "    \"\"\"\n",
    "    Iterates from start to end, including the end value.\n",
    "    It behave differently than the range() built-in function because\n",
    "    range() does not include the last value.\n",
    "    \n",
    "    Inputs:\n",
    "    start: Numeric integer. The starting value in your iteration\n",
    "    end: Numeric integer. The end value\n",
    "    \n",
    "    Returns:\n",
    "    current_number: The iteration, one by end from start to end\n",
    "    \n",
    "    \"\"\"\n",
    "    def __init__(self, start, end):\n",
    "        if not isinstance(start, int) or not isinstance(end, int):\n",
    "            raise TypeError(\"The 'start' and 'end' values must be integers\")\n",
    "        self.start = start\n",
    "        self.current = start\n",
    "        self.end = end  # Modify end to be exclusive (not included in the original iteration)\n",
    "\n",
    "    def __iter__(self):\n",
    "        return self\n",
    "\n",
    "    def __next__(self):\n",
    "        # The next value will include the 'end' value (hence the '<=' operator)\n",
    "        if self.current <= self.end:\n",
    "            current_number = self.current\n",
    "            self.current += 1\n",
    "            return current_number\n",
    "        else:\n",
    "            raise StopIteration\n"
   ]
  },
  {
   "cell_type": "code",
   "execution_count": 2,
   "id": "c25ab8c5",
   "metadata": {},
   "outputs": [
    {
     "name": "stdout",
     "output_type": "stream",
     "text": [
      "5\n",
      "6\n",
      "7\n",
      "8\n",
      "9\n",
      "10\n",
      "11\n",
      "12\n",
      "13\n",
      "14\n",
      "15\n"
     ]
    }
   ],
   "source": [
    "# Define start and end values (same as before)\n",
    "start_value = 5\n",
    "end_value = 15  # Now exclusive (not included in the original iteration)\n",
    "\n",
    "# Create a RangeIterator object\n",
    "range_iterator = InclusiveRangeIterator(start_value, end_value)\n",
    "\n",
    "# Use in a for loop\n",
    "for number in range_iterator:\n",
    "    print(number)\n"
   ]
  },
  {
   "cell_type": "code",
   "execution_count": 3,
   "id": "d75c38e1",
   "metadata": {},
   "outputs": [
    {
     "name": "stdout",
     "output_type": "stream",
     "text": [
      "5\n"
     ]
    }
   ],
   "source": [
    "# Create a RangeIterator object\n",
    "range_iterator = InclusiveRangeIterator(5, 5)\n",
    "# Use in a for loop\n",
    "for number in range_iterator:\n",
    "    print(number)\n"
   ]
  },
  {
   "cell_type": "code",
   "execution_count": 4,
   "id": "c6234c7f",
   "metadata": {},
   "outputs": [
    {
     "ename": "TypeError",
     "evalue": "The 'start' and 'end' values must be integers",
     "output_type": "error",
     "traceback": [
      "\u001b[1;31m---------------------------------------------------------------------------\u001b[0m",
      "\u001b[1;31mTypeError\u001b[0m                                 Traceback (most recent call last)",
      "Cell \u001b[1;32mIn[4], line 2\u001b[0m\n\u001b[0;32m      1\u001b[0m \u001b[38;5;66;03m# Create a RangeIterator object\u001b[39;00m\n\u001b[1;32m----> 2\u001b[0m range_iterator \u001b[38;5;241m=\u001b[39m \u001b[43mInclusiveRangeIterator\u001b[49m\u001b[43m(\u001b[49m\u001b[38;5;241;43m2.1\u001b[39;49m\u001b[43m,\u001b[49m\u001b[43m \u001b[49m\u001b[38;5;241;43m5.1\u001b[39;49m\u001b[43m)\u001b[49m\n\u001b[0;32m      3\u001b[0m \u001b[38;5;66;03m# Use in a for loop\u001b[39;00m\n\u001b[0;32m      4\u001b[0m \u001b[38;5;28;01mfor\u001b[39;00m number \u001b[38;5;129;01min\u001b[39;00m range_iterator:\n",
      "Cell \u001b[1;32mIn[1], line 17\u001b[0m, in \u001b[0;36mInclusiveRangeIterator.__init__\u001b[1;34m(self, start, end)\u001b[0m\n\u001b[0;32m     15\u001b[0m \u001b[38;5;28;01mdef\u001b[39;00m \u001b[38;5;21m__init__\u001b[39m(\u001b[38;5;28mself\u001b[39m, start, end):\n\u001b[0;32m     16\u001b[0m     \u001b[38;5;28;01mif\u001b[39;00m \u001b[38;5;129;01mnot\u001b[39;00m \u001b[38;5;28misinstance\u001b[39m(start, \u001b[38;5;28mint\u001b[39m) \u001b[38;5;129;01mor\u001b[39;00m \u001b[38;5;129;01mnot\u001b[39;00m \u001b[38;5;28misinstance\u001b[39m(end, \u001b[38;5;28mint\u001b[39m):\n\u001b[1;32m---> 17\u001b[0m         \u001b[38;5;28;01mraise\u001b[39;00m \u001b[38;5;167;01mTypeError\u001b[39;00m(\u001b[38;5;124m\"\u001b[39m\u001b[38;5;124mThe \u001b[39m\u001b[38;5;124m'\u001b[39m\u001b[38;5;124mstart\u001b[39m\u001b[38;5;124m'\u001b[39m\u001b[38;5;124m and \u001b[39m\u001b[38;5;124m'\u001b[39m\u001b[38;5;124mend\u001b[39m\u001b[38;5;124m'\u001b[39m\u001b[38;5;124m values must be integers\u001b[39m\u001b[38;5;124m\"\u001b[39m)\n\u001b[0;32m     18\u001b[0m     \u001b[38;5;28mself\u001b[39m\u001b[38;5;241m.\u001b[39mstart \u001b[38;5;241m=\u001b[39m start\n\u001b[0;32m     19\u001b[0m     \u001b[38;5;28mself\u001b[39m\u001b[38;5;241m.\u001b[39mcurrent \u001b[38;5;241m=\u001b[39m start\n",
      "\u001b[1;31mTypeError\u001b[0m: The 'start' and 'end' values must be integers"
     ]
    }
   ],
   "source": [
    "# Create a RangeIterator object\n",
    "range_iterator = InclusiveRangeIterator(2.1, 5.1)\n",
    "# Use in a for loop\n",
    "for number in range_iterator:\n",
    "    print(number)\n"
   ]
  }
 ],
 "metadata": {
  "kernelspec": {
   "display_name": "Python 3 (ipykernel)",
   "language": "python",
   "name": "python3"
  },
  "language_info": {
   "codemirror_mode": {
    "name": "ipython",
    "version": 3
   },
   "file_extension": ".py",
   "mimetype": "text/x-python",
   "name": "python",
   "nbconvert_exporter": "python",
   "pygments_lexer": "ipython3",
   "version": "3.9.19"
  },
  "varInspector": {
   "cols": {
    "lenName": 16,
    "lenType": 16,
    "lenVar": 40
   },
   "kernels_config": {
    "python": {
     "delete_cmd_postfix": "",
     "delete_cmd_prefix": "del ",
     "library": "var_list.py",
     "varRefreshCmd": "print(var_dic_list())"
    },
    "r": {
     "delete_cmd_postfix": ") ",
     "delete_cmd_prefix": "rm(",
     "library": "var_list.r",
     "varRefreshCmd": "cat(var_dic_list()) "
    }
   },
   "types_to_exclude": [
    "module",
    "function",
    "builtin_function_or_method",
    "instance",
    "_Feature"
   ],
   "window_display": false
  }
 },
 "nbformat": 4,
 "nbformat_minor": 5
}
