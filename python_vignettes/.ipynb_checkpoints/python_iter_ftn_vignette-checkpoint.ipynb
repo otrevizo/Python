{
 "cells": [
  {
   "cell_type": "markdown",
   "id": "168c07f6",
   "metadata": {},
   "source": [
    "# Python iter() Vignette\n",
    "\n",
    "March 28, 2022\n",
    "\n",
    "Updated: April 13, 2024\n",
    "\n",
    "This vignette focuses on the built-in function iter().\n",
    "\n",
    "\n",
    "@author: Oscar A. Trevizo\n",
    "\n",
    "* Iterators\n",
    "\n",
    "References: \n",
    "1. https://docs.python.org/3/library/stdtypes.html?highlight=strip#sequence-types-list-tuple-range\n",
    "1. https://www.w3schools.com/python/python_iterators.asp\n",
    "1. https://docs.python.org/3/tutorial/datastructures.html\n",
    "\n",
    "Additional references included within the code below."
   ]
  },
  {
   "cell_type": "markdown",
   "id": "83629f15",
   "metadata": {},
   "source": [
    "# Iterators\n",
    "\n",
    "They have iter() and next() methods"
   ]
  },
  {
   "cell_type": "code",
   "execution_count": 1,
   "id": "b980e2b6",
   "metadata": {},
   "outputs": [],
   "source": [
    "# %% Iterators\n",
    "# Iterators. https://www.w3schools.com/python/python_iterators.asp\n",
    "# From w3schools: \"Technically, in Python, an iterator is an object which \n",
    "# implements the iterator protocol, which consist of the methods __iter__() and __next__().\"\n",
    "#\n",
    "my_tuple = ('orange', 'apple', 'pear', 'banana', 'kiwi', 'apple', 'banana')\n",
    "my_iterator = iter(my_tuple)"
   ]
  },
  {
   "cell_type": "code",
   "execution_count": 2,
   "id": "685b7c2a",
   "metadata": {},
   "outputs": [
    {
     "data": {
      "text/plain": [
       "tuple_iterator"
      ]
     },
     "execution_count": 2,
     "metadata": {},
     "output_type": "execute_result"
    }
   ],
   "source": [
    "type(my_iterator)"
   ]
  },
  {
   "cell_type": "code",
   "execution_count": 3,
   "id": "18e39b50",
   "metadata": {},
   "outputs": [],
   "source": [
    "# dir(my_iterator)"
   ]
  },
  {
   "cell_type": "code",
   "execution_count": 4,
   "id": "67ed1a0b",
   "metadata": {},
   "outputs": [
    {
     "data": {
      "text/plain": [
       "'orange'"
      ]
     },
     "execution_count": 4,
     "metadata": {},
     "output_type": "execute_result"
    }
   ],
   "source": [
    "next(my_iterator)"
   ]
  },
  {
   "cell_type": "code",
   "execution_count": 5,
   "id": "580dc5fc",
   "metadata": {},
   "outputs": [
    {
     "data": {
      "text/plain": [
       "'apple'"
      ]
     },
     "execution_count": 5,
     "metadata": {},
     "output_type": "execute_result"
    }
   ],
   "source": [
    "next(my_iterator)"
   ]
  },
  {
   "cell_type": "code",
   "execution_count": 6,
   "id": "2321af5e",
   "metadata": {},
   "outputs": [
    {
     "data": {
      "text/plain": [
       "'pear'"
      ]
     },
     "execution_count": 6,
     "metadata": {},
     "output_type": "execute_result"
    }
   ],
   "source": [
    "next(my_iterator)"
   ]
  },
  {
   "cell_type": "code",
   "execution_count": 7,
   "id": "9e46999c",
   "metadata": {},
   "outputs": [],
   "source": [
    "my_iterator = iter(range(10))"
   ]
  },
  {
   "cell_type": "code",
   "execution_count": 8,
   "id": "b3efd4d8",
   "metadata": {},
   "outputs": [
    {
     "data": {
      "text/plain": [
       "0"
      ]
     },
     "execution_count": 8,
     "metadata": {},
     "output_type": "execute_result"
    }
   ],
   "source": [
    "next(my_iterator)"
   ]
  },
  {
   "cell_type": "code",
   "execution_count": 9,
   "id": "ccdbe541",
   "metadata": {},
   "outputs": [
    {
     "data": {
      "text/plain": [
       "1"
      ]
     },
     "execution_count": 9,
     "metadata": {},
     "output_type": "execute_result"
    }
   ],
   "source": [
    "next(my_iterator)"
   ]
  },
  {
   "cell_type": "code",
   "execution_count": 10,
   "id": "1cd12c58",
   "metadata": {},
   "outputs": [
    {
     "data": {
      "text/plain": [
       "2"
      ]
     },
     "execution_count": 10,
     "metadata": {},
     "output_type": "execute_result"
    }
   ],
   "source": [
    "next(my_iterator)"
   ]
  },
  {
   "cell_type": "code",
   "execution_count": 11,
   "id": "4fabcfbb",
   "metadata": {},
   "outputs": [
    {
     "data": {
      "text/plain": [
       "3"
      ]
     },
     "execution_count": 11,
     "metadata": {},
     "output_type": "execute_result"
    }
   ],
   "source": [
    "next(my_iterator)"
   ]
  },
  {
   "cell_type": "code",
   "execution_count": 12,
   "id": "d8483941",
   "metadata": {},
   "outputs": [
    {
     "name": "stdout",
     "output_type": "stream",
     "text": [
      "1\n",
      "2\n",
      "3\n",
      "4\n",
      "5\n"
     ]
    }
   ],
   "source": [
    "# Create an iterator\n",
    "# https://www.w3schools.com/python/python_iterators.asp\n",
    "#\n",
    "# From w3schools: \"To create an object/class as an iterator you have \n",
    "# to implement the methods __iter__() and __next__() to your object.\"\n",
    "#\n",
    "class MyNumbers:\n",
    "    def __iter__(self):\n",
    "        self.a = 1\n",
    "        return self\n",
    "\n",
    "    def __next__(self):\n",
    "        x = self.a\n",
    "        self.a += 1\n",
    "        return x\n",
    "\n",
    "myclass = MyNumbers()\n",
    "myiter = iter(myclass)\n",
    "\n",
    "print(next(myiter))\n",
    "print(next(myiter))\n",
    "print(next(myiter))\n",
    "print(next(myiter))\n",
    "print(next(myiter))"
   ]
  },
  {
   "cell_type": "code",
   "execution_count": 13,
   "id": "9bcb10a3",
   "metadata": {},
   "outputs": [
    {
     "name": "stdout",
     "output_type": "stream",
     "text": [
      "1\n",
      "2\n",
      "3\n",
      "4\n",
      "5\n",
      "6\n",
      "7\n",
      "8\n",
      "9\n",
      "10\n",
      "11\n",
      "12\n",
      "13\n",
      "14\n",
      "15\n",
      "16\n",
      "17\n",
      "18\n",
      "19\n",
      "20\n"
     ]
    }
   ],
   "source": [
    "# Stop and iterator\n",
    "# https://www.w3schools.com/python/python_iterators.asp\n",
    "#\n",
    "# Stop after 20 iterations\n",
    "class MyNumbers:\n",
    "    def __iter__(self):\n",
    "        self.a = 1\n",
    "        return self\n",
    "\n",
    "    def __next__(self):\n",
    "        if self.a <= 20:\n",
    "            x = self.a\n",
    "            self.a += 1\n",
    "            return x\n",
    "        else:\n",
    "            raise StopIteration\n",
    "\n",
    "myclass = MyNumbers()\n",
    "myiter = iter(myclass)\n",
    "\n",
    "for x in myiter:\n",
    "    print(x)"
   ]
  },
  {
   "cell_type": "code",
   "execution_count": null,
   "id": "a126065a",
   "metadata": {},
   "outputs": [],
   "source": []
  }
 ],
 "metadata": {
  "kernelspec": {
   "display_name": "Python 3 (ipykernel)",
   "language": "python",
   "name": "python3"
  },
  "language_info": {
   "codemirror_mode": {
    "name": "ipython",
    "version": 3
   },
   "file_extension": ".py",
   "mimetype": "text/x-python",
   "name": "python",
   "nbconvert_exporter": "python",
   "pygments_lexer": "ipython3",
   "version": "3.9.19"
  },
  "varInspector": {
   "cols": {
    "lenName": 16,
    "lenType": 16,
    "lenVar": 40
   },
   "kernels_config": {
    "python": {
     "delete_cmd_postfix": "",
     "delete_cmd_prefix": "del ",
     "library": "var_list.py",
     "varRefreshCmd": "print(var_dic_list())"
    },
    "r": {
     "delete_cmd_postfix": ") ",
     "delete_cmd_prefix": "rm(",
     "library": "var_list.r",
     "varRefreshCmd": "cat(var_dic_list()) "
    }
   },
   "types_to_exclude": [
    "module",
    "function",
    "builtin_function_or_method",
    "instance",
    "_Feature"
   ],
   "window_display": false
  }
 },
 "nbformat": 4,
 "nbformat_minor": 5
}
