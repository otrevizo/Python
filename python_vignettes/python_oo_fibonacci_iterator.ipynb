{
 "cells": [
  {
   "cell_type": "markdown",
   "id": "c7d0a10e",
   "metadata": {},
   "source": [
    "# Python OO and iterator example\n",
    "\n",
    "## Sources:\n",
    "\n",
    "There are various sources online providing this or very similar code. I refined it using Gemini.\n",
    "\n",
    "- Gemini generated code when asking \"what is an iterator in python?\" (generated April 11, 2024)\n",
    "- Similar code found online (accessed April 11, 2024). https://gist.github.com/wzpan/6112786\n",
    "\n",
    "Copying Gemini's code here for educational purposes."
   ]
  },
  {
   "cell_type": "code",
   "execution_count": 1,
   "id": "9dee7fdb",
   "metadata": {},
   "outputs": [],
   "source": [
    "# From Gemini responding to the question: \"what is an iterator in python?\"\n",
    "# An iterator contains two special methods: __iter__ and a __next__ \n",
    "class FibonacciIterator:\n",
    "    def __init__(self, max_value):\n",
    "        self.a, self.b = 0, 1\n",
    "        self.max_value = max_value\n",
    "\n",
    "    def __iter__(self):\n",
    "        return self\n",
    "\n",
    "    def __next__(self):\n",
    "        if self.a <= self.max_value:\n",
    "            value = self.a\n",
    "            self.a, self.b = self.b, self.a + self.b\n",
    "            return value\n",
    "        else:\n",
    "            raise StopIteration\n"
   ]
  },
  {
   "cell_type": "code",
   "execution_count": 2,
   "id": "04e86344",
   "metadata": {},
   "outputs": [
    {
     "name": "stdout",
     "output_type": "stream",
     "text": [
      "0\n",
      "1\n",
      "1\n",
      "2\n",
      "3\n",
      "5\n",
      "8\n"
     ]
    }
   ],
   "source": [
    "# The point of this code, from Gemini was to demonstrate how an iterator works.\n",
    "fib_iterator = FibonacciIterator(10)\n",
    "for num in fib_iterator:\n",
    "    print(num)\n"
   ]
  },
  {
   "cell_type": "code",
   "execution_count": 3,
   "id": "a2eaac6a",
   "metadata": {},
   "outputs": [
    {
     "name": "stdout",
     "output_type": "stream",
     "text": [
      "0\n",
      "1\n",
      "1\n",
      "2\n",
      "3\n",
      "5\n",
      "8\n",
      "13\n",
      "21\n"
     ]
    }
   ],
   "source": [
    "# The point of this code, from Gemini was to demonstrate how an iterator works.\n",
    "fib_iterator = FibonacciIterator(30)\n",
    "for num in fib_iterator:\n",
    "    print(num)\n"
   ]
  }
 ],
 "metadata": {
  "kernelspec": {
   "display_name": "Python 3 (ipykernel)",
   "language": "python",
   "name": "python3"
  },
  "language_info": {
   "codemirror_mode": {
    "name": "ipython",
    "version": 3
   },
   "file_extension": ".py",
   "mimetype": "text/x-python",
   "name": "python",
   "nbconvert_exporter": "python",
   "pygments_lexer": "ipython3",
   "version": "3.9.19"
  },
  "varInspector": {
   "cols": {
    "lenName": 16,
    "lenType": 16,
    "lenVar": 40
   },
   "kernels_config": {
    "python": {
     "delete_cmd_postfix": "",
     "delete_cmd_prefix": "del ",
     "library": "var_list.py",
     "varRefreshCmd": "print(var_dic_list())"
    },
    "r": {
     "delete_cmd_postfix": ") ",
     "delete_cmd_prefix": "rm(",
     "library": "var_list.r",
     "varRefreshCmd": "cat(var_dic_list()) "
    }
   },
   "types_to_exclude": [
    "module",
    "function",
    "builtin_function_or_method",
    "instance",
    "_Feature"
   ],
   "window_display": false
  }
 },
 "nbformat": 4,
 "nbformat_minor": 5
}
