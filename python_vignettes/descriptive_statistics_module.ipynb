{
 "cells": [
  {
   "cell_type": "markdown",
   "id": "fdbde43f",
   "metadata": {},
   "source": [
    "# Statistics Module\n",
    "\n",
    "## Using Python built-in functions only\n",
    "\n",
    "April 17, 2022\n",
    "\n",
    "@author: Oscar A. Trevizo\n",
    "\n",
    "Statistics equations implemented with Object Oriented Python. It uses only Python built-in functions. \n",
    "\n",
    "It includes descriptive statistics (mean, std. dev. mode, z-scores, etc.) as well as statistics to compare, test, and infere (correlations, t-tests, etc.).\n",
    "\n",
    "Normally one would use a package like NumPy or Stats. But I wanted to build a class with methods to run descriptive statistics using Python built-in functions only.\n",
    "\n",
    "Instructions: \n",
    "* Save class Stats in a 'py' file to be imported by either an 'ipynb' or 'py' file.\n",
    "* To use this model include the following command in another 'py' or 'ipynb' file located in the same folder:\n",
    "* import descriptive_stats_module as ds\n",
    "\n"
   ]
  },
  {
   "cell_type": "markdown",
   "id": "a348797e",
   "metadata": {},
   "source": [
    "# Descriptive Statistics equations\n",
    "\n",
    "### _Mean_:\n",
    "$$\\mu = \\frac{\\sum_{i=1}^Nx_i}{N}$$\n",
    "\n",
    "For a sample, the mean is normally depicted by x-bar: $\\bar x$\n",
    "\n",
    "### _Standard Deviation_:\n",
    "Population _standard deviation_: \n",
    "$$\\sigma=\\sqrt{\\frac{\\sum_{i=1}^N (x_i-\\mu)^2}{N}}$$\n",
    "\n",
    "Sample _standard deviation_: \n",
    "$$\\sigma_s=\\sqrt{\\frac{\\sum_{i=1}^N (x_i-\\bar x)^2}{N-1}}$$\n",
    "\n",
    "### _Variance_:\n",
    "$$variance = \\sigma^2$$\n",
    "\n",
    "$$variance_s = \\sigma_s^2$$\n",
    "\n",
    "### _Z-score_:\n",
    "_Z-Score_ gives you the number of s.d. from the mean.\n",
    "\n",
    "I.e., the _Z-score_ normalizes the number of standard daviations away from the mean: \n",
    "\n",
    "$$Z_x=\\frac{(x-\\mu)}{\\sigma}$$\n",
    "\n",
    "$$Z_{x_s}=\\frac{(x-\\bar x)}{\\sigma_s}$$\n",
    "\n",
    "_Z-distribution_ has $\\sigma=1$ and $\\mu = 1$.\n",
    "\n",
    "(a) If $\\sigma$ is available, use the _Z-distribution_. Otherwise, use $\\sigma_s$ and _t-distribution_.\n",
    "\n",
    "(b) If the $sample \\ge 30$, use the _Z-distribution_. Otherwise, use $\\sigma_s$ and _t-distribution_."
   ]
  },
  {
   "cell_type": "markdown",
   "id": "3f39d767",
   "metadata": {},
   "source": [
    "# Statistics to compare, test, and infere\n",
    "\n",
    "\n",
    "### _Covariance_:\n",
    "Population _covariance_: $$Cov(x, y) = \\frac{\\sum_{i=1}^N(x_i-\\bar x)(y_i-\\bar y)}{N}$$\n",
    "\n",
    "Sample _covariance_: $$Cov(x, y)_s = \\frac{\\sum_{i=1}^N(x_i-\\bar x)(y_i-\\bar y)}{N-1}$$\n",
    "\n",
    "### _Correlation_:\n",
    "_Pearson correlation_: $$r = \\rho = \\frac\n",
    "{\\sum_{i=1}^N(x_i-\\bar x)(y_i-\\bar y)}\n",
    "{\\sqrt{\\sum_{i=1}^N(x_i- \\bar x)^2 \\sum_{i=1}^N(y_i- \\bar y)^2}} = \n",
    "\\frac{Cov(x,y)}{\\sigma_x \\sigma_y}$$\n",
    "\n",
    "$R^2 = \\rho^2$ both $R^2$ and $\\rho$ are _unit-less_. $R^2$ can have values between 0 and 1, while $\\rho$ may be between -1 and 1.\n",
    "\n",
    "### _T-Test_:\n",
    "_Independent t-test (a.k.a. \"paired\")_:\n",
    "\n",
    "Use when you have two separate and independent variables. For example, the independent variables may be two different stocks measured over the same period, or two different sets of scores from two different groups.\n",
    "\n",
    "* $A$, $B$ are 2 distributions.\n",
    "\n",
    "* $m_A$, $m_B$ are mean of $A$ and mean of $B$.\n",
    "\n",
    "* $n$ is the sample size or number of observations.\n",
    "\n",
    "* $S^2$ is a sample variance estimator.\n",
    "\n",
    "$$t = \\frac{{m_A - m_B}}{{\\sqrt{\\frac{S^2}{n_A} + \\frac{S^2}{n_B}}}}$$\n",
    "\n",
    "$$S^2 = \\frac{\\sum_{i}^N(x_i - m_A)^2 + \\sum_{i}^N(y_i - m_B)^2}{n_A + n_B + 2}$$\n",
    "\n",
    "_Dependent t-test (a.k.a. \"unpaired\")_:\n",
    "\n",
    "Use when you have two serate but dependent variables. For example, the dependent variables may be the same stock measured over two different periods with the same time length, or two different sets of scores from two different tests taken by the same group."
   ]
  },
  {
   "cell_type": "code",
   "execution_count": 1,
   "id": "3ef0ffa2",
   "metadata": {},
   "outputs": [],
   "source": [
    "class DescriptiveStats:\n",
    "    def __init__(self, x):\n",
    "        \"\"\"\n",
    "        Class instantiates object that contain descriptive statistics methods.\n",
    "        \n",
    "        Parameters\n",
    "        ----------\n",
    "        x : a numeric list        \n",
    "        \n",
    "        Returns\n",
    "        -------\n",
    "        None.\n",
    "\n",
    "        \"\"\"\n",
    "        #your code here\n",
    "        self.x = x\n",
    "        \n",
    "    def mean(self):\n",
    "        \"\"\"\n",
    "        Parameter x: a list of numbers that represents the data     \n",
    "        Returns: the arithmatic mean (average) of x (the data)   \n",
    "        \"\"\"    \n",
    "        # x is a numeric list\n",
    "        # sum(iterable) is a built-in function\n",
    "        mu = sum(self.x) / len(self.x)\n",
    "        return mu\n",
    "    \n",
    "    def mode(self):\n",
    "        \"\"\"\n",
    "        Parameter x: a list of numbers that represents the data     \n",
    "        Returns: the mode. for multi-mode, returns the first mode found\n",
    "        \"\"\"\n",
    "        # https://stackoverflow.com/questions/10797819/finding-the-mode-of-a-list\n",
    "        x_mode = max(set(self.x), key=self.x.count)\n",
    "        return x_mode\n",
    "    \n",
    "    def median(self):\n",
    "        \"\"\"\n",
    "        Parameter x: a list of numbers that represents a sample data     \n",
    "        Returns: the median   \n",
    "        \"\"\"\n",
    "        # https://stackoverflow.com/questions/24101524/finding-median-of-list-in-python\n",
    "        quotient, remainder = divmod(len(self.x), 2)\n",
    "        if remainder:\n",
    "            return sorted(self.x)[quotient]\n",
    "        return sum(sorted(self.x)[quotient - 1:quotient + 1]) / 2\n",
    "    \n",
    "    def first_quartile(self):\n",
    "        \"\"\"\n",
    "        Parameter x: a list of numbers that represents a sample data     \n",
    "        Returns: the 1st quartile   \n",
    "        \"\"\"\n",
    "        quotient, remainder = divmod(len(self.x), 2)\n",
    "        cut = len(self.x)//2\n",
    "\n",
    "        if remainder:\n",
    "            bottom = self.x[:cut+1]\n",
    "        else:\n",
    "            bottom = self.x[:cut]\n",
    "            \n",
    "        stats_bottom = DescriptiveStats(bottom)\n",
    "    \n",
    "        qtl = stats_bottom.median()   \n",
    "    \n",
    "        return qtl\n",
    "\n",
    "    def third_quartile(self):\n",
    "        \"\"\"\n",
    "        Parameter x: a list of numbers that represents a sample data     \n",
    "        Returns: the 3rd quartile   \n",
    "        \"\"\"\n",
    "        quotient, remainder = divmod(len(self.x), 2)\n",
    "        cut = len(self.x)//2\n",
    "    \n",
    "        # Here we know we will capture a middle item regardless of len\n",
    "        top = self.x[cut:]\n",
    "        stats_top = DescriptiveStats(top)\n",
    "        qtl = stats_top.median()   \n",
    "    \n",
    "        return qtl\n",
    "    \n",
    "    def stdev_s(self):\n",
    "        \"\"\"\n",
    "        Parameter x: a list of numbers that represents a sample data    \n",
    "        Returns: the standard deviation of the sample \n",
    "        \"\"\"    \n",
    "        # First, get the mean using our new function\n",
    "        mu = sum(self.x) / len(self.x)\n",
    "    \n",
    "        sum_err_sqrd = 0    # Initialize my sum of error\n",
    "    \n",
    "        # Now iterate through all the values in n\n",
    "        for x_value in self.x:\n",
    "            sum_err_sqrd = sum_err_sqrd + (x_value - mu)**2\n",
    "        \n",
    "        # Now divide the sum of the errors squared over the length of n\n",
    "        var = sum_err_sqrd / (len(self.x) - 1)\n",
    "    \n",
    "        # And our signma, standard deviation is the squarred root of such variance\n",
    "        sigma = var**(1/2)\n",
    "    \n",
    "        return sigma\n",
    "\n",
    "    def stdev_p(self):\n",
    "        \"\"\"\n",
    "        Parameter x: a list of numbers that represents data    \n",
    "        Returns: the standard deviation of a population \n",
    "        \"\"\"    \n",
    "        # First, get the mean using our new function\n",
    "        mu = sum(self.x) / len(self.x)\n",
    "    \n",
    "        sum_err_sqrd = 0    # Initialize my sum of error\n",
    "    \n",
    "        # Now iterate through all the values in n\n",
    "        for x_value in self.x:\n",
    "            sum_err_sqrd = sum_err_sqrd + (x_value - mu)**2\n",
    "        \n",
    "        # Now divide the sum of the errors squared over the length of n\n",
    "        var = sum_err_sqrd / len(self.x)\n",
    "    \n",
    "        # And our signma, standard deviation is the squarred root of such variance\n",
    "        sigma = var**(1/2)\n",
    "    \n",
    "        return sigma\n",
    "\n",
    "    def z_score_s(self):\n",
    "        \"\"\"\n",
    "        Parameters x: lists of numbers that represents two variables of a sample data \n",
    "        Returns: list with the z-scores of each data element   \n",
    "        \"\"\"\n",
    "        mu = self.mean()\n",
    "    \n",
    "        # Sample sigma\n",
    "        sigma = self.stdev_s()\n",
    "    \n",
    "        # Create z-score list\n",
    "        # Using List comprehension\n",
    "        # z_scores = [(z_score_i - mu) / sigma for z_score_i in x]\n",
    "    \n",
    "        # Using lambda\n",
    "        z_scores = list(map(lambda z: (z - mu)/sigma, self.x))\n",
    "    \n",
    "        return z_scores\n",
    "    \n",
    "    def z_score_p(self):\n",
    "        \"\"\"\n",
    "        Parameters x: lists of numbers that represents two variables of a sample data \n",
    "        Returns: list with the z-scores of each data element   \n",
    "        \"\"\"\n",
    "        mu = self.mean()\n",
    "    \n",
    "        # Population sigma\n",
    "        sigma = self.stdev_p()\n",
    "    \n",
    "        # Create z-score is list\n",
    "        # Using List comprehension\n",
    "        # z_scores = [(z_score_i - mu) / sigma for z_score_i in x]\n",
    "\n",
    "        # Using lambda\n",
    "        z_scores = list(map(lambda z: (z - mu)/sigma, self.x))\n",
    "\n",
    "        return z_scores\n",
    "\n",
    "    def cov_s(self, y):\n",
    "        \"\"\"\n",
    "        Parameters x, y: lists of numbers that represents two variables of a sample data \n",
    "        Returns: the covariance of a sample between variable x and y   \n",
    "        \"\"\"    \n",
    "        # First, get the mean sample values for x and y\n",
    "        x_hat = sum(self.x) / len(self.x)\n",
    "        y_hat = sum(y) / len(y)\n",
    "    \n",
    "        sum_err_product = 0          # Initialize the sum of the product of errors\n",
    "        length = min(len(self.x), len(y))   # Cover the potential case of having different lengths\n",
    "    \n",
    "        # Now iterate on both variables\n",
    "        # https://stackoverflow.com/questions/1663807/how-to-iterate-through-two-lists-in-parallel\n",
    "        for x_value, y_value in zip(self.x, y):\n",
    "            sum_err_product = sum_err_product + ((x_value - x_hat) * (y_value - y_hat))\n",
    "    \n",
    "        c = sum_err_product / (length - 1)\n",
    "    \n",
    "        return c\n",
    "    \n",
    "    def cov_p(self, y):\n",
    "        \"\"\"\n",
    "        Parameters x, y: lists of numbers that represents two variables of a population data \n",
    "        Returns: the covariance of a population between variable x and y   \n",
    "        \"\"\"    \n",
    "        # First, get the mean sample values for x and y\n",
    "        x_hat = sum(self.x) / len(self.x)\n",
    "        y_hat = sum(y) / len(y)\n",
    "    \n",
    "        sum_err_product = 0          # Initialize the sum of the product of errors\n",
    "        length = min(len(self.x), len(y))   # Cover the potential case of having different lengths\n",
    "    \n",
    "        # Now iterate on both variables\n",
    "        # https://stackoverflow.com/questions/1663807/how-to-iterate-through-two-lists-in-parallel\n",
    "        for x_value, y_value in zip(self.x, y):\n",
    "            sum_err_product = sum_err_product + ((x_value - x_hat) * (y_value - y_hat))\n",
    "    \n",
    "        c = sum_err_product / length\n",
    "    \n",
    "        return c\n",
    "    \n",
    "    def corr_r(self, y):\n",
    "        \"\"\"\n",
    "        Parameters x, y: lists of numbers that represents two variables of a sample data \n",
    "        Returns: the Pearson R of the sample data   \n",
    "        \"\"\"\n",
    "        \n",
    "        stats_y = DescriptiveStats(y)\n",
    "    \n",
    "        # It does not matter if we use sample or population because with N or N-1 cancels each other.\n",
    "        # I use the formulas based on sample because they indicate a more general case.\n",
    "        r = self.cov_s(y) / (self.stdev_s() * stats_y.stdev_s())\n",
    "    \n",
    "        return r"
   ]
  },
  {
   "cell_type": "markdown",
   "id": "1131d427",
   "metadata": {},
   "source": [
    "## Instructions to applying the class\n",
    "\n",
    "1. Instatiate an object\n",
    "2. Apply class methods to the object"
   ]
  },
  {
   "cell_type": "markdown",
   "id": "8c9a5c7b",
   "metadata": {},
   "source": [
    "### Test case 1"
   ]
  },
  {
   "cell_type": "code",
   "execution_count": 2,
   "id": "87627230",
   "metadata": {},
   "outputs": [
    {
     "data": {
      "text/plain": [
       "__main__.DescriptiveStats"
      ]
     },
     "execution_count": 2,
     "metadata": {},
     "output_type": "execute_result"
    }
   ],
   "source": [
    "# Instantiate an object of class DescriptiveStats\n",
    "x = [1.5, 2.5, 3.5, 4.5, 5.5, 6.5, 7.5, 8.5, 9.5, 10.5]\n",
    "so = DescriptiveStats(x)\n",
    "type(so)"
   ]
  },
  {
   "cell_type": "code",
   "execution_count": 3,
   "id": "fd4f8622",
   "metadata": {},
   "outputs": [
    {
     "data": {
      "text/plain": [
       "6.0"
      ]
     },
     "execution_count": 3,
     "metadata": {},
     "output_type": "execute_result"
    }
   ],
   "source": [
    "# mean([1.5, 2.5, 3.5, 4.5, 5.5, 6.5, 7.5, 8.5, 9.5, 10.5]) returns 6.0\n",
    "so.mean()"
   ]
  },
  {
   "cell_type": "code",
   "execution_count": 4,
   "id": "8c09c7e6",
   "metadata": {},
   "outputs": [
    {
     "data": {
      "text/plain": [
       "2.8722813232690143"
      ]
     },
     "execution_count": 4,
     "metadata": {},
     "output_type": "execute_result"
    }
   ],
   "source": [
    "# stdev_p([1.5, 2.5, 3.5, 4.5, 5.5, 6.5, 7.5, 8.5, 9.5, 10.5]) returns 2.872281\n",
    "so.stdev_p()"
   ]
  },
  {
   "cell_type": "markdown",
   "id": "a0dc3efc",
   "metadata": {},
   "source": [
    "### Test case 2"
   ]
  },
  {
   "cell_type": "code",
   "execution_count": 5,
   "id": "a47fa2e9",
   "metadata": {},
   "outputs": [],
   "source": [
    "x = [105.1, 105.2, 88.5, 84.5, 73.5]\n",
    "so = DescriptiveStats(x)"
   ]
  },
  {
   "cell_type": "code",
   "execution_count": 6,
   "id": "a18be23e",
   "metadata": {},
   "outputs": [
    {
     "data": {
      "text/plain": [
       "91.36"
      ]
     },
     "execution_count": 6,
     "metadata": {},
     "output_type": "execute_result"
    }
   ],
   "source": [
    "# mean([105.1, 105.2, 88.5, 84.5, 73.5]) returns 91.36 \n",
    "so.mean()"
   ]
  },
  {
   "cell_type": "code",
   "execution_count": 7,
   "id": "05f2dc08",
   "metadata": {},
   "outputs": [
    {
     "data": {
      "text/plain": [
       "13.734554961847143"
      ]
     },
     "execution_count": 7,
     "metadata": {},
     "output_type": "execute_result"
    }
   ],
   "source": [
    "# stdev_s([105.1, 105.2, 88.5, 84.5, 73.5]) returns 13.73456\n",
    "so.stdev_s()"
   ]
  },
  {
   "cell_type": "code",
   "execution_count": 8,
   "id": "5b035edc",
   "metadata": {},
   "outputs": [
    {
     "data": {
      "text/plain": [
       "12.284559414158897"
      ]
     },
     "execution_count": 8,
     "metadata": {},
     "output_type": "execute_result"
    }
   ],
   "source": [
    "# stdev_p([105.1, 105.2, 88.5, 84.5, 73.5]) returns 12.28456\n",
    "so.stdev_p()"
   ]
  },
  {
   "cell_type": "code",
   "execution_count": 9,
   "id": "cfdbf3f1",
   "metadata": {},
   "outputs": [
    {
     "data": {
      "text/plain": [
       "-20.974999999999998"
      ]
     },
     "execution_count": 9,
     "metadata": {},
     "output_type": "execute_result"
    }
   ],
   "source": [
    "# cov_s([1.5, 2.5, 3.5, 4.5, 5.5], [105.1, 105.2, 88.5, 84.5, 73.5]) returns -20.98\n",
    "y = [1.5, 2.5, 3.5, 4.5, 5.5]\n",
    "so.cov_s(y)"
   ]
  },
  {
   "cell_type": "code",
   "execution_count": 10,
   "id": "bf1763f2",
   "metadata": {},
   "outputs": [
    {
     "data": {
      "text/plain": [
       "-16.779999999999998"
      ]
     },
     "execution_count": 10,
     "metadata": {},
     "output_type": "execute_result"
    }
   ],
   "source": [
    "# cov_p([1.5, 2.5, 3.5, 4.5, 5.5], [105.1, 105.2, 88.5, 84.5, 73.5]) returns -16.78\n",
    "so.cov_p(y)"
   ]
  },
  {
   "cell_type": "code",
   "execution_count": 11,
   "id": "f1c91354",
   "metadata": {},
   "outputs": [
    {
     "data": {
      "text/plain": [
       "-0.9658671009914"
      ]
     },
     "execution_count": 11,
     "metadata": {},
     "output_type": "execute_result"
    }
   ],
   "source": [
    "# corr_r([1.5, 2.5, 3.5, 4.5, 5.5], [105.1, 105.2, 88.5, 84.5, 73.5]) returns -0.96587\n",
    "so.corr_r(y)"
   ]
  },
  {
   "cell_type": "markdown",
   "id": "5ebdb0d8",
   "metadata": {},
   "source": [
    "### Test case 3"
   ]
  },
  {
   "cell_type": "code",
   "execution_count": 12,
   "id": "4825d9e5",
   "metadata": {},
   "outputs": [
    {
     "data": {
      "text/plain": [
       "__main__.DescriptiveStats"
      ]
     },
     "execution_count": 12,
     "metadata": {},
     "output_type": "execute_result"
    }
   ],
   "source": [
    "# Mode\n",
    "fib = [0, 1, 1, 2, 3, 5, 8, 13, 21]\n",
    "so = DescriptiveStats(fib)\n",
    "type(so)"
   ]
  },
  {
   "cell_type": "code",
   "execution_count": 13,
   "id": "0044e8c9",
   "metadata": {},
   "outputs": [
    {
     "data": {
      "text/plain": [
       "1"
      ]
     },
     "execution_count": 13,
     "metadata": {},
     "output_type": "execute_result"
    }
   ],
   "source": [
    "so.mode()"
   ]
  },
  {
   "cell_type": "code",
   "execution_count": 14,
   "id": "45706533",
   "metadata": {},
   "outputs": [
    {
     "data": {
      "text/plain": [
       "1"
      ]
     },
     "execution_count": 14,
     "metadata": {},
     "output_type": "execute_result"
    }
   ],
   "source": [
    "so.first_quartile()"
   ]
  },
  {
   "cell_type": "code",
   "execution_count": 15,
   "id": "b5aa4da2",
   "metadata": {},
   "outputs": [
    {
     "data": {
      "text/plain": [
       "3"
      ]
     },
     "execution_count": 15,
     "metadata": {},
     "output_type": "execute_result"
    }
   ],
   "source": [
    "so.median()"
   ]
  },
  {
   "cell_type": "code",
   "execution_count": 16,
   "id": "3937cf7c",
   "metadata": {},
   "outputs": [
    {
     "data": {
      "text/plain": [
       "8"
      ]
     },
     "execution_count": 16,
     "metadata": {},
     "output_type": "execute_result"
    }
   ],
   "source": [
    "so.third_quartile()"
   ]
  },
  {
   "cell_type": "markdown",
   "id": "11ee7519",
   "metadata": {},
   "source": [
    "### Test case 4"
   ]
  },
  {
   "cell_type": "code",
   "execution_count": 17,
   "id": "684a9a33",
   "metadata": {},
   "outputs": [],
   "source": [
    "# Median\n",
    "fib_8 = [0, 1, 1, 2, 3, 5, 8, 13]\n",
    "so = DescriptiveStats(fib_8)"
   ]
  },
  {
   "cell_type": "code",
   "execution_count": 18,
   "id": "17064f3e",
   "metadata": {},
   "outputs": [
    {
     "data": {
      "text/plain": [
       "1.0"
      ]
     },
     "execution_count": 18,
     "metadata": {},
     "output_type": "execute_result"
    }
   ],
   "source": [
    "so.first_quartile()"
   ]
  },
  {
   "cell_type": "code",
   "execution_count": 19,
   "id": "ab3c0ad6",
   "metadata": {},
   "outputs": [
    {
     "data": {
      "text/plain": [
       "2.5"
      ]
     },
     "execution_count": 19,
     "metadata": {},
     "output_type": "execute_result"
    }
   ],
   "source": [
    "so.median()"
   ]
  },
  {
   "cell_type": "code",
   "execution_count": 20,
   "id": "466b7417",
   "metadata": {},
   "outputs": [
    {
     "data": {
      "text/plain": [
       "6.5"
      ]
     },
     "execution_count": 20,
     "metadata": {},
     "output_type": "execute_result"
    }
   ],
   "source": [
    "so.third_quartile()"
   ]
  },
  {
   "cell_type": "markdown",
   "id": "be960f74",
   "metadata": {},
   "source": [
    "### Test case 5"
   ]
  },
  {
   "cell_type": "code",
   "execution_count": 21,
   "id": "3ebc65ee",
   "metadata": {},
   "outputs": [],
   "source": [
    "s = [4, 8, 6, 5, 3, 2, 8, 9, 2, 5]\n",
    "so = DescriptiveStats(s)\n"
   ]
  },
  {
   "cell_type": "code",
   "execution_count": 22,
   "id": "acd9818a",
   "metadata": {},
   "outputs": [
    {
     "data": {
      "text/plain": [
       "[-0.47434164902525694,\n",
       " 1.1067971810589328,\n",
       " 0.31622776601683783,\n",
       " -0.07905694150420955,\n",
       " -0.8696263565463044,\n",
       " -1.2649110640673518,\n",
       " 1.1067971810589328,\n",
       " 1.50208188857998,\n",
       " -1.2649110640673518,\n",
       " -0.07905694150420955]"
      ]
     },
     "execution_count": 22,
     "metadata": {},
     "output_type": "execute_result"
    }
   ],
   "source": [
    "so.z_score_s()"
   ]
  },
  {
   "cell_type": "code",
   "execution_count": 23,
   "id": "d04fb8e7",
   "metadata": {},
   "outputs": [
    {
     "data": {
      "text/plain": [
       "[-0.5000000000000001,\n",
       " 1.1666666666666667,\n",
       " 0.33333333333333326,\n",
       " -0.08333333333333341,\n",
       " -0.9166666666666667,\n",
       " -1.3333333333333335,\n",
       " 1.1666666666666667,\n",
       " 1.5833333333333333,\n",
       " -1.3333333333333335,\n",
       " -0.08333333333333341]"
      ]
     },
     "execution_count": 23,
     "metadata": {},
     "output_type": "execute_result"
    }
   ],
   "source": [
    "so.z_score_p()"
   ]
  },
  {
   "cell_type": "markdown",
   "id": "a71d9fb5",
   "metadata": {},
   "source": [
    "### Test case alpha\n",
    "\n",
    "Be careful here, if we don't pass numeric arguments we will have error with some methods. It's fine for mode()."
   ]
  },
  {
   "cell_type": "code",
   "execution_count": 24,
   "id": "7354b38a",
   "metadata": {},
   "outputs": [
    {
     "data": {
      "text/plain": [
       "'apple'"
      ]
     },
     "execution_count": 24,
     "metadata": {},
     "output_type": "execute_result"
    }
   ],
   "source": [
    "# Handling the count of a items to find the mode in a list\n",
    "# https://stackoverflow.com/questions/10797819/finding-the-mode-of-a-list\n",
    "s = ['apple', 'orange', 'banana', 'apple']\n",
    "so = DescriptiveStats(s)\n",
    "so.mode()"
   ]
  },
  {
   "cell_type": "code",
   "execution_count": null,
   "id": "7c743bb6",
   "metadata": {},
   "outputs": [],
   "source": []
  }
 ],
 "metadata": {
  "kernelspec": {
   "display_name": "Python 3 (ipykernel)",
   "language": "python",
   "name": "python3"
  },
  "language_info": {
   "codemirror_mode": {
    "name": "ipython",
    "version": 3
   },
   "file_extension": ".py",
   "mimetype": "text/x-python",
   "name": "python",
   "nbconvert_exporter": "python",
   "pygments_lexer": "ipython3",
   "version": "3.9.7"
  }
 },
 "nbformat": 4,
 "nbformat_minor": 5
}
