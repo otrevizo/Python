{
 "cells": [
  {
   "cell_type": "markdown",
   "id": "e5f4ada3",
   "metadata": {},
   "source": [
    "# Python generator vignette: inclusive range function example\n",
    "\n",
    "April 18, 2024\n",
    "\n",
    "@author Oscar A. Trevizo\n",
    "\n",
    "This vignette provides an example of a <b>generator</b>. \n",
    "\n",
    "The <b>generator</b> creates an <b>iterator</b> and generates <b>iterable</b> values <b>on-the-fly</b> to be used by a `for` loop, allowing for memory efficiency. I.e., it generates values <b>on-the-fly</b> instead of returning them all at once. It uses the keyword `yield`.\n",
    "\n",
    "### References\n",
    "- \"Python documentation: Wiki: Generators\" (accessed Apr. 18, 2024) \n",
    "    https://wiki.python.org/moin/Generators\n",
    "- GitHub: https://github.com/otrevizo/Python/tree/main/python_vignettes\n",
    "- Under that repository, see `python_iterator_vignette_inclusive_range.ipynb`\n",
    "- YouTube playlist: https://www.youtube.com/playlist?list=PLJgpRhj3_bvG0VVM3RLw3NSjCFP3rKbmu \n",
    "- YouTube videos on iterators (1st of 3): https://youtu.be/BlTjkCPjXak\n"
   ]
  },
  {
   "cell_type": "markdown",
   "id": "e7c78dc6",
   "metadata": {},
   "source": [
    "# Key concepts:\n",
    "\n",
    "<b>Iterables:</b> Collections like lists, strings, tuples, and dictionaries are considered iterables in Python. Each essentially represents a sequence of items that can be iterated over. \n",
    "\n",
    "<b>Iterators:</b> Iterators are objects that implement the `__next__` method and (optionally) the `__iter__` method allowing you to access elements of an iterable one at a time.\n",
    "\n",
    "<b>Generators:</b> Memory efficient functions that return an <b>iterator</b>, generating elements <b>on-demand</b> using the `yield` keyword. "
   ]
  },
  {
   "cell_type": "code",
   "execution_count": 1,
   "id": "35fa5f24",
   "metadata": {},
   "outputs": [],
   "source": [
    "def inclusive_range_generator(start, end):\n",
    "    \"\"\"\n",
    "    Generates numbers from start to end, including the end value.\n",
    "    \n",
    "    Inputs:\n",
    "    start: Numeric integer. The starting value in your iteration.\n",
    "    end: Numeric integer. The end value.\n",
    "    \n",
    "    Yields:\n",
    "    current_number: The next number in the sequence.\n",
    "    \"\"\"\n",
    "    \n",
    "    # Error handling\n",
    "    if not isinstance(start, int) or not isinstance(end, int):\n",
    "        raise TypeError(\"The 'start' and 'end' values must be integers\")\n",
    "        \n",
    "    current_number = start\n",
    "    \n",
    "    while current_number <= end:\n",
    "        # Yield current_number to pause execution and return the current value\n",
    "        # ** This step makes this function an generator **\n",
    "        yield current_number\n",
    "        \n",
    "        # Increate the current number and go back to the loop\n",
    "        current_number += 1"
   ]
  },
  {
   "cell_type": "markdown",
   "id": "93be92b9",
   "metadata": {},
   "source": [
    "# Function description\n",
    "\n",
    "- Takes `start` and `end` values as input\n",
    "- Checks if both are integers and raises an error if any argument is not an integer\n",
    "- It initializes `current_number` equal to `start`\n",
    "- The while loop continues as long as `current_number` is less than or equal to `end`\n",
    "- Inside the loop, `yield current_number` pauses execution and returns `current_value` to the caller (e.g., a `for` loop)\n",
    "- Then `current_number` is incremented and the `while` loop iterates\n",
    "- Once `current_number` becomes greater than `end`, the `while` loop terminates"
   ]
  },
  {
   "cell_type": "code",
   "execution_count": 2,
   "id": "cc19e8c1",
   "metadata": {},
   "outputs": [
    {
     "name": "stdout",
     "output_type": "stream",
     "text": [
      "5\n",
      "6\n",
      "7\n",
      "8\n",
      "9\n",
      "10\n",
      "11\n",
      "12\n",
      "13\n",
      "14\n",
      "15\n"
     ]
    }
   ],
   "source": [
    "# Define start and end values\n",
    "start_value = 5\n",
    "end_value = 15\n",
    "\n",
    "# Apply the generator function right there on the for loop\n",
    "for number in inclusive_range_generator(start_value, end_value):\n",
    "    print(number)\n"
   ]
  },
  {
   "cell_type": "markdown",
   "id": "ae59b1d5",
   "metadata": {},
   "source": [
    "# For loop sequence\n",
    "\n",
    "- The `for` loop calls the `inclusive_range_generator` function\n",
    "- It recognizes that the result of the function an <b>iterable</b> object (a generator in this case)\n",
    "- Then the `for` loop creates a hidden iterator associated with the generator's state\n",
    "- Inside the loop, the `for` loop leverages the iterator protocol to access elements one at a time\n",
    "- It calls the `next()` method on the hidden iterator repeatedly\n",
    "- Each `next()` call internally calls the <b>generator</b> function to get the <b>next</b> value\n",
    "- The <b>generator</b> resumes execution from the last `yield` statement\n",
    "- The <b>generator</b> retrieves the `current` value and returns it using `yield current_number`; i.e., it returns it to the `for` loop via the hidden <b>iterator</b>\n",
    "- The `for` loop receives the yielded value and assigns it to the loop variable `num` (in this case)\n",
    "- The loop continues iterating as long as `next()` calls from the loop don't raise a `StopIteration` exception\n",
    "- Eventually, the <b>generator</b> implicitly raises a `StopIteration` exception to signal that there are no more element to iterate; i.e., when its `while` loop reaches its end\n",
    "- The `for` loop handles the `StopIteration` exception and the loop ends"
   ]
  }
 ],
 "metadata": {
  "kernelspec": {
   "display_name": "Python 3 (ipykernel)",
   "language": "python",
   "name": "python3"
  },
  "language_info": {
   "codemirror_mode": {
    "name": "ipython",
    "version": 3
   },
   "file_extension": ".py",
   "mimetype": "text/x-python",
   "name": "python",
   "nbconvert_exporter": "python",
   "pygments_lexer": "ipython3",
   "version": "3.9.19"
  },
  "varInspector": {
   "cols": {
    "lenName": 16,
    "lenType": 16,
    "lenVar": 40
   },
   "kernels_config": {
    "python": {
     "delete_cmd_postfix": "",
     "delete_cmd_prefix": "del ",
     "library": "var_list.py",
     "varRefreshCmd": "print(var_dic_list())"
    },
    "r": {
     "delete_cmd_postfix": ") ",
     "delete_cmd_prefix": "rm(",
     "library": "var_list.r",
     "varRefreshCmd": "cat(var_dic_list()) "
    }
   },
   "types_to_exclude": [
    "module",
    "function",
    "builtin_function_or_method",
    "instance",
    "_Feature"
   ],
   "window_display": false
  }
 },
 "nbformat": 4,
 "nbformat_minor": 5
}
