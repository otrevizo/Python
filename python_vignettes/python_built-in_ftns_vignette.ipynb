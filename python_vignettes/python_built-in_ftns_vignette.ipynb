{
 "cells": [
  {
   "cell_type": "markdown",
   "id": "e5e72885",
   "metadata": {},
   "source": [
    "# Python Built-In Functions Vignette\n",
    "\n",
    "February 24, 2022\n",
    "\n",
    "Vignette: Python Built-In Functions\n",
    "\n",
    "@author: Oscar A. Trevizo\n",
    "\n",
    "References: https://docs.python.org/3/library/functions.html\n",
    "\n",
    "Additional references included within the code below.\n",
    "\n",
    "A\n",
    "abs()\n",
    "aiter()\n",
    "all()\n",
    "any()\n",
    "anext()\n",
    "ascii()\n",
    "\n",
    "B\n",
    "bin()\n",
    "bool()\n",
    "breakpoint()\n",
    "bytearray()\n",
    "bytes()\n",
    "\n",
    "C\n",
    "callable()\n",
    "chr()\n",
    "classmethod()\n",
    "compile()\n",
    "complex()\n",
    "\n",
    "D\n",
    "delattr()\n",
    "dict()\n",
    "dir()\n",
    "divmod()\n",
    "\n",
    "E\n",
    "enumerate()\n",
    "eval()\n",
    "exec()\n",
    "\n",
    "F\n",
    "filter()\n",
    "float()\n",
    "format()\n",
    "frozenset()\n",
    "\n",
    "G\n",
    "getattr()\n",
    "globals()\n",
    "\n",
    "H\n",
    "hasattr()\n",
    "hash()\n",
    "help()\n",
    "hex()\n",
    "\n",
    "I\n",
    "id()\n",
    "input()\n",
    "int()\n",
    "isinstance()\n",
    "issubclass()\n",
    "iter()\n",
    "\n",
    "L\n",
    "len()\n",
    "list()\n",
    "locals()\n",
    "\n",
    "M\n",
    "map()\n",
    "max()\n",
    "memoryview()\n",
    "min()\n",
    "\n",
    "N\n",
    "next()\n",
    "\n",
    "O\n",
    "object()\n",
    "oct()\n",
    "open()\n",
    "ord()\n",
    "\n",
    "P\n",
    "pow()\n",
    "print()\n",
    "property()\n",
    "\n",
    "R\n",
    "range()\n",
    "repr()\n",
    "reversed()\n",
    "round()\n",
    "\n",
    "S\n",
    "set()\n",
    "setattr()\n",
    "slice()\n",
    "sorted()\n",
    "staticmethod()\n",
    "str()\n",
    "sum()\n",
    "super()\n",
    "\n",
    "T\n",
    "tuple()\n",
    "type()\n",
    "\n",
    "V\n",
    "vars()\n",
    "\n",
    "Z\n",
    "zip()\n",
    "\n",
    "_\n",
    "__import__()\n",
    "\n",
    "## Some built-in types added to this file\n",
    "\n",
    "From https://docs.python.org/3/library/stdtypes.html?highlight=strip#str.strip\n",
    "\n",
    "find()\n",
    "\n",
    "strip()"
   ]
  },
  {
   "cell_type": "markdown",
   "id": "88ad23fd",
   "metadata": {},
   "source": [
    "# Built-in functions"
   ]
  },
  {
   "cell_type": "code",
   "execution_count": 1,
   "id": "27620012",
   "metadata": {},
   "outputs": [
    {
     "data": {
      "text/plain": [
       "{'__name__': '__main__',\n",
       " '__doc__': 'Automatically created module for IPython interactive environment',\n",
       " '__package__': None,\n",
       " '__loader__': None,\n",
       " '__spec__': None,\n",
       " '__builtin__': <module 'builtins' (built-in)>,\n",
       " '__builtins__': <module 'builtins' (built-in)>,\n",
       " '_ih': ['',\n",
       "  '# Before going through each built-in function, run globals().\\n# Compare it with another call to glabals() that will come up later in this script\\n# globals() - Return the dictionary implementing the current module namespace. \\nglobals()'],\n",
       " '_oh': {},\n",
       " '_dh': ['C:\\\\Users\\\\trevizo\\\\My Drive (otrevi312@gmail.com)\\\\SW\\\\GitHub\\\\Python\\\\python_vignettes'],\n",
       " 'In': ['',\n",
       "  '# Before going through each built-in function, run globals().\\n# Compare it with another call to glabals() that will come up later in this script\\n# globals() - Return the dictionary implementing the current module namespace. \\nglobals()'],\n",
       " 'Out': {},\n",
       " 'get_ipython': <bound method InteractiveShell.get_ipython of <ipykernel.zmqshell.ZMQInteractiveShell object at 0x0000025C050E4100>>,\n",
       " 'exit': <IPython.core.autocall.ZMQExitAutocall at 0x25c05115490>,\n",
       " 'quit': <IPython.core.autocall.ZMQExitAutocall at 0x25c05115490>,\n",
       " '_': '',\n",
       " '__': '',\n",
       " '___': '',\n",
       " '_i': '',\n",
       " '_ii': '',\n",
       " '_iii': '',\n",
       " '_i1': '# Before going through each built-in function, run globals().\\n# Compare it with another call to glabals() that will come up later in this script\\n# globals() - Return the dictionary implementing the current module namespace. \\nglobals()'}"
      ]
     },
     "execution_count": 1,
     "metadata": {},
     "output_type": "execute_result"
    }
   ],
   "source": [
    "# Before going through each built-in function, run globals().\n",
    "# Compare it with another call to glabals() that will come up later in this script\n",
    "# globals() - Return the dictionary implementing the current module namespace. \n",
    "globals()"
   ]
  },
  {
   "cell_type": "code",
   "execution_count": 2,
   "id": "e52ac6e8",
   "metadata": {},
   "outputs": [
    {
     "data": {
      "text/plain": [
       "{'__name__': '__main__',\n",
       " '__doc__': 'Automatically created module for IPython interactive environment',\n",
       " '__package__': None,\n",
       " '__loader__': None,\n",
       " '__spec__': None,\n",
       " '__builtin__': <module 'builtins' (built-in)>,\n",
       " '__builtins__': <module 'builtins' (built-in)>,\n",
       " '_ih': ['',\n",
       "  '# Before going through each built-in function, run globals().\\n# Compare it with another call to glabals() that will come up later in this script\\n# globals() - Return the dictionary implementing the current module namespace. \\nglobals()',\n",
       "  'locals()'],\n",
       " '_oh': {1: {...}},\n",
       " '_dh': ['C:\\\\Users\\\\trevizo\\\\My Drive (otrevi312@gmail.com)\\\\SW\\\\GitHub\\\\Python\\\\python_vignettes'],\n",
       " 'In': ['',\n",
       "  '# Before going through each built-in function, run globals().\\n# Compare it with another call to glabals() that will come up later in this script\\n# globals() - Return the dictionary implementing the current module namespace. \\nglobals()',\n",
       "  'locals()'],\n",
       " 'Out': {1: {...}},\n",
       " 'get_ipython': <bound method InteractiveShell.get_ipython of <ipykernel.zmqshell.ZMQInteractiveShell object at 0x0000025C050E4100>>,\n",
       " 'exit': <IPython.core.autocall.ZMQExitAutocall at 0x25c05115490>,\n",
       " 'quit': <IPython.core.autocall.ZMQExitAutocall at 0x25c05115490>,\n",
       " '_': {...},\n",
       " '__': '',\n",
       " '___': '',\n",
       " '_i': '# Before going through each built-in function, run globals().\\n# Compare it with another call to glabals() that will come up later in this script\\n# globals() - Return the dictionary implementing the current module namespace. \\nglobals()',\n",
       " '_ii': '',\n",
       " '_iii': '',\n",
       " '_i1': '# Before going through each built-in function, run globals().\\n# Compare it with another call to glabals() that will come up later in this script\\n# globals() - Return the dictionary implementing the current module namespace. \\nglobals()',\n",
       " '_1': {...},\n",
       " '_i2': 'locals()'}"
      ]
     },
     "execution_count": 2,
     "metadata": {},
     "output_type": "execute_result"
    }
   ],
   "source": [
    "locals()"
   ]
  },
  {
   "cell_type": "code",
   "execution_count": 3,
   "id": "89cdb8b7",
   "metadata": {},
   "outputs": [
    {
     "data": {
      "text/plain": [
       "1"
      ]
     },
     "execution_count": 3,
     "metadata": {},
     "output_type": "execute_result"
    }
   ],
   "source": [
    "## abs()\n",
    "# Return the absolute value of a number. \n",
    "abs(-1)"
   ]
  },
  {
   "cell_type": "code",
   "execution_count": 4,
   "id": "d5b6761f",
   "metadata": {},
   "outputs": [
    {
     "data": {
      "text/plain": [
       "1.4142135623730951"
      ]
     },
     "execution_count": 4,
     "metadata": {},
     "output_type": "execute_result"
    }
   ],
   "source": [
    "# If the argument is a complex number, its magnitude is returned.\n",
    "abs(complex(1, 1))"
   ]
  },
  {
   "cell_type": "code",
   "execution_count": 5,
   "id": "bdc4bd52",
   "metadata": {},
   "outputs": [
    {
     "data": {
      "text/plain": [
       "(True, False)"
      ]
     },
     "execution_count": 5,
     "metadata": {},
     "output_type": "execute_result"
    }
   ],
   "source": [
    "## all()\n",
    "# Return True if all elements of the iterable are true (or if the iterable is empty)\n",
    "a = all([True, True, True])\n",
    "b = all([True, False,True])\n",
    "a, b"
   ]
  },
  {
   "cell_type": "code",
   "execution_count": 6,
   "id": "41edf623",
   "metadata": {},
   "outputs": [
    {
     "data": {
      "text/plain": [
       "(True, True, False, True)"
      ]
     },
     "execution_count": 6,
     "metadata": {},
     "output_type": "execute_result"
    }
   ],
   "source": [
    "## any()\n",
    "# Return True if any element of the iterable is true (False if the iterable is empty)\n",
    "a = any([True, True, True])\n",
    "b = any([True, False,True])\n",
    "c = any([(7 < 3), ('abc' == 'abcd'), (False | False), (True & False)])\n",
    "d = any([(7 < 3), ('abc' == 'abcd'), (True | False), (True & False)])\n",
    "a, b, c, d"
   ]
  },
  {
   "cell_type": "code",
   "execution_count": 7,
   "id": "d9fab168",
   "metadata": {},
   "outputs": [
    {
     "name": "stdout",
     "output_type": "stream",
     "text": [
      "10 10 0 0 'abc' True [1, 2, 3, 'abc', True]\n"
     ]
    }
   ],
   "source": [
    "## ascii()\n",
    "# As repr(), return a string containing a printable representation of an object, \n",
    "# but escape the non-ASCII characters in the string returned by repr() \n",
    "# using \\x, \\u, or \\U escapes.\n",
    "print(ascii(0xA), ascii(10), ascii(0), ascii(0x0), ascii('abc'), ascii(True), ascii([1, 2, 3, 'abc', True]))"
   ]
  },
  {
   "cell_type": "code",
   "execution_count": 8,
   "id": "c8c3d82b",
   "metadata": {},
   "outputs": [
    {
     "data": {
      "text/plain": [
       "('0b1000', '0b11111111')"
      ]
     },
     "execution_count": 8,
     "metadata": {},
     "output_type": "execute_result"
    }
   ],
   "source": [
    "## bin(x)\n",
    "# Convert an integer number to a binary string prefixed with “0b”. \n",
    "# print(bin(8), bin(25))\n",
    "bin(8), bin(255)"
   ]
  },
  {
   "cell_type": "code",
   "execution_count": 9,
   "id": "3e4a4726",
   "metadata": {},
   "outputs": [
    {
     "data": {
      "text/plain": [
       "(False, True, False, True, False, True, False, False)"
      ]
     },
     "execution_count": 9,
     "metadata": {},
     "output_type": "execute_result"
    }
   ],
   "source": [
    "## bool([x])\n",
    "# Return a Boolean value, i.e. one of True or False. \n",
    "fl = 2 < 1\n",
    "tr = 2 > 1\n",
    "a = bool(fl or fl)\n",
    "b = bool(fl or tr)\n",
    "c = bool(fl | fl)\n",
    "d = bool(fl | tr)\n",
    "e = bool(2 < 1 & 7 < 2)\n",
    "f = bool(2 < 1 and 7 < 2)\n",
    "fl, tr, a, b, c, d, e, f"
   ]
  },
  {
   "cell_type": "code",
   "execution_count": 10,
   "id": "a6706f10",
   "metadata": {},
   "outputs": [],
   "source": [
    "## breakpoint(*args, **kws)\n",
    "# This function drops you into the debugger at the call site. "
   ]
  },
  {
   "cell_type": "code",
   "execution_count": 11,
   "id": "c1c71bfa",
   "metadata": {},
   "outputs": [
    {
     "data": {
      "text/plain": [
       "bytearray(b'\\x00\\x00\\x00\\x00\\x00\\x00\\x00\\x00\\x00\\x00')"
      ]
     },
     "execution_count": 11,
     "metadata": {},
     "output_type": "execute_result"
    }
   ],
   "source": [
    "## bytearray([source[, encoding[, errors]]])\n",
    "# Return a new array of bytes. \n",
    "bytearray(0xA)"
   ]
  },
  {
   "cell_type": "code",
   "execution_count": 12,
   "id": "095017f6",
   "metadata": {},
   "outputs": [
    {
     "data": {
      "text/plain": [
       "b'\\x00\\x00\\x00\\x00\\x00\\x00\\x00\\x00\\x00\\x00'"
      ]
     },
     "execution_count": 12,
     "metadata": {},
     "output_type": "execute_result"
    }
   ],
   "source": [
    "## bytes([source[, encoding[, errors]]])\n",
    "# Return a new “bytes” object which is an immutable sequence of integers in the range 0 <= x < 256.\n",
    "bytes(0xA)"
   ]
  },
  {
   "cell_type": "code",
   "execution_count": 13,
   "id": "bd9b7abc",
   "metadata": {},
   "outputs": [
    {
     "data": {
      "text/plain": [
       "False"
      ]
     },
     "execution_count": 13,
     "metadata": {},
     "output_type": "execute_result"
    }
   ],
   "source": [
    "## callable(object)\n",
    "# Return True if the object argument appears callable, False if not.\n",
    "a = 5\n",
    "callable(a)"
   ]
  },
  {
   "cell_type": "code",
   "execution_count": 14,
   "id": "4ab90587",
   "metadata": {},
   "outputs": [
    {
     "name": "stdout",
     "output_type": "stream",
     "text": [
      "a 97\n"
     ]
    }
   ],
   "source": [
    "## chr(i)\n",
    "# Return the string representing a character whose Unicode code point is the integer i. \n",
    "# For example, chr(97) returns the string 'a', while chr(8364) returns the string '€'. \n",
    "# This is the inverse of ord().\n",
    "print(chr(97), ord('a'))"
   ]
  },
  {
   "cell_type": "code",
   "execution_count": 15,
   "id": "487de664",
   "metadata": {},
   "outputs": [
    {
     "data": {
      "text/plain": [
       "(2+3j)"
      ]
     },
     "execution_count": 15,
     "metadata": {},
     "output_type": "execute_result"
    }
   ],
   "source": [
    "## class complex([real[, imag]])\n",
    "# Return a complex number with the value real + imag*1j \n",
    "# or convert a string or number to a complex number.\n",
    "complex(2, 3)"
   ]
  },
  {
   "cell_type": "code",
   "execution_count": 16,
   "id": "528ffa1c",
   "metadata": {},
   "outputs": [
    {
     "data": {
      "text/plain": [
       "complex"
      ]
     },
     "execution_count": 16,
     "metadata": {},
     "output_type": "execute_result"
    }
   ],
   "source": [
    "type(complex(2, 3))"
   ]
  },
  {
   "cell_type": "code",
   "execution_count": 17,
   "id": "114e52db",
   "metadata": {},
   "outputs": [
    {
     "data": {
      "text/plain": [
       "(2+3j)"
      ]
     },
     "execution_count": 17,
     "metadata": {},
     "output_type": "execute_result"
    }
   ],
   "source": [
    "complex(2 + 3j)"
   ]
  },
  {
   "cell_type": "code",
   "execution_count": 18,
   "id": "edf333b8",
   "metadata": {},
   "outputs": [
    {
     "data": {
      "text/plain": [
       "complex"
      ]
     },
     "execution_count": 18,
     "metadata": {},
     "output_type": "execute_result"
    }
   ],
   "source": [
    "type(complex(2 + 3j))"
   ]
  },
  {
   "cell_type": "code",
   "execution_count": 19,
   "id": "94e22df9",
   "metadata": {},
   "outputs": [
    {
     "data": {
      "text/plain": [
       "(2+3j)"
      ]
     },
     "execution_count": 19,
     "metadata": {},
     "output_type": "execute_result"
    }
   ],
   "source": [
    "complex('2+3j')"
   ]
  },
  {
   "cell_type": "code",
   "execution_count": 20,
   "id": "ede2237f",
   "metadata": {},
   "outputs": [
    {
     "data": {
      "text/plain": [
       "complex"
      ]
     },
     "execution_count": 20,
     "metadata": {},
     "output_type": "execute_result"
    }
   ],
   "source": [
    "type(complex('2+3j'))"
   ]
  },
  {
   "cell_type": "code",
   "execution_count": 21,
   "id": "231b5865",
   "metadata": {},
   "outputs": [
    {
     "data": {
      "text/plain": [
       "1.4142135623730951"
      ]
     },
     "execution_count": 21,
     "metadata": {},
     "output_type": "execute_result"
    }
   ],
   "source": [
    "abs(complex('1+j'))"
   ]
  },
  {
   "cell_type": "code",
   "execution_count": 22,
   "id": "74002106",
   "metadata": {},
   "outputs": [
    {
     "data": {
      "text/plain": [
       "(1, 2)"
      ]
     },
     "execution_count": 22,
     "metadata": {},
     "output_type": "execute_result"
    }
   ],
   "source": [
    "## divmod(a, b)\n",
    "# Take two (non-complex) numbers as arguments and return a pair of numbers consisting of their \n",
    "# quotient and remainder when using integer division. With mixed operand types, the rules for binary arithmetic \n",
    "# operators apply. For integers, the result is the same as (a // b, a % b).\n",
    "divmod(5, 3)"
   ]
  },
  {
   "cell_type": "code",
   "execution_count": 23,
   "id": "145771ba",
   "metadata": {},
   "outputs": [
    {
     "data": {
      "text/plain": [
       "(1, 2)"
      ]
     },
     "execution_count": 23,
     "metadata": {},
     "output_type": "execute_result"
    }
   ],
   "source": [
    "5 // 3, 5 % 3"
   ]
  },
  {
   "cell_type": "code",
   "execution_count": 24,
   "id": "57561406",
   "metadata": {},
   "outputs": [
    {
     "data": {
      "text/plain": [
       "(2.0, 0.5)"
      ]
     },
     "execution_count": 24,
     "metadata": {},
     "output_type": "execute_result"
    }
   ],
   "source": [
    "# For floating point numbers the result is (q, a % b), where q is usually math.floor(a / b) \n",
    "# but may be 1 less than that. \n",
    "# In any case q * b + a % b is very close to a, if a % b is non-zero it has the same \n",
    "# sign as b, and 0 <= abs(a % b) < abs(b).\n",
    "divmod(4.5, 2)"
   ]
  },
  {
   "cell_type": "code",
   "execution_count": 25,
   "id": "afd9bd63",
   "metadata": {},
   "outputs": [
    {
     "data": {
      "text/plain": [
       "2.0"
      ]
     },
     "execution_count": 25,
     "metadata": {},
     "output_type": "execute_result"
    }
   ],
   "source": [
    "divmod(4.5, 2)[0]"
   ]
  },
  {
   "cell_type": "code",
   "execution_count": 26,
   "id": "7faa9ac1",
   "metadata": {},
   "outputs": [
    {
     "data": {
      "text/plain": [
       "(2.0, 0.5)"
      ]
     },
     "execution_count": 26,
     "metadata": {},
     "output_type": "execute_result"
    }
   ],
   "source": [
    "4.5 // 2, 4.5 % 2"
   ]
  },
  {
   "cell_type": "code",
   "execution_count": 27,
   "id": "bc0c5082",
   "metadata": {},
   "outputs": [
    {
     "data": {
      "text/plain": [
       "[(0, 'Spring'), (1, 'Summer'), (2, 'Fall'), (3, 'Winter')]"
      ]
     },
     "execution_count": 27,
     "metadata": {},
     "output_type": "execute_result"
    }
   ],
   "source": [
    "## enumerate(iterable, start=0)\n",
    "# Return an enumerate object. iterable must be a sequence, an iterator, \n",
    "# or some other object which supports iteration.\n",
    "# Example from Python doc\n",
    "seasons = ['Spring', 'Summer', 'Fall', 'Winter']\n",
    "list(enumerate(seasons))"
   ]
  },
  {
   "cell_type": "code",
   "execution_count": 28,
   "id": "ee9055b2",
   "metadata": {},
   "outputs": [
    {
     "data": {
      "text/plain": [
       "'Spring'"
      ]
     },
     "execution_count": 28,
     "metadata": {},
     "output_type": "execute_result"
    }
   ],
   "source": [
    "enu = list(enumerate(seasons))\n",
    "enu[0][1]"
   ]
  },
  {
   "cell_type": "code",
   "execution_count": 29,
   "id": "89a0cbf8",
   "metadata": {},
   "outputs": [
    {
     "data": {
      "text/plain": [
       "2"
      ]
     },
     "execution_count": 29,
     "metadata": {},
     "output_type": "execute_result"
    }
   ],
   "source": [
    "enu[2][0]"
   ]
  },
  {
   "cell_type": "code",
   "execution_count": 30,
   "id": "d48423f7",
   "metadata": {},
   "outputs": [
    {
     "data": {
      "text/plain": [
       "[(0, 'Spring')]"
      ]
     },
     "execution_count": 30,
     "metadata": {},
     "output_type": "execute_result"
    }
   ],
   "source": [
    "enu[:1]\n"
   ]
  },
  {
   "cell_type": "code",
   "execution_count": 31,
   "id": "aa64024a",
   "metadata": {},
   "outputs": [
    {
     "data": {
      "text/plain": [
       "[(1, 'Summer')]"
      ]
     },
     "execution_count": 31,
     "metadata": {},
     "output_type": "execute_result"
    }
   ],
   "source": [
    "enu[1:2]"
   ]
  },
  {
   "cell_type": "code",
   "execution_count": 32,
   "id": "fe4e7292",
   "metadata": {},
   "outputs": [
    {
     "data": {
      "text/plain": [
       "[(0, 'Spring'), (1, 'Summer')]"
      ]
     },
     "execution_count": 32,
     "metadata": {},
     "output_type": "execute_result"
    }
   ],
   "source": [
    "enu[0:2]"
   ]
  },
  {
   "cell_type": "code",
   "execution_count": 33,
   "id": "92c4e3d8",
   "metadata": {},
   "outputs": [
    {
     "data": {
      "text/plain": [
       "(0, 'Spring')"
      ]
     },
     "execution_count": 33,
     "metadata": {},
     "output_type": "execute_result"
    }
   ],
   "source": [
    "enu[0]"
   ]
  },
  {
   "cell_type": "code",
   "execution_count": 34,
   "id": "045affb6",
   "metadata": {},
   "outputs": [
    {
     "data": {
      "text/plain": [
       "(3, 'Winter')"
      ]
     },
     "execution_count": 34,
     "metadata": {},
     "output_type": "execute_result"
    }
   ],
   "source": [
    "enu[3]"
   ]
  },
  {
   "cell_type": "code",
   "execution_count": 35,
   "id": "1770a490",
   "metadata": {},
   "outputs": [
    {
     "data": {
      "text/plain": [
       "True"
      ]
     },
     "execution_count": 35,
     "metadata": {},
     "output_type": "execute_result"
    }
   ],
   "source": [
    "## eval(expression[, globals[, locals]])\n",
    "# The arguments are a string and optional globals and locals. \n",
    "# If provided, globals must be a dictionary. If provided, locals can be any mapping object.\n",
    "eval('2 > 1')"
   ]
  },
  {
   "cell_type": "code",
   "execution_count": 36,
   "id": "11d696a5",
   "metadata": {},
   "outputs": [
    {
     "data": {
      "text/plain": [
       "4"
      ]
     },
     "execution_count": 36,
     "metadata": {},
     "output_type": "execute_result"
    }
   ],
   "source": [
    "eval('2**2')"
   ]
  },
  {
   "cell_type": "code",
   "execution_count": 37,
   "id": "92045c23",
   "metadata": {},
   "outputs": [
    {
     "data": {
      "text/plain": [
       "True"
      ]
     },
     "execution_count": 37,
     "metadata": {},
     "output_type": "execute_result"
    }
   ],
   "source": [
    "eval('True and True')"
   ]
  },
  {
   "cell_type": "code",
   "execution_count": 38,
   "id": "c60fa6f2",
   "metadata": {},
   "outputs": [
    {
     "data": {
      "text/plain": [
       "False"
      ]
     },
     "execution_count": 38,
     "metadata": {},
     "output_type": "execute_result"
    }
   ],
   "source": [
    "eval('True and False')"
   ]
  },
  {
   "cell_type": "code",
   "execution_count": 39,
   "id": "34469436",
   "metadata": {},
   "outputs": [
    {
     "data": {
      "text/plain": [
       "True"
      ]
     },
     "execution_count": 39,
     "metadata": {},
     "output_type": "execute_result"
    }
   ],
   "source": [
    "eval('True or False')"
   ]
  },
  {
   "cell_type": "code",
   "execution_count": 40,
   "id": "48a8d3be",
   "metadata": {},
   "outputs": [
    {
     "name": "stdout",
     "output_type": "stream",
     "text": [
      "executing this line\n"
     ]
    }
   ],
   "source": [
    "## exec(object[, globals[, locals]])\n",
    "# This function supports dynamic execution of Python code. \n",
    "# object must be either a string or a code object. If it is a string, the string is parsed as a \n",
    "# suite of Python statements which is then executed (unless a syntax error occurs).\n",
    "exec(\"print(\\'executing this line\\')\")"
   ]
  },
  {
   "cell_type": "code",
   "execution_count": 41,
   "id": "3a5e8772",
   "metadata": {},
   "outputs": [
    {
     "name": "stdout",
     "output_type": "stream",
     "text": [
      "executing this line\n"
     ]
    }
   ],
   "source": [
    "exec(\"print('executing this line')\")"
   ]
  },
  {
   "cell_type": "code",
   "execution_count": 42,
   "id": "38d54dc6",
   "metadata": {},
   "outputs": [
    {
     "name": "stdout",
     "output_type": "stream",
     "text": [
      "executing this line\n"
     ]
    }
   ],
   "source": [
    "exec(\"print(\\\"executing this line\\\")\")"
   ]
  },
  {
   "cell_type": "code",
   "execution_count": 43,
   "id": "9f630094",
   "metadata": {},
   "outputs": [
    {
     "data": {
      "text/plain": [
       "<filter at 0x25c051e5040>"
      ]
     },
     "execution_count": 43,
     "metadata": {},
     "output_type": "execute_result"
    }
   ],
   "source": [
    "## filter(function, iterable)\n",
    "# Construct an iterator from those elements of iterable for which function returns true. \n",
    "filter(any([True, True, True]),'x')"
   ]
  },
  {
   "cell_type": "code",
   "execution_count": 44,
   "id": "b61c5e10",
   "metadata": {},
   "outputs": [
    {
     "data": {
      "text/plain": [
       "([5, 8, 13], [0, 1, 1, 2, 3])"
      ]
     },
     "execution_count": 44,
     "metadata": {},
     "output_type": "execute_result"
    }
   ],
   "source": [
    "high = filter(lambda x: x >= 5, [0, 1, 1, 2, 3, 5, 8, 13])\n",
    "low = filter(lambda x: x < 5, [0, 1, 1, 2, 3, 5, 8, 13])\n",
    "list(high), list(low)"
   ]
  },
  {
   "cell_type": "code",
   "execution_count": 45,
   "id": "77a4e496",
   "metadata": {},
   "outputs": [
    {
     "name": "stdout",
     "output_type": "stream",
     "text": [
      "[1, 1, 3, 5, 13]\n",
      "[0, 2, 8]\n"
     ]
    }
   ],
   "source": [
    "# https://www.geeksforgeeks.org/filter-in-python/\n",
    "seq = [0, 1, 1, 2, 3, 5, 8, 13]\n",
    "\n",
    "# result contains odd numbers of the list\n",
    "result = filter(lambda x: x % 2 != 0, seq)\n",
    "print(list(result))\n",
    "\n",
    "# result contains even numbers of the list\n",
    "result = filter(lambda x: x % 2 == 0, seq)\n",
    "print(list(result))"
   ]
  },
  {
   "cell_type": "code",
   "execution_count": 46,
   "id": "ca7371f6",
   "metadata": {},
   "outputs": [
    {
     "data": {
      "text/plain": [
       "3.0"
      ]
     },
     "execution_count": 46,
     "metadata": {},
     "output_type": "execute_result"
    }
   ],
   "source": [
    "## class float([x])\n",
    "# Return a floating point number constructed from a number or string x.\n",
    "# If the argument is a string, it should contain a decimal number, optionally preceded by a sign, \n",
    "# and optionally embedded in whitespace. \n",
    "# The optional sign may be '+' or '-'; a '+' sign has no effect on the value produced. \n",
    "# The argument may also be a string representing a NaN (not-a-number), or positive or negative infinity. \n",
    "# More precisely, the input must conform to the following grammar after leading and trailing whitespace \n",
    "# characters are removed:\n",
    "float(3)"
   ]
  },
  {
   "cell_type": "code",
   "execution_count": 47,
   "id": "567253e4",
   "metadata": {},
   "outputs": [
    {
     "data": {
      "text/plain": [
       "3.0"
      ]
     },
     "execution_count": 47,
     "metadata": {},
     "output_type": "execute_result"
    }
   ],
   "source": [
    "float('3')"
   ]
  },
  {
   "cell_type": "code",
   "execution_count": 48,
   "id": "62caa451",
   "metadata": {},
   "outputs": [
    {
     "data": {
      "text/plain": [
       "10.0"
      ]
     },
     "execution_count": 48,
     "metadata": {},
     "output_type": "execute_result"
    }
   ],
   "source": [
    "float(10)"
   ]
  },
  {
   "cell_type": "code",
   "execution_count": 49,
   "id": "76fdf9c6",
   "metadata": {},
   "outputs": [
    {
     "data": {
      "text/plain": [
       "10.0"
      ]
     },
     "execution_count": 49,
     "metadata": {},
     "output_type": "execute_result"
    }
   ],
   "source": [
    "float('10')"
   ]
  },
  {
   "cell_type": "code",
   "execution_count": 50,
   "id": "6e26c449",
   "metadata": {},
   "outputs": [
    {
     "data": {
      "text/plain": [
       "inf"
      ]
     },
     "execution_count": 50,
     "metadata": {},
     "output_type": "execute_result"
    }
   ],
   "source": [
    "float('Infinity')"
   ]
  },
  {
   "cell_type": "code",
   "execution_count": 51,
   "id": "5e69f11d",
   "metadata": {},
   "outputs": [
    {
     "name": "stdout",
     "output_type": "stream",
     "text": [
      "Read the directions\n"
     ]
    }
   ],
   "source": [
    "## format(value[, format_spec])\n",
    "# Convert a value to a “formatted” representation, as controlled by format_spec.\n",
    "# Example from https://www.geeksforgeeks.org/string-formatting-in-python/\n",
    "print('{2} {1} {0}'.format('directions','the', 'Read'))\n"
   ]
  },
  {
   "cell_type": "code",
   "execution_count": 52,
   "id": "f7799860",
   "metadata": {},
   "outputs": [
    {
     "data": {
      "text/plain": [
       "'Read the directions'"
      ]
     },
     "execution_count": 52,
     "metadata": {},
     "output_type": "execute_result"
    }
   ],
   "source": [
    "'{2} {1} {0}'.format('directions','the', 'Read')"
   ]
  },
  {
   "cell_type": "code",
   "execution_count": 53,
   "id": "c5230e6d",
   "metadata": {},
   "outputs": [
    {
     "data": {
      "text/plain": [
       "'Read the directions'"
      ]
     },
     "execution_count": 53,
     "metadata": {},
     "output_type": "execute_result"
    }
   ],
   "source": [
    "s = '{2} {1} {0}'\n",
    "s.format('directions','the', 'Read')"
   ]
  },
  {
   "cell_type": "code",
   "execution_count": 54,
   "id": "21ae083b",
   "metadata": {},
   "outputs": [
    {
     "name": "stdout",
     "output_type": "stream",
     "text": [
      "Please! Read the directions\n"
     ]
    }
   ],
   "source": [
    "s = '{2} {1} {0}'\n",
    "print('Please!', s.format('directions','the', 'Read'))"
   ]
  },
  {
   "cell_type": "code",
   "execution_count": 55,
   "id": "a947e9cc",
   "metadata": {},
   "outputs": [
    {
     "name": "stdout",
     "output_type": "stream",
     "text": [
      "frozenset Object is :  frozenset({1, 2, 3, 4, 5, 6, 7, 8, 9})\n"
     ]
    }
   ],
   "source": [
    "## class frozenset([iterable])\n",
    "# Return a new frozenset object, optionally with elements taken from iterable. \n",
    "# frozenset is a built-in class.\n",
    "# Example 1 from https://www.geeksforgeeks.org/frozenset-in-python/\n",
    "# Quote: 'If no parameters are passed to frozenset() function then it returns a empty frozenset type object.'\n",
    "# Python program to understand frozenset() function\n",
    "\n",
    "# tuple of numbers\n",
    "nu = (1, 2, 3, 4, 5, 6, 7, 8, 9)\n",
    "\n",
    "# converting tuple to frozenset\n",
    "fnum = frozenset(nu)\n",
    "\n",
    "# printing details\n",
    "print(\"frozenset Object is : \", fnum)\n"
   ]
  },
  {
   "cell_type": "code",
   "execution_count": 56,
   "id": "9693f6c7",
   "metadata": {},
   "outputs": [
    {
     "name": "stdout",
     "output_type": "stream",
     "text": [
      "The frozen set is: frozenset({'age', 'college', 'sex', 'name', 'address'})\n"
     ]
    }
   ],
   "source": [
    "# Example 2 from https://www.geeksforgeeks.org/frozenset-in-python/\n",
    "# Quote: 'Since frozenset object are immutable they are mainly used as key in dictionary or elements of other sets. \n",
    "# Below example explains it clearly.'\n",
    "# Python program to understand use of frozenset function\n",
    "\n",
    "# creating a dictionary\n",
    "Student = {\"name\": \"Ankit\", \"age\": 21, \"sex\": \"Male\", \\\n",
    "           \"college\": \"MNNIT Allahabad\", \"address\": \"Allahabad\"}\n",
    "\n",
    "# making keys of dictionary as frozenset\n",
    "key = frozenset(Student)\n",
    "\n",
    "# printing keys details\n",
    "print('The frozen set is:', key)\n"
   ]
  },
  {
   "cell_type": "code",
   "execution_count": 57,
   "id": "7ef7b56d",
   "metadata": {},
   "outputs": [
    {
     "name": "stdout",
     "output_type": "stream",
     "text": [
      "The brand is Ferrari\n",
      "Cylinders 12\n"
     ]
    }
   ],
   "source": [
    "## getattr(object, name[, default])\n",
    "# Return the value of the named attribute of object. name must be a string. \n",
    "# If the named attribute does not exist, default is returned if provided, otherwise AttributeError is raised.\n",
    "# Example based on https://www.geeksforgeeks.org/python-getattr-method/ but changed a bit\n",
    "# Python code to demonstrate working of getattr()\n",
    "\n",
    "# declare a class\n",
    "class automobile:\n",
    "        brand = 'Ferrari'\n",
    "        model = 'Berlinetta'\n",
    "        year = 2012\n",
    "\n",
    "# instantiate the class\n",
    "my_car = automobile()\n",
    "\n",
    "# apply getattr\n",
    "print(\"The brand is \" + getattr(my_car, 'brand'))\n",
    "\n",
    "# apply getattr with default\n",
    "print(\"Cylinders \" + getattr(my_car, 'cylinders', '12'))\n",
    "\n"
   ]
  },
  {
   "cell_type": "code",
   "execution_count": 58,
   "id": "3edc2a04",
   "metadata": {},
   "outputs": [
    {
     "name": "stdout",
     "output_type": "stream",
     "text": [
      "Ooops, object my_car does not have cylinders attribute\n",
      "Either ignore or add the attribute\n"
     ]
    }
   ],
   "source": [
    "# Handle the exception with try: and except\n",
    "try:\n",
    "    getattr(my_car, 'cylinders')\n",
    "\n",
    "except AttributeError:\n",
    "    print('Ooops, object my_car does not have cylinders attribute')\n",
    "\n",
    "# Now we can continue our script without crashing\n",
    "print('Either ignore or add the attribute')"
   ]
  },
  {
   "cell_type": "code",
   "execution_count": 59,
   "id": "531e8d7f",
   "metadata": {},
   "outputs": [
    {
     "data": {
      "text/plain": [
       "{'__name__': '__main__',\n",
       " '__doc__': 'Automatically created module for IPython interactive environment',\n",
       " '__package__': None,\n",
       " '__loader__': None,\n",
       " '__spec__': None,\n",
       " '__builtin__': <module 'builtins' (built-in)>,\n",
       " '__builtins__': <module 'builtins' (built-in)>,\n",
       " '_ih': ['',\n",
       "  '# Before going through each built-in function, run globals().\\n# Compare it with another call to glabals() that will come up later in this script\\n# globals() - Return the dictionary implementing the current module namespace. \\nglobals()',\n",
       "  'locals()',\n",
       "  '## abs()\\n# Return the absolute value of a number. \\nabs(-1)',\n",
       "  '# If the argument is a complex number, its magnitude is returned.\\nabs(complex(1, 1))',\n",
       "  '## all()\\n# Return True if all elements of the iterable are true (or if the iterable is empty)\\na = all([True, True, True])\\nb = all([True, False,True])\\na, b',\n",
       "  \"## any()\\n# Return True if any element of the iterable is true (False if the iterable is empty)\\na = any([True, True, True])\\nb = any([True, False,True])\\nc = any([(7 < 3), ('abc' == 'abcd'), (False | False), (True & False)])\\nd = any([(7 < 3), ('abc' == 'abcd'), (True | False), (True & False)])\\na, b, c, d\",\n",
       "  \"## ascii()\\n# As repr(), return a string containing a printable representation of an object, \\n# but escape the non-ASCII characters in the string returned by repr() \\n# using \\\\x, \\\\u, or \\\\U escapes.\\nprint(ascii(0xA), ascii(10), ascii(0), ascii(0x0), ascii('abc'), ascii(True), ascii([1, 2, 3, 'abc', True]))\",\n",
       "  '## bin(x)\\n# Convert an integer number to a binary string prefixed with “0b”. \\n# print(bin(8), bin(25))\\nbin(8), bin(255)',\n",
       "  '## bool([x])\\n# Return a Boolean value, i.e. one of True or False. \\nfl = 2 < 1\\ntr = 2 > 1\\na = bool(fl or fl)\\nb = bool(fl or tr)\\nc = bool(fl | fl)\\nd = bool(fl | tr)\\ne = bool(2 < 1 & 7 < 2)\\nf = bool(2 < 1 and 7 < 2)\\nfl, tr, a, b, c, d, e, f',\n",
       "  '## breakpoint(*args, **kws)\\n# This function drops you into the debugger at the call site. ',\n",
       "  '## bytearray([source[, encoding[, errors]]])\\n# Return a new array of bytes. \\nbytearray(0xA)',\n",
       "  '## bytes([source[, encoding[, errors]]])\\n# Return a new “bytes” object which is an immutable sequence of integers in the range 0 <= x < 256.\\nbytes(0xA)',\n",
       "  '## callable(object)\\n# Return True if the object argument appears callable, False if not.\\na = 5\\ncallable(a)',\n",
       "  \"## chr(i)\\n# Return the string representing a character whose Unicode code point is the integer i. \\n# For example, chr(97) returns the string 'a', while chr(8364) returns the string '€'. \\n# This is the inverse of ord().\\nprint(chr(97), ord('a'))\",\n",
       "  '## class complex([real[, imag]])\\n# Return a complex number with the value real + imag*1j \\n# or convert a string or number to a complex number.\\ncomplex(2, 3)',\n",
       "  'type(complex(2, 3))',\n",
       "  'complex(2 + 3j)',\n",
       "  'type(complex(2 + 3j))',\n",
       "  \"complex('2+3j')\",\n",
       "  \"type(complex('2+3j'))\",\n",
       "  \"abs(complex('1+j'))\",\n",
       "  '## divmod(a, b)\\n# Take two (non-complex) numbers as arguments and return a pair of numbers consisting of their \\n# quotient and remainder when using integer division. With mixed operand types, the rules for binary arithmetic \\n# operators apply. For integers, the result is the same as (a // b, a % b).\\ndivmod(5, 3)',\n",
       "  '5 // 3, 5 % 3',\n",
       "  '# For floating point numbers the result is (q, a % b), where q is usually math.floor(a / b) \\n# but may be 1 less than that. \\n# In any case q * b + a % b is very close to a, if a % b is non-zero it has the same \\n# sign as b, and 0 <= abs(a % b) < abs(b).\\ndivmod(4.5, 2)',\n",
       "  'divmod(4.5, 2)[0]',\n",
       "  '4.5 // 2, 4.5 % 2',\n",
       "  \"## enumerate(iterable, start=0)\\n# Return an enumerate object. iterable must be a sequence, an iterator, \\n# or some other object which supports iteration.\\n# Example from Python doc\\nseasons = ['Spring', 'Summer', 'Fall', 'Winter']\\nlist(enumerate(seasons))\",\n",
       "  'enu = list(enumerate(seasons))\\nenu[0][1]',\n",
       "  'enu[2][0]',\n",
       "  'enu[:1]',\n",
       "  'enu[1:2]',\n",
       "  'enu[0:2]',\n",
       "  'enu[0]',\n",
       "  'enu[3]',\n",
       "  \"## eval(expression[, globals[, locals]])\\n# The arguments are a string and optional globals and locals. \\n# If provided, globals must be a dictionary. If provided, locals can be any mapping object.\\neval('2 > 1')\",\n",
       "  \"eval('2**2')\",\n",
       "  \"eval('True and True')\",\n",
       "  \"eval('True and False')\",\n",
       "  \"eval('True or False')\",\n",
       "  '## exec(object[, globals[, locals]])\\n# This function supports dynamic execution of Python code. \\n# object must be either a string or a code object. If it is a string, the string is parsed as a \\n# suite of Python statements which is then executed (unless a syntax error occurs).\\nexec(\"print(\\\\\\'executing this line\\\\\\')\")',\n",
       "  'exec(\"print(\\'executing this line\\')\")',\n",
       "  'exec(\"print(\\\\\"executing this line\\\\\")\")',\n",
       "  \"## filter(function, iterable)\\n# Construct an iterator from those elements of iterable for which function returns true. \\nfilter(any([True, True, True]),'x')\",\n",
       "  'high = filter(lambda x: x >= 5, [0, 1, 1, 2, 3, 5, 8, 13])\\nlow = filter(lambda x: x < 5, [0, 1, 1, 2, 3, 5, 8, 13])\\nlist(high), list(low)',\n",
       "  '# https://www.geeksforgeeks.org/filter-in-python/\\nseq = [0, 1, 1, 2, 3, 5, 8, 13]\\n\\n# result contains odd numbers of the list\\nresult = filter(lambda x: x % 2 != 0, seq)\\nprint(list(result))\\n\\n# result contains even numbers of the list\\nresult = filter(lambda x: x % 2 == 0, seq)\\nprint(list(result))',\n",
       "  \"## class float([x])\\n# Return a floating point number constructed from a number or string x.\\n# If the argument is a string, it should contain a decimal number, optionally preceded by a sign, \\n# and optionally embedded in whitespace. \\n# The optional sign may be '+' or '-'; a '+' sign has no effect on the value produced. \\n# The argument may also be a string representing a NaN (not-a-number), or positive or negative infinity. \\n# More precisely, the input must conform to the following grammar after leading and trailing whitespace \\n# characters are removed:\\nfloat(3)\",\n",
       "  \"float('3')\",\n",
       "  'float(10)',\n",
       "  \"float('10')\",\n",
       "  \"float('Infinity')\",\n",
       "  \"## format(value[, format_spec])\\n# Convert a value to a “formatted” representation, as controlled by format_spec.\\n# Example from https://www.geeksforgeeks.org/string-formatting-in-python/\\nprint('{2} {1} {0}'.format('directions','the', 'Read'))\",\n",
       "  \"'{2} {1} {0}'.format('directions','the', 'Read')\",\n",
       "  \"s = '{2} {1} {0}'\\ns.format('directions','the', 'Read')\",\n",
       "  \"s = '{2} {1} {0}'\\nprint('Please!', s.format('directions','the', 'Read'))\",\n",
       "  '## class frozenset([iterable])\\n# Return a new frozenset object, optionally with elements taken from iterable. \\n# frozenset is a built-in class.\\n# Example 1 from https://www.geeksforgeeks.org/frozenset-in-python/\\n# Quote: \\'If no parameters are passed to frozenset() function then it returns a empty frozenset type object.\\'\\n# Python program to understand frozenset() function\\n\\n# tuple of numbers\\nnu = (1, 2, 3, 4, 5, 6, 7, 8, 9)\\n\\n# converting tuple to frozenset\\nfnum = frozenset(nu)\\n\\n# printing details\\nprint(\"frozenset Object is : \", fnum)',\n",
       "  '# Example 2 from https://www.geeksforgeeks.org/frozenset-in-python/\\n# Quote: \\'Since frozenset object are immutable they are mainly used as key in dictionary or elements of other sets. \\n# Below example explains it clearly.\\'\\n# Python program to understand use of frozenset function\\n\\n# creating a dictionary\\nStudent = {\"name\": \"Ankit\", \"age\": 21, \"sex\": \"Male\", \\\\\\n           \"college\": \"MNNIT Allahabad\", \"address\": \"Allahabad\"}\\n\\n# making keys of dictionary as frozenset\\nkey = frozenset(Student)\\n\\n# printing keys details\\nprint(\\'The frozen set is:\\', key)',\n",
       "  '## getattr(object, name[, default])\\n# Return the value of the named attribute of object. name must be a string. \\n# If the named attribute does not exist, default is returned if provided, otherwise AttributeError is raised.\\n# Example based on https://www.geeksforgeeks.org/python-getattr-method/ but changed a bit\\n# Python code to demonstrate working of getattr()\\n\\n# declare a class\\nclass automobile:\\n        brand = \\'Ferrari\\'\\n        model = \\'Berlinetta\\'\\n        year = 2012\\n\\n# instantiate the class\\nmy_car = automobile()\\n\\n# apply getattr\\nprint(\"The brand is \" + getattr(my_car, \\'brand\\'))\\n\\n# apply getattr with default\\nprint(\"Cylinders \" + getattr(my_car, \\'cylinders\\', \\'12\\'))',\n",
       "  \"# Handle the exception with try: and except\\ntry:\\n    getattr(my_car, 'cylinders')\\n\\nexcept AttributeError:\\n    print('Ooops, object my_car does not have cylinders attribute')\\n\\n# Now we can continue our script without crashing\\nprint('Either ignore or add the attribute')\",\n",
       "  '## globals()\\n# Return the dictionary implementing the current module namespace. \\nglobals()\\n\\n# Clean everythin up and try this call again. It will reveal what it has from the start already'],\n",
       " '_oh': {1: {...},\n",
       "  2: {...},\n",
       "  3: 1,\n",
       "  4: 1.4142135623730951,\n",
       "  5: (True, False),\n",
       "  6: (True, True, False, True),\n",
       "  8: ('0b1000', '0b11111111'),\n",
       "  9: (False, True, False, True, False, True, False, False),\n",
       "  11: bytearray(b'\\x00\\x00\\x00\\x00\\x00\\x00\\x00\\x00\\x00\\x00'),\n",
       "  12: b'\\x00\\x00\\x00\\x00\\x00\\x00\\x00\\x00\\x00\\x00',\n",
       "  13: False,\n",
       "  15: (2+3j),\n",
       "  16: complex,\n",
       "  17: (2+3j),\n",
       "  18: complex,\n",
       "  19: (2+3j),\n",
       "  20: complex,\n",
       "  21: 1.4142135623730951,\n",
       "  22: (1, 2),\n",
       "  23: (1, 2),\n",
       "  24: (2.0, 0.5),\n",
       "  25: 2.0,\n",
       "  26: (2.0, 0.5),\n",
       "  27: [(0, 'Spring'), (1, 'Summer'), (2, 'Fall'), (3, 'Winter')],\n",
       "  28: 'Spring',\n",
       "  29: 2,\n",
       "  30: [(0, 'Spring')],\n",
       "  31: [(1, 'Summer')],\n",
       "  32: [(0, 'Spring'), (1, 'Summer')],\n",
       "  33: (0, 'Spring'),\n",
       "  34: (3, 'Winter'),\n",
       "  35: True,\n",
       "  36: 4,\n",
       "  37: True,\n",
       "  38: False,\n",
       "  39: True,\n",
       "  43: <filter at 0x25c051e5040>,\n",
       "  44: ([5, 8, 13], [0, 1, 1, 2, 3]),\n",
       "  46: 3.0,\n",
       "  47: 3.0,\n",
       "  48: 10.0,\n",
       "  49: 10.0,\n",
       "  50: inf,\n",
       "  52: 'Read the directions',\n",
       "  53: 'Read the directions'},\n",
       " '_dh': ['C:\\\\Users\\\\trevizo\\\\My Drive (otrevi312@gmail.com)\\\\SW\\\\GitHub\\\\Python\\\\python_vignettes'],\n",
       " 'In': ['',\n",
       "  '# Before going through each built-in function, run globals().\\n# Compare it with another call to glabals() that will come up later in this script\\n# globals() - Return the dictionary implementing the current module namespace. \\nglobals()',\n",
       "  'locals()',\n",
       "  '## abs()\\n# Return the absolute value of a number. \\nabs(-1)',\n",
       "  '# If the argument is a complex number, its magnitude is returned.\\nabs(complex(1, 1))',\n",
       "  '## all()\\n# Return True if all elements of the iterable are true (or if the iterable is empty)\\na = all([True, True, True])\\nb = all([True, False,True])\\na, b',\n",
       "  \"## any()\\n# Return True if any element of the iterable is true (False if the iterable is empty)\\na = any([True, True, True])\\nb = any([True, False,True])\\nc = any([(7 < 3), ('abc' == 'abcd'), (False | False), (True & False)])\\nd = any([(7 < 3), ('abc' == 'abcd'), (True | False), (True & False)])\\na, b, c, d\",\n",
       "  \"## ascii()\\n# As repr(), return a string containing a printable representation of an object, \\n# but escape the non-ASCII characters in the string returned by repr() \\n# using \\\\x, \\\\u, or \\\\U escapes.\\nprint(ascii(0xA), ascii(10), ascii(0), ascii(0x0), ascii('abc'), ascii(True), ascii([1, 2, 3, 'abc', True]))\",\n",
       "  '## bin(x)\\n# Convert an integer number to a binary string prefixed with “0b”. \\n# print(bin(8), bin(25))\\nbin(8), bin(255)',\n",
       "  '## bool([x])\\n# Return a Boolean value, i.e. one of True or False. \\nfl = 2 < 1\\ntr = 2 > 1\\na = bool(fl or fl)\\nb = bool(fl or tr)\\nc = bool(fl | fl)\\nd = bool(fl | tr)\\ne = bool(2 < 1 & 7 < 2)\\nf = bool(2 < 1 and 7 < 2)\\nfl, tr, a, b, c, d, e, f',\n",
       "  '## breakpoint(*args, **kws)\\n# This function drops you into the debugger at the call site. ',\n",
       "  '## bytearray([source[, encoding[, errors]]])\\n# Return a new array of bytes. \\nbytearray(0xA)',\n",
       "  '## bytes([source[, encoding[, errors]]])\\n# Return a new “bytes” object which is an immutable sequence of integers in the range 0 <= x < 256.\\nbytes(0xA)',\n",
       "  '## callable(object)\\n# Return True if the object argument appears callable, False if not.\\na = 5\\ncallable(a)',\n",
       "  \"## chr(i)\\n# Return the string representing a character whose Unicode code point is the integer i. \\n# For example, chr(97) returns the string 'a', while chr(8364) returns the string '€'. \\n# This is the inverse of ord().\\nprint(chr(97), ord('a'))\",\n",
       "  '## class complex([real[, imag]])\\n# Return a complex number with the value real + imag*1j \\n# or convert a string or number to a complex number.\\ncomplex(2, 3)',\n",
       "  'type(complex(2, 3))',\n",
       "  'complex(2 + 3j)',\n",
       "  'type(complex(2 + 3j))',\n",
       "  \"complex('2+3j')\",\n",
       "  \"type(complex('2+3j'))\",\n",
       "  \"abs(complex('1+j'))\",\n",
       "  '## divmod(a, b)\\n# Take two (non-complex) numbers as arguments and return a pair of numbers consisting of their \\n# quotient and remainder when using integer division. With mixed operand types, the rules for binary arithmetic \\n# operators apply. For integers, the result is the same as (a // b, a % b).\\ndivmod(5, 3)',\n",
       "  '5 // 3, 5 % 3',\n",
       "  '# For floating point numbers the result is (q, a % b), where q is usually math.floor(a / b) \\n# but may be 1 less than that. \\n# In any case q * b + a % b is very close to a, if a % b is non-zero it has the same \\n# sign as b, and 0 <= abs(a % b) < abs(b).\\ndivmod(4.5, 2)',\n",
       "  'divmod(4.5, 2)[0]',\n",
       "  '4.5 // 2, 4.5 % 2',\n",
       "  \"## enumerate(iterable, start=0)\\n# Return an enumerate object. iterable must be a sequence, an iterator, \\n# or some other object which supports iteration.\\n# Example from Python doc\\nseasons = ['Spring', 'Summer', 'Fall', 'Winter']\\nlist(enumerate(seasons))\",\n",
       "  'enu = list(enumerate(seasons))\\nenu[0][1]',\n",
       "  'enu[2][0]',\n",
       "  'enu[:1]',\n",
       "  'enu[1:2]',\n",
       "  'enu[0:2]',\n",
       "  'enu[0]',\n",
       "  'enu[3]',\n",
       "  \"## eval(expression[, globals[, locals]])\\n# The arguments are a string and optional globals and locals. \\n# If provided, globals must be a dictionary. If provided, locals can be any mapping object.\\neval('2 > 1')\",\n",
       "  \"eval('2**2')\",\n",
       "  \"eval('True and True')\",\n",
       "  \"eval('True and False')\",\n",
       "  \"eval('True or False')\",\n",
       "  '## exec(object[, globals[, locals]])\\n# This function supports dynamic execution of Python code. \\n# object must be either a string or a code object. If it is a string, the string is parsed as a \\n# suite of Python statements which is then executed (unless a syntax error occurs).\\nexec(\"print(\\\\\\'executing this line\\\\\\')\")',\n",
       "  'exec(\"print(\\'executing this line\\')\")',\n",
       "  'exec(\"print(\\\\\"executing this line\\\\\")\")',\n",
       "  \"## filter(function, iterable)\\n# Construct an iterator from those elements of iterable for which function returns true. \\nfilter(any([True, True, True]),'x')\",\n",
       "  'high = filter(lambda x: x >= 5, [0, 1, 1, 2, 3, 5, 8, 13])\\nlow = filter(lambda x: x < 5, [0, 1, 1, 2, 3, 5, 8, 13])\\nlist(high), list(low)',\n",
       "  '# https://www.geeksforgeeks.org/filter-in-python/\\nseq = [0, 1, 1, 2, 3, 5, 8, 13]\\n\\n# result contains odd numbers of the list\\nresult = filter(lambda x: x % 2 != 0, seq)\\nprint(list(result))\\n\\n# result contains even numbers of the list\\nresult = filter(lambda x: x % 2 == 0, seq)\\nprint(list(result))',\n",
       "  \"## class float([x])\\n# Return a floating point number constructed from a number or string x.\\n# If the argument is a string, it should contain a decimal number, optionally preceded by a sign, \\n# and optionally embedded in whitespace. \\n# The optional sign may be '+' or '-'; a '+' sign has no effect on the value produced. \\n# The argument may also be a string representing a NaN (not-a-number), or positive or negative infinity. \\n# More precisely, the input must conform to the following grammar after leading and trailing whitespace \\n# characters are removed:\\nfloat(3)\",\n",
       "  \"float('3')\",\n",
       "  'float(10)',\n",
       "  \"float('10')\",\n",
       "  \"float('Infinity')\",\n",
       "  \"## format(value[, format_spec])\\n# Convert a value to a “formatted” representation, as controlled by format_spec.\\n# Example from https://www.geeksforgeeks.org/string-formatting-in-python/\\nprint('{2} {1} {0}'.format('directions','the', 'Read'))\",\n",
       "  \"'{2} {1} {0}'.format('directions','the', 'Read')\",\n",
       "  \"s = '{2} {1} {0}'\\ns.format('directions','the', 'Read')\",\n",
       "  \"s = '{2} {1} {0}'\\nprint('Please!', s.format('directions','the', 'Read'))\",\n",
       "  '## class frozenset([iterable])\\n# Return a new frozenset object, optionally with elements taken from iterable. \\n# frozenset is a built-in class.\\n# Example 1 from https://www.geeksforgeeks.org/frozenset-in-python/\\n# Quote: \\'If no parameters are passed to frozenset() function then it returns a empty frozenset type object.\\'\\n# Python program to understand frozenset() function\\n\\n# tuple of numbers\\nnu = (1, 2, 3, 4, 5, 6, 7, 8, 9)\\n\\n# converting tuple to frozenset\\nfnum = frozenset(nu)\\n\\n# printing details\\nprint(\"frozenset Object is : \", fnum)',\n",
       "  '# Example 2 from https://www.geeksforgeeks.org/frozenset-in-python/\\n# Quote: \\'Since frozenset object are immutable they are mainly used as key in dictionary or elements of other sets. \\n# Below example explains it clearly.\\'\\n# Python program to understand use of frozenset function\\n\\n# creating a dictionary\\nStudent = {\"name\": \"Ankit\", \"age\": 21, \"sex\": \"Male\", \\\\\\n           \"college\": \"MNNIT Allahabad\", \"address\": \"Allahabad\"}\\n\\n# making keys of dictionary as frozenset\\nkey = frozenset(Student)\\n\\n# printing keys details\\nprint(\\'The frozen set is:\\', key)',\n",
       "  '## getattr(object, name[, default])\\n# Return the value of the named attribute of object. name must be a string. \\n# If the named attribute does not exist, default is returned if provided, otherwise AttributeError is raised.\\n# Example based on https://www.geeksforgeeks.org/python-getattr-method/ but changed a bit\\n# Python code to demonstrate working of getattr()\\n\\n# declare a class\\nclass automobile:\\n        brand = \\'Ferrari\\'\\n        model = \\'Berlinetta\\'\\n        year = 2012\\n\\n# instantiate the class\\nmy_car = automobile()\\n\\n# apply getattr\\nprint(\"The brand is \" + getattr(my_car, \\'brand\\'))\\n\\n# apply getattr with default\\nprint(\"Cylinders \" + getattr(my_car, \\'cylinders\\', \\'12\\'))',\n",
       "  \"# Handle the exception with try: and except\\ntry:\\n    getattr(my_car, 'cylinders')\\n\\nexcept AttributeError:\\n    print('Ooops, object my_car does not have cylinders attribute')\\n\\n# Now we can continue our script without crashing\\nprint('Either ignore or add the attribute')\",\n",
       "  '## globals()\\n# Return the dictionary implementing the current module namespace. \\nglobals()\\n\\n# Clean everythin up and try this call again. It will reveal what it has from the start already'],\n",
       " 'Out': {1: {...},\n",
       "  2: {...},\n",
       "  3: 1,\n",
       "  4: 1.4142135623730951,\n",
       "  5: (True, False),\n",
       "  6: (True, True, False, True),\n",
       "  8: ('0b1000', '0b11111111'),\n",
       "  9: (False, True, False, True, False, True, False, False),\n",
       "  11: bytearray(b'\\x00\\x00\\x00\\x00\\x00\\x00\\x00\\x00\\x00\\x00'),\n",
       "  12: b'\\x00\\x00\\x00\\x00\\x00\\x00\\x00\\x00\\x00\\x00',\n",
       "  13: False,\n",
       "  15: (2+3j),\n",
       "  16: complex,\n",
       "  17: (2+3j),\n",
       "  18: complex,\n",
       "  19: (2+3j),\n",
       "  20: complex,\n",
       "  21: 1.4142135623730951,\n",
       "  22: (1, 2),\n",
       "  23: (1, 2),\n",
       "  24: (2.0, 0.5),\n",
       "  25: 2.0,\n",
       "  26: (2.0, 0.5),\n",
       "  27: [(0, 'Spring'), (1, 'Summer'), (2, 'Fall'), (3, 'Winter')],\n",
       "  28: 'Spring',\n",
       "  29: 2,\n",
       "  30: [(0, 'Spring')],\n",
       "  31: [(1, 'Summer')],\n",
       "  32: [(0, 'Spring'), (1, 'Summer')],\n",
       "  33: (0, 'Spring'),\n",
       "  34: (3, 'Winter'),\n",
       "  35: True,\n",
       "  36: 4,\n",
       "  37: True,\n",
       "  38: False,\n",
       "  39: True,\n",
       "  43: <filter at 0x25c051e5040>,\n",
       "  44: ([5, 8, 13], [0, 1, 1, 2, 3]),\n",
       "  46: 3.0,\n",
       "  47: 3.0,\n",
       "  48: 10.0,\n",
       "  49: 10.0,\n",
       "  50: inf,\n",
       "  52: 'Read the directions',\n",
       "  53: 'Read the directions'},\n",
       " 'get_ipython': <bound method InteractiveShell.get_ipython of <ipykernel.zmqshell.ZMQInteractiveShell object at 0x0000025C050E4100>>,\n",
       " 'exit': <IPython.core.autocall.ZMQExitAutocall at 0x25c05115490>,\n",
       " 'quit': <IPython.core.autocall.ZMQExitAutocall at 0x25c05115490>,\n",
       " '_': 'Read the directions',\n",
       " '__': 'Read the directions',\n",
       " '___': inf,\n",
       " '_i': \"# Handle the exception with try: and except\\ntry:\\n    getattr(my_car, 'cylinders')\\n\\nexcept AttributeError:\\n    print('Ooops, object my_car does not have cylinders attribute')\\n\\n# Now we can continue our script without crashing\\nprint('Either ignore or add the attribute')\",\n",
       " '_ii': '## getattr(object, name[, default])\\n# Return the value of the named attribute of object. name must be a string. \\n# If the named attribute does not exist, default is returned if provided, otherwise AttributeError is raised.\\n# Example based on https://www.geeksforgeeks.org/python-getattr-method/ but changed a bit\\n# Python code to demonstrate working of getattr()\\n\\n# declare a class\\nclass automobile:\\n        brand = \\'Ferrari\\'\\n        model = \\'Berlinetta\\'\\n        year = 2012\\n\\n# instantiate the class\\nmy_car = automobile()\\n\\n# apply getattr\\nprint(\"The brand is \" + getattr(my_car, \\'brand\\'))\\n\\n# apply getattr with default\\nprint(\"Cylinders \" + getattr(my_car, \\'cylinders\\', \\'12\\'))',\n",
       " '_iii': '# Example 2 from https://www.geeksforgeeks.org/frozenset-in-python/\\n# Quote: \\'Since frozenset object are immutable they are mainly used as key in dictionary or elements of other sets. \\n# Below example explains it clearly.\\'\\n# Python program to understand use of frozenset function\\n\\n# creating a dictionary\\nStudent = {\"name\": \"Ankit\", \"age\": 21, \"sex\": \"Male\", \\\\\\n           \"college\": \"MNNIT Allahabad\", \"address\": \"Allahabad\"}\\n\\n# making keys of dictionary as frozenset\\nkey = frozenset(Student)\\n\\n# printing keys details\\nprint(\\'The frozen set is:\\', key)',\n",
       " '_i1': '# Before going through each built-in function, run globals().\\n# Compare it with another call to glabals() that will come up later in this script\\n# globals() - Return the dictionary implementing the current module namespace. \\nglobals()',\n",
       " '_1': {...},\n",
       " '_i2': 'locals()',\n",
       " '_2': {...},\n",
       " '_i3': '## abs()\\n# Return the absolute value of a number. \\nabs(-1)',\n",
       " '_3': 1,\n",
       " '_i4': '# If the argument is a complex number, its magnitude is returned.\\nabs(complex(1, 1))',\n",
       " '_4': 1.4142135623730951,\n",
       " '_i5': '## all()\\n# Return True if all elements of the iterable are true (or if the iterable is empty)\\na = all([True, True, True])\\nb = all([True, False,True])\\na, b',\n",
       " 'a': 5,\n",
       " 'b': True,\n",
       " '_5': (True, False),\n",
       " '_i6': \"## any()\\n# Return True if any element of the iterable is true (False if the iterable is empty)\\na = any([True, True, True])\\nb = any([True, False,True])\\nc = any([(7 < 3), ('abc' == 'abcd'), (False | False), (True & False)])\\nd = any([(7 < 3), ('abc' == 'abcd'), (True | False), (True & False)])\\na, b, c, d\",\n",
       " 'c': False,\n",
       " 'd': True,\n",
       " '_6': (True, True, False, True),\n",
       " '_i7': \"## ascii()\\n# As repr(), return a string containing a printable representation of an object, \\n# but escape the non-ASCII characters in the string returned by repr() \\n# using \\\\x, \\\\u, or \\\\U escapes.\\nprint(ascii(0xA), ascii(10), ascii(0), ascii(0x0), ascii('abc'), ascii(True), ascii([1, 2, 3, 'abc', True]))\",\n",
       " '_i8': '## bin(x)\\n# Convert an integer number to a binary string prefixed with “0b”. \\n# print(bin(8), bin(25))\\nbin(8), bin(255)',\n",
       " '_8': ('0b1000', '0b11111111'),\n",
       " '_i9': '## bool([x])\\n# Return a Boolean value, i.e. one of True or False. \\nfl = 2 < 1\\ntr = 2 > 1\\na = bool(fl or fl)\\nb = bool(fl or tr)\\nc = bool(fl | fl)\\nd = bool(fl | tr)\\ne = bool(2 < 1 & 7 < 2)\\nf = bool(2 < 1 and 7 < 2)\\nfl, tr, a, b, c, d, e, f',\n",
       " 'fl': False,\n",
       " 'tr': True,\n",
       " 'e': False,\n",
       " 'f': False,\n",
       " '_9': (False, True, False, True, False, True, False, False),\n",
       " '_i10': '## breakpoint(*args, **kws)\\n# This function drops you into the debugger at the call site. ',\n",
       " '_i11': '## bytearray([source[, encoding[, errors]]])\\n# Return a new array of bytes. \\nbytearray(0xA)',\n",
       " '_11': bytearray(b'\\x00\\x00\\x00\\x00\\x00\\x00\\x00\\x00\\x00\\x00'),\n",
       " '_i12': '## bytes([source[, encoding[, errors]]])\\n# Return a new “bytes” object which is an immutable sequence of integers in the range 0 <= x < 256.\\nbytes(0xA)',\n",
       " '_12': b'\\x00\\x00\\x00\\x00\\x00\\x00\\x00\\x00\\x00\\x00',\n",
       " '_i13': '## callable(object)\\n# Return True if the object argument appears callable, False if not.\\na = 5\\ncallable(a)',\n",
       " '_13': False,\n",
       " '_i14': \"## chr(i)\\n# Return the string representing a character whose Unicode code point is the integer i. \\n# For example, chr(97) returns the string 'a', while chr(8364) returns the string '€'. \\n# This is the inverse of ord().\\nprint(chr(97), ord('a'))\",\n",
       " '_i15': '## class complex([real[, imag]])\\n# Return a complex number with the value real + imag*1j \\n# or convert a string or number to a complex number.\\ncomplex(2, 3)',\n",
       " '_15': (2+3j),\n",
       " '_i16': 'type(complex(2, 3))',\n",
       " '_16': complex,\n",
       " '_i17': 'complex(2 + 3j)',\n",
       " '_17': (2+3j),\n",
       " '_i18': 'type(complex(2 + 3j))',\n",
       " '_18': complex,\n",
       " '_i19': \"complex('2+3j')\",\n",
       " '_19': (2+3j),\n",
       " '_i20': \"type(complex('2+3j'))\",\n",
       " '_20': complex,\n",
       " '_i21': \"abs(complex('1+j'))\",\n",
       " '_21': 1.4142135623730951,\n",
       " '_i22': '## divmod(a, b)\\n# Take two (non-complex) numbers as arguments and return a pair of numbers consisting of their \\n# quotient and remainder when using integer division. With mixed operand types, the rules for binary arithmetic \\n# operators apply. For integers, the result is the same as (a // b, a % b).\\ndivmod(5, 3)',\n",
       " '_22': (1, 2),\n",
       " '_i23': '5 // 3, 5 % 3',\n",
       " '_23': (1, 2),\n",
       " '_i24': '# For floating point numbers the result is (q, a % b), where q is usually math.floor(a / b) \\n# but may be 1 less than that. \\n# In any case q * b + a % b is very close to a, if a % b is non-zero it has the same \\n# sign as b, and 0 <= abs(a % b) < abs(b).\\ndivmod(4.5, 2)',\n",
       " '_24': (2.0, 0.5),\n",
       " '_i25': 'divmod(4.5, 2)[0]',\n",
       " '_25': 2.0,\n",
       " '_i26': '4.5 // 2, 4.5 % 2',\n",
       " '_26': (2.0, 0.5),\n",
       " '_i27': \"## enumerate(iterable, start=0)\\n# Return an enumerate object. iterable must be a sequence, an iterator, \\n# or some other object which supports iteration.\\n# Example from Python doc\\nseasons = ['Spring', 'Summer', 'Fall', 'Winter']\\nlist(enumerate(seasons))\",\n",
       " 'seasons': ['Spring', 'Summer', 'Fall', 'Winter'],\n",
       " '_27': [(0, 'Spring'), (1, 'Summer'), (2, 'Fall'), (3, 'Winter')],\n",
       " '_i28': 'enu = list(enumerate(seasons))\\nenu[0][1]',\n",
       " 'enu': [(0, 'Spring'), (1, 'Summer'), (2, 'Fall'), (3, 'Winter')],\n",
       " '_28': 'Spring',\n",
       " '_i29': 'enu[2][0]',\n",
       " '_29': 2,\n",
       " '_i30': 'enu[:1]',\n",
       " '_30': [(0, 'Spring')],\n",
       " '_i31': 'enu[1:2]',\n",
       " '_31': [(1, 'Summer')],\n",
       " '_i32': 'enu[0:2]',\n",
       " '_32': [(0, 'Spring'), (1, 'Summer')],\n",
       " '_i33': 'enu[0]',\n",
       " '_33': (0, 'Spring'),\n",
       " '_i34': 'enu[3]',\n",
       " '_34': (3, 'Winter'),\n",
       " '_i35': \"## eval(expression[, globals[, locals]])\\n# The arguments are a string and optional globals and locals. \\n# If provided, globals must be a dictionary. If provided, locals can be any mapping object.\\neval('2 > 1')\",\n",
       " '_35': True,\n",
       " '_i36': \"eval('2**2')\",\n",
       " '_36': 4,\n",
       " '_i37': \"eval('True and True')\",\n",
       " '_37': True,\n",
       " '_i38': \"eval('True and False')\",\n",
       " '_38': False,\n",
       " '_i39': \"eval('True or False')\",\n",
       " '_39': True,\n",
       " '_i40': '## exec(object[, globals[, locals]])\\n# This function supports dynamic execution of Python code. \\n# object must be either a string or a code object. If it is a string, the string is parsed as a \\n# suite of Python statements which is then executed (unless a syntax error occurs).\\nexec(\"print(\\\\\\'executing this line\\\\\\')\")',\n",
       " '_i41': 'exec(\"print(\\'executing this line\\')\")',\n",
       " '_i42': 'exec(\"print(\\\\\"executing this line\\\\\")\")',\n",
       " '_i43': \"## filter(function, iterable)\\n# Construct an iterator from those elements of iterable for which function returns true. \\nfilter(any([True, True, True]),'x')\",\n",
       " '_43': <filter at 0x25c051e5040>,\n",
       " '_i44': 'high = filter(lambda x: x >= 5, [0, 1, 1, 2, 3, 5, 8, 13])\\nlow = filter(lambda x: x < 5, [0, 1, 1, 2, 3, 5, 8, 13])\\nlist(high), list(low)',\n",
       " 'high': <filter at 0x25c051e5d60>,\n",
       " 'low': <filter at 0x25c051e5580>,\n",
       " '_44': ([5, 8, 13], [0, 1, 1, 2, 3]),\n",
       " '_i45': '# https://www.geeksforgeeks.org/filter-in-python/\\nseq = [0, 1, 1, 2, 3, 5, 8, 13]\\n\\n# result contains odd numbers of the list\\nresult = filter(lambda x: x % 2 != 0, seq)\\nprint(list(result))\\n\\n# result contains even numbers of the list\\nresult = filter(lambda x: x % 2 == 0, seq)\\nprint(list(result))',\n",
       " 'seq': [0, 1, 1, 2, 3, 5, 8, 13],\n",
       " 'result': <filter at 0x25c051e5a90>,\n",
       " '_i46': \"## class float([x])\\n# Return a floating point number constructed from a number or string x.\\n# If the argument is a string, it should contain a decimal number, optionally preceded by a sign, \\n# and optionally embedded in whitespace. \\n# The optional sign may be '+' or '-'; a '+' sign has no effect on the value produced. \\n# The argument may also be a string representing a NaN (not-a-number), or positive or negative infinity. \\n# More precisely, the input must conform to the following grammar after leading and trailing whitespace \\n# characters are removed:\\nfloat(3)\",\n",
       " '_46': 3.0,\n",
       " '_i47': \"float('3')\",\n",
       " '_47': 3.0,\n",
       " '_i48': 'float(10)',\n",
       " '_48': 10.0,\n",
       " '_i49': \"float('10')\",\n",
       " '_49': 10.0,\n",
       " '_i50': \"float('Infinity')\",\n",
       " '_50': inf,\n",
       " '_i51': \"## format(value[, format_spec])\\n# Convert a value to a “formatted” representation, as controlled by format_spec.\\n# Example from https://www.geeksforgeeks.org/string-formatting-in-python/\\nprint('{2} {1} {0}'.format('directions','the', 'Read'))\",\n",
       " '_i52': \"'{2} {1} {0}'.format('directions','the', 'Read')\",\n",
       " '_52': 'Read the directions',\n",
       " '_i53': \"s = '{2} {1} {0}'\\ns.format('directions','the', 'Read')\",\n",
       " 's': '{2} {1} {0}',\n",
       " '_53': 'Read the directions',\n",
       " '_i54': \"s = '{2} {1} {0}'\\nprint('Please!', s.format('directions','the', 'Read'))\",\n",
       " '_i55': '## class frozenset([iterable])\\n# Return a new frozenset object, optionally with elements taken from iterable. \\n# frozenset is a built-in class.\\n# Example 1 from https://www.geeksforgeeks.org/frozenset-in-python/\\n# Quote: \\'If no parameters are passed to frozenset() function then it returns a empty frozenset type object.\\'\\n# Python program to understand frozenset() function\\n\\n# tuple of numbers\\nnu = (1, 2, 3, 4, 5, 6, 7, 8, 9)\\n\\n# converting tuple to frozenset\\nfnum = frozenset(nu)\\n\\n# printing details\\nprint(\"frozenset Object is : \", fnum)',\n",
       " 'nu': (1, 2, 3, 4, 5, 6, 7, 8, 9),\n",
       " 'fnum': frozenset({1, 2, 3, 4, 5, 6, 7, 8, 9}),\n",
       " '_i56': '# Example 2 from https://www.geeksforgeeks.org/frozenset-in-python/\\n# Quote: \\'Since frozenset object are immutable they are mainly used as key in dictionary or elements of other sets. \\n# Below example explains it clearly.\\'\\n# Python program to understand use of frozenset function\\n\\n# creating a dictionary\\nStudent = {\"name\": \"Ankit\", \"age\": 21, \"sex\": \"Male\", \\\\\\n           \"college\": \"MNNIT Allahabad\", \"address\": \"Allahabad\"}\\n\\n# making keys of dictionary as frozenset\\nkey = frozenset(Student)\\n\\n# printing keys details\\nprint(\\'The frozen set is:\\', key)',\n",
       " 'Student': {'name': 'Ankit',\n",
       "  'age': 21,\n",
       "  'sex': 'Male',\n",
       "  'college': 'MNNIT Allahabad',\n",
       "  'address': 'Allahabad'},\n",
       " 'key': frozenset({'address', 'age', 'college', 'name', 'sex'}),\n",
       " '_i57': '## getattr(object, name[, default])\\n# Return the value of the named attribute of object. name must be a string. \\n# If the named attribute does not exist, default is returned if provided, otherwise AttributeError is raised.\\n# Example based on https://www.geeksforgeeks.org/python-getattr-method/ but changed a bit\\n# Python code to demonstrate working of getattr()\\n\\n# declare a class\\nclass automobile:\\n        brand = \\'Ferrari\\'\\n        model = \\'Berlinetta\\'\\n        year = 2012\\n\\n# instantiate the class\\nmy_car = automobile()\\n\\n# apply getattr\\nprint(\"The brand is \" + getattr(my_car, \\'brand\\'))\\n\\n# apply getattr with default\\nprint(\"Cylinders \" + getattr(my_car, \\'cylinders\\', \\'12\\'))',\n",
       " 'automobile': __main__.automobile,\n",
       " 'my_car': <__main__.automobile at 0x25c051c1730>,\n",
       " '_i58': \"# Handle the exception with try: and except\\ntry:\\n    getattr(my_car, 'cylinders')\\n\\nexcept AttributeError:\\n    print('Ooops, object my_car does not have cylinders attribute')\\n\\n# Now we can continue our script without crashing\\nprint('Either ignore or add the attribute')\",\n",
       " '_i59': '## globals()\\n# Return the dictionary implementing the current module namespace. \\nglobals()\\n\\n# Clean everythin up and try this call again. It will reveal what it has from the start already'}"
      ]
     },
     "execution_count": 59,
     "metadata": {},
     "output_type": "execute_result"
    }
   ],
   "source": [
    "## globals()\n",
    "# Return the dictionary implementing the current module namespace. \n",
    "globals()\n",
    "\n",
    "# Clean everythin up and try this call again. It will reveal what it has from the start already"
   ]
  },
  {
   "cell_type": "code",
   "execution_count": 60,
   "id": "9180ae9f",
   "metadata": {},
   "outputs": [
    {
     "data": {
      "text/plain": [
       "10"
      ]
     },
     "execution_count": 60,
     "metadata": {},
     "output_type": "execute_result"
    }
   ],
   "source": [
    "a_variable = 10\n",
    "globals()['a_variable']"
   ]
  },
  {
   "cell_type": "code",
   "execution_count": 61,
   "id": "8f157a4e",
   "metadata": {},
   "outputs": [
    {
     "data": {
      "text/plain": [
       "<__main__.automobile at 0x25c051c1730>"
      ]
     },
     "execution_count": 61,
     "metadata": {},
     "output_type": "execute_result"
    }
   ],
   "source": [
    "globals()['my_car']"
   ]
  },
  {
   "cell_type": "code",
   "execution_count": 62,
   "id": "9a1aa2c1",
   "metadata": {},
   "outputs": [
    {
     "data": {
      "text/plain": [
       "True"
      ]
     },
     "execution_count": 62,
     "metadata": {},
     "output_type": "execute_result"
    }
   ],
   "source": [
    "## hasattr(object, name)\n",
    "# The arguments are an object and a string. \n",
    "# The result is True if the string is the name of one of the object’s attributes, False if not. \n",
    "hasattr(my_car, 'brand')"
   ]
  },
  {
   "cell_type": "code",
   "execution_count": 63,
   "id": "01ade44b",
   "metadata": {},
   "outputs": [
    {
     "data": {
      "text/plain": [
       "False"
      ]
     },
     "execution_count": 63,
     "metadata": {},
     "output_type": "execute_result"
    }
   ],
   "source": [
    "hasattr(my_car, 'cylinders')"
   ]
  },
  {
   "cell_type": "code",
   "execution_count": 64,
   "id": "614ca64e",
   "metadata": {},
   "outputs": [
    {
     "data": {
      "text/plain": [
       "162140373363"
      ]
     },
     "execution_count": 64,
     "metadata": {},
     "output_type": "execute_result"
    }
   ],
   "source": [
    "## hash(object)\n",
    "# Return the hash value of the object (if it has one). Hash values are integers. \n",
    "hash(my_car)"
   ]
  },
  {
   "cell_type": "code",
   "execution_count": 65,
   "id": "a366f141",
   "metadata": {},
   "outputs": [
    {
     "name": "stdout",
     "output_type": "stream",
     "text": [
      "Help on built-in function abs in module builtins:\n",
      "\n",
      "abs(x, /)\n",
      "    Return the absolute value of the argument.\n",
      "\n"
     ]
    }
   ],
   "source": [
    "## help([object])\n",
    "# Invoke the built-in help system. (This function is intended for interactive use.) \n",
    "# If no argument is given, the interactive help system starts on the interpreter console.\n",
    "help(abs)"
   ]
  },
  {
   "cell_type": "code",
   "execution_count": 66,
   "id": "ba9324f8",
   "metadata": {},
   "outputs": [
    {
     "name": "stdout",
     "output_type": "stream",
     "text": [
      "Help on class filter in module builtins:\n",
      "\n",
      "class filter(object)\n",
      " |  filter(function or None, iterable) --> filter object\n",
      " |  \n",
      " |  Return an iterator yielding those items of iterable for which function(item)\n",
      " |  is true. If function is None, return the items that are true.\n",
      " |  \n",
      " |  Methods defined here:\n",
      " |  \n",
      " |  __getattribute__(self, name, /)\n",
      " |      Return getattr(self, name).\n",
      " |  \n",
      " |  __iter__(self, /)\n",
      " |      Implement iter(self).\n",
      " |  \n",
      " |  __next__(self, /)\n",
      " |      Implement next(self).\n",
      " |  \n",
      " |  __reduce__(...)\n",
      " |      Return state information for pickling.\n",
      " |  \n",
      " |  ----------------------------------------------------------------------\n",
      " |  Static methods defined here:\n",
      " |  \n",
      " |  __new__(*args, **kwargs) from builtins.type\n",
      " |      Create and return a new object.  See help(type) for accurate signature.\n",
      "\n"
     ]
    }
   ],
   "source": [
    "help(filter)"
   ]
  },
  {
   "cell_type": "code",
   "execution_count": 67,
   "id": "7a5ba0b8",
   "metadata": {},
   "outputs": [
    {
     "data": {
      "text/plain": [
       "'0xff'"
      ]
     },
     "execution_count": 67,
     "metadata": {},
     "output_type": "execute_result"
    }
   ],
   "source": [
    "## hex(x)\n",
    "# Convert an integer number to a lowercase hexadecimal string prefixed with “0x”. \n",
    "hex(255)"
   ]
  },
  {
   "cell_type": "code",
   "execution_count": 68,
   "id": "e1718155",
   "metadata": {},
   "outputs": [
    {
     "data": {
      "text/plain": [
       "2594245973808"
      ]
     },
     "execution_count": 68,
     "metadata": {},
     "output_type": "execute_result"
    }
   ],
   "source": [
    "## id(object)\n",
    "# Return the “identity” of an object. \n",
    "# This is an integer which is guaranteed to be unique and constant for this object during its lifetime.\n",
    "id(my_car)"
   ]
  },
  {
   "cell_type": "code",
   "execution_count": 69,
   "id": "8f2ec45e",
   "metadata": {},
   "outputs": [
    {
     "name": "stdin",
     "output_type": "stream",
     "text": [
      ">> hello\n"
     ]
    }
   ],
   "source": [
    "## input([prompt])\n",
    "# If the prompt argument is present, it is written to standard output without a trailing newline. \n",
    "# The function then reads a line from input, converts it to a string (stripping a trailing newline), \n",
    "# and returns that. When EOF is read, EOFError is raised.\n",
    "s = input('>>')"
   ]
  },
  {
   "cell_type": "code",
   "execution_count": 70,
   "id": "8f5ec0b0",
   "metadata": {},
   "outputs": [
    {
     "data": {
      "text/plain": [
       "'hello'"
      ]
     },
     "execution_count": 70,
     "metadata": {},
     "output_type": "execute_result"
    }
   ],
   "source": [
    "s"
   ]
  },
  {
   "cell_type": "code",
   "execution_count": 71,
   "id": "e208ec61",
   "metadata": {},
   "outputs": [
    {
     "data": {
      "text/plain": [
       "str"
      ]
     },
     "execution_count": 71,
     "metadata": {},
     "output_type": "execute_result"
    }
   ],
   "source": [
    "type(s)"
   ]
  },
  {
   "cell_type": "code",
   "execution_count": 72,
   "id": "672b375f",
   "metadata": {},
   "outputs": [
    {
     "data": {
      "text/plain": [
       "10"
      ]
     },
     "execution_count": 72,
     "metadata": {},
     "output_type": "execute_result"
    }
   ],
   "source": [
    "## class int([x])\n",
    "## class int(x, base=10)\n",
    "# Return an integer object constructed from a number or string x, or return 0 if no arguments are given. \n",
    "int('10')"
   ]
  },
  {
   "cell_type": "code",
   "execution_count": 73,
   "id": "4fc11eba",
   "metadata": {},
   "outputs": [
    {
     "data": {
      "text/plain": [
       "170"
      ]
     },
     "execution_count": 73,
     "metadata": {},
     "output_type": "execute_result"
    }
   ],
   "source": [
    "int('AA', base=16)"
   ]
  },
  {
   "cell_type": "code",
   "execution_count": 74,
   "id": "cc869ea8",
   "metadata": {},
   "outputs": [
    {
     "data": {
      "text/plain": [
       "255"
      ]
     },
     "execution_count": 74,
     "metadata": {},
     "output_type": "execute_result"
    }
   ],
   "source": [
    "int('FF', base=16)"
   ]
  },
  {
   "cell_type": "code",
   "execution_count": 75,
   "id": "562af255",
   "metadata": {},
   "outputs": [
    {
     "data": {
      "text/plain": [
       "255"
      ]
     },
     "execution_count": 75,
     "metadata": {},
     "output_type": "execute_result"
    }
   ],
   "source": [
    "int('ff', base=16)"
   ]
  },
  {
   "cell_type": "code",
   "execution_count": 76,
   "id": "5e37d067",
   "metadata": {},
   "outputs": [
    {
     "data": {
      "text/plain": [
       "255"
      ]
     },
     "execution_count": 76,
     "metadata": {},
     "output_type": "execute_result"
    }
   ],
   "source": [
    "int('0xff', base=16)"
   ]
  },
  {
   "cell_type": "code",
   "execution_count": 77,
   "id": "c4b3fd1f",
   "metadata": {},
   "outputs": [
    {
     "data": {
      "text/plain": [
       "15"
      ]
     },
     "execution_count": 77,
     "metadata": {},
     "output_type": "execute_result"
    }
   ],
   "source": [
    "int('1111', base=2)"
   ]
  },
  {
   "cell_type": "code",
   "execution_count": 78,
   "id": "dbf6be29",
   "metadata": {},
   "outputs": [
    {
     "data": {
      "text/plain": [
       "15"
      ]
     },
     "execution_count": 78,
     "metadata": {},
     "output_type": "execute_result"
    }
   ],
   "source": [
    "int('0b1111', base=2)"
   ]
  },
  {
   "cell_type": "code",
   "execution_count": 79,
   "id": "5abf9047",
   "metadata": {},
   "outputs": [
    {
     "data": {
      "text/plain": [
       "True"
      ]
     },
     "execution_count": 79,
     "metadata": {},
     "output_type": "execute_result"
    }
   ],
   "source": [
    "## isinstance(object, classinfo)\n",
    "# Return True if the object argument is an instance of the classinfo argument, \n",
    "# or of a (direct, indirect, or virtual) subclass thereof.\n",
    "isinstance(my_car, automobile)"
   ]
  },
  {
   "cell_type": "code",
   "execution_count": 80,
   "id": "cf5fecd1",
   "metadata": {},
   "outputs": [
    {
     "data": {
      "text/plain": [
       "False"
      ]
     },
     "execution_count": 80,
     "metadata": {},
     "output_type": "execute_result"
    }
   ],
   "source": [
    "your_car = 'some_car'\n",
    "isinstance(your_car, automobile)"
   ]
  },
  {
   "cell_type": "code",
   "execution_count": 81,
   "id": "2cdbed80",
   "metadata": {},
   "outputs": [],
   "source": [
    "## issubclass(class, classinfo)\n",
    "# Return True if class is a subclass (direct, indirect, or virtual) of classinfo. \n",
    "# A class is considered a subclass of itself."
   ]
  },
  {
   "cell_type": "code",
   "execution_count": 82,
   "id": "a53983ac",
   "metadata": {},
   "outputs": [
    {
     "data": {
      "text/plain": [
       "<list_iterator at 0x25c05219190>"
      ]
     },
     "execution_count": 82,
     "metadata": {},
     "output_type": "execute_result"
    }
   ],
   "source": [
    "## iter(object[, sentinel])\n",
    "# Return an iterator object. The first argument is interpreted very differently \n",
    "# depending on the presence of the second argument. Without a second argument, \n",
    "# object must be a collection object which supports the iterable protocol (the __iter__() method), \n",
    "# or it must support the sequence protocol (the __getitem__() method with integer arguments starting at 0).\n",
    "iter([1, 2, 3])"
   ]
  },
  {
   "cell_type": "code",
   "execution_count": 83,
   "id": "8df87414",
   "metadata": {},
   "outputs": [
    {
     "name": "stdout",
     "output_type": "stream",
     "text": [
      "1\n",
      "2\n",
      "3\n",
      "4\n",
      "1.4142\n",
      "2.7183\n",
      "3.1416\n",
      "9.81\n",
      "a\n",
      "b\n",
      "c\n",
      "d\n",
      "True\n",
      "False\n"
     ]
    }
   ],
   "source": [
    "a_list = [1, 2, 3, 4, 1.4142, 2.7183, 3.1416, 9.81, 'a', 'b', 'c', 'd', True, False]\n",
    "for i in iter(a_list):\n",
    "    print(i)"
   ]
  },
  {
   "cell_type": "code",
   "execution_count": 84,
   "id": "7e577fe1",
   "metadata": {},
   "outputs": [
    {
     "name": "stdout",
     "output_type": "stream",
     "text": [
      "1\n",
      "2\n",
      "3\n",
      "4\n",
      "1.4142\n",
      "2.7183\n",
      "3.1416\n",
      "9.81\n",
      "a\n",
      "b\n",
      "c\n",
      "d\n",
      "True\n",
      "False\n"
     ]
    }
   ],
   "source": [
    "# There are better examples than the one I showed above. I wouldn't have needed iter() there.\n",
    "for i in a_list:\n",
    "    print(i)"
   ]
  },
  {
   "cell_type": "code",
   "execution_count": 85,
   "id": "cc8cdb49",
   "metadata": {},
   "outputs": [
    {
     "data": {
      "text/plain": [
       "14"
      ]
     },
     "execution_count": 85,
     "metadata": {},
     "output_type": "execute_result"
    }
   ],
   "source": [
    "## len(s)\n",
    "# Return the length (the number of items) of an object. \n",
    "len(a_list)"
   ]
  },
  {
   "cell_type": "code",
   "execution_count": 86,
   "id": "3282d46a",
   "metadata": {},
   "outputs": [
    {
     "data": {
      "text/plain": [
       "[1, 2, 3, 4, 1.4142, 2.7183, 3.1416, 9.81, 'a', 'b', 'c', 'd', True, False]"
      ]
     },
     "execution_count": 86,
     "metadata": {},
     "output_type": "execute_result"
    }
   ],
   "source": [
    "## class list([iterable])\n",
    "# Rather than being a function, list is actually a mutable sequence type, \n",
    "# as documented in Lists and Sequence Types — list, tuple, range.\n",
    "list(a_list)"
   ]
  },
  {
   "cell_type": "code",
   "execution_count": 87,
   "id": "e668054e",
   "metadata": {},
   "outputs": [
    {
     "data": {
      "text/plain": [
       "[1, 2, 3, 4, 1.4142, 2.7183, 3.1416, 9.81, 'a', 'b', 'c', 'd', True, False]"
      ]
     },
     "execution_count": 87,
     "metadata": {},
     "output_type": "execute_result"
    }
   ],
   "source": [
    "# There are better examples than the one above. One does not need the list() function. For example:\n",
    "a_list"
   ]
  },
  {
   "cell_type": "code",
   "execution_count": 88,
   "id": "36e99a72",
   "metadata": {},
   "outputs": [
    {
     "data": {
      "text/plain": [
       "{'__name__': '__main__',\n",
       " '__doc__': 'Automatically created module for IPython interactive environment',\n",
       " '__package__': None,\n",
       " '__loader__': None,\n",
       " '__spec__': None,\n",
       " '__builtin__': <module 'builtins' (built-in)>,\n",
       " '__builtins__': <module 'builtins' (built-in)>,\n",
       " '_ih': ['',\n",
       "  '# Before going through each built-in function, run globals().\\n# Compare it with another call to glabals() that will come up later in this script\\n# globals() - Return the dictionary implementing the current module namespace. \\nglobals()',\n",
       "  'locals()',\n",
       "  '## abs()\\n# Return the absolute value of a number. \\nabs(-1)',\n",
       "  '# If the argument is a complex number, its magnitude is returned.\\nabs(complex(1, 1))',\n",
       "  '## all()\\n# Return True if all elements of the iterable are true (or if the iterable is empty)\\na = all([True, True, True])\\nb = all([True, False,True])\\na, b',\n",
       "  \"## any()\\n# Return True if any element of the iterable is true (False if the iterable is empty)\\na = any([True, True, True])\\nb = any([True, False,True])\\nc = any([(7 < 3), ('abc' == 'abcd'), (False | False), (True & False)])\\nd = any([(7 < 3), ('abc' == 'abcd'), (True | False), (True & False)])\\na, b, c, d\",\n",
       "  \"## ascii()\\n# As repr(), return a string containing a printable representation of an object, \\n# but escape the non-ASCII characters in the string returned by repr() \\n# using \\\\x, \\\\u, or \\\\U escapes.\\nprint(ascii(0xA), ascii(10), ascii(0), ascii(0x0), ascii('abc'), ascii(True), ascii([1, 2, 3, 'abc', True]))\",\n",
       "  '## bin(x)\\n# Convert an integer number to a binary string prefixed with “0b”. \\n# print(bin(8), bin(25))\\nbin(8), bin(255)',\n",
       "  '## bool([x])\\n# Return a Boolean value, i.e. one of True or False. \\nfl = 2 < 1\\ntr = 2 > 1\\na = bool(fl or fl)\\nb = bool(fl or tr)\\nc = bool(fl | fl)\\nd = bool(fl | tr)\\ne = bool(2 < 1 & 7 < 2)\\nf = bool(2 < 1 and 7 < 2)\\nfl, tr, a, b, c, d, e, f',\n",
       "  '## breakpoint(*args, **kws)\\n# This function drops you into the debugger at the call site. ',\n",
       "  '## bytearray([source[, encoding[, errors]]])\\n# Return a new array of bytes. \\nbytearray(0xA)',\n",
       "  '## bytes([source[, encoding[, errors]]])\\n# Return a new “bytes” object which is an immutable sequence of integers in the range 0 <= x < 256.\\nbytes(0xA)',\n",
       "  '## callable(object)\\n# Return True if the object argument appears callable, False if not.\\na = 5\\ncallable(a)',\n",
       "  \"## chr(i)\\n# Return the string representing a character whose Unicode code point is the integer i. \\n# For example, chr(97) returns the string 'a', while chr(8364) returns the string '€'. \\n# This is the inverse of ord().\\nprint(chr(97), ord('a'))\",\n",
       "  '## class complex([real[, imag]])\\n# Return a complex number with the value real + imag*1j \\n# or convert a string or number to a complex number.\\ncomplex(2, 3)',\n",
       "  'type(complex(2, 3))',\n",
       "  'complex(2 + 3j)',\n",
       "  'type(complex(2 + 3j))',\n",
       "  \"complex('2+3j')\",\n",
       "  \"type(complex('2+3j'))\",\n",
       "  \"abs(complex('1+j'))\",\n",
       "  '## divmod(a, b)\\n# Take two (non-complex) numbers as arguments and return a pair of numbers consisting of their \\n# quotient and remainder when using integer division. With mixed operand types, the rules for binary arithmetic \\n# operators apply. For integers, the result is the same as (a // b, a % b).\\ndivmod(5, 3)',\n",
       "  '5 // 3, 5 % 3',\n",
       "  '# For floating point numbers the result is (q, a % b), where q is usually math.floor(a / b) \\n# but may be 1 less than that. \\n# In any case q * b + a % b is very close to a, if a % b is non-zero it has the same \\n# sign as b, and 0 <= abs(a % b) < abs(b).\\ndivmod(4.5, 2)',\n",
       "  'divmod(4.5, 2)[0]',\n",
       "  '4.5 // 2, 4.5 % 2',\n",
       "  \"## enumerate(iterable, start=0)\\n# Return an enumerate object. iterable must be a sequence, an iterator, \\n# or some other object which supports iteration.\\n# Example from Python doc\\nseasons = ['Spring', 'Summer', 'Fall', 'Winter']\\nlist(enumerate(seasons))\",\n",
       "  'enu = list(enumerate(seasons))\\nenu[0][1]',\n",
       "  'enu[2][0]',\n",
       "  'enu[:1]',\n",
       "  'enu[1:2]',\n",
       "  'enu[0:2]',\n",
       "  'enu[0]',\n",
       "  'enu[3]',\n",
       "  \"## eval(expression[, globals[, locals]])\\n# The arguments are a string and optional globals and locals. \\n# If provided, globals must be a dictionary. If provided, locals can be any mapping object.\\neval('2 > 1')\",\n",
       "  \"eval('2**2')\",\n",
       "  \"eval('True and True')\",\n",
       "  \"eval('True and False')\",\n",
       "  \"eval('True or False')\",\n",
       "  '## exec(object[, globals[, locals]])\\n# This function supports dynamic execution of Python code. \\n# object must be either a string or a code object. If it is a string, the string is parsed as a \\n# suite of Python statements which is then executed (unless a syntax error occurs).\\nexec(\"print(\\\\\\'executing this line\\\\\\')\")',\n",
       "  'exec(\"print(\\'executing this line\\')\")',\n",
       "  'exec(\"print(\\\\\"executing this line\\\\\")\")',\n",
       "  \"## filter(function, iterable)\\n# Construct an iterator from those elements of iterable for which function returns true. \\nfilter(any([True, True, True]),'x')\",\n",
       "  'high = filter(lambda x: x >= 5, [0, 1, 1, 2, 3, 5, 8, 13])\\nlow = filter(lambda x: x < 5, [0, 1, 1, 2, 3, 5, 8, 13])\\nlist(high), list(low)',\n",
       "  '# https://www.geeksforgeeks.org/filter-in-python/\\nseq = [0, 1, 1, 2, 3, 5, 8, 13]\\n\\n# result contains odd numbers of the list\\nresult = filter(lambda x: x % 2 != 0, seq)\\nprint(list(result))\\n\\n# result contains even numbers of the list\\nresult = filter(lambda x: x % 2 == 0, seq)\\nprint(list(result))',\n",
       "  \"## class float([x])\\n# Return a floating point number constructed from a number or string x.\\n# If the argument is a string, it should contain a decimal number, optionally preceded by a sign, \\n# and optionally embedded in whitespace. \\n# The optional sign may be '+' or '-'; a '+' sign has no effect on the value produced. \\n# The argument may also be a string representing a NaN (not-a-number), or positive or negative infinity. \\n# More precisely, the input must conform to the following grammar after leading and trailing whitespace \\n# characters are removed:\\nfloat(3)\",\n",
       "  \"float('3')\",\n",
       "  'float(10)',\n",
       "  \"float('10')\",\n",
       "  \"float('Infinity')\",\n",
       "  \"## format(value[, format_spec])\\n# Convert a value to a “formatted” representation, as controlled by format_spec.\\n# Example from https://www.geeksforgeeks.org/string-formatting-in-python/\\nprint('{2} {1} {0}'.format('directions','the', 'Read'))\",\n",
       "  \"'{2} {1} {0}'.format('directions','the', 'Read')\",\n",
       "  \"s = '{2} {1} {0}'\\ns.format('directions','the', 'Read')\",\n",
       "  \"s = '{2} {1} {0}'\\nprint('Please!', s.format('directions','the', 'Read'))\",\n",
       "  '## class frozenset([iterable])\\n# Return a new frozenset object, optionally with elements taken from iterable. \\n# frozenset is a built-in class.\\n# Example 1 from https://www.geeksforgeeks.org/frozenset-in-python/\\n# Quote: \\'If no parameters are passed to frozenset() function then it returns a empty frozenset type object.\\'\\n# Python program to understand frozenset() function\\n\\n# tuple of numbers\\nnu = (1, 2, 3, 4, 5, 6, 7, 8, 9)\\n\\n# converting tuple to frozenset\\nfnum = frozenset(nu)\\n\\n# printing details\\nprint(\"frozenset Object is : \", fnum)',\n",
       "  '# Example 2 from https://www.geeksforgeeks.org/frozenset-in-python/\\n# Quote: \\'Since frozenset object are immutable they are mainly used as key in dictionary or elements of other sets. \\n# Below example explains it clearly.\\'\\n# Python program to understand use of frozenset function\\n\\n# creating a dictionary\\nStudent = {\"name\": \"Ankit\", \"age\": 21, \"sex\": \"Male\", \\\\\\n           \"college\": \"MNNIT Allahabad\", \"address\": \"Allahabad\"}\\n\\n# making keys of dictionary as frozenset\\nkey = frozenset(Student)\\n\\n# printing keys details\\nprint(\\'The frozen set is:\\', key)',\n",
       "  '## getattr(object, name[, default])\\n# Return the value of the named attribute of object. name must be a string. \\n# If the named attribute does not exist, default is returned if provided, otherwise AttributeError is raised.\\n# Example based on https://www.geeksforgeeks.org/python-getattr-method/ but changed a bit\\n# Python code to demonstrate working of getattr()\\n\\n# declare a class\\nclass automobile:\\n        brand = \\'Ferrari\\'\\n        model = \\'Berlinetta\\'\\n        year = 2012\\n\\n# instantiate the class\\nmy_car = automobile()\\n\\n# apply getattr\\nprint(\"The brand is \" + getattr(my_car, \\'brand\\'))\\n\\n# apply getattr with default\\nprint(\"Cylinders \" + getattr(my_car, \\'cylinders\\', \\'12\\'))',\n",
       "  \"# Handle the exception with try: and except\\ntry:\\n    getattr(my_car, 'cylinders')\\n\\nexcept AttributeError:\\n    print('Ooops, object my_car does not have cylinders attribute')\\n\\n# Now we can continue our script without crashing\\nprint('Either ignore or add the attribute')\",\n",
       "  '## globals()\\n# Return the dictionary implementing the current module namespace. \\nglobals()\\n\\n# Clean everythin up and try this call again. It will reveal what it has from the start already',\n",
       "  \"a_variable = 10\\nglobals()['a_variable']\",\n",
       "  \"globals()['my_car']\",\n",
       "  \"## hasattr(object, name)\\n# The arguments are an object and a string. \\n# The result is True if the string is the name of one of the object’s attributes, False if not. \\nhasattr(my_car, 'brand')\",\n",
       "  \"hasattr(my_car, 'cylinders')\",\n",
       "  '## hash(object)\\n# Return the hash value of the object (if it has one). Hash values are integers. \\nhash(my_car)',\n",
       "  '## help([object])\\n# Invoke the built-in help system. (This function is intended for interactive use.) \\n# If no argument is given, the interactive help system starts on the interpreter console.\\nhelp(abs)',\n",
       "  'help(filter)',\n",
       "  '## hex(x)\\n# Convert an integer number to a lowercase hexadecimal string prefixed with “0x”. \\nhex(255)',\n",
       "  '## id(object)\\n# Return the “identity” of an object. \\n# This is an integer which is guaranteed to be unique and constant for this object during its lifetime.\\nid(my_car)',\n",
       "  \"## input([prompt])\\n# If the prompt argument is present, it is written to standard output without a trailing newline. \\n# The function then reads a line from input, converts it to a string (stripping a trailing newline), \\n# and returns that. When EOF is read, EOFError is raised.\\ns = input('>>')\",\n",
       "  's',\n",
       "  'type(s)',\n",
       "  \"## class int([x])\\n## class int(x, base=10)\\n# Return an integer object constructed from a number or string x, or return 0 if no arguments are given. \\nint('10')\",\n",
       "  \"int('AA', base=16)\",\n",
       "  \"int('FF', base=16)\",\n",
       "  \"int('ff', base=16)\",\n",
       "  \"int('0xff', base=16)\",\n",
       "  \"int('1111', base=2)\",\n",
       "  \"int('0b1111', base=2)\",\n",
       "  '## isinstance(object, classinfo)\\n# Return True if the object argument is an instance of the classinfo argument, \\n# or of a (direct, indirect, or virtual) subclass thereof.\\nisinstance(my_car, automobile)',\n",
       "  \"your_car = 'some_car'\\nisinstance(your_car, automobile)\",\n",
       "  '## issubclass(class, classinfo)\\n# Return True if class is a subclass (direct, indirect, or virtual) of classinfo. \\n# A class is considered a subclass of itself.',\n",
       "  '## iter(object[, sentinel])\\n# Return an iterator object. The first argument is interpreted very differently \\n# depending on the presence of the second argument. Without a second argument, \\n# object must be a collection object which supports the iterable protocol (the __iter__() method), \\n# or it must support the sequence protocol (the __getitem__() method with integer arguments starting at 0).\\niter([1, 2, 3])',\n",
       "  \"a_list = [1, 2, 3, 4, 1.4142, 2.7183, 3.1416, 9.81, 'a', 'b', 'c', 'd', True, False]\\nfor i in iter(a_list):\\n    print(i)\",\n",
       "  \"# There are better examples than the one I showed above. I wouldn't have needed iter() there.\\nfor i in a_list:\\n    print(i)\",\n",
       "  '## len(s)\\n# Return the length (the number of items) of an object. \\nlen(a_list)',\n",
       "  '## class list([iterable])\\n# Rather than being a function, list is actually a mutable sequence type, \\n# as documented in Lists and Sequence Types — list, tuple, range.\\nlist(a_list)',\n",
       "  '# There are better examples than the one above. One does not need the list() function. For example:\\na_list',\n",
       "  '## locals()\\n# Update and return a dictionary representing the current local symbol table. \\n# Free variables are returned by locals() when it is called in function blocks, but not in class blocks.\\nlocals()'],\n",
       " '_oh': {1: {...},\n",
       "  2: {...},\n",
       "  3: 1,\n",
       "  4: 1.4142135623730951,\n",
       "  5: (True, False),\n",
       "  6: (True, True, False, True),\n",
       "  8: ('0b1000', '0b11111111'),\n",
       "  9: (False, True, False, True, False, True, False, False),\n",
       "  11: bytearray(b'\\x00\\x00\\x00\\x00\\x00\\x00\\x00\\x00\\x00\\x00'),\n",
       "  12: b'\\x00\\x00\\x00\\x00\\x00\\x00\\x00\\x00\\x00\\x00',\n",
       "  13: False,\n",
       "  15: (2+3j),\n",
       "  16: complex,\n",
       "  17: (2+3j),\n",
       "  18: complex,\n",
       "  19: (2+3j),\n",
       "  20: complex,\n",
       "  21: 1.4142135623730951,\n",
       "  22: (1, 2),\n",
       "  23: (1, 2),\n",
       "  24: (2.0, 0.5),\n",
       "  25: 2.0,\n",
       "  26: (2.0, 0.5),\n",
       "  27: [(0, 'Spring'), (1, 'Summer'), (2, 'Fall'), (3, 'Winter')],\n",
       "  28: 'Spring',\n",
       "  29: 2,\n",
       "  30: [(0, 'Spring')],\n",
       "  31: [(1, 'Summer')],\n",
       "  32: [(0, 'Spring'), (1, 'Summer')],\n",
       "  33: (0, 'Spring'),\n",
       "  34: (3, 'Winter'),\n",
       "  35: True,\n",
       "  36: 4,\n",
       "  37: True,\n",
       "  38: False,\n",
       "  39: True,\n",
       "  43: <filter at 0x25c051e5040>,\n",
       "  44: ([5, 8, 13], [0, 1, 1, 2, 3]),\n",
       "  46: 3.0,\n",
       "  47: 3.0,\n",
       "  48: 10.0,\n",
       "  49: 10.0,\n",
       "  50: inf,\n",
       "  52: 'Read the directions',\n",
       "  53: 'Read the directions',\n",
       "  59: {...},\n",
       "  60: 10,\n",
       "  61: <__main__.automobile at 0x25c051c1730>,\n",
       "  62: True,\n",
       "  63: False,\n",
       "  64: 162140373363,\n",
       "  67: '0xff',\n",
       "  68: 2594245973808,\n",
       "  70: 'hello',\n",
       "  71: str,\n",
       "  72: 10,\n",
       "  73: 170,\n",
       "  74: 255,\n",
       "  75: 255,\n",
       "  76: 255,\n",
       "  77: 15,\n",
       "  78: 15,\n",
       "  79: True,\n",
       "  80: False,\n",
       "  82: <list_iterator at 0x25c05219190>,\n",
       "  85: 14,\n",
       "  86: [1,\n",
       "   2,\n",
       "   3,\n",
       "   4,\n",
       "   1.4142,\n",
       "   2.7183,\n",
       "   3.1416,\n",
       "   9.81,\n",
       "   'a',\n",
       "   'b',\n",
       "   'c',\n",
       "   'd',\n",
       "   True,\n",
       "   False],\n",
       "  87: [1,\n",
       "   2,\n",
       "   3,\n",
       "   4,\n",
       "   1.4142,\n",
       "   2.7183,\n",
       "   3.1416,\n",
       "   9.81,\n",
       "   'a',\n",
       "   'b',\n",
       "   'c',\n",
       "   'd',\n",
       "   True,\n",
       "   False]},\n",
       " '_dh': ['C:\\\\Users\\\\trevizo\\\\My Drive (otrevi312@gmail.com)\\\\SW\\\\GitHub\\\\Python\\\\python_vignettes'],\n",
       " 'In': ['',\n",
       "  '# Before going through each built-in function, run globals().\\n# Compare it with another call to glabals() that will come up later in this script\\n# globals() - Return the dictionary implementing the current module namespace. \\nglobals()',\n",
       "  'locals()',\n",
       "  '## abs()\\n# Return the absolute value of a number. \\nabs(-1)',\n",
       "  '# If the argument is a complex number, its magnitude is returned.\\nabs(complex(1, 1))',\n",
       "  '## all()\\n# Return True if all elements of the iterable are true (or if the iterable is empty)\\na = all([True, True, True])\\nb = all([True, False,True])\\na, b',\n",
       "  \"## any()\\n# Return True if any element of the iterable is true (False if the iterable is empty)\\na = any([True, True, True])\\nb = any([True, False,True])\\nc = any([(7 < 3), ('abc' == 'abcd'), (False | False), (True & False)])\\nd = any([(7 < 3), ('abc' == 'abcd'), (True | False), (True & False)])\\na, b, c, d\",\n",
       "  \"## ascii()\\n# As repr(), return a string containing a printable representation of an object, \\n# but escape the non-ASCII characters in the string returned by repr() \\n# using \\\\x, \\\\u, or \\\\U escapes.\\nprint(ascii(0xA), ascii(10), ascii(0), ascii(0x0), ascii('abc'), ascii(True), ascii([1, 2, 3, 'abc', True]))\",\n",
       "  '## bin(x)\\n# Convert an integer number to a binary string prefixed with “0b”. \\n# print(bin(8), bin(25))\\nbin(8), bin(255)',\n",
       "  '## bool([x])\\n# Return a Boolean value, i.e. one of True or False. \\nfl = 2 < 1\\ntr = 2 > 1\\na = bool(fl or fl)\\nb = bool(fl or tr)\\nc = bool(fl | fl)\\nd = bool(fl | tr)\\ne = bool(2 < 1 & 7 < 2)\\nf = bool(2 < 1 and 7 < 2)\\nfl, tr, a, b, c, d, e, f',\n",
       "  '## breakpoint(*args, **kws)\\n# This function drops you into the debugger at the call site. ',\n",
       "  '## bytearray([source[, encoding[, errors]]])\\n# Return a new array of bytes. \\nbytearray(0xA)',\n",
       "  '## bytes([source[, encoding[, errors]]])\\n# Return a new “bytes” object which is an immutable sequence of integers in the range 0 <= x < 256.\\nbytes(0xA)',\n",
       "  '## callable(object)\\n# Return True if the object argument appears callable, False if not.\\na = 5\\ncallable(a)',\n",
       "  \"## chr(i)\\n# Return the string representing a character whose Unicode code point is the integer i. \\n# For example, chr(97) returns the string 'a', while chr(8364) returns the string '€'. \\n# This is the inverse of ord().\\nprint(chr(97), ord('a'))\",\n",
       "  '## class complex([real[, imag]])\\n# Return a complex number with the value real + imag*1j \\n# or convert a string or number to a complex number.\\ncomplex(2, 3)',\n",
       "  'type(complex(2, 3))',\n",
       "  'complex(2 + 3j)',\n",
       "  'type(complex(2 + 3j))',\n",
       "  \"complex('2+3j')\",\n",
       "  \"type(complex('2+3j'))\",\n",
       "  \"abs(complex('1+j'))\",\n",
       "  '## divmod(a, b)\\n# Take two (non-complex) numbers as arguments and return a pair of numbers consisting of their \\n# quotient and remainder when using integer division. With mixed operand types, the rules for binary arithmetic \\n# operators apply. For integers, the result is the same as (a // b, a % b).\\ndivmod(5, 3)',\n",
       "  '5 // 3, 5 % 3',\n",
       "  '# For floating point numbers the result is (q, a % b), where q is usually math.floor(a / b) \\n# but may be 1 less than that. \\n# In any case q * b + a % b is very close to a, if a % b is non-zero it has the same \\n# sign as b, and 0 <= abs(a % b) < abs(b).\\ndivmod(4.5, 2)',\n",
       "  'divmod(4.5, 2)[0]',\n",
       "  '4.5 // 2, 4.5 % 2',\n",
       "  \"## enumerate(iterable, start=0)\\n# Return an enumerate object. iterable must be a sequence, an iterator, \\n# or some other object which supports iteration.\\n# Example from Python doc\\nseasons = ['Spring', 'Summer', 'Fall', 'Winter']\\nlist(enumerate(seasons))\",\n",
       "  'enu = list(enumerate(seasons))\\nenu[0][1]',\n",
       "  'enu[2][0]',\n",
       "  'enu[:1]',\n",
       "  'enu[1:2]',\n",
       "  'enu[0:2]',\n",
       "  'enu[0]',\n",
       "  'enu[3]',\n",
       "  \"## eval(expression[, globals[, locals]])\\n# The arguments are a string and optional globals and locals. \\n# If provided, globals must be a dictionary. If provided, locals can be any mapping object.\\neval('2 > 1')\",\n",
       "  \"eval('2**2')\",\n",
       "  \"eval('True and True')\",\n",
       "  \"eval('True and False')\",\n",
       "  \"eval('True or False')\",\n",
       "  '## exec(object[, globals[, locals]])\\n# This function supports dynamic execution of Python code. \\n# object must be either a string or a code object. If it is a string, the string is parsed as a \\n# suite of Python statements which is then executed (unless a syntax error occurs).\\nexec(\"print(\\\\\\'executing this line\\\\\\')\")',\n",
       "  'exec(\"print(\\'executing this line\\')\")',\n",
       "  'exec(\"print(\\\\\"executing this line\\\\\")\")',\n",
       "  \"## filter(function, iterable)\\n# Construct an iterator from those elements of iterable for which function returns true. \\nfilter(any([True, True, True]),'x')\",\n",
       "  'high = filter(lambda x: x >= 5, [0, 1, 1, 2, 3, 5, 8, 13])\\nlow = filter(lambda x: x < 5, [0, 1, 1, 2, 3, 5, 8, 13])\\nlist(high), list(low)',\n",
       "  '# https://www.geeksforgeeks.org/filter-in-python/\\nseq = [0, 1, 1, 2, 3, 5, 8, 13]\\n\\n# result contains odd numbers of the list\\nresult = filter(lambda x: x % 2 != 0, seq)\\nprint(list(result))\\n\\n# result contains even numbers of the list\\nresult = filter(lambda x: x % 2 == 0, seq)\\nprint(list(result))',\n",
       "  \"## class float([x])\\n# Return a floating point number constructed from a number or string x.\\n# If the argument is a string, it should contain a decimal number, optionally preceded by a sign, \\n# and optionally embedded in whitespace. \\n# The optional sign may be '+' or '-'; a '+' sign has no effect on the value produced. \\n# The argument may also be a string representing a NaN (not-a-number), or positive or negative infinity. \\n# More precisely, the input must conform to the following grammar after leading and trailing whitespace \\n# characters are removed:\\nfloat(3)\",\n",
       "  \"float('3')\",\n",
       "  'float(10)',\n",
       "  \"float('10')\",\n",
       "  \"float('Infinity')\",\n",
       "  \"## format(value[, format_spec])\\n# Convert a value to a “formatted” representation, as controlled by format_spec.\\n# Example from https://www.geeksforgeeks.org/string-formatting-in-python/\\nprint('{2} {1} {0}'.format('directions','the', 'Read'))\",\n",
       "  \"'{2} {1} {0}'.format('directions','the', 'Read')\",\n",
       "  \"s = '{2} {1} {0}'\\ns.format('directions','the', 'Read')\",\n",
       "  \"s = '{2} {1} {0}'\\nprint('Please!', s.format('directions','the', 'Read'))\",\n",
       "  '## class frozenset([iterable])\\n# Return a new frozenset object, optionally with elements taken from iterable. \\n# frozenset is a built-in class.\\n# Example 1 from https://www.geeksforgeeks.org/frozenset-in-python/\\n# Quote: \\'If no parameters are passed to frozenset() function then it returns a empty frozenset type object.\\'\\n# Python program to understand frozenset() function\\n\\n# tuple of numbers\\nnu = (1, 2, 3, 4, 5, 6, 7, 8, 9)\\n\\n# converting tuple to frozenset\\nfnum = frozenset(nu)\\n\\n# printing details\\nprint(\"frozenset Object is : \", fnum)',\n",
       "  '# Example 2 from https://www.geeksforgeeks.org/frozenset-in-python/\\n# Quote: \\'Since frozenset object are immutable they are mainly used as key in dictionary or elements of other sets. \\n# Below example explains it clearly.\\'\\n# Python program to understand use of frozenset function\\n\\n# creating a dictionary\\nStudent = {\"name\": \"Ankit\", \"age\": 21, \"sex\": \"Male\", \\\\\\n           \"college\": \"MNNIT Allahabad\", \"address\": \"Allahabad\"}\\n\\n# making keys of dictionary as frozenset\\nkey = frozenset(Student)\\n\\n# printing keys details\\nprint(\\'The frozen set is:\\', key)',\n",
       "  '## getattr(object, name[, default])\\n# Return the value of the named attribute of object. name must be a string. \\n# If the named attribute does not exist, default is returned if provided, otherwise AttributeError is raised.\\n# Example based on https://www.geeksforgeeks.org/python-getattr-method/ but changed a bit\\n# Python code to demonstrate working of getattr()\\n\\n# declare a class\\nclass automobile:\\n        brand = \\'Ferrari\\'\\n        model = \\'Berlinetta\\'\\n        year = 2012\\n\\n# instantiate the class\\nmy_car = automobile()\\n\\n# apply getattr\\nprint(\"The brand is \" + getattr(my_car, \\'brand\\'))\\n\\n# apply getattr with default\\nprint(\"Cylinders \" + getattr(my_car, \\'cylinders\\', \\'12\\'))',\n",
       "  \"# Handle the exception with try: and except\\ntry:\\n    getattr(my_car, 'cylinders')\\n\\nexcept AttributeError:\\n    print('Ooops, object my_car does not have cylinders attribute')\\n\\n# Now we can continue our script without crashing\\nprint('Either ignore or add the attribute')\",\n",
       "  '## globals()\\n# Return the dictionary implementing the current module namespace. \\nglobals()\\n\\n# Clean everythin up and try this call again. It will reveal what it has from the start already',\n",
       "  \"a_variable = 10\\nglobals()['a_variable']\",\n",
       "  \"globals()['my_car']\",\n",
       "  \"## hasattr(object, name)\\n# The arguments are an object and a string. \\n# The result is True if the string is the name of one of the object’s attributes, False if not. \\nhasattr(my_car, 'brand')\",\n",
       "  \"hasattr(my_car, 'cylinders')\",\n",
       "  '## hash(object)\\n# Return the hash value of the object (if it has one). Hash values are integers. \\nhash(my_car)',\n",
       "  '## help([object])\\n# Invoke the built-in help system. (This function is intended for interactive use.) \\n# If no argument is given, the interactive help system starts on the interpreter console.\\nhelp(abs)',\n",
       "  'help(filter)',\n",
       "  '## hex(x)\\n# Convert an integer number to a lowercase hexadecimal string prefixed with “0x”. \\nhex(255)',\n",
       "  '## id(object)\\n# Return the “identity” of an object. \\n# This is an integer which is guaranteed to be unique and constant for this object during its lifetime.\\nid(my_car)',\n",
       "  \"## input([prompt])\\n# If the prompt argument is present, it is written to standard output without a trailing newline. \\n# The function then reads a line from input, converts it to a string (stripping a trailing newline), \\n# and returns that. When EOF is read, EOFError is raised.\\ns = input('>>')\",\n",
       "  's',\n",
       "  'type(s)',\n",
       "  \"## class int([x])\\n## class int(x, base=10)\\n# Return an integer object constructed from a number or string x, or return 0 if no arguments are given. \\nint('10')\",\n",
       "  \"int('AA', base=16)\",\n",
       "  \"int('FF', base=16)\",\n",
       "  \"int('ff', base=16)\",\n",
       "  \"int('0xff', base=16)\",\n",
       "  \"int('1111', base=2)\",\n",
       "  \"int('0b1111', base=2)\",\n",
       "  '## isinstance(object, classinfo)\\n# Return True if the object argument is an instance of the classinfo argument, \\n# or of a (direct, indirect, or virtual) subclass thereof.\\nisinstance(my_car, automobile)',\n",
       "  \"your_car = 'some_car'\\nisinstance(your_car, automobile)\",\n",
       "  '## issubclass(class, classinfo)\\n# Return True if class is a subclass (direct, indirect, or virtual) of classinfo. \\n# A class is considered a subclass of itself.',\n",
       "  '## iter(object[, sentinel])\\n# Return an iterator object. The first argument is interpreted very differently \\n# depending on the presence of the second argument. Without a second argument, \\n# object must be a collection object which supports the iterable protocol (the __iter__() method), \\n# or it must support the sequence protocol (the __getitem__() method with integer arguments starting at 0).\\niter([1, 2, 3])',\n",
       "  \"a_list = [1, 2, 3, 4, 1.4142, 2.7183, 3.1416, 9.81, 'a', 'b', 'c', 'd', True, False]\\nfor i in iter(a_list):\\n    print(i)\",\n",
       "  \"# There are better examples than the one I showed above. I wouldn't have needed iter() there.\\nfor i in a_list:\\n    print(i)\",\n",
       "  '## len(s)\\n# Return the length (the number of items) of an object. \\nlen(a_list)',\n",
       "  '## class list([iterable])\\n# Rather than being a function, list is actually a mutable sequence type, \\n# as documented in Lists and Sequence Types — list, tuple, range.\\nlist(a_list)',\n",
       "  '# There are better examples than the one above. One does not need the list() function. For example:\\na_list',\n",
       "  '## locals()\\n# Update and return a dictionary representing the current local symbol table. \\n# Free variables are returned by locals() when it is called in function blocks, but not in class blocks.\\nlocals()'],\n",
       " 'Out': {1: {...},\n",
       "  2: {...},\n",
       "  3: 1,\n",
       "  4: 1.4142135623730951,\n",
       "  5: (True, False),\n",
       "  6: (True, True, False, True),\n",
       "  8: ('0b1000', '0b11111111'),\n",
       "  9: (False, True, False, True, False, True, False, False),\n",
       "  11: bytearray(b'\\x00\\x00\\x00\\x00\\x00\\x00\\x00\\x00\\x00\\x00'),\n",
       "  12: b'\\x00\\x00\\x00\\x00\\x00\\x00\\x00\\x00\\x00\\x00',\n",
       "  13: False,\n",
       "  15: (2+3j),\n",
       "  16: complex,\n",
       "  17: (2+3j),\n",
       "  18: complex,\n",
       "  19: (2+3j),\n",
       "  20: complex,\n",
       "  21: 1.4142135623730951,\n",
       "  22: (1, 2),\n",
       "  23: (1, 2),\n",
       "  24: (2.0, 0.5),\n",
       "  25: 2.0,\n",
       "  26: (2.0, 0.5),\n",
       "  27: [(0, 'Spring'), (1, 'Summer'), (2, 'Fall'), (3, 'Winter')],\n",
       "  28: 'Spring',\n",
       "  29: 2,\n",
       "  30: [(0, 'Spring')],\n",
       "  31: [(1, 'Summer')],\n",
       "  32: [(0, 'Spring'), (1, 'Summer')],\n",
       "  33: (0, 'Spring'),\n",
       "  34: (3, 'Winter'),\n",
       "  35: True,\n",
       "  36: 4,\n",
       "  37: True,\n",
       "  38: False,\n",
       "  39: True,\n",
       "  43: <filter at 0x25c051e5040>,\n",
       "  44: ([5, 8, 13], [0, 1, 1, 2, 3]),\n",
       "  46: 3.0,\n",
       "  47: 3.0,\n",
       "  48: 10.0,\n",
       "  49: 10.0,\n",
       "  50: inf,\n",
       "  52: 'Read the directions',\n",
       "  53: 'Read the directions',\n",
       "  59: {...},\n",
       "  60: 10,\n",
       "  61: <__main__.automobile at 0x25c051c1730>,\n",
       "  62: True,\n",
       "  63: False,\n",
       "  64: 162140373363,\n",
       "  67: '0xff',\n",
       "  68: 2594245973808,\n",
       "  70: 'hello',\n",
       "  71: str,\n",
       "  72: 10,\n",
       "  73: 170,\n",
       "  74: 255,\n",
       "  75: 255,\n",
       "  76: 255,\n",
       "  77: 15,\n",
       "  78: 15,\n",
       "  79: True,\n",
       "  80: False,\n",
       "  82: <list_iterator at 0x25c05219190>,\n",
       "  85: 14,\n",
       "  86: [1,\n",
       "   2,\n",
       "   3,\n",
       "   4,\n",
       "   1.4142,\n",
       "   2.7183,\n",
       "   3.1416,\n",
       "   9.81,\n",
       "   'a',\n",
       "   'b',\n",
       "   'c',\n",
       "   'd',\n",
       "   True,\n",
       "   False],\n",
       "  87: [1,\n",
       "   2,\n",
       "   3,\n",
       "   4,\n",
       "   1.4142,\n",
       "   2.7183,\n",
       "   3.1416,\n",
       "   9.81,\n",
       "   'a',\n",
       "   'b',\n",
       "   'c',\n",
       "   'd',\n",
       "   True,\n",
       "   False]},\n",
       " 'get_ipython': <bound method InteractiveShell.get_ipython of <ipykernel.zmqshell.ZMQInteractiveShell object at 0x0000025C050E4100>>,\n",
       " 'exit': <IPython.core.autocall.ZMQExitAutocall at 0x25c05115490>,\n",
       " 'quit': <IPython.core.autocall.ZMQExitAutocall at 0x25c05115490>,\n",
       " '_': [1,\n",
       "  2,\n",
       "  3,\n",
       "  4,\n",
       "  1.4142,\n",
       "  2.7183,\n",
       "  3.1416,\n",
       "  9.81,\n",
       "  'a',\n",
       "  'b',\n",
       "  'c',\n",
       "  'd',\n",
       "  True,\n",
       "  False],\n",
       " '__': [1,\n",
       "  2,\n",
       "  3,\n",
       "  4,\n",
       "  1.4142,\n",
       "  2.7183,\n",
       "  3.1416,\n",
       "  9.81,\n",
       "  'a',\n",
       "  'b',\n",
       "  'c',\n",
       "  'd',\n",
       "  True,\n",
       "  False],\n",
       " '___': 14,\n",
       " '_i': '# There are better examples than the one above. One does not need the list() function. For example:\\na_list',\n",
       " '_ii': '## class list([iterable])\\n# Rather than being a function, list is actually a mutable sequence type, \\n# as documented in Lists and Sequence Types — list, tuple, range.\\nlist(a_list)',\n",
       " '_iii': '## len(s)\\n# Return the length (the number of items) of an object. \\nlen(a_list)',\n",
       " '_i1': '# Before going through each built-in function, run globals().\\n# Compare it with another call to glabals() that will come up later in this script\\n# globals() - Return the dictionary implementing the current module namespace. \\nglobals()',\n",
       " '_1': {...},\n",
       " '_i2': 'locals()',\n",
       " '_2': {...},\n",
       " '_i3': '## abs()\\n# Return the absolute value of a number. \\nabs(-1)',\n",
       " '_3': 1,\n",
       " '_i4': '# If the argument is a complex number, its magnitude is returned.\\nabs(complex(1, 1))',\n",
       " '_4': 1.4142135623730951,\n",
       " '_i5': '## all()\\n# Return True if all elements of the iterable are true (or if the iterable is empty)\\na = all([True, True, True])\\nb = all([True, False,True])\\na, b',\n",
       " 'a': 5,\n",
       " 'b': True,\n",
       " '_5': (True, False),\n",
       " '_i6': \"## any()\\n# Return True if any element of the iterable is true (False if the iterable is empty)\\na = any([True, True, True])\\nb = any([True, False,True])\\nc = any([(7 < 3), ('abc' == 'abcd'), (False | False), (True & False)])\\nd = any([(7 < 3), ('abc' == 'abcd'), (True | False), (True & False)])\\na, b, c, d\",\n",
       " 'c': False,\n",
       " 'd': True,\n",
       " '_6': (True, True, False, True),\n",
       " '_i7': \"## ascii()\\n# As repr(), return a string containing a printable representation of an object, \\n# but escape the non-ASCII characters in the string returned by repr() \\n# using \\\\x, \\\\u, or \\\\U escapes.\\nprint(ascii(0xA), ascii(10), ascii(0), ascii(0x0), ascii('abc'), ascii(True), ascii([1, 2, 3, 'abc', True]))\",\n",
       " '_i8': '## bin(x)\\n# Convert an integer number to a binary string prefixed with “0b”. \\n# print(bin(8), bin(25))\\nbin(8), bin(255)',\n",
       " '_8': ('0b1000', '0b11111111'),\n",
       " '_i9': '## bool([x])\\n# Return a Boolean value, i.e. one of True or False. \\nfl = 2 < 1\\ntr = 2 > 1\\na = bool(fl or fl)\\nb = bool(fl or tr)\\nc = bool(fl | fl)\\nd = bool(fl | tr)\\ne = bool(2 < 1 & 7 < 2)\\nf = bool(2 < 1 and 7 < 2)\\nfl, tr, a, b, c, d, e, f',\n",
       " 'fl': False,\n",
       " 'tr': True,\n",
       " 'e': False,\n",
       " 'f': False,\n",
       " '_9': (False, True, False, True, False, True, False, False),\n",
       " '_i10': '## breakpoint(*args, **kws)\\n# This function drops you into the debugger at the call site. ',\n",
       " '_i11': '## bytearray([source[, encoding[, errors]]])\\n# Return a new array of bytes. \\nbytearray(0xA)',\n",
       " '_11': bytearray(b'\\x00\\x00\\x00\\x00\\x00\\x00\\x00\\x00\\x00\\x00'),\n",
       " '_i12': '## bytes([source[, encoding[, errors]]])\\n# Return a new “bytes” object which is an immutable sequence of integers in the range 0 <= x < 256.\\nbytes(0xA)',\n",
       " '_12': b'\\x00\\x00\\x00\\x00\\x00\\x00\\x00\\x00\\x00\\x00',\n",
       " '_i13': '## callable(object)\\n# Return True if the object argument appears callable, False if not.\\na = 5\\ncallable(a)',\n",
       " '_13': False,\n",
       " '_i14': \"## chr(i)\\n# Return the string representing a character whose Unicode code point is the integer i. \\n# For example, chr(97) returns the string 'a', while chr(8364) returns the string '€'. \\n# This is the inverse of ord().\\nprint(chr(97), ord('a'))\",\n",
       " '_i15': '## class complex([real[, imag]])\\n# Return a complex number with the value real + imag*1j \\n# or convert a string or number to a complex number.\\ncomplex(2, 3)',\n",
       " '_15': (2+3j),\n",
       " '_i16': 'type(complex(2, 3))',\n",
       " '_16': complex,\n",
       " '_i17': 'complex(2 + 3j)',\n",
       " '_17': (2+3j),\n",
       " '_i18': 'type(complex(2 + 3j))',\n",
       " '_18': complex,\n",
       " '_i19': \"complex('2+3j')\",\n",
       " '_19': (2+3j),\n",
       " '_i20': \"type(complex('2+3j'))\",\n",
       " '_20': complex,\n",
       " '_i21': \"abs(complex('1+j'))\",\n",
       " '_21': 1.4142135623730951,\n",
       " '_i22': '## divmod(a, b)\\n# Take two (non-complex) numbers as arguments and return a pair of numbers consisting of their \\n# quotient and remainder when using integer division. With mixed operand types, the rules for binary arithmetic \\n# operators apply. For integers, the result is the same as (a // b, a % b).\\ndivmod(5, 3)',\n",
       " '_22': (1, 2),\n",
       " '_i23': '5 // 3, 5 % 3',\n",
       " '_23': (1, 2),\n",
       " '_i24': '# For floating point numbers the result is (q, a % b), where q is usually math.floor(a / b) \\n# but may be 1 less than that. \\n# In any case q * b + a % b is very close to a, if a % b is non-zero it has the same \\n# sign as b, and 0 <= abs(a % b) < abs(b).\\ndivmod(4.5, 2)',\n",
       " '_24': (2.0, 0.5),\n",
       " '_i25': 'divmod(4.5, 2)[0]',\n",
       " '_25': 2.0,\n",
       " '_i26': '4.5 // 2, 4.5 % 2',\n",
       " '_26': (2.0, 0.5),\n",
       " '_i27': \"## enumerate(iterable, start=0)\\n# Return an enumerate object. iterable must be a sequence, an iterator, \\n# or some other object which supports iteration.\\n# Example from Python doc\\nseasons = ['Spring', 'Summer', 'Fall', 'Winter']\\nlist(enumerate(seasons))\",\n",
       " 'seasons': ['Spring', 'Summer', 'Fall', 'Winter'],\n",
       " '_27': [(0, 'Spring'), (1, 'Summer'), (2, 'Fall'), (3, 'Winter')],\n",
       " '_i28': 'enu = list(enumerate(seasons))\\nenu[0][1]',\n",
       " 'enu': [(0, 'Spring'), (1, 'Summer'), (2, 'Fall'), (3, 'Winter')],\n",
       " '_28': 'Spring',\n",
       " '_i29': 'enu[2][0]',\n",
       " '_29': 2,\n",
       " '_i30': 'enu[:1]',\n",
       " '_30': [(0, 'Spring')],\n",
       " '_i31': 'enu[1:2]',\n",
       " '_31': [(1, 'Summer')],\n",
       " '_i32': 'enu[0:2]',\n",
       " '_32': [(0, 'Spring'), (1, 'Summer')],\n",
       " '_i33': 'enu[0]',\n",
       " '_33': (0, 'Spring'),\n",
       " '_i34': 'enu[3]',\n",
       " '_34': (3, 'Winter'),\n",
       " '_i35': \"## eval(expression[, globals[, locals]])\\n# The arguments are a string and optional globals and locals. \\n# If provided, globals must be a dictionary. If provided, locals can be any mapping object.\\neval('2 > 1')\",\n",
       " '_35': True,\n",
       " '_i36': \"eval('2**2')\",\n",
       " '_36': 4,\n",
       " '_i37': \"eval('True and True')\",\n",
       " '_37': True,\n",
       " '_i38': \"eval('True and False')\",\n",
       " '_38': False,\n",
       " '_i39': \"eval('True or False')\",\n",
       " '_39': True,\n",
       " '_i40': '## exec(object[, globals[, locals]])\\n# This function supports dynamic execution of Python code. \\n# object must be either a string or a code object. If it is a string, the string is parsed as a \\n# suite of Python statements which is then executed (unless a syntax error occurs).\\nexec(\"print(\\\\\\'executing this line\\\\\\')\")',\n",
       " '_i41': 'exec(\"print(\\'executing this line\\')\")',\n",
       " '_i42': 'exec(\"print(\\\\\"executing this line\\\\\")\")',\n",
       " '_i43': \"## filter(function, iterable)\\n# Construct an iterator from those elements of iterable for which function returns true. \\nfilter(any([True, True, True]),'x')\",\n",
       " '_43': <filter at 0x25c051e5040>,\n",
       " '_i44': 'high = filter(lambda x: x >= 5, [0, 1, 1, 2, 3, 5, 8, 13])\\nlow = filter(lambda x: x < 5, [0, 1, 1, 2, 3, 5, 8, 13])\\nlist(high), list(low)',\n",
       " 'high': <filter at 0x25c051e5d60>,\n",
       " 'low': <filter at 0x25c051e5580>,\n",
       " '_44': ([5, 8, 13], [0, 1, 1, 2, 3]),\n",
       " '_i45': '# https://www.geeksforgeeks.org/filter-in-python/\\nseq = [0, 1, 1, 2, 3, 5, 8, 13]\\n\\n# result contains odd numbers of the list\\nresult = filter(lambda x: x % 2 != 0, seq)\\nprint(list(result))\\n\\n# result contains even numbers of the list\\nresult = filter(lambda x: x % 2 == 0, seq)\\nprint(list(result))',\n",
       " 'seq': [0, 1, 1, 2, 3, 5, 8, 13],\n",
       " 'result': <filter at 0x25c051e5a90>,\n",
       " '_i46': \"## class float([x])\\n# Return a floating point number constructed from a number or string x.\\n# If the argument is a string, it should contain a decimal number, optionally preceded by a sign, \\n# and optionally embedded in whitespace. \\n# The optional sign may be '+' or '-'; a '+' sign has no effect on the value produced. \\n# The argument may also be a string representing a NaN (not-a-number), or positive or negative infinity. \\n# More precisely, the input must conform to the following grammar after leading and trailing whitespace \\n# characters are removed:\\nfloat(3)\",\n",
       " '_46': 3.0,\n",
       " '_i47': \"float('3')\",\n",
       " '_47': 3.0,\n",
       " '_i48': 'float(10)',\n",
       " '_48': 10.0,\n",
       " '_i49': \"float('10')\",\n",
       " '_49': 10.0,\n",
       " '_i50': \"float('Infinity')\",\n",
       " '_50': inf,\n",
       " '_i51': \"## format(value[, format_spec])\\n# Convert a value to a “formatted” representation, as controlled by format_spec.\\n# Example from https://www.geeksforgeeks.org/string-formatting-in-python/\\nprint('{2} {1} {0}'.format('directions','the', 'Read'))\",\n",
       " '_i52': \"'{2} {1} {0}'.format('directions','the', 'Read')\",\n",
       " '_52': 'Read the directions',\n",
       " '_i53': \"s = '{2} {1} {0}'\\ns.format('directions','the', 'Read')\",\n",
       " 's': 'hello',\n",
       " '_53': 'Read the directions',\n",
       " '_i54': \"s = '{2} {1} {0}'\\nprint('Please!', s.format('directions','the', 'Read'))\",\n",
       " '_i55': '## class frozenset([iterable])\\n# Return a new frozenset object, optionally with elements taken from iterable. \\n# frozenset is a built-in class.\\n# Example 1 from https://www.geeksforgeeks.org/frozenset-in-python/\\n# Quote: \\'If no parameters are passed to frozenset() function then it returns a empty frozenset type object.\\'\\n# Python program to understand frozenset() function\\n\\n# tuple of numbers\\nnu = (1, 2, 3, 4, 5, 6, 7, 8, 9)\\n\\n# converting tuple to frozenset\\nfnum = frozenset(nu)\\n\\n# printing details\\nprint(\"frozenset Object is : \", fnum)',\n",
       " 'nu': (1, 2, 3, 4, 5, 6, 7, 8, 9),\n",
       " 'fnum': frozenset({1, 2, 3, 4, 5, 6, 7, 8, 9}),\n",
       " '_i56': '# Example 2 from https://www.geeksforgeeks.org/frozenset-in-python/\\n# Quote: \\'Since frozenset object are immutable they are mainly used as key in dictionary or elements of other sets. \\n# Below example explains it clearly.\\'\\n# Python program to understand use of frozenset function\\n\\n# creating a dictionary\\nStudent = {\"name\": \"Ankit\", \"age\": 21, \"sex\": \"Male\", \\\\\\n           \"college\": \"MNNIT Allahabad\", \"address\": \"Allahabad\"}\\n\\n# making keys of dictionary as frozenset\\nkey = frozenset(Student)\\n\\n# printing keys details\\nprint(\\'The frozen set is:\\', key)',\n",
       " 'Student': {'name': 'Ankit',\n",
       "  'age': 21,\n",
       "  'sex': 'Male',\n",
       "  'college': 'MNNIT Allahabad',\n",
       "  'address': 'Allahabad'},\n",
       " 'key': frozenset({'address', 'age', 'college', 'name', 'sex'}),\n",
       " '_i57': '## getattr(object, name[, default])\\n# Return the value of the named attribute of object. name must be a string. \\n# If the named attribute does not exist, default is returned if provided, otherwise AttributeError is raised.\\n# Example based on https://www.geeksforgeeks.org/python-getattr-method/ but changed a bit\\n# Python code to demonstrate working of getattr()\\n\\n# declare a class\\nclass automobile:\\n        brand = \\'Ferrari\\'\\n        model = \\'Berlinetta\\'\\n        year = 2012\\n\\n# instantiate the class\\nmy_car = automobile()\\n\\n# apply getattr\\nprint(\"The brand is \" + getattr(my_car, \\'brand\\'))\\n\\n# apply getattr with default\\nprint(\"Cylinders \" + getattr(my_car, \\'cylinders\\', \\'12\\'))',\n",
       " 'automobile': __main__.automobile,\n",
       " 'my_car': <__main__.automobile at 0x25c051c1730>,\n",
       " '_i58': \"# Handle the exception with try: and except\\ntry:\\n    getattr(my_car, 'cylinders')\\n\\nexcept AttributeError:\\n    print('Ooops, object my_car does not have cylinders attribute')\\n\\n# Now we can continue our script without crashing\\nprint('Either ignore or add the attribute')\",\n",
       " '_i59': '## globals()\\n# Return the dictionary implementing the current module namespace. \\nglobals()\\n\\n# Clean everythin up and try this call again. It will reveal what it has from the start already',\n",
       " '_59': {...},\n",
       " '_i60': \"a_variable = 10\\nglobals()['a_variable']\",\n",
       " 'a_variable': 10,\n",
       " '_60': 10,\n",
       " '_i61': \"globals()['my_car']\",\n",
       " '_61': <__main__.automobile at 0x25c051c1730>,\n",
       " '_i62': \"## hasattr(object, name)\\n# The arguments are an object and a string. \\n# The result is True if the string is the name of one of the object’s attributes, False if not. \\nhasattr(my_car, 'brand')\",\n",
       " '_62': True,\n",
       " '_i63': \"hasattr(my_car, 'cylinders')\",\n",
       " '_63': False,\n",
       " '_i64': '## hash(object)\\n# Return the hash value of the object (if it has one). Hash values are integers. \\nhash(my_car)',\n",
       " '_64': 162140373363,\n",
       " '_i65': '## help([object])\\n# Invoke the built-in help system. (This function is intended for interactive use.) \\n# If no argument is given, the interactive help system starts on the interpreter console.\\nhelp(abs)',\n",
       " '_i66': 'help(filter)',\n",
       " '_i67': '## hex(x)\\n# Convert an integer number to a lowercase hexadecimal string prefixed with “0x”. \\nhex(255)',\n",
       " '_67': '0xff',\n",
       " '_i68': '## id(object)\\n# Return the “identity” of an object. \\n# This is an integer which is guaranteed to be unique and constant for this object during its lifetime.\\nid(my_car)',\n",
       " '_68': 2594245973808,\n",
       " '_i69': \"## input([prompt])\\n# If the prompt argument is present, it is written to standard output without a trailing newline. \\n# The function then reads a line from input, converts it to a string (stripping a trailing newline), \\n# and returns that. When EOF is read, EOFError is raised.\\ns = input('>>')\",\n",
       " '_i70': 's',\n",
       " '_70': 'hello',\n",
       " '_i71': 'type(s)',\n",
       " '_71': str,\n",
       " '_i72': \"## class int([x])\\n## class int(x, base=10)\\n# Return an integer object constructed from a number or string x, or return 0 if no arguments are given. \\nint('10')\",\n",
       " '_72': 10,\n",
       " '_i73': \"int('AA', base=16)\",\n",
       " '_73': 170,\n",
       " '_i74': \"int('FF', base=16)\",\n",
       " '_74': 255,\n",
       " '_i75': \"int('ff', base=16)\",\n",
       " '_75': 255,\n",
       " '_i76': \"int('0xff', base=16)\",\n",
       " '_76': 255,\n",
       " '_i77': \"int('1111', base=2)\",\n",
       " '_77': 15,\n",
       " '_i78': \"int('0b1111', base=2)\",\n",
       " '_78': 15,\n",
       " '_i79': '## isinstance(object, classinfo)\\n# Return True if the object argument is an instance of the classinfo argument, \\n# or of a (direct, indirect, or virtual) subclass thereof.\\nisinstance(my_car, automobile)',\n",
       " '_79': True,\n",
       " '_i80': \"your_car = 'some_car'\\nisinstance(your_car, automobile)\",\n",
       " 'your_car': 'some_car',\n",
       " '_80': False,\n",
       " '_i81': '## issubclass(class, classinfo)\\n# Return True if class is a subclass (direct, indirect, or virtual) of classinfo. \\n# A class is considered a subclass of itself.',\n",
       " '_i82': '## iter(object[, sentinel])\\n# Return an iterator object. The first argument is interpreted very differently \\n# depending on the presence of the second argument. Without a second argument, \\n# object must be a collection object which supports the iterable protocol (the __iter__() method), \\n# or it must support the sequence protocol (the __getitem__() method with integer arguments starting at 0).\\niter([1, 2, 3])',\n",
       " '_82': <list_iterator at 0x25c05219190>,\n",
       " '_i83': \"a_list = [1, 2, 3, 4, 1.4142, 2.7183, 3.1416, 9.81, 'a', 'b', 'c', 'd', True, False]\\nfor i in iter(a_list):\\n    print(i)\",\n",
       " 'a_list': [1,\n",
       "  2,\n",
       "  3,\n",
       "  4,\n",
       "  1.4142,\n",
       "  2.7183,\n",
       "  3.1416,\n",
       "  9.81,\n",
       "  'a',\n",
       "  'b',\n",
       "  'c',\n",
       "  'd',\n",
       "  True,\n",
       "  False],\n",
       " 'i': False,\n",
       " '_i84': \"# There are better examples than the one I showed above. I wouldn't have needed iter() there.\\nfor i in a_list:\\n    print(i)\",\n",
       " '_i85': '## len(s)\\n# Return the length (the number of items) of an object. \\nlen(a_list)',\n",
       " '_85': 14,\n",
       " '_i86': '## class list([iterable])\\n# Rather than being a function, list is actually a mutable sequence type, \\n# as documented in Lists and Sequence Types — list, tuple, range.\\nlist(a_list)',\n",
       " '_86': [1,\n",
       "  2,\n",
       "  3,\n",
       "  4,\n",
       "  1.4142,\n",
       "  2.7183,\n",
       "  3.1416,\n",
       "  9.81,\n",
       "  'a',\n",
       "  'b',\n",
       "  'c',\n",
       "  'd',\n",
       "  True,\n",
       "  False],\n",
       " '_i87': '# There are better examples than the one above. One does not need the list() function. For example:\\na_list',\n",
       " '_87': [1,\n",
       "  2,\n",
       "  3,\n",
       "  4,\n",
       "  1.4142,\n",
       "  2.7183,\n",
       "  3.1416,\n",
       "  9.81,\n",
       "  'a',\n",
       "  'b',\n",
       "  'c',\n",
       "  'd',\n",
       "  True,\n",
       "  False],\n",
       " '_i88': '## locals()\\n# Update and return a dictionary representing the current local symbol table. \\n# Free variables are returned by locals() when it is called in function blocks, but not in class blocks.\\nlocals()'}"
      ]
     },
     "execution_count": 88,
     "metadata": {},
     "output_type": "execute_result"
    }
   ],
   "source": [
    "## locals()\n",
    "# Update and return a dictionary representing the current local symbol table. \n",
    "# Free variables are returned by locals() when it is called in function blocks, but not in class blocks.\n",
    "locals()"
   ]
  },
  {
   "cell_type": "code",
   "execution_count": 89,
   "id": "a568809f",
   "metadata": {},
   "outputs": [
    {
     "data": {
      "text/plain": [
       "[0, 1, 2, 3, 4, 5, 6, 7, 8, 9]"
      ]
     },
     "execution_count": 89,
     "metadata": {},
     "output_type": "execute_result"
    }
   ],
   "source": [
    "## map(function, iterable, ...)\n",
    "# Return an iterator that applies function to every item of iterable, yielding the results. \n",
    "# If additional iterable arguments are passed, function must take that many arguments and \n",
    "# is applied to the items from all iterables in parallel. \n",
    "map_iter = map(lambda x: abs(x), (0, 1, -2, 3, -4, 5, -6, 7, -8, 9))\n",
    "list(map_iter)"
   ]
  },
  {
   "cell_type": "code",
   "execution_count": 90,
   "id": "83ec47a2",
   "metadata": {},
   "outputs": [
    {
     "data": {
      "text/plain": [
       "5"
      ]
     },
     "execution_count": 90,
     "metadata": {},
     "output_type": "execute_result"
    }
   ],
   "source": [
    "## max(iterable, *[, key, default])\n",
    "## max(arg1, arg2, *args[, key])\n",
    "# Return the largest item in an iterable or the largest of two or more arguments.\n",
    "max([1,3,2,5])"
   ]
  },
  {
   "cell_type": "code",
   "execution_count": 91,
   "id": "bda9e88a",
   "metadata": {},
   "outputs": [
    {
     "data": {
      "text/plain": [
       "'opqrst'"
      ]
     },
     "execution_count": 91,
     "metadata": {},
     "output_type": "execute_result"
    }
   ],
   "source": [
    "# Handling the length of a string to find the longest string in a list\n",
    "max(['abc', 'xyz', 'z', 'opqrst'], key=len)"
   ]
  },
  {
   "cell_type": "code",
   "execution_count": 92,
   "id": "42933c19",
   "metadata": {},
   "outputs": [
    {
     "data": {
      "text/plain": [
       "1"
      ]
     },
     "execution_count": 92,
     "metadata": {},
     "output_type": "execute_result"
    }
   ],
   "source": [
    "# Handling the count of items to find the mode in a list\n",
    "fibonacci = [0, 1, 1, 2, 3, 5, 8, 13, 21]\n",
    "max(set(fibonacci), key=fibonacci.count)"
   ]
  },
  {
   "cell_type": "code",
   "execution_count": 93,
   "id": "e92663a9",
   "metadata": {},
   "outputs": [
    {
     "data": {
      "text/plain": [
       "'apple'"
      ]
     },
     "execution_count": 93,
     "metadata": {},
     "output_type": "execute_result"
    }
   ],
   "source": [
    "# Handling the count of items to find the mode in a list\n",
    "s = ['apple', 'orange', 'banana', 'mango', 'apple']\n",
    "max(set(s), key=s.count)"
   ]
  },
  {
   "cell_type": "code",
   "execution_count": 94,
   "id": "f03dca0c",
   "metadata": {},
   "outputs": [
    {
     "data": {
      "text/plain": [
       "'z'"
      ]
     },
     "execution_count": 94,
     "metadata": {},
     "output_type": "execute_result"
    }
   ],
   "source": [
    "# If we don't include key=len then it looks at the ascii value\n",
    "max(['abc', 'xyz', 'z', 'opqrst'])"
   ]
  },
  {
   "cell_type": "code",
   "execution_count": 95,
   "id": "db614354",
   "metadata": {},
   "outputs": [
    {
     "data": {
      "text/plain": [
       "1"
      ]
     },
     "execution_count": 95,
     "metadata": {},
     "output_type": "execute_result"
    }
   ],
   "source": [
    "## min(iterable, *[, key, default])\n",
    "## min(arg1, arg2, *args[, key])\n",
    "# Return the smallest item in an iterable or the smallest of two or more arguments.\n",
    "min([1,3,2,5])"
   ]
  },
  {
   "cell_type": "code",
   "execution_count": 96,
   "id": "9fb905e1",
   "metadata": {},
   "outputs": [
    {
     "data": {
      "text/plain": [
       "'z'"
      ]
     },
     "execution_count": 96,
     "metadata": {},
     "output_type": "execute_result"
    }
   ],
   "source": [
    "# Handling the length of a string to find the smallest string in a list\n",
    "min(['abc', 'xyz', 'z', 'opqrst'], key=len)"
   ]
  },
  {
   "cell_type": "code",
   "execution_count": 97,
   "id": "adee370c",
   "metadata": {},
   "outputs": [
    {
     "data": {
      "text/plain": [
       "'abc'"
      ]
     },
     "execution_count": 97,
     "metadata": {},
     "output_type": "execute_result"
    }
   ],
   "source": [
    "# If we don't include key=len then it looks at the ascii value\n",
    "min(['abc', 'xyz', 'z', 'opqrst'])"
   ]
  },
  {
   "cell_type": "code",
   "execution_count": 98,
   "id": "7fb53392",
   "metadata": {},
   "outputs": [],
   "source": [
    "## class memoryview(object)\n",
    "# Return a “memory view” object created from the given argument.\n",
    "# (to come back for examples)"
   ]
  },
  {
   "cell_type": "code",
   "execution_count": 99,
   "id": "52f6c83f",
   "metadata": {},
   "outputs": [
    {
     "name": "stdout",
     "output_type": "stream",
     "text": [
      "The contents of list are : \n",
      "1\n",
      "2\n",
      "3\n",
      "4\n",
      "5\n",
      "list end\n"
     ]
    }
   ],
   "source": [
    "## next(iterator[, default])\n",
    "# Retrieve the next item from the iterator by calling its __next__() method. \n",
    "# If default is given, it is returned if the iterator is exhausted, otherwise StopIteration is raised.\n",
    "# Example from https://www.geeksforgeeks.org/python-next-method/\n",
    "# Python code to demonstrate\n",
    "# working of next()\n",
    "\n",
    "# initializing list\n",
    "list1 = [1, 2, 3, 4, 5]\n",
    "\n",
    "# converting list to iterator\n",
    "list1 = iter(list1)\n",
    "\n",
    "print(\"The contents of list are : \")\n",
    "\n",
    "# printing using next()\n",
    "# using default\n",
    "while (1):\n",
    "        val = next(list1, 'end')\n",
    "        if val == 'end':\n",
    "            print('list end')\n",
    "            break\n",
    "        else:\n",
    "            print(val)\n"
   ]
  },
  {
   "cell_type": "code",
   "execution_count": 100,
   "id": "666429fb",
   "metadata": {},
   "outputs": [],
   "source": [
    "## class object\n",
    "# Return a new featureless object. object is a base for all classes. \n",
    "# It has methods that are common to all instances of Python classes. This function does not accept any arguments.\n",
    "# To be explored a bit more later"
   ]
  },
  {
   "cell_type": "code",
   "execution_count": 101,
   "id": "ac32a1a8",
   "metadata": {},
   "outputs": [
    {
     "data": {
      "text/plain": [
       "'0o44'"
      ]
     },
     "execution_count": 101,
     "metadata": {},
     "output_type": "execute_result"
    }
   ],
   "source": [
    "## oct(x)\n",
    "# Convert an integer number to an octal string prefixed with “0o”. The result is a valid Python expression. \n",
    "# If x is not a Python int object, it has to define an __index__() method that returns an integer. \n",
    "oct(0b100100)"
   ]
  },
  {
   "cell_type": "code",
   "execution_count": 102,
   "id": "64ff5a19",
   "metadata": {},
   "outputs": [
    {
     "data": {
      "text/plain": [
       "'0o30'"
      ]
     },
     "execution_count": 102,
     "metadata": {},
     "output_type": "execute_result"
    }
   ],
   "source": [
    "oct(24)"
   ]
  },
  {
   "cell_type": "code",
   "execution_count": 103,
   "id": "c7ecd717",
   "metadata": {},
   "outputs": [
    {
     "data": {
      "text/plain": [
       "'0o14'"
      ]
     },
     "execution_count": 103,
     "metadata": {},
     "output_type": "execute_result"
    }
   ],
   "source": [
    "oct(12)"
   ]
  },
  {
   "cell_type": "code",
   "execution_count": 104,
   "id": "0596eace",
   "metadata": {},
   "outputs": [
    {
     "data": {
      "text/plain": [
       "'0o17'"
      ]
     },
     "execution_count": 104,
     "metadata": {},
     "output_type": "execute_result"
    }
   ],
   "source": [
    "oct(0xF)"
   ]
  },
  {
   "cell_type": "code",
   "execution_count": 105,
   "id": "2555416d",
   "metadata": {},
   "outputs": [
    {
     "data": {
      "text/plain": [
       "'0o20'"
      ]
     },
     "execution_count": 105,
     "metadata": {},
     "output_type": "execute_result"
    }
   ],
   "source": [
    "oct(0x10)"
   ]
  },
  {
   "cell_type": "code",
   "execution_count": 106,
   "id": "ede57ccc",
   "metadata": {},
   "outputs": [
    {
     "name": "stdout",
     "output_type": "stream",
     "text": [
      "id,name,birth_date,age,height_cm,weight_kgs,nationality\n",
      "158023,L. Messi,6/24/1987,31,170.18,72.1,Argentina\n",
      "20801,Cristiano Ronaldo,2/5/1985,34,187.96,83,Portugal\n",
      "190871,Neymar Jr,2/5/1992,27,175.26,68,Brazil\n",
      "176580,L. SuÃ¡rez,1/24/1987,32,182.88,86.2,Uruguay\n",
      "177003,L. ModriÄ‡,9/9/1985,33,172.72,66.2,Croatia\n",
      "183277,E. Hazard,1/7/1991,28,172.72,76.2,Belgium\n",
      "192985,K. De Bruyne,6/28/1991,27,154.94,69.9,Belgium\n",
      "193080,De Gea,11/7/1990,28,193.04,76.2,Spain\n",
      "138956,G. Chiellini,8/14/1984,34,187.96,84.8,Italy\n",
      "155862,Sergio Ramos,3/30/1986,32,182.88,82.1,Spain\n",
      "\n",
      "running foo.readline() #1 id,name,birth_date,age,height_cm,weight_kgs,nationality\n",
      "\n",
      "running foo.readline() #2 158023,L. Messi,6/24/1987,31,170.18,72.1,Argentina\n",
      "\n",
      "running foo.readline() #3 20801,Cristiano Ronaldo,2/5/1985,34,187.96,83,Portugal\n",
      "\n",
      "running foo.readline() #1 158023,L. Messi,6/24/1987,31,170.18,72.1,Argentina\n",
      "\n",
      "running foo.readline() #2 20801,Cristiano Ronaldo,2/5/1985,34,187.96,83,Portugal\n",
      "\n",
      "running foo.readline() #3 190871,Neymar Jr,2/5/1992,27,175.26,68,Brazil\n",
      "\n"
     ]
    }
   ],
   "source": [
    "## open(file, mode='r', buffering=- 1, encoding=None, errors=None, newline=None, closefd=True, opener=None)\n",
    "# Open file and return a corresponding file object. If the file cannot be opened, an OSError is raised. \n",
    "# See Reading and Writing Files for more examples of how to use this function.\n",
    "foo = open('../data/fifa_top_10.csv', 'r')\n",
    "print(foo.read())\n",
    "foo.close()\n",
    "\n",
    "# or print one line at a time using readline() method\n",
    "foo = open('../data/fifa_top_10.csv', 'r')\n",
    "print('running foo.readline() #1', foo.readline())\n",
    "print('running foo.readline() #2', foo.readline())\n",
    "print('running foo.readline() #3', foo.readline())\n",
    "foo.close()\n",
    "\n",
    "# Now use a string as a varaible\n",
    "# or print one line at a time using readline() method\n",
    "foo = open('../data/fifa_top_10.csv', 'r')\n",
    "line1 = foo.readline()\n",
    "print('running foo.readline() #1', foo.readline())\n",
    "print('running foo.readline() #2', foo.readline())\n",
    "print('running foo.readline() #3', foo.readline())\n",
    "foo.close()\n"
   ]
  },
  {
   "cell_type": "code",
   "execution_count": 107,
   "id": "a93b6765",
   "metadata": {},
   "outputs": [
    {
     "data": {
      "text/plain": [
       "97"
      ]
     },
     "execution_count": 107,
     "metadata": {},
     "output_type": "execute_result"
    }
   ],
   "source": [
    "## ord(c)\n",
    "# Given a string representing one Unicode character, \n",
    "# return an integer representing the Unicode code point of that character. \n",
    "# For example, ord('a') returns the integer 97 and ord('€') (Euro sign) returns 8364. \n",
    "# This is the inverse of chr().\n",
    "ord('a')"
   ]
  },
  {
   "cell_type": "code",
   "execution_count": 108,
   "id": "9f274869",
   "metadata": {},
   "outputs": [
    {
     "data": {
      "text/plain": [
       "'a'"
      ]
     },
     "execution_count": 108,
     "metadata": {},
     "output_type": "execute_result"
    }
   ],
   "source": [
    "chr(97)"
   ]
  },
  {
   "cell_type": "code",
   "execution_count": 109,
   "id": "7c739287",
   "metadata": {},
   "outputs": [
    {
     "data": {
      "text/plain": [
       "256"
      ]
     },
     "execution_count": 109,
     "metadata": {},
     "output_type": "execute_result"
    }
   ],
   "source": [
    "## pow(base, exp[, mod])\n",
    "# Return base to the power exp; if mod is present, return base to the power exp, \n",
    "# modulo mod (computed more efficiently than pow(base, exp) % mod). \n",
    "# The two-argument form pow(base, exp) is equivalent to using the power operator: base**exp.\n",
    "pow(2, 8)"
   ]
  },
  {
   "cell_type": "code",
   "execution_count": 110,
   "id": "7c7a589e",
   "metadata": {},
   "outputs": [
    {
     "data": {
      "text/plain": [
       "256"
      ]
     },
     "execution_count": 110,
     "metadata": {},
     "output_type": "execute_result"
    }
   ],
   "source": [
    "2**8"
   ]
  },
  {
   "cell_type": "code",
   "execution_count": 111,
   "id": "cd3e6b58",
   "metadata": {},
   "outputs": [
    {
     "data": {
      "text/plain": [
       "1"
      ]
     },
     "execution_count": 111,
     "metadata": {},
     "output_type": "execute_result"
    }
   ],
   "source": [
    "# In this example do 2^8 = 16 and divide by 3, which is 15. So the module is 16 - 15 = 1\n",
    "pow(2, 8, 3)"
   ]
  },
  {
   "cell_type": "code",
   "execution_count": 112,
   "id": "cc0712cc",
   "metadata": {},
   "outputs": [
    {
     "name": "stdout",
     "output_type": "stream",
     "text": [
      "hello, world\n"
     ]
    }
   ],
   "source": [
    "## print(*objects, sep=' ', end='\\n', file=sys.stdout, flush=False)\n",
    "# Print objects to the text stream file, separated by sep and \n",
    "# followed by end. sep, end, file, and flush, if present, must be given as keyword arguments.\n",
    "print('hello, world')"
   ]
  },
  {
   "cell_type": "code",
   "execution_count": 113,
   "id": "8b7f49df",
   "metadata": {},
   "outputs": [],
   "source": [
    "## class property(fget=None, fset=None, fdel=None, doc=None)\n",
    "# Return a property attribute.\n",
    "# The example given at https://docs.python.org/3/library/functions.html\n",
    "# To be explored at a later time."
   ]
  },
  {
   "cell_type": "code",
   "execution_count": 114,
   "id": "89fc7858",
   "metadata": {},
   "outputs": [
    {
     "data": {
      "text/plain": [
       "range(0, 10)"
      ]
     },
     "execution_count": 114,
     "metadata": {},
     "output_type": "execute_result"
    }
   ],
   "source": [
    "## class range(stop)\n",
    "## class range(start, stop[, step])\n",
    "# Rather than being a function, range is actually an immutable sequence type, \n",
    "# as documented in Ranges and Sequence Types — list, tuple, range.\n",
    "a_range = range(10)\n",
    "a_range"
   ]
  },
  {
   "cell_type": "code",
   "execution_count": 115,
   "id": "2d049cc2",
   "metadata": {},
   "outputs": [
    {
     "data": {
      "text/plain": [
       "range(5, 50)"
      ]
     },
     "execution_count": 115,
     "metadata": {},
     "output_type": "execute_result"
    }
   ],
   "source": [
    "a_range = range(5, 50)\n",
    "a_range"
   ]
  },
  {
   "cell_type": "code",
   "execution_count": 116,
   "id": "a8deadd4",
   "metadata": {},
   "outputs": [
    {
     "data": {
      "text/plain": [
       "range(5, 50, 5)"
      ]
     },
     "execution_count": 116,
     "metadata": {},
     "output_type": "execute_result"
    }
   ],
   "source": [
    "a_range = range(5, 50, 5)\n",
    "a_range"
   ]
  },
  {
   "cell_type": "code",
   "execution_count": 117,
   "id": "3610b19c",
   "metadata": {},
   "outputs": [
    {
     "data": {
      "text/plain": [
       "'256'"
      ]
     },
     "execution_count": 117,
     "metadata": {},
     "output_type": "execute_result"
    }
   ],
   "source": [
    "## repr(object)\n",
    "# Return a string containing a printable representation of an object.\n",
    "repr(pow(2, 8))"
   ]
  },
  {
   "cell_type": "code",
   "execution_count": 118,
   "id": "b32216fe",
   "metadata": {},
   "outputs": [
    {
     "data": {
      "text/plain": [
       "'<__main__.automobile object at 0x0000025C051C1730>'"
      ]
     },
     "execution_count": 118,
     "metadata": {},
     "output_type": "execute_result"
    }
   ],
   "source": [
    "repr(my_car)"
   ]
  },
  {
   "cell_type": "code",
   "execution_count": 119,
   "id": "baef7a18",
   "metadata": {},
   "outputs": [
    {
     "data": {
      "text/plain": [
       "[5, 4, 3, 2, 1]"
      ]
     },
     "execution_count": 119,
     "metadata": {},
     "output_type": "execute_result"
    }
   ],
   "source": [
    "## reversed(seq)\n",
    "# Return a reverse iterator. seq must be an object which has a __reversed__() method or \n",
    "# supports the sequence protocol (the __len__() method and the __getitem__() method with \n",
    "# integer arguments starting at 0).\n",
    "list(reversed([1, 2, 3, 4, 5]))"
   ]
  },
  {
   "cell_type": "code",
   "execution_count": 120,
   "id": "f0d1d3e4",
   "metadata": {},
   "outputs": [
    {
     "data": {
      "text/plain": [
       "1"
      ]
     },
     "execution_count": 120,
     "metadata": {},
     "output_type": "execute_result"
    }
   ],
   "source": [
    "## round(number[, ndigits])\n",
    "# Return number rounded to ndigits precision after the decimal point. \n",
    "# If ndigits is omitted or is None, it returns the nearest integer to its input.\n",
    "round(1.4)"
   ]
  },
  {
   "cell_type": "code",
   "execution_count": 121,
   "id": "5ae1778a",
   "metadata": {},
   "outputs": [
    {
     "data": {
      "text/plain": [
       "2"
      ]
     },
     "execution_count": 121,
     "metadata": {},
     "output_type": "execute_result"
    }
   ],
   "source": [
    "round(1.5)"
   ]
  },
  {
   "cell_type": "code",
   "execution_count": 122,
   "id": "1bbf27dc",
   "metadata": {},
   "outputs": [
    {
     "data": {
      "text/plain": [
       "3"
      ]
     },
     "execution_count": 122,
     "metadata": {},
     "output_type": "execute_result"
    }
   ],
   "source": [
    "round(3.1416)"
   ]
  },
  {
   "cell_type": "code",
   "execution_count": 123,
   "id": "664f0c38",
   "metadata": {},
   "outputs": [
    {
     "data": {
      "text/plain": [
       "3.14"
      ]
     },
     "execution_count": 123,
     "metadata": {},
     "output_type": "execute_result"
    }
   ],
   "source": [
    "round(3.1416, 2)"
   ]
  },
  {
   "cell_type": "code",
   "execution_count": 124,
   "id": "8ff7ed58",
   "metadata": {},
   "outputs": [
    {
     "data": {
      "text/plain": [
       "{0, 1, 2, 3, 5, 8, 13, 21}"
      ]
     },
     "execution_count": 124,
     "metadata": {},
     "output_type": "execute_result"
    }
   ],
   "source": [
    "## class set([iterable])\n",
    "# Return a new set object, optionally with elements taken from iterable. \n",
    "# set is a built-in class. See set and Set Types — set, frozenset for documentation about this class.\n",
    "# To be explored further at a later time.\n",
    "set([0, 1, 1, 2, 3, 5, 8, 13, 21])"
   ]
  },
  {
   "cell_type": "code",
   "execution_count": 125,
   "id": "2da8d6af",
   "metadata": {},
   "outputs": [
    {
     "data": {
      "text/plain": [
       "'Ferrari'"
      ]
     },
     "execution_count": 125,
     "metadata": {},
     "output_type": "execute_result"
    }
   ],
   "source": [
    "## setattr(object, name, value)\n",
    "# This is the counterpart of getattr(). The arguments are an object, a string, and an arbitrary value. The string may name an existing attribute or a new attribute. The function assigns the value to the attribute, \n",
    "# provided the object allows it. For example, setattr(x, 'foobar', 123) is equivalent to x.foobar = 123.\n",
    "my_car2 = my_car\n",
    "getattr(my_car2, 'brand')"
   ]
  },
  {
   "cell_type": "code",
   "execution_count": 126,
   "id": "9abb9e3c",
   "metadata": {},
   "outputs": [],
   "source": [
    "setattr(my_car2, 'brand', 'Lamborghini')"
   ]
  },
  {
   "cell_type": "code",
   "execution_count": 127,
   "id": "f2333a65",
   "metadata": {},
   "outputs": [
    {
     "data": {
      "text/plain": [
       "'Lamborghini'"
      ]
     },
     "execution_count": 127,
     "metadata": {},
     "output_type": "execute_result"
    }
   ],
   "source": [
    "getattr(my_car2, 'brand')"
   ]
  },
  {
   "cell_type": "code",
   "execution_count": 128,
   "id": "1cb97e77",
   "metadata": {},
   "outputs": [],
   "source": [
    "setattr(my_car2, 'model', 'Huracan')"
   ]
  },
  {
   "cell_type": "code",
   "execution_count": 129,
   "id": "44c6f8b4",
   "metadata": {},
   "outputs": [],
   "source": [
    "setattr(my_car2, 'year', 2022)"
   ]
  },
  {
   "cell_type": "code",
   "execution_count": 130,
   "id": "b17256fc",
   "metadata": {},
   "outputs": [
    {
     "data": {
      "text/plain": [
       "2022"
      ]
     },
     "execution_count": 130,
     "metadata": {},
     "output_type": "execute_result"
    }
   ],
   "source": [
    "getattr(my_car2, 'year')"
   ]
  },
  {
   "cell_type": "code",
   "execution_count": 131,
   "id": "a3937719",
   "metadata": {},
   "outputs": [
    {
     "data": {
      "text/plain": [
       "2022"
      ]
     },
     "execution_count": 131,
     "metadata": {},
     "output_type": "execute_result"
    }
   ],
   "source": [
    "my_car2.year"
   ]
  },
  {
   "cell_type": "code",
   "execution_count": 132,
   "id": "4ce592b0",
   "metadata": {},
   "outputs": [
    {
     "data": {
      "text/plain": [
       "slice(None, 10, None)"
      ]
     },
     "execution_count": 132,
     "metadata": {},
     "output_type": "execute_result"
    }
   ],
   "source": [
    "## class slice(stop)\n",
    "## class slice(start, stop[, step])\n",
    "# Return a slice object representing the set of indices specified by range(start, stop, step). \n",
    "# The start and step arguments default to None. \n",
    "slice(10)"
   ]
  },
  {
   "cell_type": "code",
   "execution_count": 133,
   "id": "e8c025e1",
   "metadata": {},
   "outputs": [
    {
     "data": {
      "text/plain": [
       "slice(2, 10, 2)"
      ]
     },
     "execution_count": 133,
     "metadata": {},
     "output_type": "execute_result"
    }
   ],
   "source": [
    "slice(2, 10, 2)"
   ]
  },
  {
   "cell_type": "code",
   "execution_count": 134,
   "id": "76e36401",
   "metadata": {},
   "outputs": [
    {
     "data": {
      "text/plain": [
       "[1, 2, 3, 4, 5]"
      ]
     },
     "execution_count": 134,
     "metadata": {},
     "output_type": "execute_result"
    }
   ],
   "source": [
    "## sorted(iterable, /, *, key=None, reverse=False)\n",
    "# Return a new sorted list from the items in iterable.\n",
    "sorted(list([2, 1, 5, 4, 3]))"
   ]
  },
  {
   "cell_type": "code",
   "execution_count": 135,
   "id": "2a1d7022",
   "metadata": {},
   "outputs": [
    {
     "name": "stdout",
     "output_type": "stream",
     "text": [
      "Normal sort : ['aaa', 'b', 'cccc', 'dd']\n",
      "Sort with len : ['b', 'dd', 'aaa', 'cccc']\n"
     ]
    }
   ],
   "source": [
    "# Using key example from https://www.geeksforgeeks.org/sorted-function-python/\n",
    "L = [\"cccc\", \"b\", \"dd\", \"aaa\"]\n",
    "print(\"Normal sort :\", sorted(L))\n",
    "print(\"Sort with len :\", sorted(L, key=len))"
   ]
  },
  {
   "cell_type": "code",
   "execution_count": 136,
   "id": "31e19197",
   "metadata": {},
   "outputs": [
    {
     "data": {
      "text/plain": [
       "'100'"
      ]
     },
     "execution_count": 136,
     "metadata": {},
     "output_type": "execute_result"
    }
   ],
   "source": [
    "## class str(object='')\n",
    "## class str(object=b'', encoding='utf-8', errors='strict')\n",
    "# Return a str version of object. See str() for details.\n",
    "str(100)"
   ]
  },
  {
   "cell_type": "code",
   "execution_count": 137,
   "id": "34d3e9fa",
   "metadata": {},
   "outputs": [
    {
     "data": {
      "text/plain": [
       "15"
      ]
     },
     "execution_count": 137,
     "metadata": {},
     "output_type": "execute_result"
    }
   ],
   "source": [
    "## sum(iterable, /, start=0)\n",
    "# Sums start and the items of an iterable from left to right and returns the total. \n",
    "# The iterable’s items are normally numbers, and the start value is not allowed to be a string.\n",
    "sum([1, 2, 3, 4, 5])"
   ]
  },
  {
   "cell_type": "code",
   "execution_count": 138,
   "id": "2e5ec96c",
   "metadata": {},
   "outputs": [],
   "source": [
    "## class super([type[, object-or-type]])\n",
    "# Return a proxy object that delegates method calls to a parent or sibling class of type. \n",
    "# This is useful for accessing inherited methods that have been overridden in a class.\n",
    "# To be explored later."
   ]
  },
  {
   "cell_type": "code",
   "execution_count": 139,
   "id": "1bed72ee",
   "metadata": {},
   "outputs": [],
   "source": [
    "## class tuple([iterable])\n",
    "# Rather than being a function, tuple is actually an immutable sequence type, \n",
    "# as documented in Tuples and Sequence Types — list, tuple, range.\n",
    "my_tuple = tuple([1, 2, 3, 4, 5])"
   ]
  },
  {
   "cell_type": "code",
   "execution_count": 140,
   "id": "02fca408",
   "metadata": {},
   "outputs": [
    {
     "data": {
      "text/plain": [
       "(1, 2, 3, 4, 5)"
      ]
     },
     "execution_count": 140,
     "metadata": {},
     "output_type": "execute_result"
    }
   ],
   "source": [
    "# Notice it is enclosed in parentheses\n",
    "my_tuple"
   ]
  },
  {
   "cell_type": "code",
   "execution_count": 141,
   "id": "70afe18d",
   "metadata": {},
   "outputs": [
    {
     "data": {
      "text/plain": [
       "tuple"
      ]
     },
     "execution_count": 141,
     "metadata": {},
     "output_type": "execute_result"
    }
   ],
   "source": [
    "## class type(object)\n",
    "## class type(name, bases, dict, **kwds)\n",
    "# With one argument, return the type of an object. \n",
    "# The return value is a type object and generally the same object as returned by object.__class__.\n",
    "type(my_tuple)"
   ]
  },
  {
   "cell_type": "code",
   "execution_count": 142,
   "id": "f6694cc0",
   "metadata": {},
   "outputs": [
    {
     "data": {
      "text/plain": [
       "__main__.automobile"
      ]
     },
     "execution_count": 142,
     "metadata": {},
     "output_type": "execute_result"
    }
   ],
   "source": [
    "type(my_car)"
   ]
  },
  {
   "cell_type": "code",
   "execution_count": 143,
   "id": "8a95c9ce",
   "metadata": {},
   "outputs": [],
   "source": [
    "## vars([object])\n",
    "# Return the __dict__ attribute for a module, class, instance, or any other object with a __dict__ attribute.\n",
    "# To be further explored at a later time."
   ]
  },
  {
   "cell_type": "code",
   "execution_count": 144,
   "id": "aea28039",
   "metadata": {},
   "outputs": [
    {
     "name": "stdout",
     "output_type": "stream",
     "text": [
      "1 4\n",
      "2 5\n",
      "3 6\n"
     ]
    }
   ],
   "source": [
    "## zip(*iterables, strict=False)\n",
    "# Iterate over several iterables in parallel, producing tuples with an item from each one.\n",
    "# To be further explored at a later time.\n",
    "#\n",
    "# https://stackoverflow.com/questions/1663807/how-to-iterate-through-two-lists-in-parallel\n",
    "foo = (1, 2, 3)\n",
    "bar = (4, 5, 6)\n",
    "for f, b in zip(foo, bar):\n",
    "    print(f, b)"
   ]
  },
  {
   "cell_type": "code",
   "execution_count": 145,
   "id": "8fd61ab4-4880-44db-8652-95c524d19a00",
   "metadata": {},
   "outputs": [],
   "source": [
    "# Zip lists and create a set of tuples\n",
    "name = [\"Joan\", \"Mary \", \"Vijay\", \"Rob\", \"Martha\", \"Josh\", \"Vicky\", \"Mario\", \"Jenny\", \"Joe\"]\n",
    "score = [91, 83, 95, 62, 91, 85, 89, 82, 92, 79]\n",
    "\n",
    "zipped = zip(name, score)"
   ]
  },
  {
   "cell_type": "code",
   "execution_count": 146,
   "id": "09f3cb41-2458-4005-8494-ad30bf1d9c28",
   "metadata": {},
   "outputs": [
    {
     "name": "stdout",
     "output_type": "stream",
     "text": [
      "{('Joan', 91), ('Mary ', 83), ('Martha', 91), ('Jenny', 92), ('Rob', 62), ('Joe', 79), ('Vicky', 89), ('Mario', 82), ('Vijay', 95), ('Josh', 85)}\n"
     ]
    }
   ],
   "source": [
    "# Print the set\n",
    "print(set(zipped))"
   ]
  },
  {
   "cell_type": "code",
   "execution_count": 147,
   "id": "2926a59b-2209-470e-93e2-4a5e578e2d8b",
   "metadata": {},
   "outputs": [
    {
     "name": "stdout",
     "output_type": "stream",
     "text": [
      "0 ('Joan', 91)\n",
      "1 ('Mary ', 83)\n",
      "2 ('Vijay', 95)\n",
      "3 ('Rob', 62)\n",
      "4 ('Martha', 91)\n",
      "5 ('Josh', 85)\n",
      "6 ('Vicky', 89)\n",
      "7 ('Mario', 82)\n",
      "8 ('Jenny', 92)\n",
      "9 ('Joe', 79)\n"
     ]
    }
   ],
   "source": [
    "# Iterate over each tuple of the set and get the items inside the tuple\n",
    "for (n, s) in enumerate(zip(name, score)):\n",
    "    print(n, s)"
   ]
  },
  {
   "cell_type": "code",
   "execution_count": 148,
   "id": "9d8269ad-22d8-4410-9ad3-064f334bf2dd",
   "metadata": {},
   "outputs": [],
   "source": [
    "# Zip lists and create a set of tuples\n",
    "name = [\"Joan\", \"Mary \", \"Vijay\", \"Rob\", \"Martha\", \"Josh\", \"Vicky\", \"Mario\", \"Jenny\", \"Joe\"]\n",
    "score = [91, 83, 95, 62, 91, 85, 89, 82, 92, 79]\n",
    "\n",
    "zipped = zip(name, score)"
   ]
  },
  {
   "cell_type": "code",
   "execution_count": 149,
   "id": "c0be3f42-a80d-40ca-8b80-4a5ba29bb72b",
   "metadata": {},
   "outputs": [],
   "source": [
    "# Unzip - returns tuples\n",
    "name, score = zip(*zipped)"
   ]
  },
  {
   "cell_type": "code",
   "execution_count": 150,
   "id": "4bc57066-4c16-42a6-a083-2c40cc59bc98",
   "metadata": {},
   "outputs": [
    {
     "name": "stdout",
     "output_type": "stream",
     "text": [
      "('Joan', 'Mary ', 'Vijay', 'Rob', 'Martha', 'Josh', 'Vicky', 'Mario', 'Jenny', 'Joe')\n",
      "(91, 83, 95, 62, 91, 85, 89, 82, 92, 79)\n"
     ]
    }
   ],
   "source": [
    "print(name)\n",
    "print(score)"
   ]
  },
  {
   "cell_type": "code",
   "execution_count": null,
   "id": "a2cc56da-584b-4819-a410-54cdfa73b20c",
   "metadata": {},
   "outputs": [],
   "source": []
  }
 ],
 "metadata": {
  "kernelspec": {
   "display_name": "Python 3 (ipykernel)",
   "language": "python",
   "name": "python3"
  },
  "language_info": {
   "codemirror_mode": {
    "name": "ipython",
    "version": 3
   },
   "file_extension": ".py",
   "mimetype": "text/x-python",
   "name": "python",
   "nbconvert_exporter": "python",
   "pygments_lexer": "ipython3",
   "version": "3.9.7"
  }
 },
 "nbformat": 4,
 "nbformat_minor": 5
}
