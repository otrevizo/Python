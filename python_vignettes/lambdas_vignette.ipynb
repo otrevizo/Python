{
 "cells": [
  {
   "cell_type": "markdown",
   "id": "abe76165",
   "metadata": {},
   "source": [
    "# Lambdas Vignette\n",
    "\n",
    "November 13, 2021\n",
    "\n",
    "Vignette: Lambdas functions\n",
    "\n",
    "@author: Oscar A. Trevizo\n",
    "\n",
    "One liners! Create a function all in one line.\n",
    "\n",
    "Syntax:\n",
    "(lambda args list: expression to execute)(args values)\n",
    "\n",
    "Example:\n",
    "(lambda x, y: x + y)(value_of_x, value_of_y)\n",
    "\n",
    "--> the arguments that lambda needs are defined before the colon \":\"\n",
    "--> The expression that comes after the colon is the formula that lambda uses\n",
    "\n",
    "### References\n",
    "* The Python Tutorial, https://docs.python.org/3/tutorial/\n",
    "    https://docs.python.org/3/tutorial/controlflow.html#defining-functions\n",
    "    https://docs.python.org/3/tutorial/datastructures.html\n",
    "* https://numpy.org/doc/stable/reference/generated/numpy.array.html\n",
    "* VanderPlas, J. \"Python Data Science Handbook\", O'Reilly Media 2016\n",
    "* VanderPlas, J. \"A Whirlwind Tour of Python\" O'Reilly Media 2016\n"
   ]
  },
  {
   "cell_type": "markdown",
   "id": "7b3ae298",
   "metadata": {},
   "source": [
    "# Lambdas\n"
   ]
  },
  {
   "cell_type": "markdown",
   "id": "cc86b1e6",
   "metadata": {},
   "source": [
    "## Import libraries"
   ]
  },
  {
   "cell_type": "code",
   "execution_count": 1,
   "id": "d38c7b1b",
   "metadata": {},
   "outputs": [],
   "source": [
    "# Lambda does not need libraries. Just for these examples\n",
    "import pandas as pd\n",
    "import numpy as np"
   ]
  },
  {
   "cell_type": "markdown",
   "id": "4c1536b9-b7d1-4baa-9184-c61491690d8c",
   "metadata": {},
   "source": [
    "# Simple one liners"
   ]
  },
  {
   "cell_type": "code",
   "execution_count": 2,
   "id": "f188e4e0-ca47-46ed-9a27-03f7a94c3b5d",
   "metadata": {},
   "outputs": [
    {
     "data": {
      "text/plain": [
       "9"
      ]
     },
     "execution_count": 2,
     "metadata": {},
     "output_type": "execute_result"
    }
   ],
   "source": [
    "# Simple one-liner, add two numbers\n",
    "(lambda x, y: x + y)(7, 2)"
   ]
  },
  {
   "cell_type": "code",
   "execution_count": 3,
   "id": "2954c678-6fab-4c8b-9c25-a515c4f5e448",
   "metadata": {},
   "outputs": [
    {
     "name": "stdout",
     "output_type": "stream",
     "text": [
      "9\n"
     ]
    }
   ],
   "source": [
    "# Same one-liner, and assign result to a variable\n",
    "a = (lambda x, y: x + y)(7, 2)\n",
    "print(a)"
   ]
  },
  {
   "cell_type": "markdown",
   "id": "7b5ee4d8-1d23-4899-8b68-00e3bc96961f",
   "metadata": {},
   "source": [
    "# Re-using a lambda"
   ]
  },
  {
   "cell_type": "code",
   "execution_count": 4,
   "id": "271a5528-7b30-48c3-b08d-ba235c8ecccc",
   "metadata": {},
   "outputs": [],
   "source": [
    "# Now define a 'lambda' as nameless (on-the-fly) function that I can re-use\n",
    "my_on_the_fly_square = lambda x: x ** 2"
   ]
  },
  {
   "cell_type": "code",
   "execution_count": 5,
   "id": "8f80a0b9-ecba-4a50-b1b7-f66997d5146a",
   "metadata": {},
   "outputs": [
    {
     "name": "stdout",
     "output_type": "stream",
     "text": [
      "25\n"
     ]
    }
   ],
   "source": [
    "# Using my newly on-the-fly defined functions\n",
    "b = my_on_the_fly_square(5)\n",
    "print(b)"
   ]
  },
  {
   "cell_type": "code",
   "execution_count": 6,
   "id": "5069ff74-dd65-4c3f-a4f8-cf4d0fa26147",
   "metadata": {},
   "outputs": [
    {
     "data": {
      "text/plain": [
       "100"
      ]
     },
     "execution_count": 6,
     "metadata": {},
     "output_type": "execute_result"
    }
   ],
   "source": [
    "my_on_the_fly_square(10)"
   ]
  },
  {
   "cell_type": "markdown",
   "id": "5b4c8594",
   "metadata": {},
   "source": [
    "# Iterating"
   ]
  },
  {
   "cell_type": "code",
   "execution_count": 7,
   "id": "06d3fcf3-d8b5-4a47-b741-15c6fc169a46",
   "metadata": {},
   "outputs": [],
   "source": [
    "# Iterate my newly defined on-the-fly lambda function\n",
    "# Will send an array of inegers using numpy.array\n",
    "L = np.array([2, 3, 4])"
   ]
  },
  {
   "cell_type": "code",
   "execution_count": 8,
   "id": "4d84909c-e441-4951-9291-4c464bfd404d",
   "metadata": {},
   "outputs": [
    {
     "name": "stdout",
     "output_type": "stream",
     "text": [
      "[ 4  9 16]\n"
     ]
    }
   ],
   "source": [
    "# Now \"L\" will be used as an argumate that iterates my lambda function\n",
    "c = my_on_the_fly_square(L)\n",
    "print(c)"
   ]
  },
  {
   "cell_type": "markdown",
   "id": "7a7b3658-f500-49cc-a3d0-eab78c359e22",
   "metadata": {},
   "source": [
    "# Multiple arguments"
   ]
  },
  {
   "cell_type": "code",
   "execution_count": 9,
   "id": "d8d30af0-a88d-4c8d-87a8-ff4c4629b296",
   "metadata": {},
   "outputs": [],
   "source": [
    "# Now define a 'lambda' with two arguments\n",
    "my_on_the_fly_power = lambda x, y: x ** y\n"
   ]
  },
  {
   "cell_type": "code",
   "execution_count": 10,
   "id": "6f6c2145-aee9-4ca0-bb50-e9d87fee87b2",
   "metadata": {},
   "outputs": [
    {
     "name": "stdout",
     "output_type": "stream",
     "text": [
      "[ 8 27 64]\n"
     ]
    }
   ],
   "source": [
    "# Supply an array of number to iterate, and the second argument\n",
    "d = my_on_the_fly_power(L, 3)\n",
    "print(d)\n"
   ]
  },
  {
   "cell_type": "code",
   "execution_count": 11,
   "id": "34a18a27-0812-43b0-90ca-de07a3f45afb",
   "metadata": {},
   "outputs": [
    {
     "name": "stdout",
     "output_type": "stream",
     "text": [
      "[ 4  8 16]\n"
     ]
    }
   ],
   "source": [
    "# Supply an array of number to iterate, and the second argument\n",
    "e = my_on_the_fly_power(2, L)\n",
    "print(e)\n"
   ]
  }
 ],
 "metadata": {
  "kernelspec": {
   "display_name": "Python 3 (ipykernel)",
   "language": "python",
   "name": "python3"
  },
  "language_info": {
   "codemirror_mode": {
    "name": "ipython",
    "version": 3
   },
   "file_extension": ".py",
   "mimetype": "text/x-python",
   "name": "python",
   "nbconvert_exporter": "python",
   "pygments_lexer": "ipython3",
   "version": "3.9.7"
  }
 },
 "nbformat": 4,
 "nbformat_minor": 5
}
