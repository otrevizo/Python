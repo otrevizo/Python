{
 "cells": [
  {
   "cell_type": "markdown",
   "id": "ff2a768c",
   "metadata": {},
   "source": [
    "# Functions vignette main"
   ]
  },
  {
   "cell_type": "markdown",
   "id": "328d50a7",
   "metadata": {},
   "source": [
    "October 29, 2921\n",
    "\n",
    "Vignette: Using Python Functions from a Library\n",
    "\n",
    "@author: Oscar A. Trevizo\n",
    "\n",
    "Requires: 'functions_vignette_library.py'\n",
    "\n",
    "Some properties of Python functions:\n",
    "* You need to define the function before you can use it.\n",
    "* Then you will call a function and the function will run its code.\n",
    "* The function can return a value back if you want it.\n",
    "* You can send information to the function when you call it.\n",
    "* That is, you can send \"arguments\" to the function (variables with values)\n",
    "* You can define exactly what arguments you must send.\n",
    "* Your function can be flexible and take a varied number of arguments.\n",
    "* Your function can set default values to the arguments."
   ]
  },
  {
   "cell_type": "markdown",
   "id": "78483dbd",
   "metadata": {},
   "source": [
    "# Functions with no arguments and no return"
   ]
  },
  {
   "cell_type": "code",
   "execution_count": 1,
   "id": "d6b245b8",
   "metadata": {},
   "outputs": [],
   "source": [
    "# Import functions_vignette_library.py... No need to put the '.py'\n",
    "\n",
    "import functions_vignette_library as my"
   ]
  },
  {
   "cell_type": "code",
   "execution_count": 2,
   "id": "f15f1050",
   "metadata": {},
   "outputs": [
    {
     "name": "stdout",
     "output_type": "stream",
     "text": [
      "hello, world\n",
      "good bye, cruel world\n",
      "Your say goodbye, and I say hello\n"
     ]
    }
   ],
   "source": [
    "# %% Run the functions with no arguments and no return\n",
    "\n",
    "my.hello_world()\n",
    "my.goodbye_cruel_world()\n",
    "my.hello_goodbye()"
   ]
  },
  {
   "cell_type": "markdown",
   "id": "752a6405",
   "metadata": {},
   "source": [
    "# Functions with arguments and no return"
   ]
  },
  {
   "cell_type": "code",
   "execution_count": 3,
   "id": "f58a767d",
   "metadata": {},
   "outputs": [
    {
     "name": "stdout",
     "output_type": "stream",
     "text": [
      "Two arguments:  100  and  200\n",
      "Two arguments:  a  and  b\n",
      "Two arguments:  (2, 3, 5)  and  hello, tuple\n",
      "26\n"
     ]
    }
   ],
   "source": [
    "# %% Functions with arguments and no return\n",
    "\n",
    "# Takes two arguments, numeric or strig\n",
    "my.args2_noreturn(100, 200)\n",
    "my.args2_noreturn(\"a\", \"b\")\n",
    "\n",
    "# How about sending a list (a special kind, called tuple)\n",
    "L = (2, 3, 5)\n",
    "type(L)\n",
    "my.args2_noreturn(L, \"hello, tuple\")\n",
    "\n",
    "# Takes 2 numbers and adds them. No return\n",
    "a = 12\n",
    "b = 14\n",
    "my.add_2_nums_noreturn(a, b)"
   ]
  },
  {
   "cell_type": "markdown",
   "id": "5f10f4d9",
   "metadata": {},
   "source": [
    "# Functions with arguments and return one value"
   ]
  },
  {
   "cell_type": "code",
   "execution_count": 4,
   "id": "859998f6",
   "metadata": {},
   "outputs": [
    {
     "name": "stdout",
     "output_type": "stream",
     "text": [
      "14\n",
      "125\n"
     ]
    }
   ],
   "source": [
    "# %% Functions with arguments and return one value\n",
    "\n",
    "# Takes 2 numbers and adds them, and get a return\n",
    "a = 10\n",
    "b = 4\n",
    "c = my.add_2_nums_withreturn(a, b)\n",
    "print(c)\n",
    "\n",
    "# Takes one argument and returns one argument\n",
    "a = my.get_cube(5)\n",
    "print(a)"
   ]
  },
  {
   "cell_type": "markdown",
   "id": "7d613907",
   "metadata": {},
   "source": [
    "# Functions with arguments and return two values"
   ]
  },
  {
   "cell_type": "code",
   "execution_count": 5,
   "id": "ffbe458c",
   "metadata": {},
   "outputs": [
    {
     "data": {
      "text/plain": [
       "(4, 8)"
      ]
     },
     "execution_count": 5,
     "metadata": {},
     "output_type": "execute_result"
    }
   ],
   "source": [
    "# %% ftn with args and multiple return\n",
    "#\n",
    "# Takes one argument and returns two arguments\n",
    "my.get_square_and_cube(2)"
   ]
  },
  {
   "cell_type": "markdown",
   "id": "d79abcd8",
   "metadata": {},
   "source": [
    "# Functions with arguments that have default values"
   ]
  },
  {
   "cell_type": "code",
   "execution_count": 6,
   "id": "0ecd4a5b",
   "metadata": {},
   "outputs": [
    {
     "name": "stdout",
     "output_type": "stream",
     "text": [
      "4\n",
      "256\n"
     ]
    },
    {
     "data": {
      "text/plain": [
       "756"
      ]
     },
     "execution_count": 6,
     "metadata": {},
     "output_type": "execute_result"
    }
   ],
   "source": [
    "# %% ftn with optional argument\n",
    "# Takes two arguments, but one has a default, and returns one argument\n",
    "a = my.power_x_to_the_y(2)\n",
    "print(a)\n",
    "\n",
    "# You can override the default value of the optional argument\n",
    "a = my.power_x_to_the_y(2, 8)\n",
    "print(a)\n",
    "\n",
    "# You can override the default value of the optional argument\n",
    "my.power_x_to_the_y(2, 4)\n",
    "\n",
    "# Now you have 1 regular argument and 2 optional arguments\n",
    "# Override one of the optional args, and take a default value \n",
    "my.power_x_to_the_y_plus_z(2, 8)\n",
    "\n",
    "# Override the default of both of the optional arguments\n",
    "my.power_x_to_the_y_plus_z(2, 8, 500)\n",
    "\n",
    "# We can change the order of the optional argument because they have key names\n",
    "my.power_x_to_the_y_plus_z(2, z=500, y=8)"
   ]
  },
  {
   "cell_type": "markdown",
   "id": "b78a1e26",
   "metadata": {},
   "source": [
    "# Functions with a variable number of arguments"
   ]
  },
  {
   "cell_type": "code",
   "execution_count": 7,
   "id": "dd8b1db3",
   "metadata": {},
   "outputs": [
    {
     "name": "stdout",
     "output_type": "stream",
     "text": [
      "The tuple *args received:  (4, 5, 10, 4)\n",
      "The tuple length received:  4\n",
      "23\n",
      "The tuple *args received:  (1, 2, 3, 5, 7, 11)\n",
      "The tuple length received:  6\n",
      "The tuple *args received:  (2, 4, 6)\n",
      "The tuple length received:  3\n",
      "The x received:  100\n",
      "The tuple *args received:  (2, 4, 6)\n",
      "The tuple length received:  3\n"
     ]
    },
    {
     "data": {
      "text/plain": [
       "112"
      ]
     },
     "execution_count": 7,
     "metadata": {},
     "output_type": "execute_result"
    }
   ],
   "source": [
    "# %% ftn special list of *args\n",
    "#\n",
    "# Send 4 arguments (4 numbers)\n",
    "v = my.sum_various_numbers(4, 5, 10, 4)\n",
    "print(v)\n",
    "\n",
    "# Now send 7 arguments to the same functions (7 numbers)\n",
    "my.sum_various_numbers(1, 2, 3, 5, 7, 11)\n",
    "\n",
    "# Or send 3 numbers to the same functions\n",
    "my.sum_various_numbers(2, 4, 6)\n",
    "\n",
    "my.multiply_the_sum_of_various_numbers(100, 2, 4, 6)"
   ]
  },
  {
   "cell_type": "markdown",
   "id": "97d9b0cd",
   "metadata": {},
   "source": [
    "# Functions with a variable number of arguments defined under a dictionary"
   ]
  },
  {
   "cell_type": "code",
   "execution_count": 14,
   "id": "50d1eab3",
   "metadata": {},
   "outputs": [
    {
     "name": "stdout",
     "output_type": "stream",
     "text": [
      "The kword args received:  {'name': 'Jake', 'lastname': 'Blues'}\n",
      "The kword args received:  {'name': 'Jojo', 'city': 'Tucson', 'state': 'Arizona'}\n",
      "The kword args received:  {'city': 'Portland', 'state': 'Oregon', 'population': 661419}\n"
     ]
    },
    {
     "data": {
      "text/plain": [
       "dict_items([('city', 'Portland'), ('state', 'Oregon'), ('population', 661419)])"
      ]
     },
     "execution_count": 14,
     "metadata": {},
     "output_type": "execute_result"
    }
   ],
   "source": [
    "# %% ftn with **kwargs\n",
    "\n",
    "take_various_kewordvars(name=\"Jake\", lastname=\"Blues\")\n",
    "\n",
    "take_various_kewordvars(name=\"Jojo\", city=\"Tucson\", state=\"Arizona\")\n",
    "\n",
    "d = take_various_kewordvars(city=\"Portland\", state=\"Oregon\", population=661419)\n",
    "d.items()"
   ]
  },
  {
   "cell_type": "markdown",
   "id": "984c0cbe",
   "metadata": {},
   "source": [
    "# References"
   ]
  },
  {
   "cell_type": "markdown",
   "id": "611416e4",
   "metadata": {},
   "source": [
    "* The Python Tutorial, https://docs.python.org/3/tutorial/\n",
    "    https://docs.python.org/3/tutorial/controlflow.html#defining-functions\n",
    "    https://docs.python.org/3/tutorial/datastructures.html\n",
    "* https://numpy.org/doc/stable/reference/generated/numpy.array.html\n",
    "* VanderPlas, J. \"Python Data Science Handbook\", O'Reilly Media 2016\n",
    "* VanderPlas, J. \"A Whirlwind Tour of Python\" O'Reilly Media 2016"
   ]
  },
  {
   "cell_type": "code",
   "execution_count": null,
   "id": "8379e3ef",
   "metadata": {},
   "outputs": [],
   "source": []
  }
 ],
 "metadata": {
  "kernelspec": {
   "display_name": "Python 3 (ipykernel)",
   "language": "python",
   "name": "python3"
  },
  "language_info": {
   "codemirror_mode": {
    "name": "ipython",
    "version": 3
   },
   "file_extension": ".py",
   "mimetype": "text/x-python",
   "name": "python",
   "nbconvert_exporter": "python",
   "pygments_lexer": "ipython3",
   "version": "3.9.7"
  }
 },
 "nbformat": 4,
 "nbformat_minor": 5
}
